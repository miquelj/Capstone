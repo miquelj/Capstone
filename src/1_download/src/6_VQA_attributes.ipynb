{
 "cells": [
  {
   "cell_type": "markdown",
   "metadata": {},
   "source": [
    "# LLM - Visual captioning\n",
    "\n",
    "## Imagen imagetext\n",
    "- https://cloud.google.com/vertex-ai/docs/generative-ai/image/image-captioning"
   ]
  },
  {
   "cell_type": "code",
   "execution_count": 6,
   "metadata": {},
   "outputs": [
    {
     "name": "stdout",
     "output_type": "stream",
     "text": [
      "The google.cloud.bigquery extension is already loaded. To reload it, use:\n",
      "  %reload_ext google.cloud.bigquery\n"
     ]
    }
   ],
   "source": [
    "\n",
    "import vertexai\n",
    "from google.cloud import bigquery\n",
    "from bq import save_bq\n",
    "\n",
    "from tools import *\n",
    "\n",
    "\n",
    "PROJECT_ID = \"ml-demo-384110\"  # @param {type:\"string\"}\n",
    "bucket = \"ml-demo-384110-bucket\"\n",
    "\n",
    "vertexai.init(project=PROJECT_ID, location=\"us-central1\")\n",
    "client = bigquery.Client(project=PROJECT_ID)\n",
    "\n",
    "%load_ext google.cloud.bigquery"
   ]
  },
  {
   "cell_type": "code",
   "execution_count": 3,
   "metadata": {},
   "outputs": [
    {
     "name": "stdout",
     "output_type": "stream",
     "text": [
      "ml-demo-384110\n",
      "1008225662928\n"
     ]
    }
   ],
   "source": [
    "# @title Parameters\n",
    "LOCATION = \"us-central1\" #@param {type:\"string\"}\n",
    "#PROJECT_NUMBER = \n",
    "#PROJECT_ID = \"\" #@param {type:\"string\"}\n",
    "\n",
    "PROJECT_ID = !gcloud projects list --filter=\"$(gcloud config get-value project)\" --format=\"value(PROJECT_ID)\"\n",
    "\n",
    "if len(PROJECT_ID) > 1:\n",
    "    PROJECT_ID = PROJECT_ID[1]\n",
    "else:\n",
    "    PROJECT_ID = PROJECT_ID[0]\n",
    "print(PROJECT_ID)\n",
    "\n",
    "PROJECT_NUMBER = !gcloud projects list --filter=\"$(gcloud config get-value project)\" --format=\"value(PROJECT_NUMBER)\"\n",
    "if len(PROJECT_NUMBER) > 1:\n",
    "    PROJECT_NUMBER = PROJECT_NUMBER[1]\n",
    "else:\n",
    "    PROJECT_NUMBER = PROJECT_NUMBER[0]\n",
    "\n",
    "print(PROJECT_NUMBER)\n",
    "\n",
    "TOKEN_ENDPOINT_URI = 'https://www.googleapis.com/oauth2/v3/tokeninfo?access_token='\n",
    "\n",
    "IMAGEGEN_MODEL = \"imagegeneration@002\" #models available: imagegeneration@001 and imagegeneration@002\n",
    "ENDPOINT_URL = f'projects/{PROJECT_NUMBER}/locations/{LOCATION}/publishers/google/models/{IMAGEGEN_MODEL}'\n",
    "\n",
    "IMAGE_TEXT_MODEL = \"imagetext\"\n",
    "IMAGEN_ENDPOINT_URL = f'projects/{PROJECT_NUMBER}/locations/{LOCATION}/publishers/google/models/{IMAGE_TEXT_MODEL}'\n"
   ]
  },
  {
   "cell_type": "code",
   "execution_count": 4,
   "metadata": {},
   "outputs": [
    {
     "name": "stdout",
     "output_type": "stream",
     "text": [
      "Access Token is generated for  admin@julienmiquel.altostrat.com\n"
     ]
    }
   ],
   "source": [
    "# @title Setup\n",
    "\n",
    "import json\n",
    "from time import sleep\n",
    "from ratelimit import limits, sleep_and_retry\n",
    "import requests\n",
    "import time\n",
    "\n",
    "from IPython import display\n",
    "import base64\n",
    "\n",
    "\"\"\"\n",
    "Get access token\n",
    "\"\"\"\n",
    "def get_token():\n",
    "    gcloud_token = !gcloud auth print-access-token\n",
    "    gcloud_tokeninfo = requests.get(TOKEN_ENDPOINT_URI + gcloud_token[0]).json()\n",
    "    print(\"Access Token is generated for \", gcloud_tokeninfo['email'])\n",
    "    ACCESS_TOKEN = gcloud_token[0]\n",
    "    return ACCESS_TOKEN\n",
    "\n",
    "\n",
    "ACCESS_TOKEN = get_token()\n",
    "\n",
    "# @title image Generation Model\n",
    "def generate_image(\n",
    "    prompt: str,\n",
    "    sampleImageSize: str,\n",
    "    sampleCount: int,\n",
    "    seed: int\n",
    "    ):\n",
    "\n",
    "        \n",
    "\n",
    "    headers = {\n",
    "      'Authorization': f'Bearer {ACCESS_TOKEN}',\n",
    "      'Content-Type': 'application/json; charset=UTF-8'\n",
    "    }\n",
    "    data = {\"instances\": [{\"prompt\": prompt}],\n",
    "            \"parameters\": {\"sampleImageSize\": sampleImageSize,\"sampleCount\": sampleCount, \"seed\": seed}}\n",
    "\n",
    "    response = requests.post(f'https://{LOCATION}-aiplatform.googleapis.com/v1/{ENDPOINT_URL}:predict', data=json.dumps(data), headers=headers)\n",
    "    return response\n",
    "\n",
    "###\n",
    "# Visual Question Answering (VQA) to get image information\n",
    "##\n",
    "@sleep_and_retry\n",
    "@limits(calls=400, period=60)\n",
    "def visual_qa(\n",
    "    prompt: str,\n",
    "    sampleCount: int,\n",
    "    encoded_str: str\n",
    "    ):\n",
    "    global ACCESS_TOKEN\n",
    "    \n",
    "    headers = {\n",
    "      'Authorization': f'Bearer {ACCESS_TOKEN}',\n",
    "      'Content-Type': 'application/json; charset=UTF-8'\n",
    "    }\n",
    "    \n",
    "    data = {\n",
    "        \"instances\": [\n",
    "            {\n",
    "            \"prompt\": prompt,\n",
    "            \"image\": {\n",
    "                \"bytesBase64Encoded\": encoded_str\n",
    "            }\n",
    "            }\n",
    "        ],\n",
    "        \"parameters\": {\n",
    "            \"sampleCount\": sampleCount\n",
    "            }\n",
    "        }\n",
    "\n",
    "\n",
    "    status_code = 0\n",
    "    while status_code != 200:\n",
    "        response = requests.post(f'https://{LOCATION}-aiplatform.googleapis.com/v1/{IMAGEN_ENDPOINT_URL}:predict', \n",
    "            data=json.dumps(data), headers=headers)\n",
    "        \n",
    "        if response.status_code == 200:\n",
    "            return response\n",
    "        \n",
    "        if response.status_code == 401:\n",
    "            ACCESS_TOKEN = get_token()\n",
    "\n",
    "        print(f\"ERROR status_code: {response.status_code} - {response.text}\") \n",
    "        status_code = response.status_code\n",
    "        sleep(2)\n",
    "\n",
    "    return response\n",
    "\n",
    "###\n",
    "#Visual captioning is available in the following languages:\n",
    "# English (en)\n",
    "# French (fr)\n",
    "# German (de)\n",
    "# Italian (it)\n",
    "# Spanish (es)\n",
    "##\n",
    "@sleep_and_retry\n",
    "@limits(calls=400, period=60)\n",
    "def visual_captioning(\n",
    "    sampleCount: int,\n",
    "    language: str, \n",
    "    # English (en), French (fr), German (de), Italian (it), Spanish (es)\n",
    "    encoded_str: str\n",
    "    ):\n",
    "    global ACCESS_TOKEN\n",
    "\n",
    "    headers = {\n",
    "      'Authorization': f'Bearer {ACCESS_TOKEN}',\n",
    "      'Content-Type': 'application/json; charset=UTF-8'\n",
    "    }\n",
    "    \n",
    "    data = {\n",
    "        \"instances\": [\n",
    "            {\n",
    "            \"image\": {\n",
    "                \"bytesBase64Encoded\": encoded_str\n",
    "                }\n",
    "            }\n",
    "        ],\n",
    "        \"parameters\": {\n",
    "            \"sampleCount\": sampleCount,\n",
    "            \"language\": language\n",
    "            }\n",
    "        }\n",
    "\n",
    "    status_code = 0\n",
    "    while status_code != 200:\n",
    "        response = requests.post(f'https://{LOCATION}-aiplatform.googleapis.com/v1/{IMAGEN_ENDPOINT_URL}:predict', \n",
    "            data=json.dumps(data), headers=headers)\n",
    "        \n",
    "        if response.status_code == 200:\n",
    "            return response\n",
    "        \n",
    "        if response.status_code == 401 or response.status_code == 500:\n",
    "            ACCESS_TOKEN = get_token()\n",
    "\n",
    "        print(f\"ERROR status_code: {response.status_code} - {response.text}\") \n",
    "        status_code = response.status_code\n",
    "        \n",
    "        sleep(2)\n"
   ]
  },
  {
   "cell_type": "code",
   "execution_count": null,
   "metadata": {},
   "outputs": [],
   "source": []
  },
  {
   "cell_type": "code",
   "execution_count": null,
   "metadata": {},
   "outputs": [],
   "source": []
  },
  {
   "cell_type": "code",
   "execution_count": null,
   "metadata": {},
   "outputs": [],
   "source": []
  },
  {
   "cell_type": "code",
   "execution_count": null,
   "metadata": {},
   "outputs": [],
   "source": []
  },
  {
   "cell_type": "code",
   "execution_count": 18,
   "metadata": {},
   "outputs": [],
   "source": []
  },
  {
   "cell_type": "code",
   "execution_count": null,
   "metadata": {},
   "outputs": [],
   "source": []
  },
  {
   "cell_type": "code",
   "execution_count": 19,
   "metadata": {},
   "outputs": [
    {
     "data": {
      "application/vnd.jupyter.widget-view+json": {
       "model_id": "f9cfb5d3add14c5582f4973db658b76e",
       "version_major": 2,
       "version_minor": 0
      },
      "text/plain": [
       "Query is running:   0%|          |"
      ]
     },
     "metadata": {},
     "output_type": "display_data"
    },
    {
     "data": {
      "application/vnd.jupyter.widget-view+json": {
       "model_id": "453594f9d6ed4d748e8d2375be382e4c",
       "version_major": 2,
       "version_minor": 0
      },
      "text/plain": [
       "Downloading:   0%|          |"
      ]
     },
     "metadata": {},
     "output_type": "display_data"
    }
   ],
   "source": [
    "%%bigquery df\n",
    "      SELECT uri, Id,\n",
    "      FROM `immo_us_enriched.image_cloudvision_labels_1k` \n"
   ]
  },
  {
   "cell_type": "code",
   "execution_count": 20,
   "metadata": {},
   "outputs": [
    {
     "data": {
      "text/html": [
       "<div>\n",
       "<style scoped>\n",
       "    .dataframe tbody tr th:only-of-type {\n",
       "        vertical-align: middle;\n",
       "    }\n",
       "\n",
       "    .dataframe tbody tr th {\n",
       "        vertical-align: top;\n",
       "    }\n",
       "\n",
       "    .dataframe thead th {\n",
       "        text-align: right;\n",
       "    }\n",
       "</style>\n",
       "<table border=\"1\" class=\"dataframe\">\n",
       "  <thead>\n",
       "    <tr style=\"text-align: right;\">\n",
       "      <th></th>\n",
       "      <th>uri</th>\n",
       "      <th>Id</th>\n",
       "    </tr>\n",
       "  </thead>\n",
       "  <tbody>\n",
       "    <tr>\n",
       "      <th>0</th>\n",
       "      <td>gs://ml-demo-384110-bucket/dataset/immo/images...</td>\n",
       "      <td>ag060811-378090001</td>\n",
       "    </tr>\n",
       "    <tr>\n",
       "      <th>1</th>\n",
       "      <td>gs://ml-demo-384110-bucket/dataset/immo/images...</td>\n",
       "      <td>ag060811-378090001</td>\n",
       "    </tr>\n",
       "    <tr>\n",
       "      <th>2</th>\n",
       "      <td>gs://ml-demo-384110-bucket/dataset/immo/images...</td>\n",
       "      <td>ag060811-378090001</td>\n",
       "    </tr>\n",
       "    <tr>\n",
       "      <th>3</th>\n",
       "      <td>gs://ml-demo-384110-bucket/dataset/immo/images...</td>\n",
       "      <td>ag060811-378090001</td>\n",
       "    </tr>\n",
       "    <tr>\n",
       "      <th>4</th>\n",
       "      <td>gs://ml-demo-384110-bucket/dataset/immo/images...</td>\n",
       "      <td>ag060811-378090001</td>\n",
       "    </tr>\n",
       "    <tr>\n",
       "      <th>...</th>\n",
       "      <td>...</td>\n",
       "      <td>...</td>\n",
       "    </tr>\n",
       "    <tr>\n",
       "      <th>995</th>\n",
       "      <td>gs://ml-demo-384110-bucket/dataset/immo/images...</td>\n",
       "      <td>safti-1-886992</td>\n",
       "    </tr>\n",
       "    <tr>\n",
       "      <th>996</th>\n",
       "      <td>gs://ml-demo-384110-bucket/dataset/immo/images...</td>\n",
       "      <td>safti-1-886992</td>\n",
       "    </tr>\n",
       "    <tr>\n",
       "      <th>997</th>\n",
       "      <td>gs://ml-demo-384110-bucket/dataset/immo/images...</td>\n",
       "      <td>safti-1-886992</td>\n",
       "    </tr>\n",
       "    <tr>\n",
       "      <th>998</th>\n",
       "      <td>gs://ml-demo-384110-bucket/dataset/immo/images...</td>\n",
       "      <td>safti-1-886992</td>\n",
       "    </tr>\n",
       "    <tr>\n",
       "      <th>999</th>\n",
       "      <td>gs://ml-demo-384110-bucket/dataset/immo/images...</td>\n",
       "      <td>safti-1-886992</td>\n",
       "    </tr>\n",
       "  </tbody>\n",
       "</table>\n",
       "<p>1000 rows × 2 columns</p>\n",
       "</div>"
      ],
      "text/plain": [
       "                                                   uri                  Id\n",
       "0    gs://ml-demo-384110-bucket/dataset/immo/images...  ag060811-378090001\n",
       "1    gs://ml-demo-384110-bucket/dataset/immo/images...  ag060811-378090001\n",
       "2    gs://ml-demo-384110-bucket/dataset/immo/images...  ag060811-378090001\n",
       "3    gs://ml-demo-384110-bucket/dataset/immo/images...  ag060811-378090001\n",
       "4    gs://ml-demo-384110-bucket/dataset/immo/images...  ag060811-378090001\n",
       "..                                                 ...                 ...\n",
       "995  gs://ml-demo-384110-bucket/dataset/immo/images...      safti-1-886992\n",
       "996  gs://ml-demo-384110-bucket/dataset/immo/images...      safti-1-886992\n",
       "997  gs://ml-demo-384110-bucket/dataset/immo/images...      safti-1-886992\n",
       "998  gs://ml-demo-384110-bucket/dataset/immo/images...      safti-1-886992\n",
       "999  gs://ml-demo-384110-bucket/dataset/immo/images...      safti-1-886992\n",
       "\n",
       "[1000 rows x 2 columns]"
      ]
     },
     "execution_count": 20,
     "metadata": {},
     "output_type": "execute_result"
    }
   ],
   "source": [
    "df"
   ]
  },
  {
   "cell_type": "code",
   "execution_count": 7,
   "metadata": {},
   "outputs": [],
   "source": [
    "\n",
    "from tools import *\n",
    "\n",
    "\n",
    "def add_images_caption_to_df(df, language = \"en\", bucket_name = \"ml-demo-384110-bucket\"):\n",
    "\n",
    "    df[f'caption_{language}' ] = df.uri.map(lambda uri_name:                                    \n",
    "                                   \n",
    "                                   print_text_response(visual_captioning( 1, language,str(read_b64_from_gcs(bucket, uri_name.replace(f\"gs://{bucket_name}/\", \"\")), 'UTF-8'))\n",
    "                                  )\n",
    "                                  )\n",
    "    \n",
    "    return df\n",
    "\n",
    "\n",
    "def add_images_visual_caption_to_df(df, prompt, name, number_of_answer, language = \"en\", bucket_name = \"ml-demo-384110-bucket\"):\n",
    "\n",
    "    print(f'{name} : {prompt} ')\n",
    "    df[f'caption_{name}' ] = df.uri.map(lambda uri_name: \n",
    "                                   print_text_response(\n",
    "        visual_qa(prompt, \n",
    "                  number_of_answer, \n",
    "                  str(read_b64_from_gcs(bucket, uri_name.replace(f\"gs://{bucket_name}/\", \"\")), 'UTF-8'))\n",
    "                                  )\n",
    "                                  )\n",
    "    \n",
    "\n",
    "    return df\n",
    "\n",
    "\n",
    "\n"
   ]
  },
  {
   "cell_type": "code",
   "execution_count": 22,
   "metadata": {},
   "outputs": [],
   "source": [
    "\n"
   ]
  },
  {
   "cell_type": "code",
   "execution_count": null,
   "metadata": {},
   "outputs": [],
   "source": []
  },
  {
   "cell_type": "code",
   "execution_count": null,
   "metadata": {},
   "outputs": [],
   "source": []
  },
  {
   "cell_type": "code",
   "execution_count": null,
   "metadata": {},
   "outputs": [],
   "source": []
  },
  {
   "cell_type": "code",
   "execution_count": 30,
   "metadata": {},
   "outputs": [
    {
     "name": "stdout",
     "output_type": "stream",
     "text": [
      "Save in BQ : ml-demo-384110.immo_us_enriched.image_vqa_labels\n",
      "ag060811-378090001\n",
      "location : what is the room ? \n",
      "bedroom\n",
      "bedroom\n",
      "living room\n",
      "bedroom\n",
      "living room\n",
      "attic\n",
      "bathroom\n",
      "bathroom\n",
      "bathroom\n",
      "living room\n",
      "floor : floor material \n",
      "wood\n",
      "wood\n",
      "wood\n",
      "vinyl\n",
      "wood\n",
      "wood\n",
      "terrazzo\n",
      "tile\n",
      "tile\n",
      "wood\n",
      "wall : wall material \n",
      "wallpaper\n",
      "paint\n",
      "tile\n",
      "paint\n",
      "red\n",
      "plaster\n",
      "tile\n",
      "tile\n",
      "tile\n",
      "wallpaper\n",
      "describe : describe \n",
      "bedroom, attic bedroom, room\n",
      "bedroom, room, bed\n",
      "living room, living room with red couch, red couch\n",
      "bedroom, attic bedroom, room\n",
      "living room, room, living\n",
      "stairs, wooden stairs, staircase\n",
      "bathroom, bathroom sink, bathroom sink mirror\n",
      "bathroom, bathtub, bathroom with bathtub\n",
      "bathroom, modern bathroom, bathroom with two sinks\n",
      "living room, room, game room\n",
      "windows : describe windows \n",
      "skylight, attic, skylights\n",
      "large, bedroom, white curtains\n",
      "large, very large, wide\n",
      "skylight, attic, skylights\n",
      "large, bright, light\n",
      "large, stairs, small\n",
      "large, small, pink\n",
      "clear, glass, unanswerable\n",
      "large, unanswerable, glass\n",
      "large, clear, very large\n",
      "text : text \n",
      "optimhome, yes, unanswerable\n",
      "mhome.com, imhome.com, unanswerable\n",
      "yes, answering does not require reading text in the image, unanswerable\n",
      "optimhome.com, maximhome.com, oximhome.com\n",
      "unanswerable, com, no text in image\n",
      "optimhome.com, optimahome.com, optimhome\n",
      "optimhome.com, optimome.com, optimaome.com\n",
      "optimhome.com, optimhome, optimahome.com\n",
      "bathroom, unanswerable, yes\n",
      "optimhome.com, stable, unanswerable\n",
      "finish_level : Level of finish of the place \n",
      "high, attic, very high\n",
      "high, unanswerable, very high\n",
      "high, very high, unanswerable\n",
      "attic, high, unanswerable\n",
      "high, very high, unanswerable\n",
      "high, very high, unanswerable\n",
      "high, very high, unanswerable\n",
      "high, very high, top\n",
      "high, very high, top\n",
      "high, very high, unanswerable\n",
      "SAVE index chunk : ag060811-378090001\n",
      "save_bq\n"
     ]
    },
    {
     "name": "stderr",
     "output_type": "stream",
     "text": [
      "100%|██████████| 1/1 [00:00<00:00, 4152.78it/s]\n"
     ]
    },
    {
     "name": "stdout",
     "output_type": "stream",
     "text": [
      "ag060811-378090001\n",
      "location : what is the room ? \n",
      "bedroom\n",
      "bedroom\n"
     ]
    },
    {
     "ename": "ConnectionError",
     "evalue": "('Connection aborted.', OSError(22, 'Invalid argument'))",
     "output_type": "error",
     "traceback": [
      "\u001b[0;31m---------------------------------------------------------------------------\u001b[0m",
      "\u001b[0;31mOSError\u001b[0m                                   Traceback (most recent call last)",
      "File \u001b[0;32m/opt/homebrew/lib/python3.10/site-packages/urllib3/connectionpool.py:714\u001b[0m, in \u001b[0;36mHTTPConnectionPool.urlopen\u001b[0;34m(self, method, url, body, headers, retries, redirect, assert_same_host, timeout, pool_timeout, release_conn, chunked, body_pos, **response_kw)\u001b[0m\n\u001b[1;32m    713\u001b[0m \u001b[39m# Make the request on the httplib connection object.\u001b[39;00m\n\u001b[0;32m--> 714\u001b[0m httplib_response \u001b[39m=\u001b[39m \u001b[39mself\u001b[39;49m\u001b[39m.\u001b[39;49m_make_request(\n\u001b[1;32m    715\u001b[0m     conn,\n\u001b[1;32m    716\u001b[0m     method,\n\u001b[1;32m    717\u001b[0m     url,\n\u001b[1;32m    718\u001b[0m     timeout\u001b[39m=\u001b[39;49mtimeout_obj,\n\u001b[1;32m    719\u001b[0m     body\u001b[39m=\u001b[39;49mbody,\n\u001b[1;32m    720\u001b[0m     headers\u001b[39m=\u001b[39;49mheaders,\n\u001b[1;32m    721\u001b[0m     chunked\u001b[39m=\u001b[39;49mchunked,\n\u001b[1;32m    722\u001b[0m )\n\u001b[1;32m    724\u001b[0m \u001b[39m# If we're going to release the connection in ``finally:``, then\u001b[39;00m\n\u001b[1;32m    725\u001b[0m \u001b[39m# the response doesn't need to know about the connection. Otherwise\u001b[39;00m\n\u001b[1;32m    726\u001b[0m \u001b[39m# it will also try to release it and we'll have a double-release\u001b[39;00m\n\u001b[1;32m    727\u001b[0m \u001b[39m# mess.\u001b[39;00m\n",
      "File \u001b[0;32m/opt/homebrew/lib/python3.10/site-packages/urllib3/connectionpool.py:403\u001b[0m, in \u001b[0;36mHTTPConnectionPool._make_request\u001b[0;34m(self, conn, method, url, timeout, chunked, **httplib_request_kw)\u001b[0m\n\u001b[1;32m    402\u001b[0m \u001b[39mtry\u001b[39;00m:\n\u001b[0;32m--> 403\u001b[0m     \u001b[39mself\u001b[39;49m\u001b[39m.\u001b[39;49m_validate_conn(conn)\n\u001b[1;32m    404\u001b[0m \u001b[39mexcept\u001b[39;00m (SocketTimeout, BaseSSLError) \u001b[39mas\u001b[39;00m e:\n\u001b[1;32m    405\u001b[0m     \u001b[39m# Py2 raises this as a BaseSSLError, Py3 raises it as socket timeout.\u001b[39;00m\n",
      "File \u001b[0;32m/opt/homebrew/lib/python3.10/site-packages/urllib3/connectionpool.py:1053\u001b[0m, in \u001b[0;36mHTTPSConnectionPool._validate_conn\u001b[0;34m(self, conn)\u001b[0m\n\u001b[1;32m   1052\u001b[0m \u001b[39mif\u001b[39;00m \u001b[39mnot\u001b[39;00m \u001b[39mgetattr\u001b[39m(conn, \u001b[39m\"\u001b[39m\u001b[39msock\u001b[39m\u001b[39m\"\u001b[39m, \u001b[39mNone\u001b[39;00m):  \u001b[39m# AppEngine might not have  `.sock`\u001b[39;00m\n\u001b[0;32m-> 1053\u001b[0m     conn\u001b[39m.\u001b[39;49mconnect()\n\u001b[1;32m   1055\u001b[0m \u001b[39mif\u001b[39;00m \u001b[39mnot\u001b[39;00m conn\u001b[39m.\u001b[39mis_verified:\n",
      "File \u001b[0;32m/opt/homebrew/lib/python3.10/site-packages/urllib3/connection.py:419\u001b[0m, in \u001b[0;36mHTTPSConnection.connect\u001b[0;34m(self)\u001b[0m\n\u001b[1;32m    417\u001b[0m     context\u001b[39m.\u001b[39mload_default_certs()\n\u001b[0;32m--> 419\u001b[0m \u001b[39mself\u001b[39m\u001b[39m.\u001b[39msock \u001b[39m=\u001b[39m ssl_wrap_socket(\n\u001b[1;32m    420\u001b[0m     sock\u001b[39m=\u001b[39;49mconn,\n\u001b[1;32m    421\u001b[0m     keyfile\u001b[39m=\u001b[39;49m\u001b[39mself\u001b[39;49m\u001b[39m.\u001b[39;49mkey_file,\n\u001b[1;32m    422\u001b[0m     certfile\u001b[39m=\u001b[39;49m\u001b[39mself\u001b[39;49m\u001b[39m.\u001b[39;49mcert_file,\n\u001b[1;32m    423\u001b[0m     key_password\u001b[39m=\u001b[39;49m\u001b[39mself\u001b[39;49m\u001b[39m.\u001b[39;49mkey_password,\n\u001b[1;32m    424\u001b[0m     ca_certs\u001b[39m=\u001b[39;49m\u001b[39mself\u001b[39;49m\u001b[39m.\u001b[39;49mca_certs,\n\u001b[1;32m    425\u001b[0m     ca_cert_dir\u001b[39m=\u001b[39;49m\u001b[39mself\u001b[39;49m\u001b[39m.\u001b[39;49mca_cert_dir,\n\u001b[1;32m    426\u001b[0m     ca_cert_data\u001b[39m=\u001b[39;49m\u001b[39mself\u001b[39;49m\u001b[39m.\u001b[39;49mca_cert_data,\n\u001b[1;32m    427\u001b[0m     server_hostname\u001b[39m=\u001b[39;49mserver_hostname,\n\u001b[1;32m    428\u001b[0m     ssl_context\u001b[39m=\u001b[39;49mcontext,\n\u001b[1;32m    429\u001b[0m     tls_in_tls\u001b[39m=\u001b[39;49mtls_in_tls,\n\u001b[1;32m    430\u001b[0m )\n\u001b[1;32m    432\u001b[0m \u001b[39m# If we're using all defaults and the connection\u001b[39;00m\n\u001b[1;32m    433\u001b[0m \u001b[39m# is TLSv1 or TLSv1.1 we throw a DeprecationWarning\u001b[39;00m\n\u001b[1;32m    434\u001b[0m \u001b[39m# for the host.\u001b[39;00m\n",
      "File \u001b[0;32m/opt/homebrew/lib/python3.10/site-packages/urllib3/util/ssl_.py:449\u001b[0m, in \u001b[0;36mssl_wrap_socket\u001b[0;34m(sock, keyfile, certfile, cert_reqs, ca_certs, server_hostname, ssl_version, ciphers, ssl_context, ca_cert_dir, key_password, ca_cert_data, tls_in_tls)\u001b[0m\n\u001b[1;32m    448\u001b[0m \u001b[39mif\u001b[39;00m send_sni:\n\u001b[0;32m--> 449\u001b[0m     ssl_sock \u001b[39m=\u001b[39m _ssl_wrap_socket_impl(\n\u001b[1;32m    450\u001b[0m         sock, context, tls_in_tls, server_hostname\u001b[39m=\u001b[39;49mserver_hostname\n\u001b[1;32m    451\u001b[0m     )\n\u001b[1;32m    452\u001b[0m \u001b[39melse\u001b[39;00m:\n",
      "File \u001b[0;32m/opt/homebrew/lib/python3.10/site-packages/urllib3/util/ssl_.py:493\u001b[0m, in \u001b[0;36m_ssl_wrap_socket_impl\u001b[0;34m(sock, ssl_context, tls_in_tls, server_hostname)\u001b[0m\n\u001b[1;32m    492\u001b[0m \u001b[39mif\u001b[39;00m server_hostname:\n\u001b[0;32m--> 493\u001b[0m     \u001b[39mreturn\u001b[39;00m ssl_context\u001b[39m.\u001b[39;49mwrap_socket(sock, server_hostname\u001b[39m=\u001b[39;49mserver_hostname)\n\u001b[1;32m    494\u001b[0m \u001b[39melse\u001b[39;00m:\n",
      "File \u001b[0;32m/opt/homebrew/Cellar/python@3.10/3.10.8/Frameworks/Python.framework/Versions/3.10/lib/python3.10/ssl.py:513\u001b[0m, in \u001b[0;36mSSLContext.wrap_socket\u001b[0;34m(self, sock, server_side, do_handshake_on_connect, suppress_ragged_eofs, server_hostname, session)\u001b[0m\n\u001b[1;32m    507\u001b[0m \u001b[39mdef\u001b[39;00m \u001b[39mwrap_socket\u001b[39m(\u001b[39mself\u001b[39m, sock, server_side\u001b[39m=\u001b[39m\u001b[39mFalse\u001b[39;00m,\n\u001b[1;32m    508\u001b[0m                 do_handshake_on_connect\u001b[39m=\u001b[39m\u001b[39mTrue\u001b[39;00m,\n\u001b[1;32m    509\u001b[0m                 suppress_ragged_eofs\u001b[39m=\u001b[39m\u001b[39mTrue\u001b[39;00m,\n\u001b[1;32m    510\u001b[0m                 server_hostname\u001b[39m=\u001b[39m\u001b[39mNone\u001b[39;00m, session\u001b[39m=\u001b[39m\u001b[39mNone\u001b[39;00m):\n\u001b[1;32m    511\u001b[0m     \u001b[39m# SSLSocket class handles server_hostname encoding before it calls\u001b[39;00m\n\u001b[1;32m    512\u001b[0m     \u001b[39m# ctx._wrap_socket()\u001b[39;00m\n\u001b[0;32m--> 513\u001b[0m     \u001b[39mreturn\u001b[39;00m \u001b[39mself\u001b[39;49m\u001b[39m.\u001b[39;49msslsocket_class\u001b[39m.\u001b[39;49m_create(\n\u001b[1;32m    514\u001b[0m         sock\u001b[39m=\u001b[39;49msock,\n\u001b[1;32m    515\u001b[0m         server_side\u001b[39m=\u001b[39;49mserver_side,\n\u001b[1;32m    516\u001b[0m         do_handshake_on_connect\u001b[39m=\u001b[39;49mdo_handshake_on_connect,\n\u001b[1;32m    517\u001b[0m         suppress_ragged_eofs\u001b[39m=\u001b[39;49msuppress_ragged_eofs,\n\u001b[1;32m    518\u001b[0m         server_hostname\u001b[39m=\u001b[39;49mserver_hostname,\n\u001b[1;32m    519\u001b[0m         context\u001b[39m=\u001b[39;49m\u001b[39mself\u001b[39;49m,\n\u001b[1;32m    520\u001b[0m         session\u001b[39m=\u001b[39;49msession\n\u001b[1;32m    521\u001b[0m     )\n",
      "File \u001b[0;32m/opt/homebrew/Cellar/python@3.10/3.10.8/Frameworks/Python.framework/Versions/3.10/lib/python3.10/ssl.py:1050\u001b[0m, in \u001b[0;36mSSLSocket._create\u001b[0;34m(cls, sock, server_side, do_handshake_on_connect, suppress_ragged_eofs, server_hostname, context, session)\u001b[0m\n\u001b[1;32m   1049\u001b[0m \u001b[39mtry\u001b[39;00m:\n\u001b[0;32m-> 1050\u001b[0m     \u001b[39mself\u001b[39;49m\u001b[39m.\u001b[39;49mgetpeername()\n\u001b[1;32m   1051\u001b[0m \u001b[39mexcept\u001b[39;00m \u001b[39mOSError\u001b[39;00m \u001b[39mas\u001b[39;00m e:\n",
      "\u001b[0;31mOSError\u001b[0m: [Errno 22] Invalid argument",
      "\nDuring handling of the above exception, another exception occurred:\n",
      "\u001b[0;31mProtocolError\u001b[0m                             Traceback (most recent call last)",
      "File \u001b[0;32m/opt/homebrew/lib/python3.10/site-packages/requests/adapters.py:489\u001b[0m, in \u001b[0;36mHTTPAdapter.send\u001b[0;34m(self, request, stream, timeout, verify, cert, proxies)\u001b[0m\n\u001b[1;32m    488\u001b[0m \u001b[39mif\u001b[39;00m \u001b[39mnot\u001b[39;00m chunked:\n\u001b[0;32m--> 489\u001b[0m     resp \u001b[39m=\u001b[39m conn\u001b[39m.\u001b[39;49murlopen(\n\u001b[1;32m    490\u001b[0m         method\u001b[39m=\u001b[39;49mrequest\u001b[39m.\u001b[39;49mmethod,\n\u001b[1;32m    491\u001b[0m         url\u001b[39m=\u001b[39;49murl,\n\u001b[1;32m    492\u001b[0m         body\u001b[39m=\u001b[39;49mrequest\u001b[39m.\u001b[39;49mbody,\n\u001b[1;32m    493\u001b[0m         headers\u001b[39m=\u001b[39;49mrequest\u001b[39m.\u001b[39;49mheaders,\n\u001b[1;32m    494\u001b[0m         redirect\u001b[39m=\u001b[39;49m\u001b[39mFalse\u001b[39;49;00m,\n\u001b[1;32m    495\u001b[0m         assert_same_host\u001b[39m=\u001b[39;49m\u001b[39mFalse\u001b[39;49;00m,\n\u001b[1;32m    496\u001b[0m         preload_content\u001b[39m=\u001b[39;49m\u001b[39mFalse\u001b[39;49;00m,\n\u001b[1;32m    497\u001b[0m         decode_content\u001b[39m=\u001b[39;49m\u001b[39mFalse\u001b[39;49;00m,\n\u001b[1;32m    498\u001b[0m         retries\u001b[39m=\u001b[39;49m\u001b[39mself\u001b[39;49m\u001b[39m.\u001b[39;49mmax_retries,\n\u001b[1;32m    499\u001b[0m         timeout\u001b[39m=\u001b[39;49mtimeout,\n\u001b[1;32m    500\u001b[0m     )\n\u001b[1;32m    502\u001b[0m \u001b[39m# Send the request.\u001b[39;00m\n\u001b[1;32m    503\u001b[0m \u001b[39melse\u001b[39;00m:\n",
      "File \u001b[0;32m/opt/homebrew/lib/python3.10/site-packages/urllib3/connectionpool.py:798\u001b[0m, in \u001b[0;36mHTTPConnectionPool.urlopen\u001b[0;34m(self, method, url, body, headers, retries, redirect, assert_same_host, timeout, pool_timeout, release_conn, chunked, body_pos, **response_kw)\u001b[0m\n\u001b[1;32m    796\u001b[0m     e \u001b[39m=\u001b[39m ProtocolError(\u001b[39m\"\u001b[39m\u001b[39mConnection aborted.\u001b[39m\u001b[39m\"\u001b[39m, e)\n\u001b[0;32m--> 798\u001b[0m retries \u001b[39m=\u001b[39m retries\u001b[39m.\u001b[39;49mincrement(\n\u001b[1;32m    799\u001b[0m     method, url, error\u001b[39m=\u001b[39;49me, _pool\u001b[39m=\u001b[39;49m\u001b[39mself\u001b[39;49m, _stacktrace\u001b[39m=\u001b[39;49msys\u001b[39m.\u001b[39;49mexc_info()[\u001b[39m2\u001b[39;49m]\n\u001b[1;32m    800\u001b[0m )\n\u001b[1;32m    801\u001b[0m retries\u001b[39m.\u001b[39msleep()\n",
      "File \u001b[0;32m/opt/homebrew/lib/python3.10/site-packages/urllib3/util/retry.py:550\u001b[0m, in \u001b[0;36mRetry.increment\u001b[0;34m(self, method, url, response, error, _pool, _stacktrace)\u001b[0m\n\u001b[1;32m    549\u001b[0m \u001b[39mif\u001b[39;00m read \u001b[39mis\u001b[39;00m \u001b[39mFalse\u001b[39;00m \u001b[39mor\u001b[39;00m \u001b[39mnot\u001b[39;00m \u001b[39mself\u001b[39m\u001b[39m.\u001b[39m_is_method_retryable(method):\n\u001b[0;32m--> 550\u001b[0m     \u001b[39mraise\u001b[39;00m six\u001b[39m.\u001b[39;49mreraise(\u001b[39mtype\u001b[39;49m(error), error, _stacktrace)\n\u001b[1;32m    551\u001b[0m \u001b[39melif\u001b[39;00m read \u001b[39mis\u001b[39;00m \u001b[39mnot\u001b[39;00m \u001b[39mNone\u001b[39;00m:\n",
      "File \u001b[0;32m/opt/homebrew/lib/python3.10/site-packages/urllib3/packages/six.py:769\u001b[0m, in \u001b[0;36mreraise\u001b[0;34m(tp, value, tb)\u001b[0m\n\u001b[1;32m    768\u001b[0m \u001b[39mif\u001b[39;00m value\u001b[39m.\u001b[39m__traceback__ \u001b[39mis\u001b[39;00m \u001b[39mnot\u001b[39;00m tb:\n\u001b[0;32m--> 769\u001b[0m     \u001b[39mraise\u001b[39;00m value\u001b[39m.\u001b[39mwith_traceback(tb)\n\u001b[1;32m    770\u001b[0m \u001b[39mraise\u001b[39;00m value\n",
      "File \u001b[0;32m/opt/homebrew/lib/python3.10/site-packages/urllib3/connectionpool.py:714\u001b[0m, in \u001b[0;36mHTTPConnectionPool.urlopen\u001b[0;34m(self, method, url, body, headers, retries, redirect, assert_same_host, timeout, pool_timeout, release_conn, chunked, body_pos, **response_kw)\u001b[0m\n\u001b[1;32m    713\u001b[0m \u001b[39m# Make the request on the httplib connection object.\u001b[39;00m\n\u001b[0;32m--> 714\u001b[0m httplib_response \u001b[39m=\u001b[39m \u001b[39mself\u001b[39;49m\u001b[39m.\u001b[39;49m_make_request(\n\u001b[1;32m    715\u001b[0m     conn,\n\u001b[1;32m    716\u001b[0m     method,\n\u001b[1;32m    717\u001b[0m     url,\n\u001b[1;32m    718\u001b[0m     timeout\u001b[39m=\u001b[39;49mtimeout_obj,\n\u001b[1;32m    719\u001b[0m     body\u001b[39m=\u001b[39;49mbody,\n\u001b[1;32m    720\u001b[0m     headers\u001b[39m=\u001b[39;49mheaders,\n\u001b[1;32m    721\u001b[0m     chunked\u001b[39m=\u001b[39;49mchunked,\n\u001b[1;32m    722\u001b[0m )\n\u001b[1;32m    724\u001b[0m \u001b[39m# If we're going to release the connection in ``finally:``, then\u001b[39;00m\n\u001b[1;32m    725\u001b[0m \u001b[39m# the response doesn't need to know about the connection. Otherwise\u001b[39;00m\n\u001b[1;32m    726\u001b[0m \u001b[39m# it will also try to release it and we'll have a double-release\u001b[39;00m\n\u001b[1;32m    727\u001b[0m \u001b[39m# mess.\u001b[39;00m\n",
      "File \u001b[0;32m/opt/homebrew/lib/python3.10/site-packages/urllib3/connectionpool.py:403\u001b[0m, in \u001b[0;36mHTTPConnectionPool._make_request\u001b[0;34m(self, conn, method, url, timeout, chunked, **httplib_request_kw)\u001b[0m\n\u001b[1;32m    402\u001b[0m \u001b[39mtry\u001b[39;00m:\n\u001b[0;32m--> 403\u001b[0m     \u001b[39mself\u001b[39;49m\u001b[39m.\u001b[39;49m_validate_conn(conn)\n\u001b[1;32m    404\u001b[0m \u001b[39mexcept\u001b[39;00m (SocketTimeout, BaseSSLError) \u001b[39mas\u001b[39;00m e:\n\u001b[1;32m    405\u001b[0m     \u001b[39m# Py2 raises this as a BaseSSLError, Py3 raises it as socket timeout.\u001b[39;00m\n",
      "File \u001b[0;32m/opt/homebrew/lib/python3.10/site-packages/urllib3/connectionpool.py:1053\u001b[0m, in \u001b[0;36mHTTPSConnectionPool._validate_conn\u001b[0;34m(self, conn)\u001b[0m\n\u001b[1;32m   1052\u001b[0m \u001b[39mif\u001b[39;00m \u001b[39mnot\u001b[39;00m \u001b[39mgetattr\u001b[39m(conn, \u001b[39m\"\u001b[39m\u001b[39msock\u001b[39m\u001b[39m\"\u001b[39m, \u001b[39mNone\u001b[39;00m):  \u001b[39m# AppEngine might not have  `.sock`\u001b[39;00m\n\u001b[0;32m-> 1053\u001b[0m     conn\u001b[39m.\u001b[39;49mconnect()\n\u001b[1;32m   1055\u001b[0m \u001b[39mif\u001b[39;00m \u001b[39mnot\u001b[39;00m conn\u001b[39m.\u001b[39mis_verified:\n",
      "File \u001b[0;32m/opt/homebrew/lib/python3.10/site-packages/urllib3/connection.py:419\u001b[0m, in \u001b[0;36mHTTPSConnection.connect\u001b[0;34m(self)\u001b[0m\n\u001b[1;32m    417\u001b[0m     context\u001b[39m.\u001b[39mload_default_certs()\n\u001b[0;32m--> 419\u001b[0m \u001b[39mself\u001b[39m\u001b[39m.\u001b[39msock \u001b[39m=\u001b[39m ssl_wrap_socket(\n\u001b[1;32m    420\u001b[0m     sock\u001b[39m=\u001b[39;49mconn,\n\u001b[1;32m    421\u001b[0m     keyfile\u001b[39m=\u001b[39;49m\u001b[39mself\u001b[39;49m\u001b[39m.\u001b[39;49mkey_file,\n\u001b[1;32m    422\u001b[0m     certfile\u001b[39m=\u001b[39;49m\u001b[39mself\u001b[39;49m\u001b[39m.\u001b[39;49mcert_file,\n\u001b[1;32m    423\u001b[0m     key_password\u001b[39m=\u001b[39;49m\u001b[39mself\u001b[39;49m\u001b[39m.\u001b[39;49mkey_password,\n\u001b[1;32m    424\u001b[0m     ca_certs\u001b[39m=\u001b[39;49m\u001b[39mself\u001b[39;49m\u001b[39m.\u001b[39;49mca_certs,\n\u001b[1;32m    425\u001b[0m     ca_cert_dir\u001b[39m=\u001b[39;49m\u001b[39mself\u001b[39;49m\u001b[39m.\u001b[39;49mca_cert_dir,\n\u001b[1;32m    426\u001b[0m     ca_cert_data\u001b[39m=\u001b[39;49m\u001b[39mself\u001b[39;49m\u001b[39m.\u001b[39;49mca_cert_data,\n\u001b[1;32m    427\u001b[0m     server_hostname\u001b[39m=\u001b[39;49mserver_hostname,\n\u001b[1;32m    428\u001b[0m     ssl_context\u001b[39m=\u001b[39;49mcontext,\n\u001b[1;32m    429\u001b[0m     tls_in_tls\u001b[39m=\u001b[39;49mtls_in_tls,\n\u001b[1;32m    430\u001b[0m )\n\u001b[1;32m    432\u001b[0m \u001b[39m# If we're using all defaults and the connection\u001b[39;00m\n\u001b[1;32m    433\u001b[0m \u001b[39m# is TLSv1 or TLSv1.1 we throw a DeprecationWarning\u001b[39;00m\n\u001b[1;32m    434\u001b[0m \u001b[39m# for the host.\u001b[39;00m\n",
      "File \u001b[0;32m/opt/homebrew/lib/python3.10/site-packages/urllib3/util/ssl_.py:449\u001b[0m, in \u001b[0;36mssl_wrap_socket\u001b[0;34m(sock, keyfile, certfile, cert_reqs, ca_certs, server_hostname, ssl_version, ciphers, ssl_context, ca_cert_dir, key_password, ca_cert_data, tls_in_tls)\u001b[0m\n\u001b[1;32m    448\u001b[0m \u001b[39mif\u001b[39;00m send_sni:\n\u001b[0;32m--> 449\u001b[0m     ssl_sock \u001b[39m=\u001b[39m _ssl_wrap_socket_impl(\n\u001b[1;32m    450\u001b[0m         sock, context, tls_in_tls, server_hostname\u001b[39m=\u001b[39;49mserver_hostname\n\u001b[1;32m    451\u001b[0m     )\n\u001b[1;32m    452\u001b[0m \u001b[39melse\u001b[39;00m:\n",
      "File \u001b[0;32m/opt/homebrew/lib/python3.10/site-packages/urllib3/util/ssl_.py:493\u001b[0m, in \u001b[0;36m_ssl_wrap_socket_impl\u001b[0;34m(sock, ssl_context, tls_in_tls, server_hostname)\u001b[0m\n\u001b[1;32m    492\u001b[0m \u001b[39mif\u001b[39;00m server_hostname:\n\u001b[0;32m--> 493\u001b[0m     \u001b[39mreturn\u001b[39;00m ssl_context\u001b[39m.\u001b[39;49mwrap_socket(sock, server_hostname\u001b[39m=\u001b[39;49mserver_hostname)\n\u001b[1;32m    494\u001b[0m \u001b[39melse\u001b[39;00m:\n",
      "File \u001b[0;32m/opt/homebrew/Cellar/python@3.10/3.10.8/Frameworks/Python.framework/Versions/3.10/lib/python3.10/ssl.py:513\u001b[0m, in \u001b[0;36mSSLContext.wrap_socket\u001b[0;34m(self, sock, server_side, do_handshake_on_connect, suppress_ragged_eofs, server_hostname, session)\u001b[0m\n\u001b[1;32m    507\u001b[0m \u001b[39mdef\u001b[39;00m \u001b[39mwrap_socket\u001b[39m(\u001b[39mself\u001b[39m, sock, server_side\u001b[39m=\u001b[39m\u001b[39mFalse\u001b[39;00m,\n\u001b[1;32m    508\u001b[0m                 do_handshake_on_connect\u001b[39m=\u001b[39m\u001b[39mTrue\u001b[39;00m,\n\u001b[1;32m    509\u001b[0m                 suppress_ragged_eofs\u001b[39m=\u001b[39m\u001b[39mTrue\u001b[39;00m,\n\u001b[1;32m    510\u001b[0m                 server_hostname\u001b[39m=\u001b[39m\u001b[39mNone\u001b[39;00m, session\u001b[39m=\u001b[39m\u001b[39mNone\u001b[39;00m):\n\u001b[1;32m    511\u001b[0m     \u001b[39m# SSLSocket class handles server_hostname encoding before it calls\u001b[39;00m\n\u001b[1;32m    512\u001b[0m     \u001b[39m# ctx._wrap_socket()\u001b[39;00m\n\u001b[0;32m--> 513\u001b[0m     \u001b[39mreturn\u001b[39;00m \u001b[39mself\u001b[39;49m\u001b[39m.\u001b[39;49msslsocket_class\u001b[39m.\u001b[39;49m_create(\n\u001b[1;32m    514\u001b[0m         sock\u001b[39m=\u001b[39;49msock,\n\u001b[1;32m    515\u001b[0m         server_side\u001b[39m=\u001b[39;49mserver_side,\n\u001b[1;32m    516\u001b[0m         do_handshake_on_connect\u001b[39m=\u001b[39;49mdo_handshake_on_connect,\n\u001b[1;32m    517\u001b[0m         suppress_ragged_eofs\u001b[39m=\u001b[39;49msuppress_ragged_eofs,\n\u001b[1;32m    518\u001b[0m         server_hostname\u001b[39m=\u001b[39;49mserver_hostname,\n\u001b[1;32m    519\u001b[0m         context\u001b[39m=\u001b[39;49m\u001b[39mself\u001b[39;49m,\n\u001b[1;32m    520\u001b[0m         session\u001b[39m=\u001b[39;49msession\n\u001b[1;32m    521\u001b[0m     )\n",
      "File \u001b[0;32m/opt/homebrew/Cellar/python@3.10/3.10.8/Frameworks/Python.framework/Versions/3.10/lib/python3.10/ssl.py:1050\u001b[0m, in \u001b[0;36mSSLSocket._create\u001b[0;34m(cls, sock, server_side, do_handshake_on_connect, suppress_ragged_eofs, server_hostname, context, session)\u001b[0m\n\u001b[1;32m   1049\u001b[0m \u001b[39mtry\u001b[39;00m:\n\u001b[0;32m-> 1050\u001b[0m     \u001b[39mself\u001b[39;49m\u001b[39m.\u001b[39;49mgetpeername()\n\u001b[1;32m   1051\u001b[0m \u001b[39mexcept\u001b[39;00m \u001b[39mOSError\u001b[39;00m \u001b[39mas\u001b[39;00m e:\n",
      "\u001b[0;31mProtocolError\u001b[0m: ('Connection aborted.', OSError(22, 'Invalid argument'))",
      "\nDuring handling of the above exception, another exception occurred:\n",
      "\u001b[0;31mConnectionError\u001b[0m                           Traceback (most recent call last)",
      "\u001b[1;32m/Users/julienmiquel/dev/github-capstone-vae/Capstone/src/1_download/src/6_VQA_attributes.ipynb Cell 18\u001b[0m in \u001b[0;36m2\n\u001b[1;32m     <a href='vscode-notebook-cell:/Users/julienmiquel/dev/github-capstone-vae/Capstone/src/1_download/src/6_VQA_attributes.ipynb#X20sZmlsZQ%3D%3D?line=21'>22</a>\u001b[0m         \u001b[39mprint\u001b[39m(\u001b[39mf\u001b[39m\u001b[39m\"\u001b[39m\u001b[39mSAVE index chunk : \u001b[39m\u001b[39m{\u001b[39;00m\u001b[39mid\u001b[39m\u001b[39m}\u001b[39;00m\u001b[39m\"\u001b[39m)\n\u001b[1;32m     <a href='vscode-notebook-cell:/Users/julienmiquel/dev/github-capstone-vae/Capstone/src/1_download/src/6_VQA_attributes.ipynb#X20sZmlsZQ%3D%3D?line=22'>23</a>\u001b[0m         save_bq(df_vqa, \n\u001b[1;32m     <a href='vscode-notebook-cell:/Users/julienmiquel/dev/github-capstone-vae/Capstone/src/1_download/src/6_VQA_attributes.ipynb#X20sZmlsZQ%3D%3D?line=23'>24</a>\u001b[0m                 table_id \u001b[39m=\u001b[39m project_table, \n\u001b[1;32m     <a href='vscode-notebook-cell:/Users/julienmiquel/dev/github-capstone-vae/Capstone/src/1_download/src/6_VQA_attributes.ipynb#X20sZmlsZQ%3D%3D?line=24'>25</a>\u001b[0m                 project_id \u001b[39m=\u001b[39m PROJECT_ID)\n\u001b[0;32m---> <a href='vscode-notebook-cell:/Users/julienmiquel/dev/github-capstone-vae/Capstone/src/1_download/src/6_VQA_attributes.ipynb#X20sZmlsZQ%3D%3D?line=26'>27</a>\u001b[0m process(df[:\u001b[39m10\u001b[39;49m])\n",
      "\u001b[1;32m/Users/julienmiquel/dev/github-capstone-vae/Capstone/src/1_download/src/6_VQA_attributes.ipynb Cell 18\u001b[0m in \u001b[0;36m1\n\u001b[1;32m      <a href='vscode-notebook-cell:/Users/julienmiquel/dev/github-capstone-vae/Capstone/src/1_download/src/6_VQA_attributes.ipynb#X20sZmlsZQ%3D%3D?line=7'>8</a>\u001b[0m \u001b[39mprint\u001b[39m(\u001b[39mid\u001b[39m)\n\u001b[1;32m      <a href='vscode-notebook-cell:/Users/julienmiquel/dev/github-capstone-vae/Capstone/src/1_download/src/6_VQA_attributes.ipynb#X20sZmlsZQ%3D%3D?line=8'>9</a>\u001b[0m df_vqa \u001b[39m=\u001b[39m df[df[\u001b[39m\"\u001b[39m\u001b[39mId\u001b[39m\u001b[39m\"\u001b[39m] \u001b[39m==\u001b[39m \u001b[39mid\u001b[39m]\n\u001b[0;32m---> <a href='vscode-notebook-cell:/Users/julienmiquel/dev/github-capstone-vae/Capstone/src/1_download/src/6_VQA_attributes.ipynb#X20sZmlsZQ%3D%3D?line=10'>11</a>\u001b[0m df_vqa \u001b[39m=\u001b[39m add_images_visual_caption_to_df(df_vqa, \u001b[39m\"\u001b[39;49m\u001b[39mwhat is the room ?\u001b[39;49m\u001b[39m\"\u001b[39;49m, \u001b[39m\"\u001b[39;49m\u001b[39mlocation\u001b[39;49m\u001b[39m\"\u001b[39;49m, \u001b[39m1\u001b[39;49m)\n\u001b[1;32m     <a href='vscode-notebook-cell:/Users/julienmiquel/dev/github-capstone-vae/Capstone/src/1_download/src/6_VQA_attributes.ipynb#X20sZmlsZQ%3D%3D?line=11'>12</a>\u001b[0m df_vqa \u001b[39m=\u001b[39m add_images_visual_caption_to_df(df_vqa, \u001b[39m\"\u001b[39m\u001b[39mfloor material\u001b[39m\u001b[39m\"\u001b[39m, \u001b[39m\"\u001b[39m\u001b[39mfloor\u001b[39m\u001b[39m\"\u001b[39m, \u001b[39m1\u001b[39m)\n\u001b[1;32m     <a href='vscode-notebook-cell:/Users/julienmiquel/dev/github-capstone-vae/Capstone/src/1_download/src/6_VQA_attributes.ipynb#X20sZmlsZQ%3D%3D?line=12'>13</a>\u001b[0m df_vqa \u001b[39m=\u001b[39m add_images_visual_caption_to_df(df_vqa, \u001b[39m\"\u001b[39m\u001b[39mwall material\u001b[39m\u001b[39m\"\u001b[39m, \u001b[39m\"\u001b[39m\u001b[39mwall\u001b[39m\u001b[39m\"\u001b[39m, \u001b[39m1\u001b[39m)\n",
      "File \u001b[0;32m/opt/homebrew/lib/python3.10/site-packages/ratelimit/decorators.py:113\u001b[0m, in \u001b[0;36msleep_and_retry.<locals>.wrapper\u001b[0;34m(*args, **kargs)\u001b[0m\n\u001b[1;32m    111\u001b[0m \u001b[39mwhile\u001b[39;00m \u001b[39mTrue\u001b[39;00m:\n\u001b[1;32m    112\u001b[0m     \u001b[39mtry\u001b[39;00m:\n\u001b[0;32m--> 113\u001b[0m         \u001b[39mreturn\u001b[39;00m func(\u001b[39m*\u001b[39;49margs, \u001b[39m*\u001b[39;49m\u001b[39m*\u001b[39;49mkargs)\n\u001b[1;32m    114\u001b[0m     \u001b[39mexcept\u001b[39;00m RateLimitException \u001b[39mas\u001b[39;00m exception:\n\u001b[1;32m    115\u001b[0m         time\u001b[39m.\u001b[39msleep(exception\u001b[39m.\u001b[39mperiod_remaining)\n",
      "File \u001b[0;32m/opt/homebrew/lib/python3.10/site-packages/ratelimit/decorators.py:80\u001b[0m, in \u001b[0;36mRateLimitDecorator.__call__.<locals>.wrapper\u001b[0;34m(*args, **kargs)\u001b[0m\n\u001b[1;32m     77\u001b[0m             \u001b[39mraise\u001b[39;00m RateLimitException(\u001b[39m'\u001b[39m\u001b[39mtoo many calls\u001b[39m\u001b[39m'\u001b[39m, period_remaining)\n\u001b[1;32m     78\u001b[0m         \u001b[39mreturn\u001b[39;00m\n\u001b[0;32m---> 80\u001b[0m \u001b[39mreturn\u001b[39;00m func(\u001b[39m*\u001b[39;49margs, \u001b[39m*\u001b[39;49m\u001b[39m*\u001b[39;49mkargs)\n",
      "\u001b[1;32m/Users/julienmiquel/dev/github-capstone-vae/Capstone/src/1_download/src/6_VQA_attributes.ipynb Cell 18\u001b[0m in \u001b[0;36m2\n\u001b[1;32m     <a href='vscode-notebook-cell:/Users/julienmiquel/dev/github-capstone-vae/Capstone/src/1_download/src/6_VQA_attributes.ipynb#X20sZmlsZQ%3D%3D?line=17'>18</a>\u001b[0m \u001b[39m@sleep_and_retry\u001b[39m\n\u001b[1;32m     <a href='vscode-notebook-cell:/Users/julienmiquel/dev/github-capstone-vae/Capstone/src/1_download/src/6_VQA_attributes.ipynb#X20sZmlsZQ%3D%3D?line=18'>19</a>\u001b[0m \u001b[39m@limits\u001b[39m(calls\u001b[39m=\u001b[39m\u001b[39m400\u001b[39m, period\u001b[39m=\u001b[39m\u001b[39m60\u001b[39m, raise_on_limit\u001b[39m=\u001b[39m\u001b[39mFalse\u001b[39;00m)\n\u001b[1;32m     <a href='vscode-notebook-cell:/Users/julienmiquel/dev/github-capstone-vae/Capstone/src/1_download/src/6_VQA_attributes.ipynb#X20sZmlsZQ%3D%3D?line=19'>20</a>\u001b[0m \u001b[39mdef\u001b[39;00m \u001b[39madd_images_visual_caption_to_df\u001b[39m(df, prompt, name, number_of_answer, language \u001b[39m=\u001b[39m \u001b[39m\"\u001b[39m\u001b[39men\u001b[39m\u001b[39m\"\u001b[39m, bucket_name \u001b[39m=\u001b[39m \u001b[39m\"\u001b[39m\u001b[39mml-demo-384110-bucket\u001b[39m\u001b[39m\"\u001b[39m):\n\u001b[1;32m     <a href='vscode-notebook-cell:/Users/julienmiquel/dev/github-capstone-vae/Capstone/src/1_download/src/6_VQA_attributes.ipynb#X20sZmlsZQ%3D%3D?line=21'>22</a>\u001b[0m     \u001b[39mprint\u001b[39m(\u001b[39mf\u001b[39m\u001b[39m'\u001b[39m\u001b[39m{\u001b[39;00mname\u001b[39m}\u001b[39;00m\u001b[39m : \u001b[39m\u001b[39m{\u001b[39;00mprompt\u001b[39m}\u001b[39;00m\u001b[39m \u001b[39m\u001b[39m'\u001b[39m)\n\u001b[0;32m---> <a href='vscode-notebook-cell:/Users/julienmiquel/dev/github-capstone-vae/Capstone/src/1_download/src/6_VQA_attributes.ipynb#X20sZmlsZQ%3D%3D?line=22'>23</a>\u001b[0m     df[\u001b[39mf\u001b[39m\u001b[39m'\u001b[39m\u001b[39mcaption_\u001b[39m\u001b[39m{\u001b[39;00mname\u001b[39m}\u001b[39;00m\u001b[39m'\u001b[39m ] \u001b[39m=\u001b[39m df\u001b[39m.\u001b[39;49muri\u001b[39m.\u001b[39;49mmap(\u001b[39mlambda\u001b[39;49;00m uri_name: \n\u001b[1;32m     <a href='vscode-notebook-cell:/Users/julienmiquel/dev/github-capstone-vae/Capstone/src/1_download/src/6_VQA_attributes.ipynb#X20sZmlsZQ%3D%3D?line=23'>24</a>\u001b[0m                                    print_text_response(\n\u001b[1;32m     <a href='vscode-notebook-cell:/Users/julienmiquel/dev/github-capstone-vae/Capstone/src/1_download/src/6_VQA_attributes.ipynb#X20sZmlsZQ%3D%3D?line=24'>25</a>\u001b[0m         visual_qa(prompt, \n\u001b[1;32m     <a href='vscode-notebook-cell:/Users/julienmiquel/dev/github-capstone-vae/Capstone/src/1_download/src/6_VQA_attributes.ipynb#X20sZmlsZQ%3D%3D?line=25'>26</a>\u001b[0m                   number_of_answer, \n\u001b[1;32m     <a href='vscode-notebook-cell:/Users/julienmiquel/dev/github-capstone-vae/Capstone/src/1_download/src/6_VQA_attributes.ipynb#X20sZmlsZQ%3D%3D?line=26'>27</a>\u001b[0m                   \u001b[39mstr\u001b[39;49m(read_b64_from_gcs(bucket, uri_name\u001b[39m.\u001b[39;49mreplace(\u001b[39mf\u001b[39;49m\u001b[39m\"\u001b[39;49m\u001b[39mgs://\u001b[39;49m\u001b[39m{\u001b[39;49;00mbucket_name\u001b[39m}\u001b[39;49;00m\u001b[39m/\u001b[39;49m\u001b[39m\"\u001b[39;49m, \u001b[39m\"\u001b[39;49m\u001b[39m\"\u001b[39;49m)), \u001b[39m'\u001b[39;49m\u001b[39mUTF-8\u001b[39;49m\u001b[39m'\u001b[39;49m))\n\u001b[1;32m     <a href='vscode-notebook-cell:/Users/julienmiquel/dev/github-capstone-vae/Capstone/src/1_download/src/6_VQA_attributes.ipynb#X20sZmlsZQ%3D%3D?line=27'>28</a>\u001b[0m                                   )\n\u001b[1;32m     <a href='vscode-notebook-cell:/Users/julienmiquel/dev/github-capstone-vae/Capstone/src/1_download/src/6_VQA_attributes.ipynb#X20sZmlsZQ%3D%3D?line=28'>29</a>\u001b[0m                                   )\n\u001b[1;32m     <a href='vscode-notebook-cell:/Users/julienmiquel/dev/github-capstone-vae/Capstone/src/1_download/src/6_VQA_attributes.ipynb#X20sZmlsZQ%3D%3D?line=31'>32</a>\u001b[0m     \u001b[39mreturn\u001b[39;00m df\n",
      "File \u001b[0;32m/opt/homebrew/lib/python3.10/site-packages/pandas/core/series.py:4397\u001b[0m, in \u001b[0;36mSeries.map\u001b[0;34m(self, arg, na_action)\u001b[0m\n\u001b[1;32m   4318\u001b[0m \u001b[39mdef\u001b[39;00m \u001b[39mmap\u001b[39m(\n\u001b[1;32m   4319\u001b[0m     \u001b[39mself\u001b[39m,\n\u001b[1;32m   4320\u001b[0m     arg: Callable \u001b[39m|\u001b[39m Mapping \u001b[39m|\u001b[39m Series,\n\u001b[1;32m   4321\u001b[0m     na_action: Literal[\u001b[39m\"\u001b[39m\u001b[39mignore\u001b[39m\u001b[39m\"\u001b[39m] \u001b[39m|\u001b[39m \u001b[39mNone\u001b[39;00m \u001b[39m=\u001b[39m \u001b[39mNone\u001b[39;00m,\n\u001b[1;32m   4322\u001b[0m ) \u001b[39m-\u001b[39m\u001b[39m>\u001b[39m Series:\n\u001b[1;32m   4323\u001b[0m \u001b[39m    \u001b[39m\u001b[39m\"\"\"\u001b[39;00m\n\u001b[1;32m   4324\u001b[0m \u001b[39m    Map values of Series according to an input mapping or function.\u001b[39;00m\n\u001b[1;32m   4325\u001b[0m \n\u001b[0;32m   (...)\u001b[0m\n\u001b[1;32m   4395\u001b[0m \u001b[39m    dtype: object\u001b[39;00m\n\u001b[1;32m   4396\u001b[0m \u001b[39m    \"\"\"\u001b[39;00m\n\u001b[0;32m-> 4397\u001b[0m     new_values \u001b[39m=\u001b[39m \u001b[39mself\u001b[39;49m\u001b[39m.\u001b[39;49m_map_values(arg, na_action\u001b[39m=\u001b[39;49mna_action)\n\u001b[1;32m   4398\u001b[0m     \u001b[39mreturn\u001b[39;00m \u001b[39mself\u001b[39m\u001b[39m.\u001b[39m_constructor(new_values, index\u001b[39m=\u001b[39m\u001b[39mself\u001b[39m\u001b[39m.\u001b[39mindex, copy\u001b[39m=\u001b[39m\u001b[39mFalse\u001b[39;00m)\u001b[39m.\u001b[39m__finalize__(\n\u001b[1;32m   4399\u001b[0m         \u001b[39mself\u001b[39m, method\u001b[39m=\u001b[39m\u001b[39m\"\u001b[39m\u001b[39mmap\u001b[39m\u001b[39m\"\u001b[39m\n\u001b[1;32m   4400\u001b[0m     )\n",
      "File \u001b[0;32m/opt/homebrew/lib/python3.10/site-packages/pandas/core/base.py:924\u001b[0m, in \u001b[0;36mIndexOpsMixin._map_values\u001b[0;34m(self, mapper, na_action)\u001b[0m\n\u001b[1;32m    921\u001b[0m         \u001b[39mraise\u001b[39;00m \u001b[39mValueError\u001b[39;00m(msg)\n\u001b[1;32m    923\u001b[0m \u001b[39m# mapper is a function\u001b[39;00m\n\u001b[0;32m--> 924\u001b[0m new_values \u001b[39m=\u001b[39m map_f(values, mapper)\n\u001b[1;32m    926\u001b[0m \u001b[39mreturn\u001b[39;00m new_values\n",
      "File \u001b[0;32m/opt/homebrew/lib/python3.10/site-packages/pandas/_libs/lib.pyx:2834\u001b[0m, in \u001b[0;36mpandas._libs.lib.map_infer\u001b[0;34m()\u001b[0m\n",
      "\u001b[1;32m/Users/julienmiquel/dev/github-capstone-vae/Capstone/src/1_download/src/6_VQA_attributes.ipynb Cell 18\u001b[0m in \u001b[0;36m2\n\u001b[1;32m     <a href='vscode-notebook-cell:/Users/julienmiquel/dev/github-capstone-vae/Capstone/src/1_download/src/6_VQA_attributes.ipynb#X20sZmlsZQ%3D%3D?line=17'>18</a>\u001b[0m \u001b[39m@sleep_and_retry\u001b[39m\n\u001b[1;32m     <a href='vscode-notebook-cell:/Users/julienmiquel/dev/github-capstone-vae/Capstone/src/1_download/src/6_VQA_attributes.ipynb#X20sZmlsZQ%3D%3D?line=18'>19</a>\u001b[0m \u001b[39m@limits\u001b[39m(calls\u001b[39m=\u001b[39m\u001b[39m400\u001b[39m, period\u001b[39m=\u001b[39m\u001b[39m60\u001b[39m, raise_on_limit\u001b[39m=\u001b[39m\u001b[39mFalse\u001b[39;00m)\n\u001b[1;32m     <a href='vscode-notebook-cell:/Users/julienmiquel/dev/github-capstone-vae/Capstone/src/1_download/src/6_VQA_attributes.ipynb#X20sZmlsZQ%3D%3D?line=19'>20</a>\u001b[0m \u001b[39mdef\u001b[39;00m \u001b[39madd_images_visual_caption_to_df\u001b[39m(df, prompt, name, number_of_answer, language \u001b[39m=\u001b[39m \u001b[39m\"\u001b[39m\u001b[39men\u001b[39m\u001b[39m\"\u001b[39m, bucket_name \u001b[39m=\u001b[39m \u001b[39m\"\u001b[39m\u001b[39mml-demo-384110-bucket\u001b[39m\u001b[39m\"\u001b[39m):\n\u001b[1;32m     <a href='vscode-notebook-cell:/Users/julienmiquel/dev/github-capstone-vae/Capstone/src/1_download/src/6_VQA_attributes.ipynb#X20sZmlsZQ%3D%3D?line=21'>22</a>\u001b[0m     \u001b[39mprint\u001b[39m(\u001b[39mf\u001b[39m\u001b[39m'\u001b[39m\u001b[39m{\u001b[39;00mname\u001b[39m}\u001b[39;00m\u001b[39m : \u001b[39m\u001b[39m{\u001b[39;00mprompt\u001b[39m}\u001b[39;00m\u001b[39m \u001b[39m\u001b[39m'\u001b[39m)\n\u001b[1;32m     <a href='vscode-notebook-cell:/Users/julienmiquel/dev/github-capstone-vae/Capstone/src/1_download/src/6_VQA_attributes.ipynb#X20sZmlsZQ%3D%3D?line=22'>23</a>\u001b[0m     df[\u001b[39mf\u001b[39m\u001b[39m'\u001b[39m\u001b[39mcaption_\u001b[39m\u001b[39m{\u001b[39;00mname\u001b[39m}\u001b[39;00m\u001b[39m'\u001b[39m ] \u001b[39m=\u001b[39m df\u001b[39m.\u001b[39muri\u001b[39m.\u001b[39mmap(\u001b[39mlambda\u001b[39;00m uri_name: \n\u001b[1;32m     <a href='vscode-notebook-cell:/Users/julienmiquel/dev/github-capstone-vae/Capstone/src/1_download/src/6_VQA_attributes.ipynb#X20sZmlsZQ%3D%3D?line=23'>24</a>\u001b[0m                                    print_text_response(\n\u001b[0;32m---> <a href='vscode-notebook-cell:/Users/julienmiquel/dev/github-capstone-vae/Capstone/src/1_download/src/6_VQA_attributes.ipynb#X20sZmlsZQ%3D%3D?line=24'>25</a>\u001b[0m         visual_qa(prompt, \n\u001b[1;32m     <a href='vscode-notebook-cell:/Users/julienmiquel/dev/github-capstone-vae/Capstone/src/1_download/src/6_VQA_attributes.ipynb#X20sZmlsZQ%3D%3D?line=25'>26</a>\u001b[0m                   number_of_answer, \n\u001b[1;32m     <a href='vscode-notebook-cell:/Users/julienmiquel/dev/github-capstone-vae/Capstone/src/1_download/src/6_VQA_attributes.ipynb#X20sZmlsZQ%3D%3D?line=26'>27</a>\u001b[0m                   \u001b[39mstr\u001b[39;49m(read_b64_from_gcs(bucket, uri_name\u001b[39m.\u001b[39;49mreplace(\u001b[39mf\u001b[39;49m\u001b[39m\"\u001b[39;49m\u001b[39mgs://\u001b[39;49m\u001b[39m{\u001b[39;49;00mbucket_name\u001b[39m}\u001b[39;49;00m\u001b[39m/\u001b[39;49m\u001b[39m\"\u001b[39;49m, \u001b[39m\"\u001b[39;49m\u001b[39m\"\u001b[39;49m)), \u001b[39m'\u001b[39;49m\u001b[39mUTF-8\u001b[39;49m\u001b[39m'\u001b[39;49m))\n\u001b[1;32m     <a href='vscode-notebook-cell:/Users/julienmiquel/dev/github-capstone-vae/Capstone/src/1_download/src/6_VQA_attributes.ipynb#X20sZmlsZQ%3D%3D?line=27'>28</a>\u001b[0m                                   )\n\u001b[1;32m     <a href='vscode-notebook-cell:/Users/julienmiquel/dev/github-capstone-vae/Capstone/src/1_download/src/6_VQA_attributes.ipynb#X20sZmlsZQ%3D%3D?line=28'>29</a>\u001b[0m                                   )\n\u001b[1;32m     <a href='vscode-notebook-cell:/Users/julienmiquel/dev/github-capstone-vae/Capstone/src/1_download/src/6_VQA_attributes.ipynb#X20sZmlsZQ%3D%3D?line=31'>32</a>\u001b[0m     \u001b[39mreturn\u001b[39;00m df\n",
      "\u001b[1;32m/Users/julienmiquel/dev/github-capstone-vae/Capstone/src/1_download/src/6_VQA_attributes.ipynb Cell 18\u001b[0m in \u001b[0;36m6\n\u001b[1;32m     <a href='vscode-notebook-cell:/Users/julienmiquel/dev/github-capstone-vae/Capstone/src/1_download/src/6_VQA_attributes.ipynb#X20sZmlsZQ%3D%3D?line=62'>63</a>\u001b[0m status_code \u001b[39m=\u001b[39m \u001b[39m0\u001b[39m\n\u001b[1;32m     <a href='vscode-notebook-cell:/Users/julienmiquel/dev/github-capstone-vae/Capstone/src/1_download/src/6_VQA_attributes.ipynb#X20sZmlsZQ%3D%3D?line=63'>64</a>\u001b[0m \u001b[39mwhile\u001b[39;00m status_code \u001b[39m!=\u001b[39m \u001b[39m200\u001b[39m:\n\u001b[0;32m---> <a href='vscode-notebook-cell:/Users/julienmiquel/dev/github-capstone-vae/Capstone/src/1_download/src/6_VQA_attributes.ipynb#X20sZmlsZQ%3D%3D?line=64'>65</a>\u001b[0m     response \u001b[39m=\u001b[39m requests\u001b[39m.\u001b[39;49mpost(\u001b[39mf\u001b[39;49m\u001b[39m'\u001b[39;49m\u001b[39mhttps://\u001b[39;49m\u001b[39m{\u001b[39;49;00mLOCATION\u001b[39m}\u001b[39;49;00m\u001b[39m-aiplatform.googleapis.com/v1/\u001b[39;49m\u001b[39m{\u001b[39;49;00mIMAGEN_ENDPOINT_URL\u001b[39m}\u001b[39;49;00m\u001b[39m:predict\u001b[39;49m\u001b[39m'\u001b[39;49m, \n\u001b[1;32m     <a href='vscode-notebook-cell:/Users/julienmiquel/dev/github-capstone-vae/Capstone/src/1_download/src/6_VQA_attributes.ipynb#X20sZmlsZQ%3D%3D?line=65'>66</a>\u001b[0m         data\u001b[39m=\u001b[39;49mjson\u001b[39m.\u001b[39;49mdumps(data), headers\u001b[39m=\u001b[39;49mheaders)\n\u001b[1;32m     <a href='vscode-notebook-cell:/Users/julienmiquel/dev/github-capstone-vae/Capstone/src/1_download/src/6_VQA_attributes.ipynb#X20sZmlsZQ%3D%3D?line=67'>68</a>\u001b[0m     \u001b[39mif\u001b[39;00m response\u001b[39m.\u001b[39mstatus_code \u001b[39m==\u001b[39m \u001b[39m200\u001b[39m:\n\u001b[1;32m     <a href='vscode-notebook-cell:/Users/julienmiquel/dev/github-capstone-vae/Capstone/src/1_download/src/6_VQA_attributes.ipynb#X20sZmlsZQ%3D%3D?line=68'>69</a>\u001b[0m         \u001b[39mreturn\u001b[39;00m response\n",
      "File \u001b[0;32m/opt/homebrew/lib/python3.10/site-packages/requests/api.py:115\u001b[0m, in \u001b[0;36mpost\u001b[0;34m(url, data, json, **kwargs)\u001b[0m\n\u001b[1;32m    103\u001b[0m \u001b[39mdef\u001b[39;00m \u001b[39mpost\u001b[39m(url, data\u001b[39m=\u001b[39m\u001b[39mNone\u001b[39;00m, json\u001b[39m=\u001b[39m\u001b[39mNone\u001b[39;00m, \u001b[39m*\u001b[39m\u001b[39m*\u001b[39mkwargs):\n\u001b[1;32m    104\u001b[0m \u001b[39m    \u001b[39m\u001b[39mr\u001b[39m\u001b[39m\"\"\"Sends a POST request.\u001b[39;00m\n\u001b[1;32m    105\u001b[0m \n\u001b[1;32m    106\u001b[0m \u001b[39m    :param url: URL for the new :class:`Request` object.\u001b[39;00m\n\u001b[0;32m   (...)\u001b[0m\n\u001b[1;32m    112\u001b[0m \u001b[39m    :rtype: requests.Response\u001b[39;00m\n\u001b[1;32m    113\u001b[0m \u001b[39m    \"\"\"\u001b[39;00m\n\u001b[0;32m--> 115\u001b[0m     \u001b[39mreturn\u001b[39;00m request(\u001b[39m\"\u001b[39;49m\u001b[39mpost\u001b[39;49m\u001b[39m\"\u001b[39;49m, url, data\u001b[39m=\u001b[39;49mdata, json\u001b[39m=\u001b[39;49mjson, \u001b[39m*\u001b[39;49m\u001b[39m*\u001b[39;49mkwargs)\n",
      "File \u001b[0;32m/opt/homebrew/lib/python3.10/site-packages/requests/api.py:59\u001b[0m, in \u001b[0;36mrequest\u001b[0;34m(method, url, **kwargs)\u001b[0m\n\u001b[1;32m     55\u001b[0m \u001b[39m# By using the 'with' statement we are sure the session is closed, thus we\u001b[39;00m\n\u001b[1;32m     56\u001b[0m \u001b[39m# avoid leaving sockets open which can trigger a ResourceWarning in some\u001b[39;00m\n\u001b[1;32m     57\u001b[0m \u001b[39m# cases, and look like a memory leak in others.\u001b[39;00m\n\u001b[1;32m     58\u001b[0m \u001b[39mwith\u001b[39;00m sessions\u001b[39m.\u001b[39mSession() \u001b[39mas\u001b[39;00m session:\n\u001b[0;32m---> 59\u001b[0m     \u001b[39mreturn\u001b[39;00m session\u001b[39m.\u001b[39;49mrequest(method\u001b[39m=\u001b[39;49mmethod, url\u001b[39m=\u001b[39;49murl, \u001b[39m*\u001b[39;49m\u001b[39m*\u001b[39;49mkwargs)\n",
      "File \u001b[0;32m/opt/homebrew/lib/python3.10/site-packages/requests/sessions.py:587\u001b[0m, in \u001b[0;36mSession.request\u001b[0;34m(self, method, url, params, data, headers, cookies, files, auth, timeout, allow_redirects, proxies, hooks, stream, verify, cert, json)\u001b[0m\n\u001b[1;32m    582\u001b[0m send_kwargs \u001b[39m=\u001b[39m {\n\u001b[1;32m    583\u001b[0m     \u001b[39m\"\u001b[39m\u001b[39mtimeout\u001b[39m\u001b[39m\"\u001b[39m: timeout,\n\u001b[1;32m    584\u001b[0m     \u001b[39m\"\u001b[39m\u001b[39mallow_redirects\u001b[39m\u001b[39m\"\u001b[39m: allow_redirects,\n\u001b[1;32m    585\u001b[0m }\n\u001b[1;32m    586\u001b[0m send_kwargs\u001b[39m.\u001b[39mupdate(settings)\n\u001b[0;32m--> 587\u001b[0m resp \u001b[39m=\u001b[39m \u001b[39mself\u001b[39;49m\u001b[39m.\u001b[39;49msend(prep, \u001b[39m*\u001b[39;49m\u001b[39m*\u001b[39;49msend_kwargs)\n\u001b[1;32m    589\u001b[0m \u001b[39mreturn\u001b[39;00m resp\n",
      "File \u001b[0;32m/opt/homebrew/lib/python3.10/site-packages/requests/sessions.py:701\u001b[0m, in \u001b[0;36mSession.send\u001b[0;34m(self, request, **kwargs)\u001b[0m\n\u001b[1;32m    698\u001b[0m start \u001b[39m=\u001b[39m preferred_clock()\n\u001b[1;32m    700\u001b[0m \u001b[39m# Send the request\u001b[39;00m\n\u001b[0;32m--> 701\u001b[0m r \u001b[39m=\u001b[39m adapter\u001b[39m.\u001b[39;49msend(request, \u001b[39m*\u001b[39;49m\u001b[39m*\u001b[39;49mkwargs)\n\u001b[1;32m    703\u001b[0m \u001b[39m# Total elapsed time of the request (approximately)\u001b[39;00m\n\u001b[1;32m    704\u001b[0m elapsed \u001b[39m=\u001b[39m preferred_clock() \u001b[39m-\u001b[39m start\n",
      "File \u001b[0;32m/opt/homebrew/lib/python3.10/site-packages/requests/adapters.py:547\u001b[0m, in \u001b[0;36mHTTPAdapter.send\u001b[0;34m(self, request, stream, timeout, verify, cert, proxies)\u001b[0m\n\u001b[1;32m    544\u001b[0m             \u001b[39mraise\u001b[39;00m\n\u001b[1;32m    546\u001b[0m \u001b[39mexcept\u001b[39;00m (ProtocolError, \u001b[39mOSError\u001b[39;00m) \u001b[39mas\u001b[39;00m err:\n\u001b[0;32m--> 547\u001b[0m     \u001b[39mraise\u001b[39;00m \u001b[39mConnectionError\u001b[39;00m(err, request\u001b[39m=\u001b[39mrequest)\n\u001b[1;32m    549\u001b[0m \u001b[39mexcept\u001b[39;00m MaxRetryError \u001b[39mas\u001b[39;00m e:\n\u001b[1;32m    550\u001b[0m     \u001b[39mif\u001b[39;00m \u001b[39misinstance\u001b[39m(e\u001b[39m.\u001b[39mreason, ConnectTimeoutError):\n\u001b[1;32m    551\u001b[0m         \u001b[39m# TODO: Remove this in 3.0.0: see #2811\u001b[39;00m\n",
      "\u001b[0;31mConnectionError\u001b[0m: ('Connection aborted.', OSError(22, 'Invalid argument'))"
     ]
    }
   ],
   "source": [
    "BQ_DATASET_NAME = 'immo_us_enriched' \n",
    "BQ_TABLE_NAME = 'image_vqa_labels'\n",
    "project_table = PROJECT_ID + \".\" +BQ_DATASET_NAME +\".\" + BQ_TABLE_NAME\n",
    "\n",
    "def process_attributes(df):\n",
    "    print(f\"Save in BQ : {project_table}\")\n",
    "    for id in df.Id.drop_duplicates().tolist() :\n",
    "        print(id)\n",
    "        df_vqa = df[df[\"Id\"] == id]\n",
    "\n",
    "        df_vqa = add_images_visual_caption_to_df(df_vqa, \"what is the room ?\", \"location\", 1)\n",
    "        df_vqa = add_images_visual_caption_to_df(df_vqa, \"floor material\", \"floor\", 1)\n",
    "        df_vqa = add_images_visual_caption_to_df(df_vqa, \"wall material\", \"wall\", 1)\n",
    "\n",
    "        df_vqa = add_images_visual_caption_to_df(df_vqa, \"describe\", \"describe\", 3)\n",
    "        df_vqa = add_images_visual_caption_to_df(df_vqa, \"describe windows\", \"windows\", 3)\n",
    "        df_vqa = add_images_visual_caption_to_df(df_vqa, \"text\", \"text\", 3, \"en\")\n",
    "        df_vqa = add_images_visual_caption_to_df(df_vqa, \"Level of finish of the place\", \"finish_level\", 3)\n",
    "\n",
    "        df_vqa[\"update_time\"] = update_time()\n",
    "\n",
    "        print(f\"SAVE index chunk : {id}\")\n",
    "        save_bq(df_vqa, \n",
    "                table_id = project_table, \n",
    "                project_id = PROJECT_ID)\n",
    "\n",
    "process_attributes(df[:10])"
   ]
  },
  {
   "cell_type": "code",
   "execution_count": null,
   "metadata": {},
   "outputs": [],
   "source": []
  },
  {
   "cell_type": "code",
   "execution_count": 14,
   "metadata": {},
   "outputs": [
    {
     "name": "stdout",
     "output_type": "stream",
     "text": [
      "ag060811-378090001\n"
     ]
    },
    {
     "name": "stderr",
     "output_type": "stream",
     "text": [
      "/var/folders/2_/jl1djv6975g5c0pygxnl873w00pwkm/T/ipykernel_21049/4080904126.py:9: SettingWithCopyWarning: \n",
      "A value is trying to be set on a copy of a slice from a DataFrame.\n",
      "Try using .loc[row_indexer,col_indexer] = value instead\n",
      "\n",
      "See the caveats in the documentation: https://pandas.pydata.org/pandas-docs/stable/user_guide/indexing.html#returning-a-view-versus-a-copy\n",
      "  df[f'caption_{language}' ] = df.uri.map(lambda uri_name:\n",
      "/var/folders/2_/jl1djv6975g5c0pygxnl873w00pwkm/T/ipykernel_21049/4080904126.py:9: SettingWithCopyWarning: \n",
      "A value is trying to be set on a copy of a slice from a DataFrame.\n",
      "Try using .loc[row_indexer,col_indexer] = value instead\n",
      "\n",
      "See the caveats in the documentation: https://pandas.pydata.org/pandas-docs/stable/user_guide/indexing.html#returning-a-view-versus-a-copy\n",
      "  df[f'caption_{language}' ] = df.uri.map(lambda uri_name:\n",
      "/var/folders/2_/jl1djv6975g5c0pygxnl873w00pwkm/T/ipykernel_21049/1516630067.py:9: SettingWithCopyWarning: \n",
      "A value is trying to be set on a copy of a slice from a DataFrame.\n",
      "Try using .loc[row_indexer,col_indexer] = value instead\n",
      "\n",
      "See the caveats in the documentation: https://pandas.pydata.org/pandas-docs/stable/user_guide/indexing.html#returning-a-view-versus-a-copy\n",
      "  df_vqa[\"update_time\"] = update_time()\n"
     ]
    },
    {
     "name": "stdout",
     "output_type": "stream",
     "text": [
      "SAVE index chunk : ag060811-378090001\n",
      "save_bq\n"
     ]
    },
    {
     "name": "stderr",
     "output_type": "stream",
     "text": [
      "100%|██████████| 1/1 [00:00<00:00, 11881.88it/s]\n"
     ]
    },
    {
     "name": "stdout",
     "output_type": "stream",
     "text": [
      "ag060811-378090001\n"
     ]
    },
    {
     "name": "stderr",
     "output_type": "stream",
     "text": [
      "/var/folders/2_/jl1djv6975g5c0pygxnl873w00pwkm/T/ipykernel_21049/4080904126.py:9: SettingWithCopyWarning: \n",
      "A value is trying to be set on a copy of a slice from a DataFrame.\n",
      "Try using .loc[row_indexer,col_indexer] = value instead\n",
      "\n",
      "See the caveats in the documentation: https://pandas.pydata.org/pandas-docs/stable/user_guide/indexing.html#returning-a-view-versus-a-copy\n",
      "  df[f'caption_{language}' ] = df.uri.map(lambda uri_name:\n",
      "/var/folders/2_/jl1djv6975g5c0pygxnl873w00pwkm/T/ipykernel_21049/4080904126.py:9: SettingWithCopyWarning: \n",
      "A value is trying to be set on a copy of a slice from a DataFrame.\n",
      "Try using .loc[row_indexer,col_indexer] = value instead\n",
      "\n",
      "See the caveats in the documentation: https://pandas.pydata.org/pandas-docs/stable/user_guide/indexing.html#returning-a-view-versus-a-copy\n",
      "  df[f'caption_{language}' ] = df.uri.map(lambda uri_name:\n",
      "/var/folders/2_/jl1djv6975g5c0pygxnl873w00pwkm/T/ipykernel_21049/1516630067.py:9: SettingWithCopyWarning: \n",
      "A value is trying to be set on a copy of a slice from a DataFrame.\n",
      "Try using .loc[row_indexer,col_indexer] = value instead\n",
      "\n",
      "See the caveats in the documentation: https://pandas.pydata.org/pandas-docs/stable/user_guide/indexing.html#returning-a-view-versus-a-copy\n",
      "  df_vqa[\"update_time\"] = update_time()\n"
     ]
    },
    {
     "name": "stdout",
     "output_type": "stream",
     "text": [
      "SAVE index chunk : ag060811-378090001\n",
      "save_bq\n"
     ]
    },
    {
     "name": "stderr",
     "output_type": "stream",
     "text": [
      "100%|██████████| 1/1 [00:00<00:00, 10205.12it/s]\n"
     ]
    },
    {
     "name": "stdout",
     "output_type": "stream",
     "text": [
      "ag060811-378090001\n"
     ]
    },
    {
     "name": "stderr",
     "output_type": "stream",
     "text": [
      "/var/folders/2_/jl1djv6975g5c0pygxnl873w00pwkm/T/ipykernel_21049/4080904126.py:9: SettingWithCopyWarning: \n",
      "A value is trying to be set on a copy of a slice from a DataFrame.\n",
      "Try using .loc[row_indexer,col_indexer] = value instead\n",
      "\n",
      "See the caveats in the documentation: https://pandas.pydata.org/pandas-docs/stable/user_guide/indexing.html#returning-a-view-versus-a-copy\n",
      "  df[f'caption_{language}' ] = df.uri.map(lambda uri_name:\n",
      "/var/folders/2_/jl1djv6975g5c0pygxnl873w00pwkm/T/ipykernel_21049/4080904126.py:9: SettingWithCopyWarning: \n",
      "A value is trying to be set on a copy of a slice from a DataFrame.\n",
      "Try using .loc[row_indexer,col_indexer] = value instead\n",
      "\n",
      "See the caveats in the documentation: https://pandas.pydata.org/pandas-docs/stable/user_guide/indexing.html#returning-a-view-versus-a-copy\n",
      "  df[f'caption_{language}' ] = df.uri.map(lambda uri_name:\n",
      "/var/folders/2_/jl1djv6975g5c0pygxnl873w00pwkm/T/ipykernel_21049/1516630067.py:9: SettingWithCopyWarning: \n",
      "A value is trying to be set on a copy of a slice from a DataFrame.\n",
      "Try using .loc[row_indexer,col_indexer] = value instead\n",
      "\n",
      "See the caveats in the documentation: https://pandas.pydata.org/pandas-docs/stable/user_guide/indexing.html#returning-a-view-versus-a-copy\n",
      "  df_vqa[\"update_time\"] = update_time()\n"
     ]
    },
    {
     "name": "stdout",
     "output_type": "stream",
     "text": [
      "SAVE index chunk : ag060811-378090001\n",
      "save_bq\n"
     ]
    },
    {
     "name": "stderr",
     "output_type": "stream",
     "text": [
      "100%|██████████| 1/1 [00:00<00:00, 10645.44it/s]\n"
     ]
    },
    {
     "name": "stdout",
     "output_type": "stream",
     "text": [
      "ag060811-378090001\n"
     ]
    },
    {
     "name": "stderr",
     "output_type": "stream",
     "text": [
      "/var/folders/2_/jl1djv6975g5c0pygxnl873w00pwkm/T/ipykernel_21049/4080904126.py:9: SettingWithCopyWarning: \n",
      "A value is trying to be set on a copy of a slice from a DataFrame.\n",
      "Try using .loc[row_indexer,col_indexer] = value instead\n",
      "\n",
      "See the caveats in the documentation: https://pandas.pydata.org/pandas-docs/stable/user_guide/indexing.html#returning-a-view-versus-a-copy\n",
      "  df[f'caption_{language}' ] = df.uri.map(lambda uri_name:\n",
      "/var/folders/2_/jl1djv6975g5c0pygxnl873w00pwkm/T/ipykernel_21049/4080904126.py:9: SettingWithCopyWarning: \n",
      "A value is trying to be set on a copy of a slice from a DataFrame.\n",
      "Try using .loc[row_indexer,col_indexer] = value instead\n",
      "\n",
      "See the caveats in the documentation: https://pandas.pydata.org/pandas-docs/stable/user_guide/indexing.html#returning-a-view-versus-a-copy\n",
      "  df[f'caption_{language}' ] = df.uri.map(lambda uri_name:\n",
      "/var/folders/2_/jl1djv6975g5c0pygxnl873w00pwkm/T/ipykernel_21049/1516630067.py:9: SettingWithCopyWarning: \n",
      "A value is trying to be set on a copy of a slice from a DataFrame.\n",
      "Try using .loc[row_indexer,col_indexer] = value instead\n",
      "\n",
      "See the caveats in the documentation: https://pandas.pydata.org/pandas-docs/stable/user_guide/indexing.html#returning-a-view-versus-a-copy\n",
      "  df_vqa[\"update_time\"] = update_time()\n"
     ]
    },
    {
     "name": "stdout",
     "output_type": "stream",
     "text": [
      "SAVE index chunk : ag060811-378090001\n",
      "save_bq\n"
     ]
    },
    {
     "name": "stderr",
     "output_type": "stream",
     "text": [
      "100%|██████████| 1/1 [00:00<00:00, 8848.74it/s]\n"
     ]
    },
    {
     "name": "stdout",
     "output_type": "stream",
     "text": [
      "ag060811-378090001\n"
     ]
    },
    {
     "name": "stderr",
     "output_type": "stream",
     "text": [
      "/var/folders/2_/jl1djv6975g5c0pygxnl873w00pwkm/T/ipykernel_21049/4080904126.py:9: SettingWithCopyWarning: \n",
      "A value is trying to be set on a copy of a slice from a DataFrame.\n",
      "Try using .loc[row_indexer,col_indexer] = value instead\n",
      "\n",
      "See the caveats in the documentation: https://pandas.pydata.org/pandas-docs/stable/user_guide/indexing.html#returning-a-view-versus-a-copy\n",
      "  df[f'caption_{language}' ] = df.uri.map(lambda uri_name:\n",
      "/var/folders/2_/jl1djv6975g5c0pygxnl873w00pwkm/T/ipykernel_21049/4080904126.py:9: SettingWithCopyWarning: \n",
      "A value is trying to be set on a copy of a slice from a DataFrame.\n",
      "Try using .loc[row_indexer,col_indexer] = value instead\n",
      "\n",
      "See the caveats in the documentation: https://pandas.pydata.org/pandas-docs/stable/user_guide/indexing.html#returning-a-view-versus-a-copy\n",
      "  df[f'caption_{language}' ] = df.uri.map(lambda uri_name:\n",
      "/var/folders/2_/jl1djv6975g5c0pygxnl873w00pwkm/T/ipykernel_21049/1516630067.py:9: SettingWithCopyWarning: \n",
      "A value is trying to be set on a copy of a slice from a DataFrame.\n",
      "Try using .loc[row_indexer,col_indexer] = value instead\n",
      "\n",
      "See the caveats in the documentation: https://pandas.pydata.org/pandas-docs/stable/user_guide/indexing.html#returning-a-view-versus-a-copy\n",
      "  df_vqa[\"update_time\"] = update_time()\n"
     ]
    },
    {
     "name": "stdout",
     "output_type": "stream",
     "text": [
      "SAVE index chunk : ag060811-378090001\n",
      "save_bq\n"
     ]
    },
    {
     "name": "stderr",
     "output_type": "stream",
     "text": [
      "100%|██████████| 1/1 [00:00<00:00, 3313.04it/s]\n"
     ]
    },
    {
     "name": "stdout",
     "output_type": "stream",
     "text": [
      "ag060811-378090001\n"
     ]
    },
    {
     "name": "stderr",
     "output_type": "stream",
     "text": [
      "/var/folders/2_/jl1djv6975g5c0pygxnl873w00pwkm/T/ipykernel_21049/4080904126.py:9: SettingWithCopyWarning: \n",
      "A value is trying to be set on a copy of a slice from a DataFrame.\n",
      "Try using .loc[row_indexer,col_indexer] = value instead\n",
      "\n",
      "See the caveats in the documentation: https://pandas.pydata.org/pandas-docs/stable/user_guide/indexing.html#returning-a-view-versus-a-copy\n",
      "  df[f'caption_{language}' ] = df.uri.map(lambda uri_name:\n"
     ]
    },
    {
     "name": "stdout",
     "output_type": "stream",
     "text": [
      "<Response [503]>\n"
     ]
    },
    {
     "name": "stderr",
     "output_type": "stream",
     "text": [
      "/var/folders/2_/jl1djv6975g5c0pygxnl873w00pwkm/T/ipykernel_21049/4080904126.py:9: SettingWithCopyWarning: \n",
      "A value is trying to be set on a copy of a slice from a DataFrame.\n",
      "Try using .loc[row_indexer,col_indexer] = value instead\n",
      "\n",
      "See the caveats in the documentation: https://pandas.pydata.org/pandas-docs/stable/user_guide/indexing.html#returning-a-view-versus-a-copy\n",
      "  df[f'caption_{language}' ] = df.uri.map(lambda uri_name:\n",
      "/var/folders/2_/jl1djv6975g5c0pygxnl873w00pwkm/T/ipykernel_21049/1516630067.py:9: SettingWithCopyWarning: \n",
      "A value is trying to be set on a copy of a slice from a DataFrame.\n",
      "Try using .loc[row_indexer,col_indexer] = value instead\n",
      "\n",
      "See the caveats in the documentation: https://pandas.pydata.org/pandas-docs/stable/user_guide/indexing.html#returning-a-view-versus-a-copy\n",
      "  df_vqa[\"update_time\"] = update_time()\n"
     ]
    },
    {
     "name": "stdout",
     "output_type": "stream",
     "text": [
      "SAVE index chunk : ag060811-378090001\n",
      "save_bq\n"
     ]
    },
    {
     "name": "stderr",
     "output_type": "stream",
     "text": [
      "100%|██████████| 1/1 [00:00<00:00, 7397.36it/s]\n"
     ]
    },
    {
     "name": "stdout",
     "output_type": "stream",
     "text": [
      "ag060811-378090001\n"
     ]
    },
    {
     "name": "stderr",
     "output_type": "stream",
     "text": [
      "/var/folders/2_/jl1djv6975g5c0pygxnl873w00pwkm/T/ipykernel_21049/4080904126.py:9: SettingWithCopyWarning: \n",
      "A value is trying to be set on a copy of a slice from a DataFrame.\n",
      "Try using .loc[row_indexer,col_indexer] = value instead\n",
      "\n",
      "See the caveats in the documentation: https://pandas.pydata.org/pandas-docs/stable/user_guide/indexing.html#returning-a-view-versus-a-copy\n",
      "  df[f'caption_{language}' ] = df.uri.map(lambda uri_name:\n",
      "/var/folders/2_/jl1djv6975g5c0pygxnl873w00pwkm/T/ipykernel_21049/4080904126.py:9: SettingWithCopyWarning: \n",
      "A value is trying to be set on a copy of a slice from a DataFrame.\n",
      "Try using .loc[row_indexer,col_indexer] = value instead\n",
      "\n",
      "See the caveats in the documentation: https://pandas.pydata.org/pandas-docs/stable/user_guide/indexing.html#returning-a-view-versus-a-copy\n",
      "  df[f'caption_{language}' ] = df.uri.map(lambda uri_name:\n",
      "/var/folders/2_/jl1djv6975g5c0pygxnl873w00pwkm/T/ipykernel_21049/1516630067.py:9: SettingWithCopyWarning: \n",
      "A value is trying to be set on a copy of a slice from a DataFrame.\n",
      "Try using .loc[row_indexer,col_indexer] = value instead\n",
      "\n",
      "See the caveats in the documentation: https://pandas.pydata.org/pandas-docs/stable/user_guide/indexing.html#returning-a-view-versus-a-copy\n",
      "  df_vqa[\"update_time\"] = update_time()\n"
     ]
    },
    {
     "name": "stdout",
     "output_type": "stream",
     "text": [
      "SAVE index chunk : ag060811-378090001\n",
      "save_bq\n"
     ]
    },
    {
     "name": "stderr",
     "output_type": "stream",
     "text": [
      "100%|██████████| 1/1 [00:00<00:00, 14266.34it/s]\n"
     ]
    },
    {
     "name": "stdout",
     "output_type": "stream",
     "text": [
      "ag060811-378090001\n"
     ]
    },
    {
     "name": "stderr",
     "output_type": "stream",
     "text": [
      "/var/folders/2_/jl1djv6975g5c0pygxnl873w00pwkm/T/ipykernel_21049/4080904126.py:9: SettingWithCopyWarning: \n",
      "A value is trying to be set on a copy of a slice from a DataFrame.\n",
      "Try using .loc[row_indexer,col_indexer] = value instead\n",
      "\n",
      "See the caveats in the documentation: https://pandas.pydata.org/pandas-docs/stable/user_guide/indexing.html#returning-a-view-versus-a-copy\n",
      "  df[f'caption_{language}' ] = df.uri.map(lambda uri_name:\n",
      "/var/folders/2_/jl1djv6975g5c0pygxnl873w00pwkm/T/ipykernel_21049/4080904126.py:9: SettingWithCopyWarning: \n",
      "A value is trying to be set on a copy of a slice from a DataFrame.\n",
      "Try using .loc[row_indexer,col_indexer] = value instead\n",
      "\n",
      "See the caveats in the documentation: https://pandas.pydata.org/pandas-docs/stable/user_guide/indexing.html#returning-a-view-versus-a-copy\n",
      "  df[f'caption_{language}' ] = df.uri.map(lambda uri_name:\n",
      "/var/folders/2_/jl1djv6975g5c0pygxnl873w00pwkm/T/ipykernel_21049/1516630067.py:9: SettingWithCopyWarning: \n",
      "A value is trying to be set on a copy of a slice from a DataFrame.\n",
      "Try using .loc[row_indexer,col_indexer] = value instead\n",
      "\n",
      "See the caveats in the documentation: https://pandas.pydata.org/pandas-docs/stable/user_guide/indexing.html#returning-a-view-versus-a-copy\n",
      "  df_vqa[\"update_time\"] = update_time()\n"
     ]
    },
    {
     "name": "stdout",
     "output_type": "stream",
     "text": [
      "SAVE index chunk : ag060811-378090001\n",
      "save_bq\n"
     ]
    },
    {
     "name": "stderr",
     "output_type": "stream",
     "text": [
      "100%|██████████| 1/1 [00:00<00:00, 10837.99it/s]\n"
     ]
    },
    {
     "name": "stdout",
     "output_type": "stream",
     "text": [
      "ag060811-378090001\n"
     ]
    },
    {
     "name": "stderr",
     "output_type": "stream",
     "text": [
      "/var/folders/2_/jl1djv6975g5c0pygxnl873w00pwkm/T/ipykernel_21049/4080904126.py:9: SettingWithCopyWarning: \n",
      "A value is trying to be set on a copy of a slice from a DataFrame.\n",
      "Try using .loc[row_indexer,col_indexer] = value instead\n",
      "\n",
      "See the caveats in the documentation: https://pandas.pydata.org/pandas-docs/stable/user_guide/indexing.html#returning-a-view-versus-a-copy\n",
      "  df[f'caption_{language}' ] = df.uri.map(lambda uri_name:\n",
      "/var/folders/2_/jl1djv6975g5c0pygxnl873w00pwkm/T/ipykernel_21049/4080904126.py:9: SettingWithCopyWarning: \n",
      "A value is trying to be set on a copy of a slice from a DataFrame.\n",
      "Try using .loc[row_indexer,col_indexer] = value instead\n",
      "\n",
      "See the caveats in the documentation: https://pandas.pydata.org/pandas-docs/stable/user_guide/indexing.html#returning-a-view-versus-a-copy\n",
      "  df[f'caption_{language}' ] = df.uri.map(lambda uri_name:\n",
      "/var/folders/2_/jl1djv6975g5c0pygxnl873w00pwkm/T/ipykernel_21049/1516630067.py:9: SettingWithCopyWarning: \n",
      "A value is trying to be set on a copy of a slice from a DataFrame.\n",
      "Try using .loc[row_indexer,col_indexer] = value instead\n",
      "\n",
      "See the caveats in the documentation: https://pandas.pydata.org/pandas-docs/stable/user_guide/indexing.html#returning-a-view-versus-a-copy\n",
      "  df_vqa[\"update_time\"] = update_time()\n"
     ]
    },
    {
     "name": "stdout",
     "output_type": "stream",
     "text": [
      "SAVE index chunk : ag060811-378090001\n",
      "save_bq\n"
     ]
    },
    {
     "name": "stderr",
     "output_type": "stream",
     "text": [
      "100%|██████████| 1/1 [00:00<00:00, 12087.33it/s]\n"
     ]
    },
    {
     "name": "stdout",
     "output_type": "stream",
     "text": [
      "ag060811-378090001\n"
     ]
    },
    {
     "name": "stderr",
     "output_type": "stream",
     "text": [
      "/var/folders/2_/jl1djv6975g5c0pygxnl873w00pwkm/T/ipykernel_21049/4080904126.py:9: SettingWithCopyWarning: \n",
      "A value is trying to be set on a copy of a slice from a DataFrame.\n",
      "Try using .loc[row_indexer,col_indexer] = value instead\n",
      "\n",
      "See the caveats in the documentation: https://pandas.pydata.org/pandas-docs/stable/user_guide/indexing.html#returning-a-view-versus-a-copy\n",
      "  df[f'caption_{language}' ] = df.uri.map(lambda uri_name:\n",
      "/var/folders/2_/jl1djv6975g5c0pygxnl873w00pwkm/T/ipykernel_21049/4080904126.py:9: SettingWithCopyWarning: \n",
      "A value is trying to be set on a copy of a slice from a DataFrame.\n",
      "Try using .loc[row_indexer,col_indexer] = value instead\n",
      "\n",
      "See the caveats in the documentation: https://pandas.pydata.org/pandas-docs/stable/user_guide/indexing.html#returning-a-view-versus-a-copy\n",
      "  df[f'caption_{language}' ] = df.uri.map(lambda uri_name:\n",
      "/var/folders/2_/jl1djv6975g5c0pygxnl873w00pwkm/T/ipykernel_21049/1516630067.py:9: SettingWithCopyWarning: \n",
      "A value is trying to be set on a copy of a slice from a DataFrame.\n",
      "Try using .loc[row_indexer,col_indexer] = value instead\n",
      "\n",
      "See the caveats in the documentation: https://pandas.pydata.org/pandas-docs/stable/user_guide/indexing.html#returning-a-view-versus-a-copy\n",
      "  df_vqa[\"update_time\"] = update_time()\n"
     ]
    },
    {
     "name": "stdout",
     "output_type": "stream",
     "text": [
      "SAVE index chunk : ag060811-378090001\n",
      "save_bq\n"
     ]
    },
    {
     "name": "stderr",
     "output_type": "stream",
     "text": [
      "100%|██████████| 1/1 [00:00<00:00, 8322.03it/s]\n"
     ]
    },
    {
     "name": "stdout",
     "output_type": "stream",
     "text": [
      "ag060811-378090001\n"
     ]
    },
    {
     "name": "stderr",
     "output_type": "stream",
     "text": [
      "/var/folders/2_/jl1djv6975g5c0pygxnl873w00pwkm/T/ipykernel_21049/4080904126.py:9: SettingWithCopyWarning: \n",
      "A value is trying to be set on a copy of a slice from a DataFrame.\n",
      "Try using .loc[row_indexer,col_indexer] = value instead\n",
      "\n",
      "See the caveats in the documentation: https://pandas.pydata.org/pandas-docs/stable/user_guide/indexing.html#returning-a-view-versus-a-copy\n",
      "  df[f'caption_{language}' ] = df.uri.map(lambda uri_name:\n",
      "/var/folders/2_/jl1djv6975g5c0pygxnl873w00pwkm/T/ipykernel_21049/4080904126.py:9: SettingWithCopyWarning: \n",
      "A value is trying to be set on a copy of a slice from a DataFrame.\n",
      "Try using .loc[row_indexer,col_indexer] = value instead\n",
      "\n",
      "See the caveats in the documentation: https://pandas.pydata.org/pandas-docs/stable/user_guide/indexing.html#returning-a-view-versus-a-copy\n",
      "  df[f'caption_{language}' ] = df.uri.map(lambda uri_name:\n",
      "/var/folders/2_/jl1djv6975g5c0pygxnl873w00pwkm/T/ipykernel_21049/1516630067.py:9: SettingWithCopyWarning: \n",
      "A value is trying to be set on a copy of a slice from a DataFrame.\n",
      "Try using .loc[row_indexer,col_indexer] = value instead\n",
      "\n",
      "See the caveats in the documentation: https://pandas.pydata.org/pandas-docs/stable/user_guide/indexing.html#returning-a-view-versus-a-copy\n",
      "  df_vqa[\"update_time\"] = update_time()\n"
     ]
    },
    {
     "name": "stdout",
     "output_type": "stream",
     "text": [
      "SAVE index chunk : ag060811-378090001\n",
      "save_bq\n"
     ]
    },
    {
     "name": "stderr",
     "output_type": "stream",
     "text": [
      "100%|██████████| 1/1 [00:00<00:00, 7825.19it/s]\n"
     ]
    },
    {
     "name": "stdout",
     "output_type": "stream",
     "text": [
      "ag060811-378090001\n"
     ]
    },
    {
     "name": "stderr",
     "output_type": "stream",
     "text": [
      "/var/folders/2_/jl1djv6975g5c0pygxnl873w00pwkm/T/ipykernel_21049/4080904126.py:9: SettingWithCopyWarning: \n",
      "A value is trying to be set on a copy of a slice from a DataFrame.\n",
      "Try using .loc[row_indexer,col_indexer] = value instead\n",
      "\n",
      "See the caveats in the documentation: https://pandas.pydata.org/pandas-docs/stable/user_guide/indexing.html#returning-a-view-versus-a-copy\n",
      "  df[f'caption_{language}' ] = df.uri.map(lambda uri_name:\n",
      "/var/folders/2_/jl1djv6975g5c0pygxnl873w00pwkm/T/ipykernel_21049/4080904126.py:9: SettingWithCopyWarning: \n",
      "A value is trying to be set on a copy of a slice from a DataFrame.\n",
      "Try using .loc[row_indexer,col_indexer] = value instead\n",
      "\n",
      "See the caveats in the documentation: https://pandas.pydata.org/pandas-docs/stable/user_guide/indexing.html#returning-a-view-versus-a-copy\n",
      "  df[f'caption_{language}' ] = df.uri.map(lambda uri_name:\n",
      "/var/folders/2_/jl1djv6975g5c0pygxnl873w00pwkm/T/ipykernel_21049/1516630067.py:9: SettingWithCopyWarning: \n",
      "A value is trying to be set on a copy of a slice from a DataFrame.\n",
      "Try using .loc[row_indexer,col_indexer] = value instead\n",
      "\n",
      "See the caveats in the documentation: https://pandas.pydata.org/pandas-docs/stable/user_guide/indexing.html#returning-a-view-versus-a-copy\n",
      "  df_vqa[\"update_time\"] = update_time()\n"
     ]
    },
    {
     "name": "stdout",
     "output_type": "stream",
     "text": [
      "SAVE index chunk : ag060811-378090001\n",
      "save_bq\n"
     ]
    },
    {
     "name": "stderr",
     "output_type": "stream",
     "text": [
      "100%|██████████| 1/1 [00:00<00:00, 2551.28it/s]\n"
     ]
    },
    {
     "name": "stdout",
     "output_type": "stream",
     "text": [
      "ag060811-378090001\n"
     ]
    },
    {
     "name": "stderr",
     "output_type": "stream",
     "text": [
      "/var/folders/2_/jl1djv6975g5c0pygxnl873w00pwkm/T/ipykernel_21049/4080904126.py:9: SettingWithCopyWarning: \n",
      "A value is trying to be set on a copy of a slice from a DataFrame.\n",
      "Try using .loc[row_indexer,col_indexer] = value instead\n",
      "\n",
      "See the caveats in the documentation: https://pandas.pydata.org/pandas-docs/stable/user_guide/indexing.html#returning-a-view-versus-a-copy\n",
      "  df[f'caption_{language}' ] = df.uri.map(lambda uri_name:\n",
      "/var/folders/2_/jl1djv6975g5c0pygxnl873w00pwkm/T/ipykernel_21049/4080904126.py:9: SettingWithCopyWarning: \n",
      "A value is trying to be set on a copy of a slice from a DataFrame.\n",
      "Try using .loc[row_indexer,col_indexer] = value instead\n",
      "\n",
      "See the caveats in the documentation: https://pandas.pydata.org/pandas-docs/stable/user_guide/indexing.html#returning-a-view-versus-a-copy\n",
      "  df[f'caption_{language}' ] = df.uri.map(lambda uri_name:\n",
      "/var/folders/2_/jl1djv6975g5c0pygxnl873w00pwkm/T/ipykernel_21049/1516630067.py:9: SettingWithCopyWarning: \n",
      "A value is trying to be set on a copy of a slice from a DataFrame.\n",
      "Try using .loc[row_indexer,col_indexer] = value instead\n",
      "\n",
      "See the caveats in the documentation: https://pandas.pydata.org/pandas-docs/stable/user_guide/indexing.html#returning-a-view-versus-a-copy\n",
      "  df_vqa[\"update_time\"] = update_time()\n"
     ]
    },
    {
     "name": "stdout",
     "output_type": "stream",
     "text": [
      "SAVE index chunk : ag060811-378090001\n",
      "save_bq\n"
     ]
    },
    {
     "name": "stderr",
     "output_type": "stream",
     "text": [
      "100%|██████████| 1/1 [00:00<00:00, 7869.24it/s]\n"
     ]
    },
    {
     "name": "stdout",
     "output_type": "stream",
     "text": [
      "ag060811-378090001\n"
     ]
    },
    {
     "name": "stderr",
     "output_type": "stream",
     "text": [
      "/var/folders/2_/jl1djv6975g5c0pygxnl873w00pwkm/T/ipykernel_21049/4080904126.py:9: SettingWithCopyWarning: \n",
      "A value is trying to be set on a copy of a slice from a DataFrame.\n",
      "Try using .loc[row_indexer,col_indexer] = value instead\n",
      "\n",
      "See the caveats in the documentation: https://pandas.pydata.org/pandas-docs/stable/user_guide/indexing.html#returning-a-view-versus-a-copy\n",
      "  df[f'caption_{language}' ] = df.uri.map(lambda uri_name:\n",
      "/var/folders/2_/jl1djv6975g5c0pygxnl873w00pwkm/T/ipykernel_21049/4080904126.py:9: SettingWithCopyWarning: \n",
      "A value is trying to be set on a copy of a slice from a DataFrame.\n",
      "Try using .loc[row_indexer,col_indexer] = value instead\n",
      "\n",
      "See the caveats in the documentation: https://pandas.pydata.org/pandas-docs/stable/user_guide/indexing.html#returning-a-view-versus-a-copy\n",
      "  df[f'caption_{language}' ] = df.uri.map(lambda uri_name:\n",
      "/var/folders/2_/jl1djv6975g5c0pygxnl873w00pwkm/T/ipykernel_21049/1516630067.py:9: SettingWithCopyWarning: \n",
      "A value is trying to be set on a copy of a slice from a DataFrame.\n",
      "Try using .loc[row_indexer,col_indexer] = value instead\n",
      "\n",
      "See the caveats in the documentation: https://pandas.pydata.org/pandas-docs/stable/user_guide/indexing.html#returning-a-view-versus-a-copy\n",
      "  df_vqa[\"update_time\"] = update_time()\n"
     ]
    },
    {
     "name": "stdout",
     "output_type": "stream",
     "text": [
      "SAVE index chunk : ag060811-378090001\n",
      "save_bq\n"
     ]
    },
    {
     "name": "stderr",
     "output_type": "stream",
     "text": [
      "100%|██████████| 1/1 [00:00<00:00, 7037.42it/s]\n"
     ]
    },
    {
     "name": "stdout",
     "output_type": "stream",
     "text": [
      "ag060811-383081582\n"
     ]
    },
    {
     "name": "stderr",
     "output_type": "stream",
     "text": [
      "/var/folders/2_/jl1djv6975g5c0pygxnl873w00pwkm/T/ipykernel_21049/4080904126.py:9: SettingWithCopyWarning: \n",
      "A value is trying to be set on a copy of a slice from a DataFrame.\n",
      "Try using .loc[row_indexer,col_indexer] = value instead\n",
      "\n",
      "See the caveats in the documentation: https://pandas.pydata.org/pandas-docs/stable/user_guide/indexing.html#returning-a-view-versus-a-copy\n",
      "  df[f'caption_{language}' ] = df.uri.map(lambda uri_name:\n",
      "/var/folders/2_/jl1djv6975g5c0pygxnl873w00pwkm/T/ipykernel_21049/4080904126.py:9: SettingWithCopyWarning: \n",
      "A value is trying to be set on a copy of a slice from a DataFrame.\n",
      "Try using .loc[row_indexer,col_indexer] = value instead\n",
      "\n",
      "See the caveats in the documentation: https://pandas.pydata.org/pandas-docs/stable/user_guide/indexing.html#returning-a-view-versus-a-copy\n",
      "  df[f'caption_{language}' ] = df.uri.map(lambda uri_name:\n",
      "/var/folders/2_/jl1djv6975g5c0pygxnl873w00pwkm/T/ipykernel_21049/1516630067.py:9: SettingWithCopyWarning: \n",
      "A value is trying to be set on a copy of a slice from a DataFrame.\n",
      "Try using .loc[row_indexer,col_indexer] = value instead\n",
      "\n",
      "See the caveats in the documentation: https://pandas.pydata.org/pandas-docs/stable/user_guide/indexing.html#returning-a-view-versus-a-copy\n",
      "  df_vqa[\"update_time\"] = update_time()\n"
     ]
    },
    {
     "name": "stdout",
     "output_type": "stream",
     "text": [
      "SAVE index chunk : ag060811-383081582\n",
      "save_bq\n"
     ]
    },
    {
     "name": "stderr",
     "output_type": "stream",
     "text": [
      "100%|██████████| 1/1 [00:00<00:00, 3292.23it/s]\n"
     ]
    },
    {
     "name": "stdout",
     "output_type": "stream",
     "text": [
      "ag060811-383081582\n"
     ]
    },
    {
     "name": "stderr",
     "output_type": "stream",
     "text": [
      "/var/folders/2_/jl1djv6975g5c0pygxnl873w00pwkm/T/ipykernel_21049/4080904126.py:9: SettingWithCopyWarning: \n",
      "A value is trying to be set on a copy of a slice from a DataFrame.\n",
      "Try using .loc[row_indexer,col_indexer] = value instead\n",
      "\n",
      "See the caveats in the documentation: https://pandas.pydata.org/pandas-docs/stable/user_guide/indexing.html#returning-a-view-versus-a-copy\n",
      "  df[f'caption_{language}' ] = df.uri.map(lambda uri_name:\n",
      "/var/folders/2_/jl1djv6975g5c0pygxnl873w00pwkm/T/ipykernel_21049/4080904126.py:9: SettingWithCopyWarning: \n",
      "A value is trying to be set on a copy of a slice from a DataFrame.\n",
      "Try using .loc[row_indexer,col_indexer] = value instead\n",
      "\n",
      "See the caveats in the documentation: https://pandas.pydata.org/pandas-docs/stable/user_guide/indexing.html#returning-a-view-versus-a-copy\n",
      "  df[f'caption_{language}' ] = df.uri.map(lambda uri_name:\n",
      "/var/folders/2_/jl1djv6975g5c0pygxnl873w00pwkm/T/ipykernel_21049/1516630067.py:9: SettingWithCopyWarning: \n",
      "A value is trying to be set on a copy of a slice from a DataFrame.\n",
      "Try using .loc[row_indexer,col_indexer] = value instead\n",
      "\n",
      "See the caveats in the documentation: https://pandas.pydata.org/pandas-docs/stable/user_guide/indexing.html#returning-a-view-versus-a-copy\n",
      "  df_vqa[\"update_time\"] = update_time()\n"
     ]
    },
    {
     "name": "stdout",
     "output_type": "stream",
     "text": [
      "SAVE index chunk : ag060811-383081582\n",
      "save_bq\n"
     ]
    },
    {
     "name": "stderr",
     "output_type": "stream",
     "text": [
      "100%|██████████| 1/1 [00:00<00:00, 6533.18it/s]\n"
     ]
    },
    {
     "name": "stdout",
     "output_type": "stream",
     "text": [
      "ag060811-383081582\n"
     ]
    },
    {
     "name": "stderr",
     "output_type": "stream",
     "text": [
      "/var/folders/2_/jl1djv6975g5c0pygxnl873w00pwkm/T/ipykernel_21049/4080904126.py:9: SettingWithCopyWarning: \n",
      "A value is trying to be set on a copy of a slice from a DataFrame.\n",
      "Try using .loc[row_indexer,col_indexer] = value instead\n",
      "\n",
      "See the caveats in the documentation: https://pandas.pydata.org/pandas-docs/stable/user_guide/indexing.html#returning-a-view-versus-a-copy\n",
      "  df[f'caption_{language}' ] = df.uri.map(lambda uri_name:\n",
      "/var/folders/2_/jl1djv6975g5c0pygxnl873w00pwkm/T/ipykernel_21049/4080904126.py:9: SettingWithCopyWarning: \n",
      "A value is trying to be set on a copy of a slice from a DataFrame.\n",
      "Try using .loc[row_indexer,col_indexer] = value instead\n",
      "\n",
      "See the caveats in the documentation: https://pandas.pydata.org/pandas-docs/stable/user_guide/indexing.html#returning-a-view-versus-a-copy\n",
      "  df[f'caption_{language}' ] = df.uri.map(lambda uri_name:\n",
      "/var/folders/2_/jl1djv6975g5c0pygxnl873w00pwkm/T/ipykernel_21049/1516630067.py:9: SettingWithCopyWarning: \n",
      "A value is trying to be set on a copy of a slice from a DataFrame.\n",
      "Try using .loc[row_indexer,col_indexer] = value instead\n",
      "\n",
      "See the caveats in the documentation: https://pandas.pydata.org/pandas-docs/stable/user_guide/indexing.html#returning-a-view-versus-a-copy\n",
      "  df_vqa[\"update_time\"] = update_time()\n"
     ]
    },
    {
     "name": "stdout",
     "output_type": "stream",
     "text": [
      "SAVE index chunk : ag060811-383081582\n",
      "save_bq\n"
     ]
    },
    {
     "name": "stderr",
     "output_type": "stream",
     "text": [
      "100%|██████████| 1/1 [00:00<00:00, 7358.43it/s]\n"
     ]
    },
    {
     "name": "stdout",
     "output_type": "stream",
     "text": [
      "ag060811-383081582\n"
     ]
    },
    {
     "name": "stderr",
     "output_type": "stream",
     "text": [
      "/var/folders/2_/jl1djv6975g5c0pygxnl873w00pwkm/T/ipykernel_21049/4080904126.py:9: SettingWithCopyWarning: \n",
      "A value is trying to be set on a copy of a slice from a DataFrame.\n",
      "Try using .loc[row_indexer,col_indexer] = value instead\n",
      "\n",
      "See the caveats in the documentation: https://pandas.pydata.org/pandas-docs/stable/user_guide/indexing.html#returning-a-view-versus-a-copy\n",
      "  df[f'caption_{language}' ] = df.uri.map(lambda uri_name:\n",
      "/var/folders/2_/jl1djv6975g5c0pygxnl873w00pwkm/T/ipykernel_21049/4080904126.py:9: SettingWithCopyWarning: \n",
      "A value is trying to be set on a copy of a slice from a DataFrame.\n",
      "Try using .loc[row_indexer,col_indexer] = value instead\n",
      "\n",
      "See the caveats in the documentation: https://pandas.pydata.org/pandas-docs/stable/user_guide/indexing.html#returning-a-view-versus-a-copy\n",
      "  df[f'caption_{language}' ] = df.uri.map(lambda uri_name:\n",
      "/var/folders/2_/jl1djv6975g5c0pygxnl873w00pwkm/T/ipykernel_21049/1516630067.py:9: SettingWithCopyWarning: \n",
      "A value is trying to be set on a copy of a slice from a DataFrame.\n",
      "Try using .loc[row_indexer,col_indexer] = value instead\n",
      "\n",
      "See the caveats in the documentation: https://pandas.pydata.org/pandas-docs/stable/user_guide/indexing.html#returning-a-view-versus-a-copy\n",
      "  df_vqa[\"update_time\"] = update_time()\n"
     ]
    },
    {
     "name": "stdout",
     "output_type": "stream",
     "text": [
      "SAVE index chunk : ag060811-383081582\n",
      "save_bq\n"
     ]
    },
    {
     "name": "stderr",
     "output_type": "stream",
     "text": [
      "100%|██████████| 1/1 [00:00<00:00, 22671.91it/s]\n"
     ]
    },
    {
     "name": "stdout",
     "output_type": "stream",
     "text": [
      "ag060811-383081582\n"
     ]
    },
    {
     "name": "stderr",
     "output_type": "stream",
     "text": [
      "/var/folders/2_/jl1djv6975g5c0pygxnl873w00pwkm/T/ipykernel_21049/4080904126.py:9: SettingWithCopyWarning: \n",
      "A value is trying to be set on a copy of a slice from a DataFrame.\n",
      "Try using .loc[row_indexer,col_indexer] = value instead\n",
      "\n",
      "See the caveats in the documentation: https://pandas.pydata.org/pandas-docs/stable/user_guide/indexing.html#returning-a-view-versus-a-copy\n",
      "  df[f'caption_{language}' ] = df.uri.map(lambda uri_name:\n",
      "/var/folders/2_/jl1djv6975g5c0pygxnl873w00pwkm/T/ipykernel_21049/4080904126.py:9: SettingWithCopyWarning: \n",
      "A value is trying to be set on a copy of a slice from a DataFrame.\n",
      "Try using .loc[row_indexer,col_indexer] = value instead\n",
      "\n",
      "See the caveats in the documentation: https://pandas.pydata.org/pandas-docs/stable/user_guide/indexing.html#returning-a-view-versus-a-copy\n",
      "  df[f'caption_{language}' ] = df.uri.map(lambda uri_name:\n",
      "/var/folders/2_/jl1djv6975g5c0pygxnl873w00pwkm/T/ipykernel_21049/1516630067.py:9: SettingWithCopyWarning: \n",
      "A value is trying to be set on a copy of a slice from a DataFrame.\n",
      "Try using .loc[row_indexer,col_indexer] = value instead\n",
      "\n",
      "See the caveats in the documentation: https://pandas.pydata.org/pandas-docs/stable/user_guide/indexing.html#returning-a-view-versus-a-copy\n",
      "  df_vqa[\"update_time\"] = update_time()\n"
     ]
    },
    {
     "name": "stdout",
     "output_type": "stream",
     "text": [
      "SAVE index chunk : ag060811-383081582\n",
      "save_bq\n"
     ]
    },
    {
     "name": "stderr",
     "output_type": "stream",
     "text": [
      "100%|██████████| 1/1 [00:00<00:00, 5377.31it/s]\n"
     ]
    },
    {
     "name": "stdout",
     "output_type": "stream",
     "text": [
      "ag060811-383081582\n"
     ]
    },
    {
     "name": "stderr",
     "output_type": "stream",
     "text": [
      "/var/folders/2_/jl1djv6975g5c0pygxnl873w00pwkm/T/ipykernel_21049/4080904126.py:9: SettingWithCopyWarning: \n",
      "A value is trying to be set on a copy of a slice from a DataFrame.\n",
      "Try using .loc[row_indexer,col_indexer] = value instead\n",
      "\n",
      "See the caveats in the documentation: https://pandas.pydata.org/pandas-docs/stable/user_guide/indexing.html#returning-a-view-versus-a-copy\n",
      "  df[f'caption_{language}' ] = df.uri.map(lambda uri_name:\n",
      "/var/folders/2_/jl1djv6975g5c0pygxnl873w00pwkm/T/ipykernel_21049/4080904126.py:9: SettingWithCopyWarning: \n",
      "A value is trying to be set on a copy of a slice from a DataFrame.\n",
      "Try using .loc[row_indexer,col_indexer] = value instead\n",
      "\n",
      "See the caveats in the documentation: https://pandas.pydata.org/pandas-docs/stable/user_guide/indexing.html#returning-a-view-versus-a-copy\n",
      "  df[f'caption_{language}' ] = df.uri.map(lambda uri_name:\n",
      "/var/folders/2_/jl1djv6975g5c0pygxnl873w00pwkm/T/ipykernel_21049/1516630067.py:9: SettingWithCopyWarning: \n",
      "A value is trying to be set on a copy of a slice from a DataFrame.\n",
      "Try using .loc[row_indexer,col_indexer] = value instead\n",
      "\n",
      "See the caveats in the documentation: https://pandas.pydata.org/pandas-docs/stable/user_guide/indexing.html#returning-a-view-versus-a-copy\n",
      "  df_vqa[\"update_time\"] = update_time()\n"
     ]
    },
    {
     "name": "stdout",
     "output_type": "stream",
     "text": [
      "SAVE index chunk : ag060811-383081582\n",
      "save_bq\n"
     ]
    },
    {
     "name": "stderr",
     "output_type": "stream",
     "text": [
      "100%|██████████| 1/1 [00:00<00:00, 7096.96it/s]\n"
     ]
    },
    {
     "name": "stdout",
     "output_type": "stream",
     "text": [
      "ag060811-383081582\n"
     ]
    },
    {
     "name": "stderr",
     "output_type": "stream",
     "text": [
      "/var/folders/2_/jl1djv6975g5c0pygxnl873w00pwkm/T/ipykernel_21049/4080904126.py:9: SettingWithCopyWarning: \n",
      "A value is trying to be set on a copy of a slice from a DataFrame.\n",
      "Try using .loc[row_indexer,col_indexer] = value instead\n",
      "\n",
      "See the caveats in the documentation: https://pandas.pydata.org/pandas-docs/stable/user_guide/indexing.html#returning-a-view-versus-a-copy\n",
      "  df[f'caption_{language}' ] = df.uri.map(lambda uri_name:\n",
      "/var/folders/2_/jl1djv6975g5c0pygxnl873w00pwkm/T/ipykernel_21049/4080904126.py:9: SettingWithCopyWarning: \n",
      "A value is trying to be set on a copy of a slice from a DataFrame.\n",
      "Try using .loc[row_indexer,col_indexer] = value instead\n",
      "\n",
      "See the caveats in the documentation: https://pandas.pydata.org/pandas-docs/stable/user_guide/indexing.html#returning-a-view-versus-a-copy\n",
      "  df[f'caption_{language}' ] = df.uri.map(lambda uri_name:\n",
      "/var/folders/2_/jl1djv6975g5c0pygxnl873w00pwkm/T/ipykernel_21049/1516630067.py:9: SettingWithCopyWarning: \n",
      "A value is trying to be set on a copy of a slice from a DataFrame.\n",
      "Try using .loc[row_indexer,col_indexer] = value instead\n",
      "\n",
      "See the caveats in the documentation: https://pandas.pydata.org/pandas-docs/stable/user_guide/indexing.html#returning-a-view-versus-a-copy\n",
      "  df_vqa[\"update_time\"] = update_time()\n"
     ]
    },
    {
     "name": "stdout",
     "output_type": "stream",
     "text": [
      "SAVE index chunk : ag060811-383081582\n",
      "save_bq\n"
     ]
    },
    {
     "name": "stderr",
     "output_type": "stream",
     "text": [
      "100%|██████████| 1/1 [00:00<00:00, 12826.62it/s]\n"
     ]
    },
    {
     "name": "stdout",
     "output_type": "stream",
     "text": [
      "ag060811-383081582\n"
     ]
    },
    {
     "name": "stderr",
     "output_type": "stream",
     "text": [
      "/var/folders/2_/jl1djv6975g5c0pygxnl873w00pwkm/T/ipykernel_21049/4080904126.py:9: SettingWithCopyWarning: \n",
      "A value is trying to be set on a copy of a slice from a DataFrame.\n",
      "Try using .loc[row_indexer,col_indexer] = value instead\n",
      "\n",
      "See the caveats in the documentation: https://pandas.pydata.org/pandas-docs/stable/user_guide/indexing.html#returning-a-view-versus-a-copy\n",
      "  df[f'caption_{language}' ] = df.uri.map(lambda uri_name:\n",
      "/var/folders/2_/jl1djv6975g5c0pygxnl873w00pwkm/T/ipykernel_21049/4080904126.py:9: SettingWithCopyWarning: \n",
      "A value is trying to be set on a copy of a slice from a DataFrame.\n",
      "Try using .loc[row_indexer,col_indexer] = value instead\n",
      "\n",
      "See the caveats in the documentation: https://pandas.pydata.org/pandas-docs/stable/user_guide/indexing.html#returning-a-view-versus-a-copy\n",
      "  df[f'caption_{language}' ] = df.uri.map(lambda uri_name:\n",
      "/var/folders/2_/jl1djv6975g5c0pygxnl873w00pwkm/T/ipykernel_21049/1516630067.py:9: SettingWithCopyWarning: \n",
      "A value is trying to be set on a copy of a slice from a DataFrame.\n",
      "Try using .loc[row_indexer,col_indexer] = value instead\n",
      "\n",
      "See the caveats in the documentation: https://pandas.pydata.org/pandas-docs/stable/user_guide/indexing.html#returning-a-view-versus-a-copy\n",
      "  df_vqa[\"update_time\"] = update_time()\n"
     ]
    },
    {
     "name": "stdout",
     "output_type": "stream",
     "text": [
      "SAVE index chunk : ag060811-383081582\n",
      "save_bq\n"
     ]
    },
    {
     "name": "stderr",
     "output_type": "stream",
     "text": [
      "100%|██████████| 1/1 [00:00<00:00, 30393.51it/s]\n"
     ]
    },
    {
     "name": "stdout",
     "output_type": "stream",
     "text": [
      "ag060811-383081582\n",
      "<Response [401]>\n",
      "<Response [401]>\n",
      "<Response [401]>\n",
      "<Response [401]>\n",
      "<Response [401]>\n",
      "<Response [401]>\n",
      "<Response [401]>\n",
      "<Response [401]>\n"
     ]
    },
    {
     "name": "stderr",
     "output_type": "stream",
     "text": [
      "/var/folders/2_/jl1djv6975g5c0pygxnl873w00pwkm/T/ipykernel_21049/4080904126.py:9: SettingWithCopyWarning: \n",
      "A value is trying to be set on a copy of a slice from a DataFrame.\n",
      "Try using .loc[row_indexer,col_indexer] = value instead\n",
      "\n",
      "See the caveats in the documentation: https://pandas.pydata.org/pandas-docs/stable/user_guide/indexing.html#returning-a-view-versus-a-copy\n",
      "  df[f'caption_{language}' ] = df.uri.map(lambda uri_name:\n"
     ]
    },
    {
     "name": "stdout",
     "output_type": "stream",
     "text": [
      "<Response [401]>\n",
      "<Response [401]>\n",
      "<Response [401]>\n",
      "<Response [401]>\n",
      "<Response [401]>\n",
      "<Response [401]>\n",
      "<Response [401]>\n",
      "<Response [401]>\n",
      "<Response [401]>\n",
      "<Response [401]>\n",
      "<Response [401]>\n",
      "<Response [401]>\n",
      "<Response [401]>\n",
      "SAVE index chunk : ag060811-383081582\n",
      "save_bq\n"
     ]
    },
    {
     "name": "stderr",
     "output_type": "stream",
     "text": [
      "/var/folders/2_/jl1djv6975g5c0pygxnl873w00pwkm/T/ipykernel_21049/4080904126.py:9: SettingWithCopyWarning: \n",
      "A value is trying to be set on a copy of a slice from a DataFrame.\n",
      "Try using .loc[row_indexer,col_indexer] = value instead\n",
      "\n",
      "See the caveats in the documentation: https://pandas.pydata.org/pandas-docs/stable/user_guide/indexing.html#returning-a-view-versus-a-copy\n",
      "  df[f'caption_{language}' ] = df.uri.map(lambda uri_name:\n",
      "/var/folders/2_/jl1djv6975g5c0pygxnl873w00pwkm/T/ipykernel_21049/1516630067.py:9: SettingWithCopyWarning: \n",
      "A value is trying to be set on a copy of a slice from a DataFrame.\n",
      "Try using .loc[row_indexer,col_indexer] = value instead\n",
      "\n",
      "See the caveats in the documentation: https://pandas.pydata.org/pandas-docs/stable/user_guide/indexing.html#returning-a-view-versus-a-copy\n",
      "  df_vqa[\"update_time\"] = update_time()\n",
      "100%|██████████| 1/1 [00:00<00:00, 5584.96it/s]\n"
     ]
    },
    {
     "name": "stdout",
     "output_type": "stream",
     "text": [
      "ag060811-383081582\n",
      "<Response [401]>\n",
      "<Response [401]>\n",
      "<Response [401]>\n",
      "<Response [401]>\n",
      "<Response [401]>\n",
      "<Response [401]>\n",
      "<Response [401]>\n",
      "<Response [401]>\n",
      "<Response [401]>\n",
      "<Response [401]>\n",
      "<Response [401]>\n",
      "<Response [401]>\n",
      "<Response [401]>\n",
      "<Response [401]>\n"
     ]
    },
    {
     "name": "stderr",
     "output_type": "stream",
     "text": [
      "/var/folders/2_/jl1djv6975g5c0pygxnl873w00pwkm/T/ipykernel_21049/4080904126.py:9: SettingWithCopyWarning: \n",
      "A value is trying to be set on a copy of a slice from a DataFrame.\n",
      "Try using .loc[row_indexer,col_indexer] = value instead\n",
      "\n",
      "See the caveats in the documentation: https://pandas.pydata.org/pandas-docs/stable/user_guide/indexing.html#returning-a-view-versus-a-copy\n",
      "  df[f'caption_{language}' ] = df.uri.map(lambda uri_name:\n"
     ]
    },
    {
     "name": "stdout",
     "output_type": "stream",
     "text": [
      "<Response [401]>\n",
      "<Response [401]>\n",
      "<Response [401]>\n",
      "<Response [401]>\n",
      "<Response [401]>\n",
      "<Response [401]>\n",
      "<Response [401]>\n",
      "<Response [401]>\n",
      "<Response [401]>\n",
      "<Response [401]>\n",
      "<Response [401]>\n",
      "<Response [401]>\n",
      "<Response [401]>\n",
      "<Response [401]>\n",
      "SAVE index chunk : ag060811-383081582\n",
      "save_bq\n"
     ]
    },
    {
     "name": "stderr",
     "output_type": "stream",
     "text": [
      "/var/folders/2_/jl1djv6975g5c0pygxnl873w00pwkm/T/ipykernel_21049/4080904126.py:9: SettingWithCopyWarning: \n",
      "A value is trying to be set on a copy of a slice from a DataFrame.\n",
      "Try using .loc[row_indexer,col_indexer] = value instead\n",
      "\n",
      "See the caveats in the documentation: https://pandas.pydata.org/pandas-docs/stable/user_guide/indexing.html#returning-a-view-versus-a-copy\n",
      "  df[f'caption_{language}' ] = df.uri.map(lambda uri_name:\n",
      "/var/folders/2_/jl1djv6975g5c0pygxnl873w00pwkm/T/ipykernel_21049/1516630067.py:9: SettingWithCopyWarning: \n",
      "A value is trying to be set on a copy of a slice from a DataFrame.\n",
      "Try using .loc[row_indexer,col_indexer] = value instead\n",
      "\n",
      "See the caveats in the documentation: https://pandas.pydata.org/pandas-docs/stable/user_guide/indexing.html#returning-a-view-versus-a-copy\n",
      "  df_vqa[\"update_time\"] = update_time()\n",
      "100%|██████████| 1/1 [00:00<00:00, 6808.94it/s]\n"
     ]
    },
    {
     "name": "stdout",
     "output_type": "stream",
     "text": [
      "ag060811-383081582\n",
      "<Response [401]>\n",
      "<Response [401]>\n",
      "<Response [401]>\n",
      "<Response [401]>\n",
      "<Response [401]>\n",
      "<Response [401]>\n",
      "<Response [401]>\n",
      "<Response [401]>\n",
      "<Response [401]>\n",
      "<Response [401]>\n",
      "<Response [401]>\n",
      "<Response [401]>\n",
      "<Response [401]>\n",
      "<Response [401]>\n"
     ]
    },
    {
     "name": "stderr",
     "output_type": "stream",
     "text": [
      "/var/folders/2_/jl1djv6975g5c0pygxnl873w00pwkm/T/ipykernel_21049/4080904126.py:9: SettingWithCopyWarning: \n",
      "A value is trying to be set on a copy of a slice from a DataFrame.\n",
      "Try using .loc[row_indexer,col_indexer] = value instead\n",
      "\n",
      "See the caveats in the documentation: https://pandas.pydata.org/pandas-docs/stable/user_guide/indexing.html#returning-a-view-versus-a-copy\n",
      "  df[f'caption_{language}' ] = df.uri.map(lambda uri_name:\n"
     ]
    },
    {
     "name": "stdout",
     "output_type": "stream",
     "text": [
      "<Response [401]>\n",
      "<Response [401]>\n",
      "<Response [401]>\n",
      "<Response [401]>\n",
      "<Response [401]>\n",
      "<Response [401]>\n",
      "<Response [401]>\n",
      "<Response [401]>\n",
      "<Response [401]>\n",
      "<Response [401]>\n",
      "<Response [401]>\n",
      "<Response [401]>\n",
      "<Response [401]>\n",
      "<Response [401]>\n",
      "SAVE index chunk : ag060811-383081582\n",
      "save_bq\n"
     ]
    },
    {
     "name": "stderr",
     "output_type": "stream",
     "text": [
      "/var/folders/2_/jl1djv6975g5c0pygxnl873w00pwkm/T/ipykernel_21049/4080904126.py:9: SettingWithCopyWarning: \n",
      "A value is trying to be set on a copy of a slice from a DataFrame.\n",
      "Try using .loc[row_indexer,col_indexer] = value instead\n",
      "\n",
      "See the caveats in the documentation: https://pandas.pydata.org/pandas-docs/stable/user_guide/indexing.html#returning-a-view-versus-a-copy\n",
      "  df[f'caption_{language}' ] = df.uri.map(lambda uri_name:\n",
      "/var/folders/2_/jl1djv6975g5c0pygxnl873w00pwkm/T/ipykernel_21049/1516630067.py:9: SettingWithCopyWarning: \n",
      "A value is trying to be set on a copy of a slice from a DataFrame.\n",
      "Try using .loc[row_indexer,col_indexer] = value instead\n",
      "\n",
      "See the caveats in the documentation: https://pandas.pydata.org/pandas-docs/stable/user_guide/indexing.html#returning-a-view-versus-a-copy\n",
      "  df_vqa[\"update_time\"] = update_time()\n",
      "100%|██████████| 1/1 [00:00<00:00, 11335.96it/s]\n"
     ]
    },
    {
     "name": "stdout",
     "output_type": "stream",
     "text": [
      "ag060811-383081582\n",
      "<Response [401]>\n",
      "<Response [401]>\n",
      "<Response [401]>\n",
      "<Response [401]>\n",
      "<Response [401]>\n",
      "<Response [401]>\n",
      "<Response [401]>\n",
      "<Response [401]>\n",
      "<Response [401]>\n",
      "<Response [401]>\n",
      "<Response [401]>\n",
      "<Response [401]>\n",
      "<Response [401]>\n",
      "<Response [401]>\n"
     ]
    },
    {
     "name": "stderr",
     "output_type": "stream",
     "text": [
      "/var/folders/2_/jl1djv6975g5c0pygxnl873w00pwkm/T/ipykernel_21049/4080904126.py:9: SettingWithCopyWarning: \n",
      "A value is trying to be set on a copy of a slice from a DataFrame.\n",
      "Try using .loc[row_indexer,col_indexer] = value instead\n",
      "\n",
      "See the caveats in the documentation: https://pandas.pydata.org/pandas-docs/stable/user_guide/indexing.html#returning-a-view-versus-a-copy\n",
      "  df[f'caption_{language}' ] = df.uri.map(lambda uri_name:\n"
     ]
    },
    {
     "name": "stdout",
     "output_type": "stream",
     "text": [
      "<Response [401]>\n",
      "<Response [401]>\n",
      "<Response [401]>\n",
      "<Response [401]>\n",
      "<Response [401]>\n",
      "<Response [401]>\n",
      "<Response [401]>\n",
      "<Response [401]>\n",
      "<Response [401]>\n",
      "<Response [401]>\n",
      "<Response [401]>\n",
      "<Response [401]>\n",
      "<Response [401]>\n",
      "<Response [401]>\n",
      "SAVE index chunk : ag060811-383081582\n",
      "save_bq\n"
     ]
    },
    {
     "name": "stderr",
     "output_type": "stream",
     "text": [
      "/var/folders/2_/jl1djv6975g5c0pygxnl873w00pwkm/T/ipykernel_21049/4080904126.py:9: SettingWithCopyWarning: \n",
      "A value is trying to be set on a copy of a slice from a DataFrame.\n",
      "Try using .loc[row_indexer,col_indexer] = value instead\n",
      "\n",
      "See the caveats in the documentation: https://pandas.pydata.org/pandas-docs/stable/user_guide/indexing.html#returning-a-view-versus-a-copy\n",
      "  df[f'caption_{language}' ] = df.uri.map(lambda uri_name:\n",
      "/var/folders/2_/jl1djv6975g5c0pygxnl873w00pwkm/T/ipykernel_21049/1516630067.py:9: SettingWithCopyWarning: \n",
      "A value is trying to be set on a copy of a slice from a DataFrame.\n",
      "Try using .loc[row_indexer,col_indexer] = value instead\n",
      "\n",
      "See the caveats in the documentation: https://pandas.pydata.org/pandas-docs/stable/user_guide/indexing.html#returning-a-view-versus-a-copy\n",
      "  df_vqa[\"update_time\"] = update_time()\n",
      "100%|██████████| 1/1 [00:00<00:00, 7157.52it/s]\n"
     ]
    },
    {
     "name": "stdout",
     "output_type": "stream",
     "text": [
      "ag060811-383081582\n",
      "<Response [401]>\n",
      "<Response [401]>\n",
      "<Response [401]>\n",
      "<Response [401]>\n",
      "<Response [401]>\n",
      "<Response [401]>\n",
      "<Response [401]>\n",
      "<Response [401]>\n",
      "<Response [401]>\n",
      "<Response [401]>\n",
      "<Response [401]>\n",
      "<Response [401]>\n",
      "<Response [401]>\n",
      "<Response [401]>\n"
     ]
    },
    {
     "name": "stderr",
     "output_type": "stream",
     "text": [
      "/var/folders/2_/jl1djv6975g5c0pygxnl873w00pwkm/T/ipykernel_21049/4080904126.py:9: SettingWithCopyWarning: \n",
      "A value is trying to be set on a copy of a slice from a DataFrame.\n",
      "Try using .loc[row_indexer,col_indexer] = value instead\n",
      "\n",
      "See the caveats in the documentation: https://pandas.pydata.org/pandas-docs/stable/user_guide/indexing.html#returning-a-view-versus-a-copy\n",
      "  df[f'caption_{language}' ] = df.uri.map(lambda uri_name:\n"
     ]
    },
    {
     "name": "stdout",
     "output_type": "stream",
     "text": [
      "<Response [401]>\n",
      "<Response [401]>\n",
      "<Response [401]>\n",
      "<Response [401]>\n",
      "<Response [401]>\n",
      "<Response [401]>\n",
      "<Response [401]>\n",
      "<Response [401]>\n",
      "<Response [401]>\n",
      "<Response [401]>\n",
      "<Response [401]>\n",
      "<Response [401]>\n",
      "<Response [401]>\n",
      "<Response [401]>\n",
      "SAVE index chunk : ag060811-383081582\n",
      "save_bq\n"
     ]
    },
    {
     "name": "stderr",
     "output_type": "stream",
     "text": [
      "/var/folders/2_/jl1djv6975g5c0pygxnl873w00pwkm/T/ipykernel_21049/4080904126.py:9: SettingWithCopyWarning: \n",
      "A value is trying to be set on a copy of a slice from a DataFrame.\n",
      "Try using .loc[row_indexer,col_indexer] = value instead\n",
      "\n",
      "See the caveats in the documentation: https://pandas.pydata.org/pandas-docs/stable/user_guide/indexing.html#returning-a-view-versus-a-copy\n",
      "  df[f'caption_{language}' ] = df.uri.map(lambda uri_name:\n",
      "/var/folders/2_/jl1djv6975g5c0pygxnl873w00pwkm/T/ipykernel_21049/1516630067.py:9: SettingWithCopyWarning: \n",
      "A value is trying to be set on a copy of a slice from a DataFrame.\n",
      "Try using .loc[row_indexer,col_indexer] = value instead\n",
      "\n",
      "See the caveats in the documentation: https://pandas.pydata.org/pandas-docs/stable/user_guide/indexing.html#returning-a-view-versus-a-copy\n",
      "  df_vqa[\"update_time\"] = update_time()\n",
      "100%|██████████| 1/1 [00:00<00:00, 5315.97it/s]\n"
     ]
    },
    {
     "name": "stdout",
     "output_type": "stream",
     "text": [
      "ag060811-383081582\n",
      "<Response [401]>\n",
      "<Response [401]>\n",
      "<Response [401]>\n",
      "<Response [401]>\n",
      "<Response [401]>\n",
      "<Response [401]>\n",
      "<Response [401]>\n",
      "<Response [401]>\n",
      "<Response [401]>\n",
      "<Response [401]>\n",
      "<Response [401]>\n",
      "<Response [401]>\n",
      "<Response [401]>\n",
      "<Response [401]>\n"
     ]
    },
    {
     "name": "stderr",
     "output_type": "stream",
     "text": [
      "/var/folders/2_/jl1djv6975g5c0pygxnl873w00pwkm/T/ipykernel_21049/4080904126.py:9: SettingWithCopyWarning: \n",
      "A value is trying to be set on a copy of a slice from a DataFrame.\n",
      "Try using .loc[row_indexer,col_indexer] = value instead\n",
      "\n",
      "See the caveats in the documentation: https://pandas.pydata.org/pandas-docs/stable/user_guide/indexing.html#returning-a-view-versus-a-copy\n",
      "  df[f'caption_{language}' ] = df.uri.map(lambda uri_name:\n"
     ]
    },
    {
     "name": "stdout",
     "output_type": "stream",
     "text": [
      "<Response [401]>\n",
      "<Response [401]>\n",
      "<Response [401]>\n",
      "<Response [401]>\n",
      "<Response [401]>\n",
      "<Response [401]>\n",
      "<Response [401]>\n",
      "<Response [401]>\n",
      "<Response [401]>\n",
      "<Response [401]>\n",
      "<Response [401]>\n",
      "<Response [401]>\n",
      "<Response [401]>\n",
      "<Response [401]>\n",
      "SAVE index chunk : ag060811-383081582\n",
      "save_bq\n"
     ]
    },
    {
     "name": "stderr",
     "output_type": "stream",
     "text": [
      "/var/folders/2_/jl1djv6975g5c0pygxnl873w00pwkm/T/ipykernel_21049/4080904126.py:9: SettingWithCopyWarning: \n",
      "A value is trying to be set on a copy of a slice from a DataFrame.\n",
      "Try using .loc[row_indexer,col_indexer] = value instead\n",
      "\n",
      "See the caveats in the documentation: https://pandas.pydata.org/pandas-docs/stable/user_guide/indexing.html#returning-a-view-versus-a-copy\n",
      "  df[f'caption_{language}' ] = df.uri.map(lambda uri_name:\n",
      "/var/folders/2_/jl1djv6975g5c0pygxnl873w00pwkm/T/ipykernel_21049/1516630067.py:9: SettingWithCopyWarning: \n",
      "A value is trying to be set on a copy of a slice from a DataFrame.\n",
      "Try using .loc[row_indexer,col_indexer] = value instead\n",
      "\n",
      "See the caveats in the documentation: https://pandas.pydata.org/pandas-docs/stable/user_guide/indexing.html#returning-a-view-versus-a-copy\n",
      "  df_vqa[\"update_time\"] = update_time()\n",
      "100%|██████████| 1/1 [00:00<00:00, 5991.86it/s]\n"
     ]
    },
    {
     "name": "stdout",
     "output_type": "stream",
     "text": [
      "ag060811-384592154\n",
      "<Response [401]>\n",
      "<Response [401]>\n",
      "<Response [401]>\n",
      "<Response [401]>\n",
      "<Response [401]>\n",
      "<Response [401]>\n",
      "<Response [401]>\n",
      "<Response [401]>\n"
     ]
    },
    {
     "name": "stderr",
     "output_type": "stream",
     "text": [
      "/var/folders/2_/jl1djv6975g5c0pygxnl873w00pwkm/T/ipykernel_21049/4080904126.py:9: SettingWithCopyWarning: \n",
      "A value is trying to be set on a copy of a slice from a DataFrame.\n",
      "Try using .loc[row_indexer,col_indexer] = value instead\n",
      "\n",
      "See the caveats in the documentation: https://pandas.pydata.org/pandas-docs/stable/user_guide/indexing.html#returning-a-view-versus-a-copy\n",
      "  df[f'caption_{language}' ] = df.uri.map(lambda uri_name:\n"
     ]
    },
    {
     "name": "stdout",
     "output_type": "stream",
     "text": [
      "<Response [401]>\n",
      "<Response [401]>\n",
      "<Response [401]>\n",
      "<Response [401]>\n",
      "<Response [401]>\n",
      "<Response [401]>\n",
      "<Response [401]>\n",
      "<Response [401]>\n",
      "SAVE index chunk : ag060811-384592154\n",
      "save_bq\n"
     ]
    },
    {
     "name": "stderr",
     "output_type": "stream",
     "text": [
      "/var/folders/2_/jl1djv6975g5c0pygxnl873w00pwkm/T/ipykernel_21049/4080904126.py:9: SettingWithCopyWarning: \n",
      "A value is trying to be set on a copy of a slice from a DataFrame.\n",
      "Try using .loc[row_indexer,col_indexer] = value instead\n",
      "\n",
      "See the caveats in the documentation: https://pandas.pydata.org/pandas-docs/stable/user_guide/indexing.html#returning-a-view-versus-a-copy\n",
      "  df[f'caption_{language}' ] = df.uri.map(lambda uri_name:\n",
      "/var/folders/2_/jl1djv6975g5c0pygxnl873w00pwkm/T/ipykernel_21049/1516630067.py:9: SettingWithCopyWarning: \n",
      "A value is trying to be set on a copy of a slice from a DataFrame.\n",
      "Try using .loc[row_indexer,col_indexer] = value instead\n",
      "\n",
      "See the caveats in the documentation: https://pandas.pydata.org/pandas-docs/stable/user_guide/indexing.html#returning-a-view-versus-a-copy\n",
      "  df_vqa[\"update_time\"] = update_time()\n",
      "100%|██████████| 1/1 [00:00<00:00, 7639.90it/s]\n"
     ]
    },
    {
     "name": "stdout",
     "output_type": "stream",
     "text": [
      "ag060811-384592154\n",
      "<Response [401]>\n",
      "<Response [401]>\n",
      "<Response [401]>\n",
      "<Response [401]>\n",
      "<Response [401]>\n",
      "<Response [401]>\n",
      "<Response [401]>\n",
      "<Response [401]>\n"
     ]
    },
    {
     "name": "stderr",
     "output_type": "stream",
     "text": [
      "/var/folders/2_/jl1djv6975g5c0pygxnl873w00pwkm/T/ipykernel_21049/4080904126.py:9: SettingWithCopyWarning: \n",
      "A value is trying to be set on a copy of a slice from a DataFrame.\n",
      "Try using .loc[row_indexer,col_indexer] = value instead\n",
      "\n",
      "See the caveats in the documentation: https://pandas.pydata.org/pandas-docs/stable/user_guide/indexing.html#returning-a-view-versus-a-copy\n",
      "  df[f'caption_{language}' ] = df.uri.map(lambda uri_name:\n"
     ]
    },
    {
     "name": "stdout",
     "output_type": "stream",
     "text": [
      "<Response [401]>\n",
      "<Response [401]>\n",
      "<Response [401]>\n",
      "<Response [401]>\n",
      "<Response [401]>\n",
      "<Response [401]>\n",
      "<Response [401]>\n",
      "<Response [401]>\n",
      "SAVE index chunk : ag060811-384592154\n",
      "save_bq\n"
     ]
    },
    {
     "name": "stderr",
     "output_type": "stream",
     "text": [
      "/var/folders/2_/jl1djv6975g5c0pygxnl873w00pwkm/T/ipykernel_21049/4080904126.py:9: SettingWithCopyWarning: \n",
      "A value is trying to be set on a copy of a slice from a DataFrame.\n",
      "Try using .loc[row_indexer,col_indexer] = value instead\n",
      "\n",
      "See the caveats in the documentation: https://pandas.pydata.org/pandas-docs/stable/user_guide/indexing.html#returning-a-view-versus-a-copy\n",
      "  df[f'caption_{language}' ] = df.uri.map(lambda uri_name:\n",
      "/var/folders/2_/jl1djv6975g5c0pygxnl873w00pwkm/T/ipykernel_21049/1516630067.py:9: SettingWithCopyWarning: \n",
      "A value is trying to be set on a copy of a slice from a DataFrame.\n",
      "Try using .loc[row_indexer,col_indexer] = value instead\n",
      "\n",
      "See the caveats in the documentation: https://pandas.pydata.org/pandas-docs/stable/user_guide/indexing.html#returning-a-view-versus-a-copy\n",
      "  df_vqa[\"update_time\"] = update_time()\n",
      "100%|██████████| 1/1 [00:00<00:00, 11491.24it/s]\n"
     ]
    },
    {
     "name": "stdout",
     "output_type": "stream",
     "text": [
      "ag060811-384592154\n",
      "<Response [401]>\n",
      "<Response [401]>\n",
      "<Response [401]>\n",
      "<Response [401]>\n",
      "<Response [401]>\n",
      "<Response [401]>\n",
      "<Response [401]>\n",
      "<Response [401]>\n"
     ]
    },
    {
     "name": "stderr",
     "output_type": "stream",
     "text": [
      "/var/folders/2_/jl1djv6975g5c0pygxnl873w00pwkm/T/ipykernel_21049/4080904126.py:9: SettingWithCopyWarning: \n",
      "A value is trying to be set on a copy of a slice from a DataFrame.\n",
      "Try using .loc[row_indexer,col_indexer] = value instead\n",
      "\n",
      "See the caveats in the documentation: https://pandas.pydata.org/pandas-docs/stable/user_guide/indexing.html#returning-a-view-versus-a-copy\n",
      "  df[f'caption_{language}' ] = df.uri.map(lambda uri_name:\n"
     ]
    },
    {
     "name": "stdout",
     "output_type": "stream",
     "text": [
      "<Response [401]>\n",
      "<Response [401]>\n",
      "<Response [401]>\n",
      "<Response [401]>\n",
      "<Response [401]>\n",
      "<Response [401]>\n",
      "<Response [401]>\n",
      "<Response [401]>\n",
      "SAVE index chunk : ag060811-384592154\n",
      "save_bq\n"
     ]
    },
    {
     "name": "stderr",
     "output_type": "stream",
     "text": [
      "/var/folders/2_/jl1djv6975g5c0pygxnl873w00pwkm/T/ipykernel_21049/4080904126.py:9: SettingWithCopyWarning: \n",
      "A value is trying to be set on a copy of a slice from a DataFrame.\n",
      "Try using .loc[row_indexer,col_indexer] = value instead\n",
      "\n",
      "See the caveats in the documentation: https://pandas.pydata.org/pandas-docs/stable/user_guide/indexing.html#returning-a-view-versus-a-copy\n",
      "  df[f'caption_{language}' ] = df.uri.map(lambda uri_name:\n",
      "/var/folders/2_/jl1djv6975g5c0pygxnl873w00pwkm/T/ipykernel_21049/1516630067.py:9: SettingWithCopyWarning: \n",
      "A value is trying to be set on a copy of a slice from a DataFrame.\n",
      "Try using .loc[row_indexer,col_indexer] = value instead\n",
      "\n",
      "See the caveats in the documentation: https://pandas.pydata.org/pandas-docs/stable/user_guide/indexing.html#returning-a-view-versus-a-copy\n",
      "  df_vqa[\"update_time\"] = update_time()\n",
      "100%|██████████| 1/1 [00:00<00:00, 6944.21it/s]\n"
     ]
    },
    {
     "name": "stdout",
     "output_type": "stream",
     "text": [
      "ag060811-384592154\n",
      "<Response [401]>\n",
      "<Response [401]>\n",
      "<Response [401]>\n",
      "<Response [401]>\n",
      "<Response [401]>\n",
      "<Response [401]>\n",
      "<Response [401]>\n",
      "<Response [401]>\n"
     ]
    },
    {
     "name": "stderr",
     "output_type": "stream",
     "text": [
      "/var/folders/2_/jl1djv6975g5c0pygxnl873w00pwkm/T/ipykernel_21049/4080904126.py:9: SettingWithCopyWarning: \n",
      "A value is trying to be set on a copy of a slice from a DataFrame.\n",
      "Try using .loc[row_indexer,col_indexer] = value instead\n",
      "\n",
      "See the caveats in the documentation: https://pandas.pydata.org/pandas-docs/stable/user_guide/indexing.html#returning-a-view-versus-a-copy\n",
      "  df[f'caption_{language}' ] = df.uri.map(lambda uri_name:\n"
     ]
    },
    {
     "name": "stdout",
     "output_type": "stream",
     "text": [
      "<Response [401]>\n",
      "<Response [401]>\n",
      "<Response [401]>\n",
      "<Response [401]>\n",
      "<Response [401]>\n",
      "<Response [401]>\n",
      "<Response [401]>\n",
      "<Response [401]>\n",
      "SAVE index chunk : ag060811-384592154\n",
      "save_bq\n"
     ]
    },
    {
     "name": "stderr",
     "output_type": "stream",
     "text": [
      "/var/folders/2_/jl1djv6975g5c0pygxnl873w00pwkm/T/ipykernel_21049/4080904126.py:9: SettingWithCopyWarning: \n",
      "A value is trying to be set on a copy of a slice from a DataFrame.\n",
      "Try using .loc[row_indexer,col_indexer] = value instead\n",
      "\n",
      "See the caveats in the documentation: https://pandas.pydata.org/pandas-docs/stable/user_guide/indexing.html#returning-a-view-versus-a-copy\n",
      "  df[f'caption_{language}' ] = df.uri.map(lambda uri_name:\n",
      "/var/folders/2_/jl1djv6975g5c0pygxnl873w00pwkm/T/ipykernel_21049/1516630067.py:9: SettingWithCopyWarning: \n",
      "A value is trying to be set on a copy of a slice from a DataFrame.\n",
      "Try using .loc[row_indexer,col_indexer] = value instead\n",
      "\n",
      "See the caveats in the documentation: https://pandas.pydata.org/pandas-docs/stable/user_guide/indexing.html#returning-a-view-versus-a-copy\n",
      "  df_vqa[\"update_time\"] = update_time()\n",
      "100%|██████████| 1/1 [00:00<00:00, 13315.25it/s]\n"
     ]
    },
    {
     "name": "stdout",
     "output_type": "stream",
     "text": [
      "ag060811-384592154\n",
      "<Response [401]>\n",
      "<Response [401]>\n",
      "<Response [401]>\n",
      "<Response [401]>\n",
      "<Response [401]>\n",
      "<Response [401]>\n",
      "<Response [401]>\n",
      "<Response [401]>\n"
     ]
    },
    {
     "name": "stderr",
     "output_type": "stream",
     "text": [
      "/var/folders/2_/jl1djv6975g5c0pygxnl873w00pwkm/T/ipykernel_21049/4080904126.py:9: SettingWithCopyWarning: \n",
      "A value is trying to be set on a copy of a slice from a DataFrame.\n",
      "Try using .loc[row_indexer,col_indexer] = value instead\n",
      "\n",
      "See the caveats in the documentation: https://pandas.pydata.org/pandas-docs/stable/user_guide/indexing.html#returning-a-view-versus-a-copy\n",
      "  df[f'caption_{language}' ] = df.uri.map(lambda uri_name:\n"
     ]
    },
    {
     "name": "stdout",
     "output_type": "stream",
     "text": [
      "<Response [401]>\n",
      "<Response [401]>\n",
      "<Response [401]>\n",
      "<Response [401]>\n",
      "<Response [401]>\n",
      "<Response [401]>\n",
      "<Response [401]>\n",
      "<Response [401]>\n",
      "SAVE index chunk : ag060811-384592154\n",
      "save_bq\n"
     ]
    },
    {
     "name": "stderr",
     "output_type": "stream",
     "text": [
      "/var/folders/2_/jl1djv6975g5c0pygxnl873w00pwkm/T/ipykernel_21049/4080904126.py:9: SettingWithCopyWarning: \n",
      "A value is trying to be set on a copy of a slice from a DataFrame.\n",
      "Try using .loc[row_indexer,col_indexer] = value instead\n",
      "\n",
      "See the caveats in the documentation: https://pandas.pydata.org/pandas-docs/stable/user_guide/indexing.html#returning-a-view-versus-a-copy\n",
      "  df[f'caption_{language}' ] = df.uri.map(lambda uri_name:\n",
      "/var/folders/2_/jl1djv6975g5c0pygxnl873w00pwkm/T/ipykernel_21049/1516630067.py:9: SettingWithCopyWarning: \n",
      "A value is trying to be set on a copy of a slice from a DataFrame.\n",
      "Try using .loc[row_indexer,col_indexer] = value instead\n",
      "\n",
      "See the caveats in the documentation: https://pandas.pydata.org/pandas-docs/stable/user_guide/indexing.html#returning-a-view-versus-a-copy\n",
      "  df_vqa[\"update_time\"] = update_time()\n",
      "100%|██████████| 1/1 [00:00<00:00, 9597.95it/s]\n"
     ]
    },
    {
     "name": "stdout",
     "output_type": "stream",
     "text": [
      "ag060811-384592154\n",
      "<Response [401]>\n",
      "<Response [401]>\n",
      "<Response [401]>\n",
      "<Response [401]>\n",
      "<Response [401]>\n",
      "<Response [401]>\n",
      "<Response [401]>\n",
      "<Response [401]>\n"
     ]
    },
    {
     "name": "stderr",
     "output_type": "stream",
     "text": [
      "/var/folders/2_/jl1djv6975g5c0pygxnl873w00pwkm/T/ipykernel_21049/4080904126.py:9: SettingWithCopyWarning: \n",
      "A value is trying to be set on a copy of a slice from a DataFrame.\n",
      "Try using .loc[row_indexer,col_indexer] = value instead\n",
      "\n",
      "See the caveats in the documentation: https://pandas.pydata.org/pandas-docs/stable/user_guide/indexing.html#returning-a-view-versus-a-copy\n",
      "  df[f'caption_{language}' ] = df.uri.map(lambda uri_name:\n"
     ]
    },
    {
     "name": "stdout",
     "output_type": "stream",
     "text": [
      "<Response [401]>\n",
      "<Response [401]>\n",
      "<Response [401]>\n",
      "<Response [401]>\n",
      "<Response [401]>\n",
      "<Response [401]>\n",
      "<Response [401]>\n",
      "<Response [401]>\n",
      "SAVE index chunk : ag060811-384592154\n",
      "save_bq\n"
     ]
    },
    {
     "name": "stderr",
     "output_type": "stream",
     "text": [
      "/var/folders/2_/jl1djv6975g5c0pygxnl873w00pwkm/T/ipykernel_21049/4080904126.py:9: SettingWithCopyWarning: \n",
      "A value is trying to be set on a copy of a slice from a DataFrame.\n",
      "Try using .loc[row_indexer,col_indexer] = value instead\n",
      "\n",
      "See the caveats in the documentation: https://pandas.pydata.org/pandas-docs/stable/user_guide/indexing.html#returning-a-view-versus-a-copy\n",
      "  df[f'caption_{language}' ] = df.uri.map(lambda uri_name:\n",
      "/var/folders/2_/jl1djv6975g5c0pygxnl873w00pwkm/T/ipykernel_21049/1516630067.py:9: SettingWithCopyWarning: \n",
      "A value is trying to be set on a copy of a slice from a DataFrame.\n",
      "Try using .loc[row_indexer,col_indexer] = value instead\n",
      "\n",
      "See the caveats in the documentation: https://pandas.pydata.org/pandas-docs/stable/user_guide/indexing.html#returning-a-view-versus-a-copy\n",
      "  df_vqa[\"update_time\"] = update_time()\n",
      "100%|██████████| 1/1 [00:00<00:00, 20867.18it/s]\n"
     ]
    },
    {
     "name": "stdout",
     "output_type": "stream",
     "text": [
      "ag060811-384592154\n",
      "<Response [401]>\n",
      "<Response [401]>\n",
      "<Response [401]>\n",
      "<Response [401]>\n",
      "<Response [401]>\n",
      "<Response [401]>\n",
      "<Response [401]>\n",
      "<Response [401]>\n"
     ]
    },
    {
     "name": "stderr",
     "output_type": "stream",
     "text": [
      "/var/folders/2_/jl1djv6975g5c0pygxnl873w00pwkm/T/ipykernel_21049/4080904126.py:9: SettingWithCopyWarning: \n",
      "A value is trying to be set on a copy of a slice from a DataFrame.\n",
      "Try using .loc[row_indexer,col_indexer] = value instead\n",
      "\n",
      "See the caveats in the documentation: https://pandas.pydata.org/pandas-docs/stable/user_guide/indexing.html#returning-a-view-versus-a-copy\n",
      "  df[f'caption_{language}' ] = df.uri.map(lambda uri_name:\n"
     ]
    },
    {
     "name": "stdout",
     "output_type": "stream",
     "text": [
      "<Response [401]>\n",
      "<Response [401]>\n",
      "<Response [401]>\n",
      "<Response [401]>\n",
      "<Response [401]>\n",
      "<Response [401]>\n",
      "<Response [401]>\n",
      "<Response [401]>\n",
      "SAVE index chunk : ag060811-384592154\n",
      "save_bq\n"
     ]
    },
    {
     "name": "stderr",
     "output_type": "stream",
     "text": [
      "/var/folders/2_/jl1djv6975g5c0pygxnl873w00pwkm/T/ipykernel_21049/4080904126.py:9: SettingWithCopyWarning: \n",
      "A value is trying to be set on a copy of a slice from a DataFrame.\n",
      "Try using .loc[row_indexer,col_indexer] = value instead\n",
      "\n",
      "See the caveats in the documentation: https://pandas.pydata.org/pandas-docs/stable/user_guide/indexing.html#returning-a-view-versus-a-copy\n",
      "  df[f'caption_{language}' ] = df.uri.map(lambda uri_name:\n",
      "/var/folders/2_/jl1djv6975g5c0pygxnl873w00pwkm/T/ipykernel_21049/1516630067.py:9: SettingWithCopyWarning: \n",
      "A value is trying to be set on a copy of a slice from a DataFrame.\n",
      "Try using .loc[row_indexer,col_indexer] = value instead\n",
      "\n",
      "See the caveats in the documentation: https://pandas.pydata.org/pandas-docs/stable/user_guide/indexing.html#returning-a-view-versus-a-copy\n",
      "  df_vqa[\"update_time\"] = update_time()\n",
      "100%|██████████| 1/1 [00:00<00:00, 21732.15it/s]\n"
     ]
    },
    {
     "name": "stdout",
     "output_type": "stream",
     "text": [
      "ag060811-384592154\n",
      "<Response [401]>\n",
      "<Response [401]>\n",
      "<Response [401]>\n",
      "<Response [401]>\n",
      "<Response [401]>\n",
      "<Response [401]>\n",
      "<Response [401]>\n",
      "<Response [401]>\n"
     ]
    },
    {
     "name": "stderr",
     "output_type": "stream",
     "text": [
      "/var/folders/2_/jl1djv6975g5c0pygxnl873w00pwkm/T/ipykernel_21049/4080904126.py:9: SettingWithCopyWarning: \n",
      "A value is trying to be set on a copy of a slice from a DataFrame.\n",
      "Try using .loc[row_indexer,col_indexer] = value instead\n",
      "\n",
      "See the caveats in the documentation: https://pandas.pydata.org/pandas-docs/stable/user_guide/indexing.html#returning-a-view-versus-a-copy\n",
      "  df[f'caption_{language}' ] = df.uri.map(lambda uri_name:\n"
     ]
    },
    {
     "name": "stdout",
     "output_type": "stream",
     "text": [
      "<Response [401]>\n",
      "<Response [401]>\n",
      "<Response [401]>\n",
      "<Response [401]>\n",
      "<Response [401]>\n",
      "<Response [401]>\n",
      "<Response [401]>\n",
      "<Response [401]>\n",
      "SAVE index chunk : ag060811-384592154\n",
      "save_bq\n"
     ]
    },
    {
     "name": "stderr",
     "output_type": "stream",
     "text": [
      "/var/folders/2_/jl1djv6975g5c0pygxnl873w00pwkm/T/ipykernel_21049/4080904126.py:9: SettingWithCopyWarning: \n",
      "A value is trying to be set on a copy of a slice from a DataFrame.\n",
      "Try using .loc[row_indexer,col_indexer] = value instead\n",
      "\n",
      "See the caveats in the documentation: https://pandas.pydata.org/pandas-docs/stable/user_guide/indexing.html#returning-a-view-versus-a-copy\n",
      "  df[f'caption_{language}' ] = df.uri.map(lambda uri_name:\n",
      "/var/folders/2_/jl1djv6975g5c0pygxnl873w00pwkm/T/ipykernel_21049/1516630067.py:9: SettingWithCopyWarning: \n",
      "A value is trying to be set on a copy of a slice from a DataFrame.\n",
      "Try using .loc[row_indexer,col_indexer] = value instead\n",
      "\n",
      "See the caveats in the documentation: https://pandas.pydata.org/pandas-docs/stable/user_guide/indexing.html#returning-a-view-versus-a-copy\n",
      "  df_vqa[\"update_time\"] = update_time()\n",
      "100%|██████████| 1/1 [00:00<00:00, 9510.89it/s]\n"
     ]
    },
    {
     "name": "stdout",
     "output_type": "stream",
     "text": [
      "ag133675-383410499\n",
      "<Response [401]>\n",
      "<Response [401]>\n",
      "<Response [401]>\n",
      "<Response [401]>\n",
      "<Response [401]>\n",
      "<Response [401]>\n",
      "<Response [401]>\n",
      "<Response [401]>\n",
      "<Response [401]>\n",
      "<Response [401]>\n",
      "<Response [401]>\n",
      "<Response [401]>\n",
      "<Response [401]>\n",
      "<Response [401]>\n",
      "<Response [401]>\n",
      "<Response [401]>\n",
      "<Response [401]>\n"
     ]
    },
    {
     "name": "stderr",
     "output_type": "stream",
     "text": [
      "/var/folders/2_/jl1djv6975g5c0pygxnl873w00pwkm/T/ipykernel_21049/4080904126.py:9: SettingWithCopyWarning: \n",
      "A value is trying to be set on a copy of a slice from a DataFrame.\n",
      "Try using .loc[row_indexer,col_indexer] = value instead\n",
      "\n",
      "See the caveats in the documentation: https://pandas.pydata.org/pandas-docs/stable/user_guide/indexing.html#returning-a-view-versus-a-copy\n",
      "  df[f'caption_{language}' ] = df.uri.map(lambda uri_name:\n"
     ]
    },
    {
     "name": "stdout",
     "output_type": "stream",
     "text": [
      "<Response [401]>\n",
      "<Response [401]>\n",
      "<Response [401]>\n",
      "<Response [401]>\n",
      "<Response [401]>\n",
      "<Response [401]>\n",
      "<Response [401]>\n",
      "<Response [401]>\n",
      "<Response [401]>\n",
      "<Response [401]>\n",
      "<Response [401]>\n",
      "<Response [401]>\n",
      "<Response [401]>\n",
      "<Response [401]>\n",
      "<Response [401]>\n",
      "<Response [401]>\n",
      "<Response [401]>\n",
      "SAVE index chunk : ag133675-383410499\n",
      "save_bq\n"
     ]
    },
    {
     "name": "stderr",
     "output_type": "stream",
     "text": [
      "/var/folders/2_/jl1djv6975g5c0pygxnl873w00pwkm/T/ipykernel_21049/4080904126.py:9: SettingWithCopyWarning: \n",
      "A value is trying to be set on a copy of a slice from a DataFrame.\n",
      "Try using .loc[row_indexer,col_indexer] = value instead\n",
      "\n",
      "See the caveats in the documentation: https://pandas.pydata.org/pandas-docs/stable/user_guide/indexing.html#returning-a-view-versus-a-copy\n",
      "  df[f'caption_{language}' ] = df.uri.map(lambda uri_name:\n",
      "/var/folders/2_/jl1djv6975g5c0pygxnl873w00pwkm/T/ipykernel_21049/1516630067.py:9: SettingWithCopyWarning: \n",
      "A value is trying to be set on a copy of a slice from a DataFrame.\n",
      "Try using .loc[row_indexer,col_indexer] = value instead\n",
      "\n",
      "See the caveats in the documentation: https://pandas.pydata.org/pandas-docs/stable/user_guide/indexing.html#returning-a-view-versus-a-copy\n",
      "  df_vqa[\"update_time\"] = update_time()\n",
      "100%|██████████| 1/1 [00:00<00:00, 8793.09it/s]\n"
     ]
    },
    {
     "name": "stdout",
     "output_type": "stream",
     "text": [
      "ag133675-383410499\n",
      "<Response [401]>\n",
      "<Response [401]>\n",
      "<Response [401]>\n",
      "<Response [401]>\n",
      "<Response [401]>\n",
      "<Response [401]>\n",
      "<Response [401]>\n",
      "<Response [401]>\n",
      "<Response [401]>\n",
      "<Response [401]>\n",
      "<Response [401]>\n",
      "<Response [401]>\n",
      "<Response [401]>\n",
      "<Response [401]>\n",
      "<Response [401]>\n",
      "<Response [401]>\n",
      "<Response [401]>\n"
     ]
    },
    {
     "name": "stderr",
     "output_type": "stream",
     "text": [
      "/var/folders/2_/jl1djv6975g5c0pygxnl873w00pwkm/T/ipykernel_21049/4080904126.py:9: SettingWithCopyWarning: \n",
      "A value is trying to be set on a copy of a slice from a DataFrame.\n",
      "Try using .loc[row_indexer,col_indexer] = value instead\n",
      "\n",
      "See the caveats in the documentation: https://pandas.pydata.org/pandas-docs/stable/user_guide/indexing.html#returning-a-view-versus-a-copy\n",
      "  df[f'caption_{language}' ] = df.uri.map(lambda uri_name:\n"
     ]
    },
    {
     "name": "stdout",
     "output_type": "stream",
     "text": [
      "<Response [401]>\n",
      "<Response [401]>\n",
      "<Response [401]>\n",
      "<Response [401]>\n",
      "<Response [401]>\n",
      "<Response [401]>\n",
      "<Response [401]>\n",
      "<Response [401]>\n",
      "<Response [401]>\n",
      "<Response [401]>\n",
      "<Response [401]>\n",
      "<Response [401]>\n",
      "<Response [401]>\n",
      "<Response [401]>\n",
      "<Response [401]>\n",
      "<Response [401]>\n",
      "<Response [401]>\n",
      "SAVE index chunk : ag133675-383410499\n",
      "save_bq\n"
     ]
    },
    {
     "name": "stderr",
     "output_type": "stream",
     "text": [
      "/var/folders/2_/jl1djv6975g5c0pygxnl873w00pwkm/T/ipykernel_21049/4080904126.py:9: SettingWithCopyWarning: \n",
      "A value is trying to be set on a copy of a slice from a DataFrame.\n",
      "Try using .loc[row_indexer,col_indexer] = value instead\n",
      "\n",
      "See the caveats in the documentation: https://pandas.pydata.org/pandas-docs/stable/user_guide/indexing.html#returning-a-view-versus-a-copy\n",
      "  df[f'caption_{language}' ] = df.uri.map(lambda uri_name:\n",
      "/var/folders/2_/jl1djv6975g5c0pygxnl873w00pwkm/T/ipykernel_21049/1516630067.py:9: SettingWithCopyWarning: \n",
      "A value is trying to be set on a copy of a slice from a DataFrame.\n",
      "Try using .loc[row_indexer,col_indexer] = value instead\n",
      "\n",
      "See the caveats in the documentation: https://pandas.pydata.org/pandas-docs/stable/user_guide/indexing.html#returning-a-view-versus-a-copy\n",
      "  df_vqa[\"update_time\"] = update_time()\n",
      "100%|██████████| 1/1 [00:00<00:00, 4080.06it/s]\n"
     ]
    },
    {
     "name": "stdout",
     "output_type": "stream",
     "text": [
      "ag133675-383410499\n",
      "<Response [401]>\n",
      "<Response [401]>\n",
      "<Response [401]>\n",
      "<Response [401]>\n",
      "<Response [401]>\n",
      "<Response [401]>\n",
      "<Response [401]>\n",
      "<Response [401]>\n",
      "<Response [401]>\n",
      "<Response [401]>\n",
      "<Response [401]>\n",
      "<Response [401]>\n",
      "<Response [401]>\n",
      "<Response [401]>\n",
      "<Response [401]>\n",
      "<Response [401]>\n",
      "<Response [401]>\n"
     ]
    },
    {
     "name": "stderr",
     "output_type": "stream",
     "text": [
      "/var/folders/2_/jl1djv6975g5c0pygxnl873w00pwkm/T/ipykernel_21049/4080904126.py:9: SettingWithCopyWarning: \n",
      "A value is trying to be set on a copy of a slice from a DataFrame.\n",
      "Try using .loc[row_indexer,col_indexer] = value instead\n",
      "\n",
      "See the caveats in the documentation: https://pandas.pydata.org/pandas-docs/stable/user_guide/indexing.html#returning-a-view-versus-a-copy\n",
      "  df[f'caption_{language}' ] = df.uri.map(lambda uri_name:\n"
     ]
    },
    {
     "name": "stdout",
     "output_type": "stream",
     "text": [
      "<Response [401]>\n",
      "<Response [401]>\n",
      "<Response [401]>\n",
      "<Response [401]>\n",
      "<Response [401]>\n",
      "<Response [401]>\n",
      "<Response [401]>\n",
      "<Response [401]>\n",
      "<Response [401]>\n",
      "<Response [401]>\n",
      "<Response [401]>\n",
      "<Response [401]>\n",
      "<Response [401]>\n",
      "<Response [401]>\n",
      "<Response [401]>\n",
      "<Response [401]>\n",
      "<Response [401]>\n",
      "SAVE index chunk : ag133675-383410499\n",
      "save_bq\n"
     ]
    },
    {
     "name": "stderr",
     "output_type": "stream",
     "text": [
      "/var/folders/2_/jl1djv6975g5c0pygxnl873w00pwkm/T/ipykernel_21049/4080904126.py:9: SettingWithCopyWarning: \n",
      "A value is trying to be set on a copy of a slice from a DataFrame.\n",
      "Try using .loc[row_indexer,col_indexer] = value instead\n",
      "\n",
      "See the caveats in the documentation: https://pandas.pydata.org/pandas-docs/stable/user_guide/indexing.html#returning-a-view-versus-a-copy\n",
      "  df[f'caption_{language}' ] = df.uri.map(lambda uri_name:\n",
      "/var/folders/2_/jl1djv6975g5c0pygxnl873w00pwkm/T/ipykernel_21049/1516630067.py:9: SettingWithCopyWarning: \n",
      "A value is trying to be set on a copy of a slice from a DataFrame.\n",
      "Try using .loc[row_indexer,col_indexer] = value instead\n",
      "\n",
      "See the caveats in the documentation: https://pandas.pydata.org/pandas-docs/stable/user_guide/indexing.html#returning-a-view-versus-a-copy\n",
      "  df_vqa[\"update_time\"] = update_time()\n",
      "100%|██████████| 1/1 [00:00<00:00, 2631.31it/s]\n"
     ]
    },
    {
     "name": "stdout",
     "output_type": "stream",
     "text": [
      "ag133675-383410499\n",
      "<Response [401]>\n",
      "<Response [401]>\n",
      "<Response [401]>\n",
      "<Response [401]>\n",
      "<Response [401]>\n",
      "<Response [401]>\n",
      "<Response [401]>\n",
      "<Response [401]>\n",
      "<Response [401]>\n",
      "<Response [401]>\n",
      "<Response [401]>\n",
      "<Response [401]>\n",
      "<Response [401]>\n",
      "<Response [401]>\n",
      "<Response [401]>\n",
      "<Response [401]>\n",
      "<Response [401]>\n"
     ]
    },
    {
     "name": "stderr",
     "output_type": "stream",
     "text": [
      "/var/folders/2_/jl1djv6975g5c0pygxnl873w00pwkm/T/ipykernel_21049/4080904126.py:9: SettingWithCopyWarning: \n",
      "A value is trying to be set on a copy of a slice from a DataFrame.\n",
      "Try using .loc[row_indexer,col_indexer] = value instead\n",
      "\n",
      "See the caveats in the documentation: https://pandas.pydata.org/pandas-docs/stable/user_guide/indexing.html#returning-a-view-versus-a-copy\n",
      "  df[f'caption_{language}' ] = df.uri.map(lambda uri_name:\n"
     ]
    },
    {
     "name": "stdout",
     "output_type": "stream",
     "text": [
      "<Response [401]>\n",
      "<Response [401]>\n",
      "<Response [401]>\n",
      "<Response [401]>\n",
      "<Response [401]>\n",
      "<Response [401]>\n",
      "<Response [401]>\n",
      "<Response [401]>\n",
      "<Response [401]>\n",
      "<Response [401]>\n",
      "<Response [401]>\n",
      "<Response [401]>\n",
      "<Response [401]>\n",
      "<Response [401]>\n",
      "<Response [401]>\n",
      "<Response [401]>\n",
      "<Response [401]>\n",
      "SAVE index chunk : ag133675-383410499\n",
      "save_bq\n"
     ]
    },
    {
     "name": "stderr",
     "output_type": "stream",
     "text": [
      "/var/folders/2_/jl1djv6975g5c0pygxnl873w00pwkm/T/ipykernel_21049/4080904126.py:9: SettingWithCopyWarning: \n",
      "A value is trying to be set on a copy of a slice from a DataFrame.\n",
      "Try using .loc[row_indexer,col_indexer] = value instead\n",
      "\n",
      "See the caveats in the documentation: https://pandas.pydata.org/pandas-docs/stable/user_guide/indexing.html#returning-a-view-versus-a-copy\n",
      "  df[f'caption_{language}' ] = df.uri.map(lambda uri_name:\n",
      "/var/folders/2_/jl1djv6975g5c0pygxnl873w00pwkm/T/ipykernel_21049/1516630067.py:9: SettingWithCopyWarning: \n",
      "A value is trying to be set on a copy of a slice from a DataFrame.\n",
      "Try using .loc[row_indexer,col_indexer] = value instead\n",
      "\n",
      "See the caveats in the documentation: https://pandas.pydata.org/pandas-docs/stable/user_guide/indexing.html#returning-a-view-versus-a-copy\n",
      "  df_vqa[\"update_time\"] = update_time()\n",
      "100%|██████████| 1/1 [00:00<00:00, 1506.03it/s]\n"
     ]
    },
    {
     "name": "stdout",
     "output_type": "stream",
     "text": [
      "ag133675-383410499\n",
      "<Response [401]>\n",
      "<Response [401]>\n",
      "<Response [401]>\n",
      "<Response [401]>\n",
      "<Response [401]>\n",
      "<Response [401]>\n",
      "<Response [401]>\n",
      "<Response [401]>\n",
      "<Response [401]>\n",
      "<Response [401]>\n",
      "<Response [401]>\n",
      "<Response [401]>\n",
      "<Response [401]>\n",
      "<Response [401]>\n",
      "<Response [401]>\n",
      "<Response [401]>\n",
      "<Response [401]>\n"
     ]
    },
    {
     "name": "stderr",
     "output_type": "stream",
     "text": [
      "/var/folders/2_/jl1djv6975g5c0pygxnl873w00pwkm/T/ipykernel_21049/4080904126.py:9: SettingWithCopyWarning: \n",
      "A value is trying to be set on a copy of a slice from a DataFrame.\n",
      "Try using .loc[row_indexer,col_indexer] = value instead\n",
      "\n",
      "See the caveats in the documentation: https://pandas.pydata.org/pandas-docs/stable/user_guide/indexing.html#returning-a-view-versus-a-copy\n",
      "  df[f'caption_{language}' ] = df.uri.map(lambda uri_name:\n"
     ]
    },
    {
     "name": "stdout",
     "output_type": "stream",
     "text": [
      "<Response [401]>\n",
      "<Response [401]>\n",
      "<Response [401]>\n",
      "<Response [401]>\n",
      "<Response [401]>\n",
      "<Response [401]>\n",
      "<Response [401]>\n",
      "<Response [401]>\n",
      "<Response [401]>\n",
      "<Response [401]>\n",
      "<Response [401]>\n",
      "<Response [401]>\n",
      "<Response [401]>\n",
      "<Response [401]>\n",
      "<Response [401]>\n",
      "<Response [401]>\n",
      "<Response [401]>\n",
      "SAVE index chunk : ag133675-383410499\n",
      "save_bq\n"
     ]
    },
    {
     "name": "stderr",
     "output_type": "stream",
     "text": [
      "/var/folders/2_/jl1djv6975g5c0pygxnl873w00pwkm/T/ipykernel_21049/4080904126.py:9: SettingWithCopyWarning: \n",
      "A value is trying to be set on a copy of a slice from a DataFrame.\n",
      "Try using .loc[row_indexer,col_indexer] = value instead\n",
      "\n",
      "See the caveats in the documentation: https://pandas.pydata.org/pandas-docs/stable/user_guide/indexing.html#returning-a-view-versus-a-copy\n",
      "  df[f'caption_{language}' ] = df.uri.map(lambda uri_name:\n",
      "/var/folders/2_/jl1djv6975g5c0pygxnl873w00pwkm/T/ipykernel_21049/1516630067.py:9: SettingWithCopyWarning: \n",
      "A value is trying to be set on a copy of a slice from a DataFrame.\n",
      "Try using .loc[row_indexer,col_indexer] = value instead\n",
      "\n",
      "See the caveats in the documentation: https://pandas.pydata.org/pandas-docs/stable/user_guide/indexing.html#returning-a-view-versus-a-copy\n",
      "  df_vqa[\"update_time\"] = update_time()\n",
      "100%|██████████| 1/1 [00:00<00:00, 7626.01it/s]\n"
     ]
    },
    {
     "name": "stdout",
     "output_type": "stream",
     "text": [
      "ag133675-383410499\n",
      "<Response [401]>\n",
      "<Response [401]>\n",
      "<Response [401]>\n",
      "<Response [401]>\n",
      "<Response [401]>\n",
      "<Response [401]>\n",
      "<Response [401]>\n",
      "<Response [401]>\n",
      "<Response [401]>\n",
      "<Response [401]>\n",
      "<Response [401]>\n",
      "<Response [401]>\n",
      "<Response [401]>\n",
      "<Response [401]>\n",
      "<Response [401]>\n",
      "<Response [401]>\n",
      "<Response [401]>\n"
     ]
    },
    {
     "name": "stderr",
     "output_type": "stream",
     "text": [
      "/var/folders/2_/jl1djv6975g5c0pygxnl873w00pwkm/T/ipykernel_21049/4080904126.py:9: SettingWithCopyWarning: \n",
      "A value is trying to be set on a copy of a slice from a DataFrame.\n",
      "Try using .loc[row_indexer,col_indexer] = value instead\n",
      "\n",
      "See the caveats in the documentation: https://pandas.pydata.org/pandas-docs/stable/user_guide/indexing.html#returning-a-view-versus-a-copy\n",
      "  df[f'caption_{language}' ] = df.uri.map(lambda uri_name:\n"
     ]
    },
    {
     "name": "stdout",
     "output_type": "stream",
     "text": [
      "<Response [401]>\n",
      "<Response [401]>\n",
      "<Response [401]>\n"
     ]
    }
   ],
   "source": [
    "def process(df):\n",
    "    for id in df.Id.drop_duplicates().tolist() :\n",
    "        print(id)\n",
    "        df_vqa = df[df[\"Id\"] == id]\n",
    "        \n",
    "        df_vqa = add_images_caption_to_df(df_vqa, \"en\")\n",
    "        df_vqa = add_images_caption_to_df(df_vqa, \"fr\")\n",
    "\n",
    "        df_vqa[\"update_time\"] = update_time()\n",
    "\n",
    "        print(f\"SAVE index chunk : {id}\")\n",
    "        save_bq(df_vqa, table_id=project_table, project_id=PROJECT_ID)\n",
    "\n",
    "process(df)"
   ]
  },
  {
   "cell_type": "code",
   "execution_count": null,
   "metadata": {},
   "outputs": [],
   "source": []
  },
  {
   "cell_type": "code",
   "execution_count": null,
   "metadata": {},
   "outputs": [],
   "source": []
  },
  {
   "cell_type": "code",
   "execution_count": null,
   "metadata": {},
   "outputs": [],
   "source": []
  }
 ],
 "metadata": {
  "kernelspec": {
   "display_name": "Python 3",
   "language": "python",
   "name": "python3"
  },
  "language_info": {
   "codemirror_mode": {
    "name": "ipython",
    "version": 3
   },
   "file_extension": ".py",
   "mimetype": "text/x-python",
   "name": "python",
   "nbconvert_exporter": "python",
   "pygments_lexer": "ipython3",
   "version": "3.10.8"
  },
  "orig_nbformat": 4
 },
 "nbformat": 4,
 "nbformat_minor": 2
}
