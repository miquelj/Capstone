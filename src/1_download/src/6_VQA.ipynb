{
 "cells": [
  {
   "cell_type": "markdown",
   "metadata": {},
   "source": [
    "# LLM - Visual captioning\n",
    "\n",
    "## Imagen imagetext\n",
    "- https://cloud.google.com/vertex-ai/docs/generative-ai/image/image-captioning"
   ]
  },
  {
   "cell_type": "code",
   "execution_count": 1,
   "metadata": {},
   "outputs": [],
   "source": [
    "\n",
    "import vertexai\n",
    "from google.cloud import bigquery\n",
    "from tools import *\n",
    "from bq import save_bq\n",
    "\n",
    "\n",
    "PROJECT_ID = \"ml-demo-384110\"  # @param {type:\"string\"}\n",
    "vertexai.init(project=PROJECT_ID, location=\"us-central1\")\n",
    "client = bigquery.Client(project=PROJECT_ID)\n",
    "bucket = \"ml-demo-384110-bucket\"\n",
    "\n",
    "%load_ext google.cloud.bigquery"
   ]
  },
  {
   "cell_type": "code",
   "execution_count": 3,
   "metadata": {},
   "outputs": [
    {
     "name": "stdout",
     "output_type": "stream",
     "text": [
      "ml-demo-384110\n",
      "1008225662928\n"
     ]
    }
   ],
   "source": [
    "# @title Parameters\n",
    "LOCATION = \"us-central1\" #@param {type:\"string\"}\n",
    "#PROJECT_NUMBER = \n",
    "#PROJECT_ID = \"\" #@param {type:\"string\"}\n",
    "\n",
    "PROJECT_ID = !gcloud projects list --filter=\"$(gcloud config get-value project)\" --format=\"value(PROJECT_ID)\"\n",
    "\n",
    "if len(PROJECT_ID) > 1:\n",
    "    PROJECT_ID = PROJECT_ID[1]\n",
    "else:\n",
    "    PROJECT_ID = PROJECT_ID[0]\n",
    "print(PROJECT_ID)\n",
    "\n",
    "PROJECT_NUMBER = !gcloud projects list --filter=\"$(gcloud config get-value project)\" --format=\"value(PROJECT_NUMBER)\"\n",
    "if len(PROJECT_NUMBER) > 1:\n",
    "    PROJECT_NUMBER = PROJECT_NUMBER[1]\n",
    "else:\n",
    "    PROJECT_NUMBER = PROJECT_NUMBER[0]\n",
    "\n",
    "print(PROJECT_NUMBER)\n",
    "\n",
    "TOKEN_ENDPOINT_URI = 'https://www.googleapis.com/oauth2/v3/tokeninfo?access_token='\n",
    "\n",
    "IMAGEGEN_MODEL = \"imagegeneration@002\" #models available: imagegeneration@001 and imagegeneration@002\n",
    "ENDPOINT_URL = f'projects/{PROJECT_NUMBER}/locations/{LOCATION}/publishers/google/models/{IMAGEGEN_MODEL}'\n",
    "\n",
    "IMAGE_TEXT_MODEL = \"imagetext\"\n",
    "IMAGEN_ENDPOINT_URL = f'projects/{PROJECT_NUMBER}/locations/{LOCATION}/publishers/google/models/{IMAGE_TEXT_MODEL}'\n",
    "\n",
    "\n",
    "\n",
    "\n",
    "\n",
    "\n",
    "\n"
   ]
  },
  {
   "cell_type": "code",
   "execution_count": null,
   "metadata": {},
   "outputs": [],
   "source": []
  },
  {
   "cell_type": "code",
   "execution_count": 4,
   "metadata": {},
   "outputs": [
    {
     "name": "stdout",
     "output_type": "stream",
     "text": [
      "Access Token is generated for  admin@julienmiquel.altostrat.com\n"
     ]
    }
   ],
   "source": [
    "# @title Setup\n",
    "\n",
    "import json\n",
    "from time import sleep\n",
    "from ratelimit import limits, sleep_and_retry\n",
    "import requests\n",
    "import time\n",
    "\n",
    "from IPython import display\n",
    "import base64\n",
    "\n",
    "\"\"\"\n",
    "Get access token\n",
    "\"\"\"\n",
    "def get_token():\n",
    "    gcloud_token = !gcloud auth print-access-token\n",
    "    gcloud_tokeninfo = requests.get(TOKEN_ENDPOINT_URI + gcloud_token[0]).json()\n",
    "    print(\"Access Token is generated for \", gcloud_tokeninfo['email'])\n",
    "    ACCESS_TOKEN = gcloud_token[0]\n",
    "    return ACCESS_TOKEN\n",
    "\n",
    "\n",
    "ACCESS_TOKEN = get_token()\n",
    "\n",
    "# @title image Generation Model\n",
    "def generate_image(\n",
    "    prompt: str,\n",
    "    sampleImageSize: str,\n",
    "    sampleCount: int,\n",
    "    seed: int\n",
    "    ):\n",
    "\n",
    "        \n",
    "\n",
    "    headers = {\n",
    "      'Authorization': f'Bearer {ACCESS_TOKEN}',\n",
    "      'Content-Type': 'application/json; charset=UTF-8'\n",
    "    }\n",
    "    data = {\"instances\": [{\"prompt\": prompt}],\n",
    "            \"parameters\": {\"sampleImageSize\": sampleImageSize,\"sampleCount\": sampleCount, \"seed\": seed}}\n",
    "\n",
    "    response = requests.post(f'https://{LOCATION}-aiplatform.googleapis.com/v1/{ENDPOINT_URL}:predict', data=json.dumps(data), headers=headers)\n",
    "    return response\n",
    "\n",
    "###\n",
    "# Visual Question Answering (VQA) to get image information\n",
    "##\n",
    "@sleep_and_retry\n",
    "@limits(calls=400, period=60)\n",
    "def visual_qa(\n",
    "    prompt: str,\n",
    "    sampleCount: int,\n",
    "    encoded_str: str\n",
    "    ):\n",
    "    global ACCESS_TOKEN\n",
    "    \n",
    "    headers = {\n",
    "      'Authorization': f'Bearer {ACCESS_TOKEN}',\n",
    "      'Content-Type': 'application/json; charset=UTF-8'\n",
    "    }\n",
    "    \n",
    "    data = {\n",
    "        \"instances\": [\n",
    "            {\n",
    "            \"prompt\": prompt,\n",
    "            \"image\": {\n",
    "                \"bytesBase64Encoded\": encoded_str\n",
    "            }\n",
    "            }\n",
    "        ],\n",
    "        \"parameters\": {\n",
    "            \"sampleCount\": sampleCount\n",
    "            }\n",
    "        }\n",
    "\n",
    "\n",
    "    status_code = 0\n",
    "    while status_code != 200:\n",
    "        response = requests.post(f'https://{LOCATION}-aiplatform.googleapis.com/v1/{IMAGEN_ENDPOINT_URL}:predict', \n",
    "            data=json.dumps(data), headers=headers)\n",
    "        \n",
    "        if response.status_code == 200:\n",
    "            return response\n",
    "        \n",
    "        if response.status_code == 401:\n",
    "            ACCESS_TOKEN = get_token()\n",
    "\n",
    "        if response.status_code == 500:\n",
    "            print(\"ERROR 500 - pass error.\")\n",
    "            return response\n",
    "        \n",
    "        print(f\"ERROR status_code: {response.status_code} - {response.text}\") \n",
    "        status_code = response.status_code\n",
    "        sleep(2)\n",
    "\n",
    "    return response\n",
    "\n",
    "###\n",
    "#Visual captioning is available in the following languages:\n",
    "# English (en)\n",
    "# French (fr)\n",
    "# German (de)\n",
    "# Italian (it)\n",
    "# Spanish (es)\n",
    "##\n",
    "@sleep_and_retry\n",
    "@limits(calls=400, period=60)\n",
    "def visual_captioning(\n",
    "    sampleCount: int,\n",
    "    language: str, \n",
    "    # English (en), French (fr), German (de), Italian (it), Spanish (es)\n",
    "    encoded_str: str\n",
    "    ):\n",
    "    global ACCESS_TOKEN\n",
    "\n",
    "    headers = {\n",
    "      'Authorization': f'Bearer {ACCESS_TOKEN}',\n",
    "      'Content-Type': 'application/json; charset=UTF-8'\n",
    "    }\n",
    "    \n",
    "    data = {\n",
    "        \"instances\": [\n",
    "            {\n",
    "            \"image\": {\n",
    "                \"bytesBase64Encoded\": encoded_str\n",
    "                }\n",
    "            }\n",
    "        ],\n",
    "        \"parameters\": {\n",
    "            \"sampleCount\": sampleCount,\n",
    "            \"language\": language\n",
    "            }\n",
    "        }\n",
    "\n",
    "    status_code = 0\n",
    "    while status_code != 200:\n",
    "        response = requests.post(f'https://{LOCATION}-aiplatform.googleapis.com/v1/{IMAGEN_ENDPOINT_URL}:predict', \n",
    "            data=json.dumps(data), headers=headers)\n",
    "        \n",
    "        if response.status_code == 200:\n",
    "            return response\n",
    "        \n",
    "        print(f\"ERROR status_code: {response.status_code} - {response.text}\") \n",
    "        if response.status_code == 401:\n",
    "            ACCESS_TOKEN = get_token()\n",
    "\n",
    "        if response.status_code == 500:\n",
    "            print(\"ERROR 500 - pass error.\")\n",
    "            return response\n",
    "\n",
    "        print(f\"ERROR status_code: {response.status_code} - {response.text}\") \n",
    "        status_code = response.status_code\n",
    "        \n",
    "        sleep(2)\n"
   ]
  },
  {
   "cell_type": "code",
   "execution_count": 15,
   "metadata": {},
   "outputs": [],
   "source": []
  },
  {
   "cell_type": "code",
   "execution_count": null,
   "metadata": {},
   "outputs": [],
   "source": []
  },
  {
   "cell_type": "code",
   "execution_count": 5,
   "metadata": {},
   "outputs": [
    {
     "data": {
      "application/vnd.jupyter.widget-view+json": {
       "model_id": "89f09cf65d3d4b648fbf2aee3fb37da3",
       "version_major": 2,
       "version_minor": 0
      },
      "text/plain": [
       "Query is running:   0%|          |"
      ]
     },
     "metadata": {},
     "output_type": "display_data"
    },
    {
     "data": {
      "application/vnd.jupyter.widget-view+json": {
       "model_id": "5925f35b00e846d09996b752e9759759",
       "version_major": 2,
       "version_minor": 0
      },
      "text/plain": [
       "Downloading:   0%|          |"
      ]
     },
     "metadata": {},
     "output_type": "display_data"
    }
   ],
   "source": [
    "%%bigquery df\n",
    "      SELECT distinct uri, Id,\n",
    "      FROM `immo_us_enriched.image_cloudvision_labels_1k` \n",
    "      where uri not in (\n",
    "            SELECT uri FROM `ml-demo-384110.immo_us.visual_captioning` \n",
    "            where caption_fr != \"\" and caption_en != \"\" \n",
    "            )\n",
    "            #limit 100\n",
    "\n"
   ]
  },
  {
   "cell_type": "code",
   "execution_count": 55,
   "metadata": {},
   "outputs": [
    {
     "data": {
      "text/html": [
       "<div>\n",
       "<style scoped>\n",
       "    .dataframe tbody tr th:only-of-type {\n",
       "        vertical-align: middle;\n",
       "    }\n",
       "\n",
       "    .dataframe tbody tr th {\n",
       "        vertical-align: top;\n",
       "    }\n",
       "\n",
       "    .dataframe thead th {\n",
       "        text-align: right;\n",
       "    }\n",
       "</style>\n",
       "<table border=\"1\" class=\"dataframe\">\n",
       "  <thead>\n",
       "    <tr style=\"text-align: right;\">\n",
       "      <th></th>\n",
       "      <th>uri</th>\n",
       "      <th>Id</th>\n",
       "    </tr>\n",
       "  </thead>\n",
       "  <tbody>\n",
       "    <tr>\n",
       "      <th>count</th>\n",
       "      <td>864</td>\n",
       "      <td>864</td>\n",
       "    </tr>\n",
       "    <tr>\n",
       "      <th>unique</th>\n",
       "      <td>864</td>\n",
       "      <td>64</td>\n",
       "    </tr>\n",
       "    <tr>\n",
       "      <th>top</th>\n",
       "      <td>gs://ml-demo-384110-bucket/dataset/immo/images...</td>\n",
       "      <td>apimo-7181337</td>\n",
       "    </tr>\n",
       "    <tr>\n",
       "      <th>freq</th>\n",
       "      <td>1</td>\n",
       "      <td>26</td>\n",
       "    </tr>\n",
       "  </tbody>\n",
       "</table>\n",
       "</div>"
      ],
      "text/plain": [
       "                                                      uri             Id\n",
       "count                                                 864            864\n",
       "unique                                                864             64\n",
       "top     gs://ml-demo-384110-bucket/dataset/immo/images...  apimo-7181337\n",
       "freq                                                    1             26"
      ]
     },
     "execution_count": 55,
     "metadata": {},
     "output_type": "execute_result"
    }
   ],
   "source": [
    "df.describe()\n"
   ]
  },
  {
   "cell_type": "code",
   "execution_count": 6,
   "metadata": {},
   "outputs": [
    {
     "data": {
      "text/html": [
       "<div>\n",
       "<style scoped>\n",
       "    .dataframe tbody tr th:only-of-type {\n",
       "        vertical-align: middle;\n",
       "    }\n",
       "\n",
       "    .dataframe tbody tr th {\n",
       "        vertical-align: top;\n",
       "    }\n",
       "\n",
       "    .dataframe thead th {\n",
       "        text-align: right;\n",
       "    }\n",
       "</style>\n",
       "<table border=\"1\" class=\"dataframe\">\n",
       "  <thead>\n",
       "    <tr style=\"text-align: right;\">\n",
       "      <th></th>\n",
       "      <th>uri</th>\n",
       "      <th>Id</th>\n",
       "    </tr>\n",
       "  </thead>\n",
       "  <tbody>\n",
       "    <tr>\n",
       "      <th>count</th>\n",
       "      <td>425</td>\n",
       "      <td>425</td>\n",
       "    </tr>\n",
       "    <tr>\n",
       "      <th>unique</th>\n",
       "      <td>425</td>\n",
       "      <td>41</td>\n",
       "    </tr>\n",
       "    <tr>\n",
       "      <th>top</th>\n",
       "      <td>gs://ml-demo-384110-bucket/dataset/immo/images...</td>\n",
       "      <td>safti-1-807163</td>\n",
       "    </tr>\n",
       "    <tr>\n",
       "      <th>freq</th>\n",
       "      <td>1</td>\n",
       "      <td>20</td>\n",
       "    </tr>\n",
       "  </tbody>\n",
       "</table>\n",
       "</div>"
      ],
      "text/plain": [
       "                                                      uri              Id\n",
       "count                                                 425             425\n",
       "unique                                                425              41\n",
       "top     gs://ml-demo-384110-bucket/dataset/immo/images...  safti-1-807163\n",
       "freq                                                    1              20"
      ]
     },
     "execution_count": 6,
     "metadata": {},
     "output_type": "execute_result"
    }
   ],
   "source": [
    "df.describe()\n"
   ]
  },
  {
   "cell_type": "code",
   "execution_count": 7,
   "metadata": {},
   "outputs": [],
   "source": [
    "\n",
    "from tools import *\n",
    "\n",
    "def add_images_caption_to_df(df, language = \"en\", bucket_name = \"ml-demo-384110-bucket\"):\n",
    "\n",
    "    df[f'caption_{language}' ] = df.uri.map(lambda uri_name:                                    \n",
    "                                   \n",
    "                                   print_text_response(visual_captioning( 1, language,str(read_b64_from_gcs(bucket, uri_name.replace(f\"gs://{bucket_name}/\", \"\")), 'UTF-8'))\n",
    "                                  )\n",
    "                                  )\n",
    "    \n",
    "    return df\n",
    "\n",
    "\n",
    "def add_images_visual_caption_to_df(df, prompt, name, number_of_answer, language = \"en\", bucket_name = \"ml-demo-384110-bucket\"):\n",
    "\n",
    "    df[f'caption_{name}' ] = df.uri.map(lambda uri_name: \n",
    "                                   print_text_response(visual_qa(prompt, number_of_answer, language,str(read_b64_from_gcs(bucket, uri_name.replace(f\"gs://{bucket_name}/\", \"\")), 'UTF-8'))\n",
    "                                  )\n",
    "                                  )\n",
    "    \n",
    "    return df\n",
    "\n",
    "\n",
    "\n"
   ]
  },
  {
   "cell_type": "code",
   "execution_count": 8,
   "metadata": {},
   "outputs": [],
   "source": [
    "\n",
    "BQ_DATASET_NAME = 'immo_us' \n",
    "BQ_TABLE_NAME = 'visual_captioning'\n",
    "project_table = PROJECT_ID + \".\" +BQ_DATASET_NAME +\".\" + BQ_TABLE_NAME\n"
   ]
  },
  {
   "cell_type": "markdown",
   "metadata": {},
   "source": [
    "## Process description\n"
   ]
  },
  {
   "cell_type": "code",
   "execution_count": null,
   "metadata": {},
   "outputs": [],
   "source": []
  },
  {
   "cell_type": "code",
   "execution_count": 9,
   "metadata": {},
   "outputs": [
    {
     "name": "stdout",
     "output_type": "stream",
     "text": [
      "ag340369-381741688\n",
      "a floor plan of a house with three bedrooms and a spiral staircase .\n"
     ]
    },
    {
     "name": "stderr",
     "output_type": "stream",
     "text": [
      "/var/folders/2_/jl1djv6975g5c0pygxnl873w00pwkm/T/ipykernel_22858/4168347006.py:5: SettingWithCopyWarning: \n",
      "A value is trying to be set on a copy of a slice from a DataFrame.\n",
      "Try using .loc[row_indexer,col_indexer] = value instead\n",
      "\n",
      "See the caveats in the documentation: https://pandas.pydata.org/pandas-docs/stable/user_guide/indexing.html#returning-a-view-versus-a-copy\n",
      "  df[f'caption_{language}' ] = df.uri.map(lambda uri_name:\n"
     ]
    },
    {
     "name": "stdout",
     "output_type": "stream",
     "text": [
      "ERROR status_code: 500 - {\n",
      "  \"error\": {\n",
      "    \"code\": 500,\n",
      "    \"message\": \"Internal error encountered.\",\n",
      "    \"status\": \"INTERNAL\"\n",
      "  }\n",
      "}\n",
      "\n",
      "ERROR 500 - pass error.\n",
      "<Response [500]>\n",
      "SAVE index chunk : ag340369-381741688\n",
      "save_bq\n"
     ]
    },
    {
     "name": "stderr",
     "output_type": "stream",
     "text": [
      "/var/folders/2_/jl1djv6975g5c0pygxnl873w00pwkm/T/ipykernel_22858/4168347006.py:5: SettingWithCopyWarning: \n",
      "A value is trying to be set on a copy of a slice from a DataFrame.\n",
      "Try using .loc[row_indexer,col_indexer] = value instead\n",
      "\n",
      "See the caveats in the documentation: https://pandas.pydata.org/pandas-docs/stable/user_guide/indexing.html#returning-a-view-versus-a-copy\n",
      "  df[f'caption_{language}' ] = df.uri.map(lambda uri_name:\n",
      "/var/folders/2_/jl1djv6975g5c0pygxnl873w00pwkm/T/ipykernel_22858/155183685.py:15: SettingWithCopyWarning: \n",
      "A value is trying to be set on a copy of a slice from a DataFrame.\n",
      "Try using .loc[row_indexer,col_indexer] = value instead\n",
      "\n",
      "See the caveats in the documentation: https://pandas.pydata.org/pandas-docs/stable/user_guide/indexing.html#returning-a-view-versus-a-copy\n",
      "  df_vqa[\"update_time\"] = update_time()\n",
      "100%|██████████| 1/1 [00:00<00:00, 10645.44it/s]\n"
     ]
    },
    {
     "name": "stdout",
     "output_type": "stream",
     "text": [
      "ag753296-384794585\n",
      "a room with a chair and a desk and the word hosman on the bottom\n"
     ]
    },
    {
     "name": "stderr",
     "output_type": "stream",
     "text": [
      "/var/folders/2_/jl1djv6975g5c0pygxnl873w00pwkm/T/ipykernel_22858/4168347006.py:5: SettingWithCopyWarning: \n",
      "A value is trying to be set on a copy of a slice from a DataFrame.\n",
      "Try using .loc[row_indexer,col_indexer] = value instead\n",
      "\n",
      "See the caveats in the documentation: https://pandas.pydata.org/pandas-docs/stable/user_guide/indexing.html#returning-a-view-versus-a-copy\n",
      "  df[f'caption_{language}' ] = df.uri.map(lambda uri_name:\n"
     ]
    },
    {
     "name": "stdout",
     "output_type": "stream",
     "text": [
      "ERROR status_code: 500 - {\n",
      "  \"error\": {\n",
      "    \"code\": 500,\n",
      "    \"message\": \"Internal error encountered.\",\n",
      "    \"status\": \"INTERNAL\"\n",
      "  }\n",
      "}\n",
      "\n",
      "ERROR 500 - pass error.\n",
      "<Response [500]>\n",
      "SAVE index chunk : ag753296-384794585\n",
      "save_bq\n"
     ]
    },
    {
     "name": "stderr",
     "output_type": "stream",
     "text": [
      "/var/folders/2_/jl1djv6975g5c0pygxnl873w00pwkm/T/ipykernel_22858/4168347006.py:5: SettingWithCopyWarning: \n",
      "A value is trying to be set on a copy of a slice from a DataFrame.\n",
      "Try using .loc[row_indexer,col_indexer] = value instead\n",
      "\n",
      "See the caveats in the documentation: https://pandas.pydata.org/pandas-docs/stable/user_guide/indexing.html#returning-a-view-versus-a-copy\n",
      "  df[f'caption_{language}' ] = df.uri.map(lambda uri_name:\n",
      "/var/folders/2_/jl1djv6975g5c0pygxnl873w00pwkm/T/ipykernel_22858/155183685.py:15: SettingWithCopyWarning: \n",
      "A value is trying to be set on a copy of a slice from a DataFrame.\n",
      "Try using .loc[row_indexer,col_indexer] = value instead\n",
      "\n",
      "See the caveats in the documentation: https://pandas.pydata.org/pandas-docs/stable/user_guide/indexing.html#returning-a-view-versus-a-copy\n",
      "  df_vqa[\"update_time\"] = update_time()\n",
      "100%|██████████| 1/1 [00:00<00:00, 21732.15it/s]\n"
     ]
    },
    {
     "name": "stdout",
     "output_type": "stream",
     "text": [
      "apimo-7406943\n",
      "a kitchen with a stove , dishwasher , sink , and window .\n"
     ]
    },
    {
     "name": "stderr",
     "output_type": "stream",
     "text": [
      "/var/folders/2_/jl1djv6975g5c0pygxnl873w00pwkm/T/ipykernel_22858/4168347006.py:5: SettingWithCopyWarning: \n",
      "A value is trying to be set on a copy of a slice from a DataFrame.\n",
      "Try using .loc[row_indexer,col_indexer] = value instead\n",
      "\n",
      "See the caveats in the documentation: https://pandas.pydata.org/pandas-docs/stable/user_guide/indexing.html#returning-a-view-versus-a-copy\n",
      "  df[f'caption_{language}' ] = df.uri.map(lambda uri_name:\n"
     ]
    },
    {
     "name": "stdout",
     "output_type": "stream",
     "text": [
      "ERROR status_code: 500 - {\n",
      "  \"error\": {\n",
      "    \"code\": 500,\n",
      "    \"message\": \"Internal error encountered.\",\n",
      "    \"status\": \"INTERNAL\"\n",
      "  }\n",
      "}\n",
      "\n",
      "ERROR 500 - pass error.\n",
      "<Response [500]>\n",
      "SAVE index chunk : apimo-7406943\n",
      "save_bq\n"
     ]
    },
    {
     "name": "stderr",
     "output_type": "stream",
     "text": [
      "/var/folders/2_/jl1djv6975g5c0pygxnl873w00pwkm/T/ipykernel_22858/4168347006.py:5: SettingWithCopyWarning: \n",
      "A value is trying to be set on a copy of a slice from a DataFrame.\n",
      "Try using .loc[row_indexer,col_indexer] = value instead\n",
      "\n",
      "See the caveats in the documentation: https://pandas.pydata.org/pandas-docs/stable/user_guide/indexing.html#returning-a-view-versus-a-copy\n",
      "  df[f'caption_{language}' ] = df.uri.map(lambda uri_name:\n",
      "/var/folders/2_/jl1djv6975g5c0pygxnl873w00pwkm/T/ipykernel_22858/155183685.py:15: SettingWithCopyWarning: \n",
      "A value is trying to be set on a copy of a slice from a DataFrame.\n",
      "Try using .loc[row_indexer,col_indexer] = value instead\n",
      "\n",
      "See the caveats in the documentation: https://pandas.pydata.org/pandas-docs/stable/user_guide/indexing.html#returning-a-view-versus-a-copy\n",
      "  df_vqa[\"update_time\"] = update_time()\n",
      "100%|██████████| 1/1 [00:00<00:00, 15650.39it/s]\n"
     ]
    },
    {
     "name": "stdout",
     "output_type": "stream",
     "text": [
      "apimo-8222658\n",
      "the word progress that is on a building\n"
     ]
    },
    {
     "name": "stderr",
     "output_type": "stream",
     "text": [
      "/var/folders/2_/jl1djv6975g5c0pygxnl873w00pwkm/T/ipykernel_22858/4168347006.py:5: SettingWithCopyWarning: \n",
      "A value is trying to be set on a copy of a slice from a DataFrame.\n",
      "Try using .loc[row_indexer,col_indexer] = value instead\n",
      "\n",
      "See the caveats in the documentation: https://pandas.pydata.org/pandas-docs/stable/user_guide/indexing.html#returning-a-view-versus-a-copy\n",
      "  df[f'caption_{language}' ] = df.uri.map(lambda uri_name:\n"
     ]
    },
    {
     "name": "stdout",
     "output_type": "stream",
     "text": [
      "un long couloir avec un tapis roulant et des pots de fleurs avec le logo progress-immo\n",
      "SAVE index chunk : apimo-8222658\n",
      "save_bq\n"
     ]
    },
    {
     "name": "stderr",
     "output_type": "stream",
     "text": [
      "/var/folders/2_/jl1djv6975g5c0pygxnl873w00pwkm/T/ipykernel_22858/4168347006.py:5: SettingWithCopyWarning: \n",
      "A value is trying to be set on a copy of a slice from a DataFrame.\n",
      "Try using .loc[row_indexer,col_indexer] = value instead\n",
      "\n",
      "See the caveats in the documentation: https://pandas.pydata.org/pandas-docs/stable/user_guide/indexing.html#returning-a-view-versus-a-copy\n",
      "  df[f'caption_{language}' ] = df.uri.map(lambda uri_name:\n",
      "/var/folders/2_/jl1djv6975g5c0pygxnl873w00pwkm/T/ipykernel_22858/155183685.py:15: SettingWithCopyWarning: \n",
      "A value is trying to be set on a copy of a slice from a DataFrame.\n",
      "Try using .loc[row_indexer,col_indexer] = value instead\n",
      "\n",
      "See the caveats in the documentation: https://pandas.pydata.org/pandas-docs/stable/user_guide/indexing.html#returning-a-view-versus-a-copy\n",
      "  df_vqa[\"update_time\"] = update_time()\n",
      "100%|██████████| 1/1 [00:00<00:00, 9619.96it/s]\n"
     ]
    },
    {
     "name": "stdout",
     "output_type": "stream",
     "text": [
      "apimo-82421909\n",
      "a dining room with a table and chairs and a sign that says morisse immobilier\n"
     ]
    },
    {
     "name": "stderr",
     "output_type": "stream",
     "text": [
      "/var/folders/2_/jl1djv6975g5c0pygxnl873w00pwkm/T/ipykernel_22858/4168347006.py:5: SettingWithCopyWarning: \n",
      "A value is trying to be set on a copy of a slice from a DataFrame.\n",
      "Try using .loc[row_indexer,col_indexer] = value instead\n",
      "\n",
      "See the caveats in the documentation: https://pandas.pydata.org/pandas-docs/stable/user_guide/indexing.html#returning-a-view-versus-a-copy\n",
      "  df[f'caption_{language}' ] = df.uri.map(lambda uri_name:\n"
     ]
    },
    {
     "ename": "KeyboardInterrupt",
     "evalue": "",
     "output_type": "error",
     "traceback": [
      "\u001b[0;31m---------------------------------------------------------------------------\u001b[0m",
      "\u001b[0;31mKeyboardInterrupt\u001b[0m                         Traceback (most recent call last)",
      "\u001b[1;32m/Users/julienmiquel/dev/github-capstone-vae/Capstone/src/1_download/src/6_VQA.ipynb Cell 15\u001b[0m in \u001b[0;36m2\n\u001b[1;32m     <a href='vscode-notebook-cell:/Users/julienmiquel/dev/github-capstone-vae/Capstone/src/1_download/src/6_VQA.ipynb#X16sZmlsZQ%3D%3D?line=16'>17</a>\u001b[0m         \u001b[39mprint\u001b[39m(\u001b[39mf\u001b[39m\u001b[39m\"\u001b[39m\u001b[39mSAVE index chunk : \u001b[39m\u001b[39m{\u001b[39;00m\u001b[39mid\u001b[39m\u001b[39m}\u001b[39;00m\u001b[39m\"\u001b[39m)\n\u001b[1;32m     <a href='vscode-notebook-cell:/Users/julienmiquel/dev/github-capstone-vae/Capstone/src/1_download/src/6_VQA.ipynb#X16sZmlsZQ%3D%3D?line=17'>18</a>\u001b[0m         save_bq(df_vqa, table_id\u001b[39m=\u001b[39mproject_table, project_id\u001b[39m=\u001b[39mPROJECT_ID)\n\u001b[0;32m---> <a href='vscode-notebook-cell:/Users/julienmiquel/dev/github-capstone-vae/Capstone/src/1_download/src/6_VQA.ipynb#X16sZmlsZQ%3D%3D?line=19'>20</a>\u001b[0m process_description(df)\n",
      "\u001b[1;32m/Users/julienmiquel/dev/github-capstone-vae/Capstone/src/1_download/src/6_VQA.ipynb Cell 15\u001b[0m in \u001b[0;36m1\n\u001b[1;32m     <a href='vscode-notebook-cell:/Users/julienmiquel/dev/github-capstone-vae/Capstone/src/1_download/src/6_VQA.ipynb#X16sZmlsZQ%3D%3D?line=9'>10</a>\u001b[0m df_vqa \u001b[39m=\u001b[39m df[df[\u001b[39m\"\u001b[39m\u001b[39mId\u001b[39m\u001b[39m\"\u001b[39m] \u001b[39m==\u001b[39m \u001b[39mid\u001b[39m]\n\u001b[1;32m     <a href='vscode-notebook-cell:/Users/julienmiquel/dev/github-capstone-vae/Capstone/src/1_download/src/6_VQA.ipynb#X16sZmlsZQ%3D%3D?line=11'>12</a>\u001b[0m df_vqa \u001b[39m=\u001b[39m add_images_caption_to_df(df_vqa, \u001b[39m\"\u001b[39m\u001b[39men\u001b[39m\u001b[39m\"\u001b[39m)\n\u001b[0;32m---> <a href='vscode-notebook-cell:/Users/julienmiquel/dev/github-capstone-vae/Capstone/src/1_download/src/6_VQA.ipynb#X16sZmlsZQ%3D%3D?line=12'>13</a>\u001b[0m df_vqa \u001b[39m=\u001b[39m add_images_caption_to_df(df_vqa, \u001b[39m\"\u001b[39;49m\u001b[39mfr\u001b[39;49m\u001b[39m\"\u001b[39;49m)\n\u001b[1;32m     <a href='vscode-notebook-cell:/Users/julienmiquel/dev/github-capstone-vae/Capstone/src/1_download/src/6_VQA.ipynb#X16sZmlsZQ%3D%3D?line=14'>15</a>\u001b[0m df_vqa[\u001b[39m\"\u001b[39m\u001b[39mupdate_time\u001b[39m\u001b[39m\"\u001b[39m] \u001b[39m=\u001b[39m update_time()\n\u001b[1;32m     <a href='vscode-notebook-cell:/Users/julienmiquel/dev/github-capstone-vae/Capstone/src/1_download/src/6_VQA.ipynb#X16sZmlsZQ%3D%3D?line=16'>17</a>\u001b[0m \u001b[39mprint\u001b[39m(\u001b[39mf\u001b[39m\u001b[39m\"\u001b[39m\u001b[39mSAVE index chunk : \u001b[39m\u001b[39m{\u001b[39;00m\u001b[39mid\u001b[39m\u001b[39m}\u001b[39;00m\u001b[39m\"\u001b[39m)\n",
      "\u001b[1;32m/Users/julienmiquel/dev/github-capstone-vae/Capstone/src/1_download/src/6_VQA.ipynb Cell 15\u001b[0m in \u001b[0;36m5\n\u001b[1;32m      <a href='vscode-notebook-cell:/Users/julienmiquel/dev/github-capstone-vae/Capstone/src/1_download/src/6_VQA.ipynb#X16sZmlsZQ%3D%3D?line=2'>3</a>\u001b[0m \u001b[39mdef\u001b[39;00m \u001b[39madd_images_caption_to_df\u001b[39m(df, language \u001b[39m=\u001b[39m \u001b[39m\"\u001b[39m\u001b[39men\u001b[39m\u001b[39m\"\u001b[39m, bucket_name \u001b[39m=\u001b[39m \u001b[39m\"\u001b[39m\u001b[39mml-demo-384110-bucket\u001b[39m\u001b[39m\"\u001b[39m):\n\u001b[0;32m----> <a href='vscode-notebook-cell:/Users/julienmiquel/dev/github-capstone-vae/Capstone/src/1_download/src/6_VQA.ipynb#X16sZmlsZQ%3D%3D?line=4'>5</a>\u001b[0m     df[\u001b[39mf\u001b[39m\u001b[39m'\u001b[39m\u001b[39mcaption_\u001b[39m\u001b[39m{\u001b[39;00mlanguage\u001b[39m}\u001b[39;00m\u001b[39m'\u001b[39m ] \u001b[39m=\u001b[39m df\u001b[39m.\u001b[39;49muri\u001b[39m.\u001b[39;49mmap(\u001b[39mlambda\u001b[39;49;00m uri_name:                                    \n\u001b[1;32m      <a href='vscode-notebook-cell:/Users/julienmiquel/dev/github-capstone-vae/Capstone/src/1_download/src/6_VQA.ipynb#X16sZmlsZQ%3D%3D?line=5'>6</a>\u001b[0m                                    \n\u001b[1;32m      <a href='vscode-notebook-cell:/Users/julienmiquel/dev/github-capstone-vae/Capstone/src/1_download/src/6_VQA.ipynb#X16sZmlsZQ%3D%3D?line=6'>7</a>\u001b[0m                                    print_text_response(visual_captioning( \u001b[39m1\u001b[39;49m, language,\u001b[39mstr\u001b[39;49m(read_b64_from_gcs(bucket, uri_name\u001b[39m.\u001b[39;49mreplace(\u001b[39mf\u001b[39;49m\u001b[39m\"\u001b[39;49m\u001b[39mgs://\u001b[39;49m\u001b[39m{\u001b[39;49;00mbucket_name\u001b[39m}\u001b[39;49;00m\u001b[39m/\u001b[39;49m\u001b[39m\"\u001b[39;49m, \u001b[39m\"\u001b[39;49m\u001b[39m\"\u001b[39;49m)), \u001b[39m'\u001b[39;49m\u001b[39mUTF-8\u001b[39;49m\u001b[39m'\u001b[39;49m))\n\u001b[1;32m      <a href='vscode-notebook-cell:/Users/julienmiquel/dev/github-capstone-vae/Capstone/src/1_download/src/6_VQA.ipynb#X16sZmlsZQ%3D%3D?line=7'>8</a>\u001b[0m                                   )\n\u001b[1;32m      <a href='vscode-notebook-cell:/Users/julienmiquel/dev/github-capstone-vae/Capstone/src/1_download/src/6_VQA.ipynb#X16sZmlsZQ%3D%3D?line=8'>9</a>\u001b[0m                                   )\n\u001b[1;32m     <a href='vscode-notebook-cell:/Users/julienmiquel/dev/github-capstone-vae/Capstone/src/1_download/src/6_VQA.ipynb#X16sZmlsZQ%3D%3D?line=10'>11</a>\u001b[0m     \u001b[39mreturn\u001b[39;00m df\n",
      "File \u001b[0;32m/opt/homebrew/lib/python3.10/site-packages/pandas/core/series.py:4397\u001b[0m, in \u001b[0;36mSeries.map\u001b[0;34m(self, arg, na_action)\u001b[0m\n\u001b[1;32m   4318\u001b[0m \u001b[39mdef\u001b[39;00m \u001b[39mmap\u001b[39m(\n\u001b[1;32m   4319\u001b[0m     \u001b[39mself\u001b[39m,\n\u001b[1;32m   4320\u001b[0m     arg: Callable \u001b[39m|\u001b[39m Mapping \u001b[39m|\u001b[39m Series,\n\u001b[1;32m   4321\u001b[0m     na_action: Literal[\u001b[39m\"\u001b[39m\u001b[39mignore\u001b[39m\u001b[39m\"\u001b[39m] \u001b[39m|\u001b[39m \u001b[39mNone\u001b[39;00m \u001b[39m=\u001b[39m \u001b[39mNone\u001b[39;00m,\n\u001b[1;32m   4322\u001b[0m ) \u001b[39m-\u001b[39m\u001b[39m>\u001b[39m Series:\n\u001b[1;32m   4323\u001b[0m \u001b[39m    \u001b[39m\u001b[39m\"\"\"\u001b[39;00m\n\u001b[1;32m   4324\u001b[0m \u001b[39m    Map values of Series according to an input mapping or function.\u001b[39;00m\n\u001b[1;32m   4325\u001b[0m \n\u001b[0;32m   (...)\u001b[0m\n\u001b[1;32m   4395\u001b[0m \u001b[39m    dtype: object\u001b[39;00m\n\u001b[1;32m   4396\u001b[0m \u001b[39m    \"\"\"\u001b[39;00m\n\u001b[0;32m-> 4397\u001b[0m     new_values \u001b[39m=\u001b[39m \u001b[39mself\u001b[39;49m\u001b[39m.\u001b[39;49m_map_values(arg, na_action\u001b[39m=\u001b[39;49mna_action)\n\u001b[1;32m   4398\u001b[0m     \u001b[39mreturn\u001b[39;00m \u001b[39mself\u001b[39m\u001b[39m.\u001b[39m_constructor(new_values, index\u001b[39m=\u001b[39m\u001b[39mself\u001b[39m\u001b[39m.\u001b[39mindex, copy\u001b[39m=\u001b[39m\u001b[39mFalse\u001b[39;00m)\u001b[39m.\u001b[39m__finalize__(\n\u001b[1;32m   4399\u001b[0m         \u001b[39mself\u001b[39m, method\u001b[39m=\u001b[39m\u001b[39m\"\u001b[39m\u001b[39mmap\u001b[39m\u001b[39m\"\u001b[39m\n\u001b[1;32m   4400\u001b[0m     )\n",
      "File \u001b[0;32m/opt/homebrew/lib/python3.10/site-packages/pandas/core/base.py:924\u001b[0m, in \u001b[0;36mIndexOpsMixin._map_values\u001b[0;34m(self, mapper, na_action)\u001b[0m\n\u001b[1;32m    921\u001b[0m         \u001b[39mraise\u001b[39;00m \u001b[39mValueError\u001b[39;00m(msg)\n\u001b[1;32m    923\u001b[0m \u001b[39m# mapper is a function\u001b[39;00m\n\u001b[0;32m--> 924\u001b[0m new_values \u001b[39m=\u001b[39m map_f(values, mapper)\n\u001b[1;32m    926\u001b[0m \u001b[39mreturn\u001b[39;00m new_values\n",
      "File \u001b[0;32m/opt/homebrew/lib/python3.10/site-packages/pandas/_libs/lib.pyx:2834\u001b[0m, in \u001b[0;36mpandas._libs.lib.map_infer\u001b[0;34m()\u001b[0m\n",
      "\u001b[1;32m/Users/julienmiquel/dev/github-capstone-vae/Capstone/src/1_download/src/6_VQA.ipynb Cell 15\u001b[0m in \u001b[0;36m7\n\u001b[1;32m      <a href='vscode-notebook-cell:/Users/julienmiquel/dev/github-capstone-vae/Capstone/src/1_download/src/6_VQA.ipynb#X16sZmlsZQ%3D%3D?line=2'>3</a>\u001b[0m \u001b[39mdef\u001b[39;00m \u001b[39madd_images_caption_to_df\u001b[39m(df, language \u001b[39m=\u001b[39m \u001b[39m\"\u001b[39m\u001b[39men\u001b[39m\u001b[39m\"\u001b[39m, bucket_name \u001b[39m=\u001b[39m \u001b[39m\"\u001b[39m\u001b[39mml-demo-384110-bucket\u001b[39m\u001b[39m\"\u001b[39m):\n\u001b[1;32m      <a href='vscode-notebook-cell:/Users/julienmiquel/dev/github-capstone-vae/Capstone/src/1_download/src/6_VQA.ipynb#X16sZmlsZQ%3D%3D?line=4'>5</a>\u001b[0m     df[\u001b[39mf\u001b[39m\u001b[39m'\u001b[39m\u001b[39mcaption_\u001b[39m\u001b[39m{\u001b[39;00mlanguage\u001b[39m}\u001b[39;00m\u001b[39m'\u001b[39m ] \u001b[39m=\u001b[39m df\u001b[39m.\u001b[39muri\u001b[39m.\u001b[39mmap(\u001b[39mlambda\u001b[39;00m uri_name:                                    \n\u001b[1;32m      <a href='vscode-notebook-cell:/Users/julienmiquel/dev/github-capstone-vae/Capstone/src/1_download/src/6_VQA.ipynb#X16sZmlsZQ%3D%3D?line=5'>6</a>\u001b[0m                                    \n\u001b[0;32m----> <a href='vscode-notebook-cell:/Users/julienmiquel/dev/github-capstone-vae/Capstone/src/1_download/src/6_VQA.ipynb#X16sZmlsZQ%3D%3D?line=6'>7</a>\u001b[0m                                    print_text_response(visual_captioning( \u001b[39m1\u001b[39;49m, language,\u001b[39mstr\u001b[39;49m(read_b64_from_gcs(bucket, uri_name\u001b[39m.\u001b[39;49mreplace(\u001b[39mf\u001b[39;49m\u001b[39m\"\u001b[39;49m\u001b[39mgs://\u001b[39;49m\u001b[39m{\u001b[39;49;00mbucket_name\u001b[39m}\u001b[39;49;00m\u001b[39m/\u001b[39;49m\u001b[39m\"\u001b[39;49m, \u001b[39m\"\u001b[39;49m\u001b[39m\"\u001b[39;49m)), \u001b[39m'\u001b[39;49m\u001b[39mUTF-8\u001b[39;49m\u001b[39m'\u001b[39;49m))\n\u001b[1;32m      <a href='vscode-notebook-cell:/Users/julienmiquel/dev/github-capstone-vae/Capstone/src/1_download/src/6_VQA.ipynb#X16sZmlsZQ%3D%3D?line=7'>8</a>\u001b[0m                                   )\n\u001b[1;32m      <a href='vscode-notebook-cell:/Users/julienmiquel/dev/github-capstone-vae/Capstone/src/1_download/src/6_VQA.ipynb#X16sZmlsZQ%3D%3D?line=8'>9</a>\u001b[0m                                   )\n\u001b[1;32m     <a href='vscode-notebook-cell:/Users/julienmiquel/dev/github-capstone-vae/Capstone/src/1_download/src/6_VQA.ipynb#X16sZmlsZQ%3D%3D?line=10'>11</a>\u001b[0m     \u001b[39mreturn\u001b[39;00m df\n",
      "File \u001b[0;32m/opt/homebrew/lib/python3.10/site-packages/ratelimit/decorators.py:113\u001b[0m, in \u001b[0;36msleep_and_retry.<locals>.wrapper\u001b[0;34m(*args, **kargs)\u001b[0m\n\u001b[1;32m    111\u001b[0m \u001b[39mwhile\u001b[39;00m \u001b[39mTrue\u001b[39;00m:\n\u001b[1;32m    112\u001b[0m     \u001b[39mtry\u001b[39;00m:\n\u001b[0;32m--> 113\u001b[0m         \u001b[39mreturn\u001b[39;00m func(\u001b[39m*\u001b[39;49margs, \u001b[39m*\u001b[39;49m\u001b[39m*\u001b[39;49mkargs)\n\u001b[1;32m    114\u001b[0m     \u001b[39mexcept\u001b[39;00m RateLimitException \u001b[39mas\u001b[39;00m exception:\n\u001b[1;32m    115\u001b[0m         time\u001b[39m.\u001b[39msleep(exception\u001b[39m.\u001b[39mperiod_remaining)\n",
      "File \u001b[0;32m/opt/homebrew/lib/python3.10/site-packages/ratelimit/decorators.py:80\u001b[0m, in \u001b[0;36mRateLimitDecorator.__call__.<locals>.wrapper\u001b[0;34m(*args, **kargs)\u001b[0m\n\u001b[1;32m     77\u001b[0m             \u001b[39mraise\u001b[39;00m RateLimitException(\u001b[39m'\u001b[39m\u001b[39mtoo many calls\u001b[39m\u001b[39m'\u001b[39m, period_remaining)\n\u001b[1;32m     78\u001b[0m         \u001b[39mreturn\u001b[39;00m\n\u001b[0;32m---> 80\u001b[0m \u001b[39mreturn\u001b[39;00m func(\u001b[39m*\u001b[39;49margs, \u001b[39m*\u001b[39;49m\u001b[39m*\u001b[39;49mkargs)\n",
      "\u001b[1;32m/Users/julienmiquel/dev/github-capstone-vae/Capstone/src/1_download/src/6_VQA.ipynb Cell 15\u001b[0m in \u001b[0;36m1\n\u001b[1;32m    <a href='vscode-notebook-cell:/Users/julienmiquel/dev/github-capstone-vae/Capstone/src/1_download/src/6_VQA.ipynb#X16sZmlsZQ%3D%3D?line=134'>135</a>\u001b[0m status_code \u001b[39m=\u001b[39m \u001b[39m0\u001b[39m\n\u001b[1;32m    <a href='vscode-notebook-cell:/Users/julienmiquel/dev/github-capstone-vae/Capstone/src/1_download/src/6_VQA.ipynb#X16sZmlsZQ%3D%3D?line=135'>136</a>\u001b[0m \u001b[39mwhile\u001b[39;00m status_code \u001b[39m!=\u001b[39m \u001b[39m200\u001b[39m:\n\u001b[0;32m--> <a href='vscode-notebook-cell:/Users/julienmiquel/dev/github-capstone-vae/Capstone/src/1_download/src/6_VQA.ipynb#X16sZmlsZQ%3D%3D?line=136'>137</a>\u001b[0m     response \u001b[39m=\u001b[39m requests\u001b[39m.\u001b[39;49mpost(\u001b[39mf\u001b[39;49m\u001b[39m'\u001b[39;49m\u001b[39mhttps://\u001b[39;49m\u001b[39m{\u001b[39;49;00mLOCATION\u001b[39m}\u001b[39;49;00m\u001b[39m-aiplatform.googleapis.com/v1/\u001b[39;49m\u001b[39m{\u001b[39;49;00mIMAGEN_ENDPOINT_URL\u001b[39m}\u001b[39;49;00m\u001b[39m:predict\u001b[39;49m\u001b[39m'\u001b[39;49m, \n\u001b[1;32m    <a href='vscode-notebook-cell:/Users/julienmiquel/dev/github-capstone-vae/Capstone/src/1_download/src/6_VQA.ipynb#X16sZmlsZQ%3D%3D?line=137'>138</a>\u001b[0m         data\u001b[39m=\u001b[39;49mjson\u001b[39m.\u001b[39;49mdumps(data), headers\u001b[39m=\u001b[39;49mheaders)\n\u001b[1;32m    <a href='vscode-notebook-cell:/Users/julienmiquel/dev/github-capstone-vae/Capstone/src/1_download/src/6_VQA.ipynb#X16sZmlsZQ%3D%3D?line=139'>140</a>\u001b[0m     \u001b[39mif\u001b[39;00m response\u001b[39m.\u001b[39mstatus_code \u001b[39m==\u001b[39m \u001b[39m200\u001b[39m:\n\u001b[1;32m    <a href='vscode-notebook-cell:/Users/julienmiquel/dev/github-capstone-vae/Capstone/src/1_download/src/6_VQA.ipynb#X16sZmlsZQ%3D%3D?line=140'>141</a>\u001b[0m         \u001b[39mreturn\u001b[39;00m response\n",
      "File \u001b[0;32m/opt/homebrew/lib/python3.10/site-packages/requests/api.py:115\u001b[0m, in \u001b[0;36mpost\u001b[0;34m(url, data, json, **kwargs)\u001b[0m\n\u001b[1;32m    103\u001b[0m \u001b[39mdef\u001b[39;00m \u001b[39mpost\u001b[39m(url, data\u001b[39m=\u001b[39m\u001b[39mNone\u001b[39;00m, json\u001b[39m=\u001b[39m\u001b[39mNone\u001b[39;00m, \u001b[39m*\u001b[39m\u001b[39m*\u001b[39mkwargs):\n\u001b[1;32m    104\u001b[0m \u001b[39m    \u001b[39m\u001b[39mr\u001b[39m\u001b[39m\"\"\"Sends a POST request.\u001b[39;00m\n\u001b[1;32m    105\u001b[0m \n\u001b[1;32m    106\u001b[0m \u001b[39m    :param url: URL for the new :class:`Request` object.\u001b[39;00m\n\u001b[0;32m   (...)\u001b[0m\n\u001b[1;32m    112\u001b[0m \u001b[39m    :rtype: requests.Response\u001b[39;00m\n\u001b[1;32m    113\u001b[0m \u001b[39m    \"\"\"\u001b[39;00m\n\u001b[0;32m--> 115\u001b[0m     \u001b[39mreturn\u001b[39;00m request(\u001b[39m\"\u001b[39;49m\u001b[39mpost\u001b[39;49m\u001b[39m\"\u001b[39;49m, url, data\u001b[39m=\u001b[39;49mdata, json\u001b[39m=\u001b[39;49mjson, \u001b[39m*\u001b[39;49m\u001b[39m*\u001b[39;49mkwargs)\n",
      "File \u001b[0;32m/opt/homebrew/lib/python3.10/site-packages/requests/api.py:59\u001b[0m, in \u001b[0;36mrequest\u001b[0;34m(method, url, **kwargs)\u001b[0m\n\u001b[1;32m     55\u001b[0m \u001b[39m# By using the 'with' statement we are sure the session is closed, thus we\u001b[39;00m\n\u001b[1;32m     56\u001b[0m \u001b[39m# avoid leaving sockets open which can trigger a ResourceWarning in some\u001b[39;00m\n\u001b[1;32m     57\u001b[0m \u001b[39m# cases, and look like a memory leak in others.\u001b[39;00m\n\u001b[1;32m     58\u001b[0m \u001b[39mwith\u001b[39;00m sessions\u001b[39m.\u001b[39mSession() \u001b[39mas\u001b[39;00m session:\n\u001b[0;32m---> 59\u001b[0m     \u001b[39mreturn\u001b[39;00m session\u001b[39m.\u001b[39;49mrequest(method\u001b[39m=\u001b[39;49mmethod, url\u001b[39m=\u001b[39;49murl, \u001b[39m*\u001b[39;49m\u001b[39m*\u001b[39;49mkwargs)\n",
      "File \u001b[0;32m/opt/homebrew/lib/python3.10/site-packages/requests/sessions.py:587\u001b[0m, in \u001b[0;36mSession.request\u001b[0;34m(self, method, url, params, data, headers, cookies, files, auth, timeout, allow_redirects, proxies, hooks, stream, verify, cert, json)\u001b[0m\n\u001b[1;32m    582\u001b[0m send_kwargs \u001b[39m=\u001b[39m {\n\u001b[1;32m    583\u001b[0m     \u001b[39m\"\u001b[39m\u001b[39mtimeout\u001b[39m\u001b[39m\"\u001b[39m: timeout,\n\u001b[1;32m    584\u001b[0m     \u001b[39m\"\u001b[39m\u001b[39mallow_redirects\u001b[39m\u001b[39m\"\u001b[39m: allow_redirects,\n\u001b[1;32m    585\u001b[0m }\n\u001b[1;32m    586\u001b[0m send_kwargs\u001b[39m.\u001b[39mupdate(settings)\n\u001b[0;32m--> 587\u001b[0m resp \u001b[39m=\u001b[39m \u001b[39mself\u001b[39;49m\u001b[39m.\u001b[39;49msend(prep, \u001b[39m*\u001b[39;49m\u001b[39m*\u001b[39;49msend_kwargs)\n\u001b[1;32m    589\u001b[0m \u001b[39mreturn\u001b[39;00m resp\n",
      "File \u001b[0;32m/opt/homebrew/lib/python3.10/site-packages/requests/sessions.py:701\u001b[0m, in \u001b[0;36mSession.send\u001b[0;34m(self, request, **kwargs)\u001b[0m\n\u001b[1;32m    698\u001b[0m start \u001b[39m=\u001b[39m preferred_clock()\n\u001b[1;32m    700\u001b[0m \u001b[39m# Send the request\u001b[39;00m\n\u001b[0;32m--> 701\u001b[0m r \u001b[39m=\u001b[39m adapter\u001b[39m.\u001b[39;49msend(request, \u001b[39m*\u001b[39;49m\u001b[39m*\u001b[39;49mkwargs)\n\u001b[1;32m    703\u001b[0m \u001b[39m# Total elapsed time of the request (approximately)\u001b[39;00m\n\u001b[1;32m    704\u001b[0m elapsed \u001b[39m=\u001b[39m preferred_clock() \u001b[39m-\u001b[39m start\n",
      "File \u001b[0;32m/opt/homebrew/lib/python3.10/site-packages/requests/adapters.py:489\u001b[0m, in \u001b[0;36mHTTPAdapter.send\u001b[0;34m(self, request, stream, timeout, verify, cert, proxies)\u001b[0m\n\u001b[1;32m    487\u001b[0m \u001b[39mtry\u001b[39;00m:\n\u001b[1;32m    488\u001b[0m     \u001b[39mif\u001b[39;00m \u001b[39mnot\u001b[39;00m chunked:\n\u001b[0;32m--> 489\u001b[0m         resp \u001b[39m=\u001b[39m conn\u001b[39m.\u001b[39;49murlopen(\n\u001b[1;32m    490\u001b[0m             method\u001b[39m=\u001b[39;49mrequest\u001b[39m.\u001b[39;49mmethod,\n\u001b[1;32m    491\u001b[0m             url\u001b[39m=\u001b[39;49murl,\n\u001b[1;32m    492\u001b[0m             body\u001b[39m=\u001b[39;49mrequest\u001b[39m.\u001b[39;49mbody,\n\u001b[1;32m    493\u001b[0m             headers\u001b[39m=\u001b[39;49mrequest\u001b[39m.\u001b[39;49mheaders,\n\u001b[1;32m    494\u001b[0m             redirect\u001b[39m=\u001b[39;49m\u001b[39mFalse\u001b[39;49;00m,\n\u001b[1;32m    495\u001b[0m             assert_same_host\u001b[39m=\u001b[39;49m\u001b[39mFalse\u001b[39;49;00m,\n\u001b[1;32m    496\u001b[0m             preload_content\u001b[39m=\u001b[39;49m\u001b[39mFalse\u001b[39;49;00m,\n\u001b[1;32m    497\u001b[0m             decode_content\u001b[39m=\u001b[39;49m\u001b[39mFalse\u001b[39;49;00m,\n\u001b[1;32m    498\u001b[0m             retries\u001b[39m=\u001b[39;49m\u001b[39mself\u001b[39;49m\u001b[39m.\u001b[39;49mmax_retries,\n\u001b[1;32m    499\u001b[0m             timeout\u001b[39m=\u001b[39;49mtimeout,\n\u001b[1;32m    500\u001b[0m         )\n\u001b[1;32m    502\u001b[0m     \u001b[39m# Send the request.\u001b[39;00m\n\u001b[1;32m    503\u001b[0m     \u001b[39melse\u001b[39;00m:\n\u001b[1;32m    504\u001b[0m         \u001b[39mif\u001b[39;00m \u001b[39mhasattr\u001b[39m(conn, \u001b[39m\"\u001b[39m\u001b[39mproxy_pool\u001b[39m\u001b[39m\"\u001b[39m):\n",
      "File \u001b[0;32m/opt/homebrew/lib/python3.10/site-packages/urllib3/connectionpool.py:714\u001b[0m, in \u001b[0;36mHTTPConnectionPool.urlopen\u001b[0;34m(self, method, url, body, headers, retries, redirect, assert_same_host, timeout, pool_timeout, release_conn, chunked, body_pos, **response_kw)\u001b[0m\n\u001b[1;32m    711\u001b[0m     \u001b[39mself\u001b[39m\u001b[39m.\u001b[39m_prepare_proxy(conn)\n\u001b[1;32m    713\u001b[0m \u001b[39m# Make the request on the httplib connection object.\u001b[39;00m\n\u001b[0;32m--> 714\u001b[0m httplib_response \u001b[39m=\u001b[39m \u001b[39mself\u001b[39;49m\u001b[39m.\u001b[39;49m_make_request(\n\u001b[1;32m    715\u001b[0m     conn,\n\u001b[1;32m    716\u001b[0m     method,\n\u001b[1;32m    717\u001b[0m     url,\n\u001b[1;32m    718\u001b[0m     timeout\u001b[39m=\u001b[39;49mtimeout_obj,\n\u001b[1;32m    719\u001b[0m     body\u001b[39m=\u001b[39;49mbody,\n\u001b[1;32m    720\u001b[0m     headers\u001b[39m=\u001b[39;49mheaders,\n\u001b[1;32m    721\u001b[0m     chunked\u001b[39m=\u001b[39;49mchunked,\n\u001b[1;32m    722\u001b[0m )\n\u001b[1;32m    724\u001b[0m \u001b[39m# If we're going to release the connection in ``finally:``, then\u001b[39;00m\n\u001b[1;32m    725\u001b[0m \u001b[39m# the response doesn't need to know about the connection. Otherwise\u001b[39;00m\n\u001b[1;32m    726\u001b[0m \u001b[39m# it will also try to release it and we'll have a double-release\u001b[39;00m\n\u001b[1;32m    727\u001b[0m \u001b[39m# mess.\u001b[39;00m\n\u001b[1;32m    728\u001b[0m response_conn \u001b[39m=\u001b[39m conn \u001b[39mif\u001b[39;00m \u001b[39mnot\u001b[39;00m release_conn \u001b[39melse\u001b[39;00m \u001b[39mNone\u001b[39;00m\n",
      "File \u001b[0;32m/opt/homebrew/lib/python3.10/site-packages/urllib3/connectionpool.py:466\u001b[0m, in \u001b[0;36mHTTPConnectionPool._make_request\u001b[0;34m(self, conn, method, url, timeout, chunked, **httplib_request_kw)\u001b[0m\n\u001b[1;32m    461\u001b[0m             httplib_response \u001b[39m=\u001b[39m conn\u001b[39m.\u001b[39mgetresponse()\n\u001b[1;32m    462\u001b[0m         \u001b[39mexcept\u001b[39;00m \u001b[39mBaseException\u001b[39;00m \u001b[39mas\u001b[39;00m e:\n\u001b[1;32m    463\u001b[0m             \u001b[39m# Remove the TypeError from the exception chain in\u001b[39;00m\n\u001b[1;32m    464\u001b[0m             \u001b[39m# Python 3 (including for exceptions like SystemExit).\u001b[39;00m\n\u001b[1;32m    465\u001b[0m             \u001b[39m# Otherwise it looks like a bug in the code.\u001b[39;00m\n\u001b[0;32m--> 466\u001b[0m             six\u001b[39m.\u001b[39;49mraise_from(e, \u001b[39mNone\u001b[39;49;00m)\n\u001b[1;32m    467\u001b[0m \u001b[39mexcept\u001b[39;00m (SocketTimeout, BaseSSLError, SocketError) \u001b[39mas\u001b[39;00m e:\n\u001b[1;32m    468\u001b[0m     \u001b[39mself\u001b[39m\u001b[39m.\u001b[39m_raise_timeout(err\u001b[39m=\u001b[39me, url\u001b[39m=\u001b[39murl, timeout_value\u001b[39m=\u001b[39mread_timeout)\n",
      "File \u001b[0;32m<string>:3\u001b[0m, in \u001b[0;36mraise_from\u001b[0;34m(value, from_value)\u001b[0m\n",
      "File \u001b[0;32m/opt/homebrew/lib/python3.10/site-packages/urllib3/connectionpool.py:461\u001b[0m, in \u001b[0;36mHTTPConnectionPool._make_request\u001b[0;34m(self, conn, method, url, timeout, chunked, **httplib_request_kw)\u001b[0m\n\u001b[1;32m    458\u001b[0m \u001b[39mexcept\u001b[39;00m \u001b[39mTypeError\u001b[39;00m:\n\u001b[1;32m    459\u001b[0m     \u001b[39m# Python 3\u001b[39;00m\n\u001b[1;32m    460\u001b[0m     \u001b[39mtry\u001b[39;00m:\n\u001b[0;32m--> 461\u001b[0m         httplib_response \u001b[39m=\u001b[39m conn\u001b[39m.\u001b[39;49mgetresponse()\n\u001b[1;32m    462\u001b[0m     \u001b[39mexcept\u001b[39;00m \u001b[39mBaseException\u001b[39;00m \u001b[39mas\u001b[39;00m e:\n\u001b[1;32m    463\u001b[0m         \u001b[39m# Remove the TypeError from the exception chain in\u001b[39;00m\n\u001b[1;32m    464\u001b[0m         \u001b[39m# Python 3 (including for exceptions like SystemExit).\u001b[39;00m\n\u001b[1;32m    465\u001b[0m         \u001b[39m# Otherwise it looks like a bug in the code.\u001b[39;00m\n\u001b[1;32m    466\u001b[0m         six\u001b[39m.\u001b[39mraise_from(e, \u001b[39mNone\u001b[39;00m)\n",
      "File \u001b[0;32m/opt/homebrew/Cellar/python@3.10/3.10.8/Frameworks/Python.framework/Versions/3.10/lib/python3.10/http/client.py:1374\u001b[0m, in \u001b[0;36mHTTPConnection.getresponse\u001b[0;34m(self)\u001b[0m\n\u001b[1;32m   1372\u001b[0m \u001b[39mtry\u001b[39;00m:\n\u001b[1;32m   1373\u001b[0m     \u001b[39mtry\u001b[39;00m:\n\u001b[0;32m-> 1374\u001b[0m         response\u001b[39m.\u001b[39;49mbegin()\n\u001b[1;32m   1375\u001b[0m     \u001b[39mexcept\u001b[39;00m \u001b[39mConnectionError\u001b[39;00m:\n\u001b[1;32m   1376\u001b[0m         \u001b[39mself\u001b[39m\u001b[39m.\u001b[39mclose()\n",
      "File \u001b[0;32m/opt/homebrew/Cellar/python@3.10/3.10.8/Frameworks/Python.framework/Versions/3.10/lib/python3.10/http/client.py:318\u001b[0m, in \u001b[0;36mHTTPResponse.begin\u001b[0;34m(self)\u001b[0m\n\u001b[1;32m    316\u001b[0m \u001b[39m# read until we get a non-100 response\u001b[39;00m\n\u001b[1;32m    317\u001b[0m \u001b[39mwhile\u001b[39;00m \u001b[39mTrue\u001b[39;00m:\n\u001b[0;32m--> 318\u001b[0m     version, status, reason \u001b[39m=\u001b[39m \u001b[39mself\u001b[39;49m\u001b[39m.\u001b[39;49m_read_status()\n\u001b[1;32m    319\u001b[0m     \u001b[39mif\u001b[39;00m status \u001b[39m!=\u001b[39m CONTINUE:\n\u001b[1;32m    320\u001b[0m         \u001b[39mbreak\u001b[39;00m\n",
      "File \u001b[0;32m/opt/homebrew/Cellar/python@3.10/3.10.8/Frameworks/Python.framework/Versions/3.10/lib/python3.10/http/client.py:279\u001b[0m, in \u001b[0;36mHTTPResponse._read_status\u001b[0;34m(self)\u001b[0m\n\u001b[1;32m    278\u001b[0m \u001b[39mdef\u001b[39;00m \u001b[39m_read_status\u001b[39m(\u001b[39mself\u001b[39m):\n\u001b[0;32m--> 279\u001b[0m     line \u001b[39m=\u001b[39m \u001b[39mstr\u001b[39m(\u001b[39mself\u001b[39;49m\u001b[39m.\u001b[39;49mfp\u001b[39m.\u001b[39;49mreadline(_MAXLINE \u001b[39m+\u001b[39;49m \u001b[39m1\u001b[39;49m), \u001b[39m\"\u001b[39m\u001b[39miso-8859-1\u001b[39m\u001b[39m\"\u001b[39m)\n\u001b[1;32m    280\u001b[0m     \u001b[39mif\u001b[39;00m \u001b[39mlen\u001b[39m(line) \u001b[39m>\u001b[39m _MAXLINE:\n\u001b[1;32m    281\u001b[0m         \u001b[39mraise\u001b[39;00m LineTooLong(\u001b[39m\"\u001b[39m\u001b[39mstatus line\u001b[39m\u001b[39m\"\u001b[39m)\n",
      "File \u001b[0;32m/opt/homebrew/Cellar/python@3.10/3.10.8/Frameworks/Python.framework/Versions/3.10/lib/python3.10/socket.py:705\u001b[0m, in \u001b[0;36mSocketIO.readinto\u001b[0;34m(self, b)\u001b[0m\n\u001b[1;32m    703\u001b[0m \u001b[39mwhile\u001b[39;00m \u001b[39mTrue\u001b[39;00m:\n\u001b[1;32m    704\u001b[0m     \u001b[39mtry\u001b[39;00m:\n\u001b[0;32m--> 705\u001b[0m         \u001b[39mreturn\u001b[39;00m \u001b[39mself\u001b[39;49m\u001b[39m.\u001b[39;49m_sock\u001b[39m.\u001b[39;49mrecv_into(b)\n\u001b[1;32m    706\u001b[0m     \u001b[39mexcept\u001b[39;00m timeout:\n\u001b[1;32m    707\u001b[0m         \u001b[39mself\u001b[39m\u001b[39m.\u001b[39m_timeout_occurred \u001b[39m=\u001b[39m \u001b[39mTrue\u001b[39;00m\n",
      "File \u001b[0;32m/opt/homebrew/Cellar/python@3.10/3.10.8/Frameworks/Python.framework/Versions/3.10/lib/python3.10/ssl.py:1274\u001b[0m, in \u001b[0;36mSSLSocket.recv_into\u001b[0;34m(self, buffer, nbytes, flags)\u001b[0m\n\u001b[1;32m   1270\u001b[0m     \u001b[39mif\u001b[39;00m flags \u001b[39m!=\u001b[39m \u001b[39m0\u001b[39m:\n\u001b[1;32m   1271\u001b[0m         \u001b[39mraise\u001b[39;00m \u001b[39mValueError\u001b[39;00m(\n\u001b[1;32m   1272\u001b[0m           \u001b[39m\"\u001b[39m\u001b[39mnon-zero flags not allowed in calls to recv_into() on \u001b[39m\u001b[39m%s\u001b[39;00m\u001b[39m\"\u001b[39m \u001b[39m%\u001b[39m\n\u001b[1;32m   1273\u001b[0m           \u001b[39mself\u001b[39m\u001b[39m.\u001b[39m\u001b[39m__class__\u001b[39m)\n\u001b[0;32m-> 1274\u001b[0m     \u001b[39mreturn\u001b[39;00m \u001b[39mself\u001b[39;49m\u001b[39m.\u001b[39;49mread(nbytes, buffer)\n\u001b[1;32m   1275\u001b[0m \u001b[39melse\u001b[39;00m:\n\u001b[1;32m   1276\u001b[0m     \u001b[39mreturn\u001b[39;00m \u001b[39msuper\u001b[39m()\u001b[39m.\u001b[39mrecv_into(buffer, nbytes, flags)\n",
      "File \u001b[0;32m/opt/homebrew/Cellar/python@3.10/3.10.8/Frameworks/Python.framework/Versions/3.10/lib/python3.10/ssl.py:1130\u001b[0m, in \u001b[0;36mSSLSocket.read\u001b[0;34m(self, len, buffer)\u001b[0m\n\u001b[1;32m   1128\u001b[0m \u001b[39mtry\u001b[39;00m:\n\u001b[1;32m   1129\u001b[0m     \u001b[39mif\u001b[39;00m buffer \u001b[39mis\u001b[39;00m \u001b[39mnot\u001b[39;00m \u001b[39mNone\u001b[39;00m:\n\u001b[0;32m-> 1130\u001b[0m         \u001b[39mreturn\u001b[39;00m \u001b[39mself\u001b[39;49m\u001b[39m.\u001b[39;49m_sslobj\u001b[39m.\u001b[39;49mread(\u001b[39mlen\u001b[39;49m, buffer)\n\u001b[1;32m   1131\u001b[0m     \u001b[39melse\u001b[39;00m:\n\u001b[1;32m   1132\u001b[0m         \u001b[39mreturn\u001b[39;00m \u001b[39mself\u001b[39m\u001b[39m.\u001b[39m_sslobj\u001b[39m.\u001b[39mread(\u001b[39mlen\u001b[39m)\n",
      "\u001b[0;31mKeyboardInterrupt\u001b[0m: "
     ]
    }
   ],
   "source": [
    "BQ_DATASET_NAME = 'immo_us' \n",
    "BQ_TABLE_NAME = 'visual_captioning'\n",
    "project_table = PROJECT_ID + \".\" +BQ_DATASET_NAME +\".\" + BQ_TABLE_NAME\n",
    "\n",
    "\n",
    "def process_description(df):\n",
    "\n",
    "    for id in df.Id.drop_duplicates().tolist() :\n",
    "        print(id)\n",
    "        df_vqa = df[df[\"Id\"] == id]\n",
    "        \n",
    "        df_vqa = add_images_caption_to_df(df_vqa, \"en\")\n",
    "        df_vqa = add_images_caption_to_df(df_vqa, \"fr\")\n",
    "\n",
    "        df_vqa[\"update_time\"] = update_time()\n",
    "\n",
    "        print(f\"SAVE index chunk : {id}\")\n",
    "        save_bq(df_vqa, table_id=project_table, project_id=PROJECT_ID)\n",
    "\n",
    "process_description(df)"
   ]
  },
  {
   "cell_type": "code",
   "execution_count": null,
   "metadata": {},
   "outputs": [],
   "source": []
  },
  {
   "cell_type": "code",
   "execution_count": null,
   "metadata": {},
   "outputs": [],
   "source": []
  },
  {
   "cell_type": "code",
   "execution_count": null,
   "metadata": {},
   "outputs": [],
   "source": [
    "BQ_DATASET_NAME = 'immo_us' \n",
    "BQ_TABLE_NAME = 'visual_captioning_attributes'\n",
    "project_table = PROJECT_ID + \".\" +BQ_DATASET_NAME +\".\" + BQ_TABLE_NAME\n",
    "\n",
    "def process_attributes(df):\n",
    "    \n",
    "    for id in df.Id.drop_duplicates().tolist() :\n",
    "\n",
    "        print(id)\n",
    "        df_vqa = df[df[\"Id\"] == id]\n",
    "\n",
    "        df_vqa = add_images_visual_caption_to_df(df_vqa, \"what is the room ?\", \"location\", 1, \"en\")\n",
    "        df_vqa = add_images_visual_caption_to_df(df_vqa, \"floor material\", \"floor\", 1, \"en\")\n",
    "        df_vqa = add_images_visual_caption_to_df(df_vqa, \"wall material\", \"wall\", 1, \"en\")\n",
    "\n",
    "        df_vqa = add_images_visual_caption_to_df(df_vqa, \"describe\", \"describe\", 3, \"en\")\n",
    "        df_vqa = add_images_visual_caption_to_df(df_vqa, \"describe windows\", \"windows\", 3, \"en\")\n",
    "        df_vqa = add_images_visual_caption_to_df(df_vqa, \"text\", \"text\", 3, \"en\")\n",
    "        df_vqa = add_images_visual_caption_to_df(df_vqa, \"Level of finish of the place\", \"finish_level\", 3, \"en\")\n",
    "\n",
    "        df_vqa[\"update_time\"] = update_time()\n",
    "\n",
    "        print(f\"SAVE index chunk : {id}\")\n",
    "        save_bq(df_vqa, \n",
    "                table_id=PROJECT_ID + \".\" +BQ_DATASET_NAME +\".visual_captioning_tags\" , \n",
    "                project_id=PROJECT_ID)\n",
    "\n",
    "process_attributes(df)"
   ]
  },
  {
   "cell_type": "code",
   "execution_count": null,
   "metadata": {},
   "outputs": [],
   "source": []
  },
  {
   "cell_type": "code",
   "execution_count": null,
   "metadata": {},
   "outputs": [],
   "source": []
  },
  {
   "cell_type": "markdown",
   "metadata": {},
   "source": [
    "# Analys results"
   ]
  },
  {
   "cell_type": "markdown",
   "metadata": {},
   "source": [
    "## Translate result to analyse quality in different language."
   ]
  },
  {
   "cell_type": "code",
   "execution_count": 12,
   "metadata": {},
   "outputs": [
    {
     "data": {
      "application/vnd.jupyter.widget-view+json": {
       "model_id": "09b20331807f429ebe727b52c78a1286",
       "version_major": 2,
       "version_minor": 0
      },
      "text/plain": [
       "Query is running:   0%|          |"
      ]
     },
     "metadata": {},
     "output_type": "display_data"
    },
    {
     "data": {
      "text/html": [
       "<div>\n",
       "<style scoped>\n",
       "    .dataframe tbody tr th:only-of-type {\n",
       "        vertical-align: middle;\n",
       "    }\n",
       "\n",
       "    .dataframe tbody tr th {\n",
       "        vertical-align: top;\n",
       "    }\n",
       "\n",
       "    .dataframe thead th {\n",
       "        text-align: right;\n",
       "    }\n",
       "</style>\n",
       "<table border=\"1\" class=\"dataframe\">\n",
       "  <thead>\n",
       "    <tr style=\"text-align: right;\">\n",
       "      <th></th>\n",
       "    </tr>\n",
       "  </thead>\n",
       "  <tbody>\n",
       "  </tbody>\n",
       "</table>\n",
       "</div>"
      ],
      "text/plain": [
       "Empty DataFrame\n",
       "Columns: []\n",
       "Index: []"
      ]
     },
     "execution_count": 12,
     "metadata": {},
     "output_type": "execute_result"
    }
   ],
   "source": [
    "%%bigquery\n",
    "\n",
    "create or replace table   ml-demo-384110.immo_us_enriched.visual_captioning_translated as (\n",
    "  SELECT uri,\n",
    "  text_content as caption_fr,  \n",
    "  string(ml_translate_result.translations[0].translated_text) as caption_fr_translated_en, \n",
    "  caption_en,  \n",
    "  string(ml_translate_result.translations[0].detected_language_code) as detected_language_code,\n",
    "  ml_translate_status\n",
    "\n",
    "  from ML.TRANSLATE(\n",
    "  model `ml-demo-384110.immo_us_enriched.bqml-cloud-ai-translate`,\n",
    "  (SELECT distinct caption_fr AS text_content, caption_en from `ml-demo-384110.immo_us.visual_captioning` where caption_fr != \"\" ),\n",
    "  STRUCT('translate_text' AS translate_mode, 'en' AS target_language_code)\n",
    ")\n",
    ");"
   ]
  },
  {
   "cell_type": "markdown",
   "metadata": {},
   "source": [
    "## Rouge\n"
   ]
  },
  {
   "cell_type": "code",
   "execution_count": 15,
   "metadata": {},
   "outputs": [
    {
     "data": {
      "application/vnd.jupyter.widget-view+json": {
       "model_id": "4ba38f45024d47c1bd5846672ce083f2",
       "version_major": 2,
       "version_minor": 0
      },
      "text/plain": [
       "Query is running:   0%|          |"
      ]
     },
     "metadata": {},
     "output_type": "display_data"
    },
    {
     "data": {
      "application/vnd.jupyter.widget-view+json": {
       "model_id": "cc007c2e6780413896b42ec9fa7ada8d",
       "version_major": 2,
       "version_minor": 0
      },
      "text/plain": [
       "Downloading:   0%|          |"
      ]
     },
     "metadata": {},
     "output_type": "display_data"
    }
   ],
   "source": [
    "%%bigquery df\n",
    "\n",
    "select * from  ml-demo-384110.immo_us_enriched.visual_captioning_translated where ml_translate_status = \"\"\n",
    "\n"
   ]
  },
  {
   "cell_type": "code",
   "execution_count": 6,
   "metadata": {},
   "outputs": [],
   "source": [
    "from rouge import Rouge \n",
    "import json\n",
    "\n",
    "\n",
    "\n",
    "def calculate_rouge(candidate, reference):\n",
    "    rouge = Rouge()\n",
    "    '''\n",
    "    candidate, reference: generated and ground-truth sentences\n",
    "    '''\n",
    "    scores = rouge.get_scores(candidate, reference)\n",
    "    return scores[0]\n",
    "    \n",
    "    return json.dumps(scores)"
   ]
  },
  {
   "cell_type": "code",
   "execution_count": 7,
   "metadata": {},
   "outputs": [
    {
     "data": {
      "text/plain": [
       "{'r': 0.42857142857142855, 'p': 0.5833333333333334, 'f': 0.49411764217577864}"
      ]
     },
     "execution_count": 7,
     "metadata": {},
     "output_type": "execute_result"
    }
   ],
   "source": [
    "hypothesis = \"the #### transcript is a written version of each day 's cnn student news program use this transcript to he    lp students with reading comprehension and vocabulary use the weekly newsquiz to test your knowledge of storie s you     saw on cnn student news\"\n",
    "\n",
    "reference = \"this page includes the show transcript use the transcript to help students with reading comprehension and     vocabulary at the bottom of the page , comment for a chance to be mentioned on cnn student news . you must be a teac    her or a student age # # or older to request a mention on the cnn student news roll call . the weekly newsquiz tests     students ' knowledge of even ts in the news\"\n",
    "\n",
    "scores = calculate_rouge(hypothesis, reference)\n",
    "scores['rouge-1']\n",
    "\n",
    "\n"
   ]
  },
  {
   "cell_type": "markdown",
   "metadata": {},
   "source": []
  }
 ],
 "metadata": {
  "kernelspec": {
   "display_name": "Python 3",
   "language": "python",
   "name": "python3"
  },
  "language_info": {
   "codemirror_mode": {
    "name": "ipython",
    "version": 3
   },
   "file_extension": ".py",
   "mimetype": "text/x-python",
   "name": "python",
   "nbconvert_exporter": "python",
   "pygments_lexer": "ipython3",
   "version": "3.10.8"
  },
  "orig_nbformat": 4
 },
 "nbformat": 4,
 "nbformat_minor": 2
}
