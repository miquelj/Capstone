{
 "cells": [
  {
   "cell_type": "markdown",
   "metadata": {},
   "source": [
    "# Analyse en utilisant different modèles d'embeddings.\n",
    "- textembedding-gecko@001 (stable)\n",
    "- textembedding-gecko-multilingual@latest\n",
    "- multimodalembedding@001\n",
    "\n",
    "## Setup Project"
   ]
  },
  {
   "cell_type": "code",
   "execution_count": 1,
   "metadata": {},
   "outputs": [],
   "source": [
    "\n",
    "import vertexai\n",
    "from google.cloud import bigquery\n",
    "from tools import *\n",
    "from bq import save_bq\n",
    "\n",
    "\n",
    "PROJECT_ID = \"ml-demo-384110\"  # @param {type:\"string\"}\n",
    "vertexai.init(project=PROJECT_ID, location=\"us-central1\")\n",
    "client = bigquery.Client(project=PROJECT_ID)\n",
    "bucket = \"ml-demo-384110-bucket\"\n",
    "\n",
    "%load_ext google.cloud.bigquery"
   ]
  },
  {
   "cell_type": "markdown",
   "metadata": {},
   "source": [
    "## textembedding-gecko@001 (stable)\n"
   ]
  },
  {
   "cell_type": "code",
   "execution_count": null,
   "metadata": {},
   "outputs": [],
   "source": [
    "%%bigquery\n",
    "\n",
    "CREATE MODEL immo_us_enriched.llm_embedding_model\n",
    "REMOTE WITH CONNECTION `ml-demo-384110.connections.genai`\n",
    "OPTIONS(remote_service_type = 'CLOUD_AI_TEXT_EMBEDDING_MODEL_V1'); "
   ]
  },
  {
   "cell_type": "code",
   "execution_count": null,
   "metadata": {},
   "outputs": [],
   "source": [
    "\n",
    "%%bigquery\n",
    "\n",
    "WITH movie_review_embeddings AS (\n",
    "  SELECT *\n",
    "  FROM\n",
    "    ML.EMBED_TEXT(\n",
    "      MODEL `ml-demo-384110.immo_us_enriched.bqml-gecko`,\n",
    "      (\n",
    "        SELECT \"Movie 1\" AS title, \"This movie was fantastic\" AS content\n",
    "        UNION ALL\n",
    "        SELECT \"Movie 2\" AS title, \"This was the best movie I've ever seen!!\" AS content\n",
    "        UNION ALL\n",
    "        SELECT \"Movie 3\" AS title, \"This movie was just okay...\" AS content\n",
    "        UNION ALL\n",
    "        SELECT \"Movie 4\" AS title, \"This movie was terrible.\" AS content\n",
    "      ),\n",
    "      STRUCT(TRUE AS flatten_json_output)\n",
    "    )\n",
    "),\n",
    "average_review_embedding AS (\n",
    "  SELECT text_embedding\n",
    "  FROM\n",
    "    ML.EMBED_TEXT(\n",
    "      MODEL `ml-demo-384110.immo_us_enriched.bqml-gecko`,\n",
    "      (SELECT \"This movie was average\" AS content),\n",
    "      STRUCT(TRUE AS flatten_json_output)\n",
    "    )\n",
    ")\n",
    "SELECT\n",
    "  content,\n",
    "  ML.DISTANCE(\n",
    "    (SELECT text_embedding FROM average_review_embedding),\n",
    "    text_embedding,\n",
    "    'COSINE'\n",
    "  ) AS distance_to_average_review\n",
    "FROM\n",
    "  movie_review_embeddings\n",
    "ORDER BY distance_to_average_review;"
   ]
  },
  {
   "cell_type": "code",
   "execution_count": null,
   "metadata": {},
   "outputs": [],
   "source": [
    "%%bigquery\n",
    "\n",
    "SELECT distinct uri, caption_en, caption_fr FROM `ml-demo-384110.immo_us.visual_captioning` \n",
    "where caption_en != \"\" and caption_fr != \"\" \n",
    "limit 3\n",
    "\n"
   ]
  },
  {
   "cell_type": "code",
   "execution_count": null,
   "metadata": {},
   "outputs": [],
   "source": [
    "%%bigquery\n",
    "\n",
    "\n",
    "with vc as (\n",
    "  SELECT distinct uri, caption_en, caption_fr FROM `ml-demo-384110.immo_us.visual_captioning` \n",
    "  where caption_en != \"\" and caption_fr != \"\" \n",
    "  limit 3\n",
    ")\n",
    "SELECT *\n",
    "FROM ML.GENERATE_TEXT_EMBEDDING(\n",
    "  MODEL `ml-demo-384110.immo_us_enriched.bqml-gecko`,\n",
    "  (\n",
    "    SELECT caption_fr AS content, uri FROM vc\n",
    "  ),\n",
    "  STRUCT(TRUE AS flatten_json_output)\n",
    ");"
   ]
  },
  {
   "cell_type": "code",
   "execution_count": null,
   "metadata": {},
   "outputs": [],
   "source": [
    "%%bigquery \n",
    "\n",
    "with vc as (\n",
    "  SELECT distinct uri, caption_en, caption_fr FROM `ml-demo-384110.immo_us.visual_captioning` \n",
    "  where caption_en != \"\" and caption_fr != \"\" \n",
    "  limit 3\n",
    ")\n",
    "SELECT fr.uri, fr.text_embedding fr_text_embedding, fr.statistics fr_statistics, fr.ml_embed_text_status fr_ml_embed_text_status, fr.caption_fr , \n",
    "               en.text_embedding en_text_embedding, en.statistics en_statistics, en.ml_embed_text_status en_ml_embed_text_status, en.caption_en \n",
    "FROM ML.GENERATE_TEXT_EMBEDDING(\n",
    "  MODEL `ml-demo-384110.immo_us_enriched.bqml-gecko`,\n",
    "  (\n",
    "    SELECT caption_fr AS content, uri, caption_fr FROM vc\n",
    "  ),\n",
    "  STRUCT(TRUE AS flatten_json_output)\n",
    ") fr,\n",
    "ML.GENERATE_TEXT_EMBEDDING(\n",
    "  MODEL `ml-demo-384110.immo_us_enriched.bqml-gecko`,\n",
    "  (\n",
    "    SELECT caption_en AS content, uri, caption_en FROM vc\n",
    "  ),\n",
    "  STRUCT(TRUE AS flatten_json_output)\n",
    ") en\n",
    "where en.uri = fr.uri\n",
    "\n",
    "\n",
    ";"
   ]
  },
  {
   "cell_type": "markdown",
   "metadata": {},
   "source": [
    "### embedding fr en"
   ]
  },
  {
   "cell_type": "code",
   "execution_count": null,
   "metadata": {},
   "outputs": [],
   "source": [
    "%%bigquery\n",
    "\n",
    "\n",
    "create or replace table   ml-demo-384110.immo_us_enriched.visual_captioning_embeddings as (\n",
    "\n",
    "with vc as (\n",
    "  SELECT distinct uri, caption_en, caption_fr FROM `ml-demo-384110.immo_us.visual_captioning` \n",
    "  where caption_en != \"\" and caption_fr != \"\" \n",
    "  limit 3\n",
    ")\n",
    "SELECT fr.uri, fr.text_embedding fr_text_embedding, fr.statistics fr_statistics, fr.ml_embed_text_status fr_ml_embed_text_status, fr.caption_fr , \n",
    "               en.text_embedding en_text_embedding, en.statistics en_statistics, en.ml_embed_text_status en_ml_embed_text_status, en.caption_en \n",
    "FROM ML.GENERATE_TEXT_EMBEDDING(\n",
    "  MODEL `ml-demo-384110.immo_us_enriched.bqml-gecko`,\n",
    "  (\n",
    "    SELECT caption_fr AS content, uri, caption_fr FROM vc\n",
    "  ),\n",
    "  STRUCT(TRUE AS flatten_json_output)\n",
    ") fr,\n",
    "ML.GENERATE_TEXT_EMBEDDING(\n",
    "  MODEL `ml-demo-384110.immo_us_enriched.bqml-gecko`,\n",
    "  (\n",
    "    SELECT caption_en AS content, uri, caption_en FROM vc\n",
    "  ),\n",
    "  STRUCT(TRUE AS flatten_json_output)\n",
    ") en\n",
    "where en.uri = fr.uri\n",
    "\n",
    ")\n",
    "\n",
    ";\n",
    "\n"
   ]
  },
  {
   "cell_type": "code",
   "execution_count": null,
   "metadata": {},
   "outputs": [],
   "source": [
    "%%bigquery\n",
    "\n",
    "\n",
    "select * from   ml-demo-384110.immo_us_enriched.visual_captioning_embeddings\n"
   ]
  },
  {
   "cell_type": "code",
   "execution_count": null,
   "metadata": {},
   "outputs": [],
   "source": [
    "%%bigquery\n",
    "\n",
    "\n",
    "\n",
    "SELECT uri,\n",
    "\n",
    "  fr_text_embedding, en_text_embedding, uri, caption_en, caption_fr, \n",
    "  ML.DISTANCE(\n",
    "    en_text_embedding,\n",
    "    fr_text_embedding,\n",
    "    'COSINE'\n",
    "  ) AS distance_to_average_review\n",
    "FROM ml-demo-384110.immo_us_enriched.visual_captioning_embeddings\n",
    "\n",
    "ORDER BY distance_to_average_review; \n"
   ]
  },
  {
   "cell_type": "code",
   "execution_count": null,
   "metadata": {},
   "outputs": [],
   "source": []
  },
  {
   "cell_type": "code",
   "execution_count": null,
   "metadata": {},
   "outputs": [],
   "source": []
  },
  {
   "cell_type": "code",
   "execution_count": null,
   "metadata": {},
   "outputs": [],
   "source": []
  },
  {
   "cell_type": "markdown",
   "metadata": {},
   "source": [
    "### Use translation"
   ]
  },
  {
   "cell_type": "code",
   "execution_count": 107,
   "metadata": {},
   "outputs": [
    {
     "data": {
      "application/vnd.jupyter.widget-view+json": {
       "model_id": "602476d77c0b4fe7aa62dd8715334751",
       "version_major": 2,
       "version_minor": 0
      },
      "text/plain": [
       "Query is running:   0%|          |"
      ]
     },
     "metadata": {},
     "output_type": "display_data"
    },
    {
     "data": {
      "text/html": [
       "<div>\n",
       "<style scoped>\n",
       "    .dataframe tbody tr th:only-of-type {\n",
       "        vertical-align: middle;\n",
       "    }\n",
       "\n",
       "    .dataframe tbody tr th {\n",
       "        vertical-align: top;\n",
       "    }\n",
       "\n",
       "    .dataframe thead th {\n",
       "        text-align: right;\n",
       "    }\n",
       "</style>\n",
       "<table border=\"1\" class=\"dataframe\">\n",
       "  <thead>\n",
       "    <tr style=\"text-align: right;\">\n",
       "      <th></th>\n",
       "    </tr>\n",
       "  </thead>\n",
       "  <tbody>\n",
       "  </tbody>\n",
       "</table>\n",
       "</div>"
      ],
      "text/plain": [
       "Empty DataFrame\n",
       "Columns: []\n",
       "Index: []"
      ]
     },
     "execution_count": 107,
     "metadata": {},
     "output_type": "execute_result"
    }
   ],
   "source": [
    "%%bigquery\n",
    "\n",
    "\n",
    "create or replace table   ml-demo-384110.immo_us_enriched.visual_captioning_translated_embeddings as (\n",
    "\n",
    "with vc as (\n",
    "  SELECT distinct uri, caption_en,caption_fr_translated_en, caption_fr \n",
    "  FROM `ml-demo-384110.immo_us_enriched.visual_captioning_translated` \n",
    "  where caption_en != \"\" and caption_fr != \"\" \n",
    ")\n",
    "SELECT  fr.uri, \n",
    "fr.text_embedding fr_text_embedding, caption_fr_translated_en, fr.statistics fr_statistics, fr.ml_embed_text_status fr_ml_embed_text_status, fr.caption_fr , \n",
    "               en.text_embedding en_text_embedding, en.statistics en_statistics, en.ml_embed_text_status en_ml_embed_text_status, en.caption_en \n",
    "\n",
    "FROM \n",
    "ML.GENERATE_TEXT_EMBEDDING(  MODEL `ml-demo-384110.immo_us_enriched.bqml-gecko`,  (    SELECT caption_fr_translated_en AS content, uri,  caption_fr, caption_en, caption_fr_translated_en FROM vc  ),  STRUCT(TRUE AS flatten_json_output)) \n",
    "  fr,\n",
    "ML.GENERATE_TEXT_EMBEDDING(  MODEL `ml-demo-384110.immo_us_enriched.bqml-gecko`,  (    SELECT caption_en AS content,  caption_en, uri FROM vc      ),  STRUCT(TRUE AS flatten_json_output)) \n",
    "  en\n",
    "where en.uri = fr.uri\n",
    "\n",
    ")\n",
    "\n",
    "\n",
    ";\n",
    "\n"
   ]
  },
  {
   "cell_type": "code",
   "execution_count": 130,
   "metadata": {},
   "outputs": [
    {
     "data": {
      "application/vnd.jupyter.widget-view+json": {
       "model_id": "d0005df5a9444fb1bda8e8628c441392",
       "version_major": 2,
       "version_minor": 0
      },
      "text/plain": [
       "Query is running:   0%|          |"
      ]
     },
     "metadata": {},
     "output_type": "display_data"
    },
    {
     "data": {
      "application/vnd.jupyter.widget-view+json": {
       "model_id": "0a8c166fbabf49069987c6593c94ad6f",
       "version_major": 2,
       "version_minor": 0
      },
      "text/plain": [
       "Downloading:   0%|          |"
      ]
     },
     "metadata": {},
     "output_type": "display_data"
    },
    {
     "data": {
      "text/html": [
       "<div>\n",
       "<style scoped>\n",
       "    .dataframe tbody tr th:only-of-type {\n",
       "        vertical-align: middle;\n",
       "    }\n",
       "\n",
       "    .dataframe tbody tr th {\n",
       "        vertical-align: top;\n",
       "    }\n",
       "\n",
       "    .dataframe thead th {\n",
       "        text-align: right;\n",
       "    }\n",
       "</style>\n",
       "<table border=\"1\" class=\"dataframe\">\n",
       "  <thead>\n",
       "    <tr style=\"text-align: right;\">\n",
       "      <th></th>\n",
       "      <th>f0_</th>\n",
       "    </tr>\n",
       "  </thead>\n",
       "  <tbody>\n",
       "    <tr>\n",
       "      <th>0</th>\n",
       "      <td>600</td>\n",
       "    </tr>\n",
       "  </tbody>\n",
       "</table>\n",
       "</div>"
      ],
      "text/plain": [
       "   f0_\n",
       "0  600"
      ]
     },
     "execution_count": 130,
     "metadata": {},
     "output_type": "execute_result"
    }
   ],
   "source": [
    "%%bigquery\n",
    "\n",
    "with vc as (\n",
    "  SELECT distinct uri, caption_en, caption_fr , caption_fr_translated_en\n",
    "    FROM `ml-demo-384110.immo_us_enriched.visual_captioning_translated` \n",
    "  where caption_en != \"\" and caption_fr != \"\" \n",
    "#  limit 200\n",
    ")\n",
    "select count(*) from vc"
   ]
  },
  {
   "cell_type": "markdown",
   "metadata": {},
   "source": [
    "## Create table with embeddings"
   ]
  },
  {
   "cell_type": "code",
   "execution_count": 108,
   "metadata": {},
   "outputs": [
    {
     "data": {
      "application/vnd.jupyter.widget-view+json": {
       "model_id": "de6d248ad0a64d268e13bc894018341d",
       "version_major": 2,
       "version_minor": 0
      },
      "text/plain": [
       "Query is running:   0%|          |"
      ]
     },
     "metadata": {},
     "output_type": "display_data"
    },
    {
     "data": {
      "text/html": [
       "<div>\n",
       "<style scoped>\n",
       "    .dataframe tbody tr th:only-of-type {\n",
       "        vertical-align: middle;\n",
       "    }\n",
       "\n",
       "    .dataframe tbody tr th {\n",
       "        vertical-align: top;\n",
       "    }\n",
       "\n",
       "    .dataframe thead th {\n",
       "        text-align: right;\n",
       "    }\n",
       "</style>\n",
       "<table border=\"1\" class=\"dataframe\">\n",
       "  <thead>\n",
       "    <tr style=\"text-align: right;\">\n",
       "      <th></th>\n",
       "    </tr>\n",
       "  </thead>\n",
       "  <tbody>\n",
       "  </tbody>\n",
       "</table>\n",
       "</div>"
      ],
      "text/plain": [
       "Empty DataFrame\n",
       "Columns: []\n",
       "Index: []"
      ]
     },
     "execution_count": 108,
     "metadata": {},
     "output_type": "execute_result"
    }
   ],
   "source": [
    "%%bigquery\n",
    "\n",
    "\n",
    "create or replace table   ml-demo-384110.immo_us_enriched.visual_captioning_tr_embeddings2 as (\n",
    "\n",
    "with vc as (\n",
    "  SELECT distinct uri, caption_en, caption_fr , caption_fr_translated_en\n",
    "    FROM `ml-demo-384110.immo_us_enriched.visual_captioning_translated` \n",
    "  where caption_en != \"\" and caption_fr != \"\" \n",
    "#  limit 200\n",
    ")\n",
    "SELECT fr.uri, fr.text_embedding fr_text_embedding, fr.statistics fr_statistics, fr.ml_embed_text_status fr_ml_embed_text_status, fr.caption_fr , \n",
    "               en.text_embedding en_text_embedding, en.statistics en_statistics, en.ml_embed_text_status en_ml_embed_text_status, en.caption_en ,\n",
    "               tr.text_embedding tr_text_embedding, tr.statistics tr_statistics, tr.ml_embed_text_status tr_ml_embed_text_status, tr.content caption_fr_translated_en ,\n",
    "FROM ML.GENERATE_TEXT_EMBEDDING(\n",
    "  MODEL `ml-demo-384110.immo_us_enriched.bqml-gecko`,\n",
    "  (\n",
    "    SELECT caption_fr AS content, uri, caption_fr FROM vc\n",
    "  ),\n",
    "  STRUCT(TRUE AS flatten_json_output)\n",
    ") fr,\n",
    "ML.GENERATE_TEXT_EMBEDDING(\n",
    "  MODEL `ml-demo-384110.immo_us_enriched.bqml-gecko`,\n",
    "  (\n",
    "    SELECT caption_en AS content, uri, caption_en FROM vc\n",
    "  ),\n",
    "  STRUCT(TRUE AS flatten_json_output)\n",
    ") en,\n",
    "ML.GENERATE_TEXT_EMBEDDING(\n",
    "  MODEL `ml-demo-384110.immo_us_enriched.bqml-gecko`,\n",
    "  (\n",
    "    SELECT caption_fr_translated_en AS content, uri, caption_en FROM vc\n",
    "  ),\n",
    "  STRUCT(TRUE AS flatten_json_output)\n",
    ") tr\n",
    "where en.uri = fr.uri and en.uri = tr.uri \n",
    "\n",
    ")\n",
    "\n",
    "\n"
   ]
  },
  {
   "cell_type": "markdown",
   "metadata": {},
   "source": [
    "### Analyse results"
   ]
  },
  {
   "cell_type": "code",
   "execution_count": 136,
   "metadata": {},
   "outputs": [
    {
     "data": {
      "application/vnd.jupyter.widget-view+json": {
       "model_id": "904c57d57ebb47129628e2a4f49487fc",
       "version_major": 2,
       "version_minor": 0
      },
      "text/plain": [
       "Query is running:   0%|          |"
      ]
     },
     "metadata": {},
     "output_type": "display_data"
    }
   ],
   "source": [
    "%%bigquery df\n",
    "\n",
    "create or replace table   ml-demo-384110.immo_us_enriched.visual_captioning_tr_embeddings_deduplicate as (\n",
    "\n",
    "SELECT k.*\n",
    "FROM (\n",
    "  SELECT concat(uri, caption_fr, caption_en, caption_fr_translated_en) id, ARRAY_AGG(x LIMIT 1)[OFFSET(0)] k \n",
    "  FROM `ml-demo-384110.immo_us_enriched.visual_captioning_tr_embeddings2` x \n",
    "  GROUP BY id\n",
    ")\n",
    ")\n"
   ]
  },
  {
   "cell_type": "code",
   "execution_count": 137,
   "metadata": {},
   "outputs": [
    {
     "data": {
      "application/vnd.jupyter.widget-view+json": {
       "model_id": "d60d8818398b4837b7d4cc21b70dc580",
       "version_major": 2,
       "version_minor": 0
      },
      "text/plain": [
       "Query is running:   0%|          |"
      ]
     },
     "metadata": {},
     "output_type": "display_data"
    },
    {
     "data": {
      "application/vnd.jupyter.widget-view+json": {
       "model_id": "bf5f9a284cae4d7392d8f0f92dab9b4a",
       "version_major": 2,
       "version_minor": 0
      },
      "text/plain": [
       "Downloading:   0%|          |"
      ]
     },
     "metadata": {},
     "output_type": "display_data"
    }
   ],
   "source": [
    "%%bigquery df\n",
    "\n",
    "select  uri, caption_fr, caption_en, caption_fr_translated_en from ml-demo-384110.immo_us_enriched.visual_captioning_tr_embeddings_deduplicate "
   ]
  },
  {
   "cell_type": "code",
   "execution_count": 138,
   "metadata": {},
   "outputs": [
    {
     "data": {
      "text/html": [
       "<div>\n",
       "<style scoped>\n",
       "    .dataframe tbody tr th:only-of-type {\n",
       "        vertical-align: middle;\n",
       "    }\n",
       "\n",
       "    .dataframe tbody tr th {\n",
       "        vertical-align: top;\n",
       "    }\n",
       "\n",
       "    .dataframe thead th {\n",
       "        text-align: right;\n",
       "    }\n",
       "</style>\n",
       "<table border=\"1\" class=\"dataframe\">\n",
       "  <thead>\n",
       "    <tr style=\"text-align: right;\">\n",
       "      <th></th>\n",
       "      <th>uri</th>\n",
       "      <th>caption_fr</th>\n",
       "      <th>caption_en</th>\n",
       "      <th>caption_fr_translated_en</th>\n",
       "    </tr>\n",
       "  </thead>\n",
       "  <tbody>\n",
       "    <tr>\n",
       "      <th>count</th>\n",
       "      <td>624</td>\n",
       "      <td>624</td>\n",
       "      <td>624</td>\n",
       "      <td>624</td>\n",
       "    </tr>\n",
       "    <tr>\n",
       "      <th>unique</th>\n",
       "      <td>575</td>\n",
       "      <td>544</td>\n",
       "      <td>557</td>\n",
       "      <td>544</td>\n",
       "    </tr>\n",
       "    <tr>\n",
       "      <th>top</th>\n",
       "      <td>gs://ml-demo-384110-bucket/dataset/immo/images/_210591_383642462_photos_3.jpg</td>\n",
       "      <td>une salle de bain avec deux lavabos et un miroir avec l' inscription immobilier.com</td>\n",
       "      <td>the word hosman that is on a picture</td>\n",
       "      <td>a kitchen with white cabinets and a stainless steel oven</td>\n",
       "    </tr>\n",
       "    <tr>\n",
       "      <th>freq</th>\n",
       "      <td>8</td>\n",
       "      <td>4</td>\n",
       "      <td>6</td>\n",
       "      <td>4</td>\n",
       "    </tr>\n",
       "  </tbody>\n",
       "</table>\n",
       "</div>"
      ],
      "text/plain": [
       "                                                                                  uri  \\\n",
       "count                                                                             624   \n",
       "unique                                                                            575   \n",
       "top     gs://ml-demo-384110-bucket/dataset/immo/images/_210591_383642462_photos_3.jpg   \n",
       "freq                                                                                8   \n",
       "\n",
       "                                                                                 caption_fr  \\\n",
       "count                                                                                   624   \n",
       "unique                                                                                  544   \n",
       "top     une salle de bain avec deux lavabos et un miroir avec l' inscription immobilier.com   \n",
       "freq                                                                                      4   \n",
       "\n",
       "                                  caption_en  \\\n",
       "count                                    624   \n",
       "unique                                   557   \n",
       "top     the word hosman that is on a picture   \n",
       "freq                                       6   \n",
       "\n",
       "                                        caption_fr_translated_en  \n",
       "count                                                        624  \n",
       "unique                                                       544  \n",
       "top     a kitchen with white cabinets and a stainless steel oven  \n",
       "freq                                                           4  "
      ]
     },
     "execution_count": 138,
     "metadata": {},
     "output_type": "execute_result"
    }
   ],
   "source": [
    "df.describe()\n"
   ]
  },
  {
   "cell_type": "code",
   "execution_count": null,
   "metadata": {},
   "outputs": [],
   "source": []
  },
  {
   "cell_type": "code",
   "execution_count": null,
   "metadata": {},
   "outputs": [],
   "source": []
  },
  {
   "cell_type": "markdown",
   "metadata": {},
   "source": [
    "### Create distance from embeddings"
   ]
  },
  {
   "cell_type": "code",
   "execution_count": 139,
   "metadata": {},
   "outputs": [
    {
     "data": {
      "application/vnd.jupyter.widget-view+json": {
       "model_id": "cb1fbca8ac6645c2afd9ea209617ef7a",
       "version_major": 2,
       "version_minor": 0
      },
      "text/plain": [
       "Query is running:   0%|          |"
      ]
     },
     "metadata": {},
     "output_type": "display_data"
    },
    {
     "data": {
      "text/html": [
       "<div>\n",
       "<style scoped>\n",
       "    .dataframe tbody tr th:only-of-type {\n",
       "        vertical-align: middle;\n",
       "    }\n",
       "\n",
       "    .dataframe tbody tr th {\n",
       "        vertical-align: top;\n",
       "    }\n",
       "\n",
       "    .dataframe thead th {\n",
       "        text-align: right;\n",
       "    }\n",
       "</style>\n",
       "<table border=\"1\" class=\"dataframe\">\n",
       "  <thead>\n",
       "    <tr style=\"text-align: right;\">\n",
       "      <th></th>\n",
       "    </tr>\n",
       "  </thead>\n",
       "  <tbody>\n",
       "  </tbody>\n",
       "</table>\n",
       "</div>"
      ],
      "text/plain": [
       "Empty DataFrame\n",
       "Columns: []\n",
       "Index: []"
      ]
     },
     "execution_count": 139,
     "metadata": {},
     "output_type": "execute_result"
    }
   ],
   "source": [
    "%%bigquery\n",
    "\n",
    "create or replace table   ml-demo-384110.immo_us_enriched.vc_tr_distance4 as (\n",
    "  \n",
    "  \n",
    "SELECT\n",
    "  #fr_text_embedding, en_text_embedding, \n",
    "   caption_en, caption_fr_translated_en, caption_fr, uri,\n",
    "  ML.DISTANCE(\n",
    "    en_text_embedding,\n",
    "    fr_text_embedding,\n",
    "    'COSINE'\n",
    "  ) AS distance_to_en_fr,\n",
    "  ML.DISTANCE(\n",
    "    en_text_embedding,\n",
    "    tr_text_embedding ,\n",
    "    'COSINE'\n",
    "  ) AS distance_to_fr_tr_en\n",
    "from ml-demo-384110.immo_us_enriched.visual_captioning_tr_embeddings_deduplicate\n",
    "\n",
    "ORDER BY distance_to_en_fr, distance_to_fr_tr_en\n",
    ")\n",
    ";  \n"
   ]
  },
  {
   "cell_type": "code",
   "execution_count": 149,
   "metadata": {},
   "outputs": [
    {
     "data": {
      "application/vnd.jupyter.widget-view+json": {
       "model_id": "9e6a8f70ec634335b573ff76ad9bfea3",
       "version_major": 2,
       "version_minor": 0
      },
      "text/plain": [
       "Query is running:   0%|          |"
      ]
     },
     "metadata": {},
     "output_type": "display_data"
    },
    {
     "data": {
      "application/vnd.jupyter.widget-view+json": {
       "model_id": "f694117eee1347df92cc64c0e02da407",
       "version_major": 2,
       "version_minor": 0
      },
      "text/plain": [
       "Downloading:   0%|          |"
      ]
     },
     "metadata": {},
     "output_type": "display_data"
    }
   ],
   "source": [
    "%%bigquery df\n",
    " #df_tr\n",
    "\n",
    "select  * from    ml-demo-384110.immo_us_enriched.vc_tr_distance4 #where distance_to_fr_tr_en >0.4 #limit 3\n",
    "\n",
    "#and\n",
    "\n",
    "# uri= 'gs://ml-demo-384110-bucket/dataset/immo/images/_133675_383410499_photos_4.jpg'\n",
    "\n",
    "\n"
   ]
  },
  {
   "cell_type": "code",
   "execution_count": null,
   "metadata": {},
   "outputs": [],
   "source": [
    "df_z.set_index('caption_en', inplace=True)\n",
    "\n",
    "pd.set_option('display.max_colwidth', None)\n",
    "\n",
    "df_z\n"
   ]
  },
  {
   "cell_type": "code",
   "execution_count": 153,
   "metadata": {},
   "outputs": [
    {
     "data": {
      "text/html": [
       "<div>\n",
       "<style scoped>\n",
       "    .dataframe tbody tr th:only-of-type {\n",
       "        vertical-align: middle;\n",
       "    }\n",
       "\n",
       "    .dataframe tbody tr th {\n",
       "        vertical-align: top;\n",
       "    }\n",
       "\n",
       "    .dataframe thead th {\n",
       "        text-align: right;\n",
       "    }\n",
       "</style>\n",
       "<table border=\"1\" class=\"dataframe\">\n",
       "  <thead>\n",
       "    <tr style=\"text-align: right;\">\n",
       "      <th></th>\n",
       "      <th>distance_to_en_fr</th>\n",
       "      <th>distance_to_fr_tr_en</th>\n",
       "    </tr>\n",
       "  </thead>\n",
       "  <tbody>\n",
       "    <tr>\n",
       "      <th>count</th>\n",
       "      <td>624.000000</td>\n",
       "      <td>6.240000e+02</td>\n",
       "    </tr>\n",
       "    <tr>\n",
       "      <th>mean</th>\n",
       "      <td>0.226656</td>\n",
       "      <td>1.634740e-01</td>\n",
       "    </tr>\n",
       "    <tr>\n",
       "      <th>std</th>\n",
       "      <td>0.070206</td>\n",
       "      <td>8.794358e-02</td>\n",
       "    </tr>\n",
       "    <tr>\n",
       "      <th>min</th>\n",
       "      <td>0.027970</td>\n",
       "      <td>-2.220446e-16</td>\n",
       "    </tr>\n",
       "    <tr>\n",
       "      <th>25%</th>\n",
       "      <td>0.172601</td>\n",
       "      <td>9.983387e-02</td>\n",
       "    </tr>\n",
       "    <tr>\n",
       "      <th>50%</th>\n",
       "      <td>0.224875</td>\n",
       "      <td>1.568810e-01</td>\n",
       "    </tr>\n",
       "    <tr>\n",
       "      <th>75%</th>\n",
       "      <td>0.278582</td>\n",
       "      <td>2.175716e-01</td>\n",
       "    </tr>\n",
       "    <tr>\n",
       "      <th>max</th>\n",
       "      <td>0.441857</td>\n",
       "      <td>4.770395e-01</td>\n",
       "    </tr>\n",
       "  </tbody>\n",
       "</table>\n",
       "</div>"
      ],
      "text/plain": [
       "       distance_to_en_fr  distance_to_fr_tr_en\n",
       "count         624.000000          6.240000e+02\n",
       "mean            0.226656          1.634740e-01\n",
       "std             0.070206          8.794358e-02\n",
       "min             0.027970         -2.220446e-16\n",
       "25%             0.172601          9.983387e-02\n",
       "50%             0.224875          1.568810e-01\n",
       "75%             0.278582          2.175716e-01\n",
       "max             0.441857          4.770395e-01"
      ]
     },
     "execution_count": 153,
     "metadata": {},
     "output_type": "execute_result"
    }
   ],
   "source": [
    "df.describe()"
   ]
  },
  {
   "cell_type": "code",
   "execution_count": 152,
   "metadata": {},
   "outputs": [
    {
     "data": {
      "image/png": "[encoded data removed]",
      "text/plain": [
       "<Figure size 640x480 with 1 Axes>"
      ]
     },
     "metadata": {},
     "output_type": "display_data"
    }
   ],
   "source": [
    "import matplotlib.pyplot as plt\n",
    "\n",
    "df.boxplot( \n",
    "     #rot=90, \n",
    "     fontsize=10)\n",
    "plt.show()"
   ]
  },
  {
   "cell_type": "code",
   "execution_count": null,
   "metadata": {},
   "outputs": [],
   "source": []
  },
  {
   "cell_type": "markdown",
   "metadata": {},
   "source": [
    "### Create cluster and evaluate centroids \n",
    "- TODO"
   ]
  },
  {
   "cell_type": "code",
   "execution_count": null,
   "metadata": {},
   "outputs": [],
   "source": [
    "%%bigquery\n",
    "#select * from    ml-demo-384110.immo_us_enriched.vc_tr_distance where distance_to_fr_tr_en =0\n",
    "\n",
    "CREATE OR REPLACE MODEL `ml-demo-384110.immo_us_enriched.vc_clustering`\n",
    "OPTIONS (\n",
    "  model_type = 'KMEANS',\n",
    "  KMEANS_INIT_METHOD = 'KMEANS++',\n",
    "  num_clusters = 10) AS (\n",
    "    SELECT\n",
    "      en_text_embedding #, fr_text_embedding\n",
    "    \n",
    "from `ml-demo-384110.immo_us_enriched.visual_captioning_tr_embeddings`\n",
    ");"
   ]
  },
  {
   "cell_type": "code",
   "execution_count": null,
   "metadata": {},
   "outputs": [],
   "source": []
  },
  {
   "cell_type": "markdown",
   "metadata": {},
   "source": [
    "## multimodalembedding@001\n",
    "\n",
    "- multimodal embeddings\n",
    "- google.api_core.exceptions.ResourceExhausted: 429 Quota exceeded for\n",
    "aiplatform.googleapis.com/online_prediction_requests_per_base_model with base\n",
    "model: multimodalembedding. Please submit a quota increase request."
   ]
  },
  {
   "cell_type": "code",
   "execution_count": null,
   "metadata": {},
   "outputs": [],
   "source": [
    "%%bash\n",
    "mkdir multimodalembedding\n",
    "cd $_\n",
    "gsutil cp gs://vertex-ai/generative-ai/vision/multimodalembedding/* .\n",
    "pip3 install -r requirements.txt\n"
   ]
  },
  {
   "cell_type": "code",
   "execution_count": null,
   "metadata": {},
   "outputs": [],
   "source": [
    "%pip install Polars==0.13.42"
   ]
  },
  {
   "cell_type": "code",
   "execution_count": null,
   "metadata": {},
   "outputs": [],
   "source": [
    "%%bash\n",
    "\n",
    "pip3 install ratelimit google-cloud-bigquery-storage pyarrow IProgress ipywidgets db-dtypes"
   ]
  },
  {
   "cell_type": "code",
   "execution_count": 110,
   "metadata": {},
   "outputs": [],
   "source": [
    "# Copyright 2023 Google LLC.\n",
    "# SPDX-License-Identifier: Apache-2.0\n",
    "from absl import app\n",
    "from absl import flags\n",
    "import base64\n",
    "# Need to do pip install google-cloud-aiplatform for the following two imports.\n",
    "# Also run: gcloud auth application-default login.\n",
    "from google.cloud import aiplatform\n",
    "from google.protobuf import struct_pb2\n",
    "import sys\n",
    "import time\n",
    "import typing\n",
    "\n",
    "\n",
    "\n",
    "# Inspired from https://stackoverflow.com/questions/34269772/type-hints-in-namedtuple.\n",
    "class EmbeddingResponse(typing.NamedTuple):\n",
    "  text_embedding: typing.Sequence[float]\n",
    "  image_embedding: typing.Sequence[float]\n",
    "\n",
    "\n",
    "class EmbeddingPredictionClient:\n",
    "  \"\"\"Wrapper around Prediction Service Client.\"\"\"\n",
    "  def __init__(self, project : str,\n",
    "    location : str = \"us-central1\",\n",
    "    api_regional_endpoint: str = \"us-central1-aiplatform.googleapis.com\"):\n",
    "    client_options = {\"api_endpoint\": api_regional_endpoint}\n",
    "    # Initialize client that will be used to create and send requests.\n",
    "    # This client only needs to be created once, and can be reused for multiple requests.\n",
    "    self.client = aiplatform.gapic.PredictionServiceClient(client_options=client_options)  \n",
    "    self.location = location\n",
    "    self.project = project\n",
    "\n",
    "  def get_embedding(self, text : str = None, image_bytes : bytes = None):\n",
    "    if not text and not image_bytes:\n",
    "      raise ValueError('At least one of text or image_bytes must be specified.')\n",
    "\n",
    "    instance = struct_pb2.Struct()\n",
    "    if text:\n",
    "      instance.fields['text'].string_value = text\n",
    "\n",
    "    if image_bytes:\n",
    "      encoded_content = base64.b64encode(image_bytes).decode(\"utf-8\")\n",
    "      image_struct = instance.fields['image'].struct_value\n",
    "      image_struct.fields['bytesBase64Encoded'].string_value = encoded_content\n",
    "\n",
    "    instances = [instance]\n",
    "    endpoint = (f\"projects/{self.project}/locations/{self.location}\"\n",
    "      \"/publishers/google/models/multimodalembedding@001\")\n",
    "    response = self.client.predict(endpoint=endpoint, instances=instances)\n",
    "\n",
    "    text_embedding = None\n",
    "    if text:    \n",
    "      text_emb_value = response.predictions[0]['textEmbedding']\n",
    "      text_embedding = [v for v in text_emb_value]\n",
    "\n",
    "    image_embedding = None\n",
    "    if image_bytes:    \n",
    "      image_emb_value = response.predictions[0]['imageEmbedding']\n",
    "      image_embedding = [v for v in image_emb_value]\n",
    "\n",
    "    return EmbeddingResponse(\n",
    "      text_embedding=text_embedding,\n",
    "      image_embedding=image_embedding)\n",
    "        \n",
    "\n"
   ]
  },
  {
   "cell_type": "code",
   "execution_count": 111,
   "metadata": {},
   "outputs": [
    {
     "name": "stdout",
     "output_type": "stream",
     "text": [
      "<Response [200]>\n"
     ]
    }
   ],
   "source": [
    "\n",
    "\n",
    "\n",
    "import os\n",
    "import requests\n",
    "\n",
    "def download_image(url):\n",
    "    \"\"\"Downloads an image from the specified URL.\"\"\"\n",
    "\n",
    "    # Send a get request to the url\n",
    "    response = requests.get(url)\n",
    "\n",
    "    print(response)\n",
    "    # If the request is successful\n",
    "    if response.status_code == 200:\n",
    "\n",
    "        # Define image related variables\n",
    "        image_path = os.path.basename(url)\n",
    "        image_bytes = response.content\n",
    "        image_type = response.headers['Content-Type'].split('/')[1]\n",
    "\n",
    "        # Check for image type, currently only PNG or JPEG format are supported\n",
    "        if image_type in (\"png\", \"jpg\", \"jpeg\"):\n",
    "            return image_bytes\n",
    "            # Write image data to a file\n",
    "            with open(image_path, \"wb\") as f:\n",
    "                f.write(image_bytes)\n",
    "            return image_path\n",
    "        else:\n",
    "            raise Exception(\"Image can only be in PNG or JPEG format\")\n",
    "\n",
    "    else:\n",
    "        raise Exception(f\"Failed to download image from {url}\")\n",
    "# Download an image\n",
    "url = \"https://storage.googleapis.com/gweb-cloudblog-publish/images/GettyImages-871168786.max-2600x2600.jpg\"\n",
    "#image_path = download_image(url)\n",
    "\n",
    "\n",
    "\n",
    "user_image = download_image(url)\n",
    "# Load the newly downloaded image\n",
    "#user_image = Image.load_from_file(image_path)\n",
    "#user_image.show()\n",
    "\n"
   ]
  },
  {
   "cell_type": "code",
   "execution_count": 7,
   "metadata": {},
   "outputs": [
    {
     "ename": "NameError",
     "evalue": "name 'EmbeddingPredictionClient' is not defined",
     "output_type": "error",
     "traceback": [
      "\u001b[0;31m---------------------------------------------------------------------------\u001b[0m",
      "\u001b[0;31mNameError\u001b[0m                                 Traceback (most recent call last)",
      "Cell \u001b[0;32mIn[7], line 9\u001b[0m\n\u001b[1;32m      6\u001b[0m \u001b[39mfrom\u001b[39;00m \u001b[39mtools\u001b[39;00m \u001b[39mimport\u001b[39;00m \u001b[39m*\u001b[39m\n\u001b[1;32m      8\u001b[0m \u001b[39m# client can be reused.\u001b[39;00m\n\u001b[0;32m----> 9\u001b[0m visual_captioning_multimodalembedding_client \u001b[39m=\u001b[39m EmbeddingPredictionClient(project\u001b[39m=\u001b[39m PROJECT_ID)\n\u001b[1;32m     10\u001b[0m visual_captioning_multimodalembedding_max_retry \u001b[39m=\u001b[39m \u001b[39m3\u001b[39m\n\u001b[1;32m     12\u001b[0m \u001b[39m@sleep_and_retry\u001b[39m\n\u001b[1;32m     13\u001b[0m \u001b[39m@limits\u001b[39m(calls\u001b[39m=\u001b[39m\u001b[39m120\u001b[39m, period\u001b[39m=\u001b[39m\u001b[39m60\u001b[39m, raise_on_limit\u001b[39m=\u001b[39m\u001b[39mFalse\u001b[39;00m)\n\u001b[1;32m     14\u001b[0m \u001b[39mdef\u001b[39;00m \u001b[39mvisual_captioning_multimodalembedding\u001b[39m(image_file_contents \u001b[39m=\u001b[39m \u001b[39mNone\u001b[39;00m, text \u001b[39m=\u001b[39m \u001b[39mNone\u001b[39;00m):\n",
      "\u001b[0;31mNameError\u001b[0m: name 'EmbeddingPredictionClient' is not defined"
     ]
    }
   ],
   "source": [
    "from grpc import RpcError\n",
    "from ratelimit import limits, sleep_and_retry\n",
    "\n",
    "import time\n",
    "\n",
    "from tools import *\n",
    "\n",
    "# client can be reused.\n",
    "visual_captioning_multimodalembedding_client = EmbeddingPredictionClient(project= PROJECT_ID)\n",
    "visual_captioning_multimodalembedding_max_retry = 3\n",
    "\n",
    "@sleep_and_retry\n",
    "@limits(calls=120, period=60, raise_on_limit=False)\n",
    "def visual_captioning_multimodalembedding(image_file_contents = None, text = None):\n",
    "  global visual_captioning_multimodalembedding_client\n",
    "  retry = 0\n",
    "  while(retry < visual_captioning_multimodalembedding_max_retry):\n",
    "    retry = retry+1\n",
    "    try:\n",
    "      start = time.time()\n",
    "      response = visual_captioning_multimodalembedding_client.get_embedding( image_bytes=image_file_contents, text=text)\n",
    "      end = time.time()\n",
    "\n",
    "      #print(response)\n",
    "      print('Time taken: ', end - start)\n",
    "      if image_file_contents:\n",
    "        #print(f\"return images {len(response.image_embedding)}\")\n",
    "        return response.image_embedding\n",
    "      if text:\n",
    "        #print(f\"return text: {len(response.text_embedding)}\")\n",
    "        return response.text_embedding    \n",
    "    \n",
    "    except RpcError  as rpc_e:        \n",
    "        print('RpcError Failed get_embedding: '+ str(rpc_e))\n",
    "        visual_captioning_multimodalembedding_client = EmbeddingPredictionClient(project= PROJECT_ID)\n",
    "        print(f\"retry: {retry} / {visual_captioning_multimodalembedding_max_retry}\")\n",
    "    except Exception as e: \n",
    "        print('Failed to get_embedding: '+ str(e))        \n",
    "        retry = retry+visual_captioning_multimodalembedding_max_retry\n",
    "\n",
    "    \n",
    "\n",
    "#visual_captioning_multimodalembedding(user_image)"
   ]
  },
  {
   "cell_type": "code",
   "execution_count": 8,
   "metadata": {},
   "outputs": [],
   "source": [
    "# @title Setup\n",
    "from google.cloud import bigquery\n",
    "\n",
    "\n",
    "project = 'ml-demo-384110' # Project ID inserted based on the query results selected to explore\n",
    "location = 'US' # Location inserted based on the query results selected to explore\n",
    "client = bigquery.Client(project=project, location=location)\n"
   ]
  },
  {
   "cell_type": "code",
   "execution_count": 114,
   "metadata": {},
   "outputs": [],
   "source": [
    "def add_vc_multimodalembedding(df, bucket_name = \"ml-demo-384110-bucket\"):\n",
    "    #print(f'{name} : {prompt} ')\n",
    "    #try:\n",
    "        df[f'multi_embeddings_image'] = df.uri.map(\n",
    "            lambda uri_name:\n",
    "                visual_captioning_multimodalembedding(\n",
    "                    read_bytes_from_gcs(\n",
    "                        bucket,\n",
    "                        uri_name.replace(\n",
    "                            f\"gs://{bucket_name}/\", \"\")\n",
    "                    )\n",
    "                )\n",
    "        )\n",
    "        \n",
    "\n",
    "        df[f'multi_embeddings_text_en'] = df.caption_en.map(\n",
    "            lambda text:\n",
    "                visual_captioning_multimodalembedding(text=text)\n",
    "        )\n",
    "\n",
    "        df[f'multi_embeddings_text_fr'] = df.caption_fr.map(\n",
    "            lambda text:\n",
    "                visual_captioning_multimodalembedding(text=text)\n",
    "        )\n",
    "\n",
    "        df[f'multi_embeddings_text_fr_tr'] = df.caption_fr_translated_en.map(\n",
    "            lambda text:\n",
    "                visual_captioning_multimodalembedding(text=text)\n",
    "\n",
    "        )\n",
    "\n",
    "\n",
    "    #except:\n",
    "    #    print(\"An exception occurred\")\n",
    "        return df\n",
    "\n"
   ]
  },
  {
   "cell_type": "code",
   "execution_count": null,
   "metadata": {},
   "outputs": [],
   "source": []
  },
  {
   "cell_type": "code",
   "execution_count": 115,
   "metadata": {},
   "outputs": [],
   "source": [
    "def save_df_bq(df, table_id, truncate = False):\n",
    "    job_config = bigquery.LoadJobConfig(\n",
    "    # Specify a (partial) schema. All columns are always written to the\n",
    "    # table. The schema is used to assist in data type definitions.\n",
    "    schema=[\n",
    "\n",
    "bigquery.SchemaField(\"uri\", \"STRING\")\t,\n",
    "bigquery.SchemaField(\"fr_text_embedding\", bigquery.enums.SqlTypeNames.FLOAT, mode=\"REPEATED\"),\n",
    "bigquery.SchemaField(\"fr_statistics\",\"STRING\", mode=\"NULLABLE\"),\t\n",
    "bigquery.SchemaField(\"fr_ml_embed_text_status\",  \"STRING\", mode=\"NULLABLE\"),\t\t\t\n",
    "bigquery.SchemaField(\"caption_fr\", \"STRING\", mode=\"NULLABLE\"),\t\t\n",
    "bigquery.SchemaField(\"en_text_embedding\", bigquery.enums.SqlTypeNames.FLOAT, mode=\"REPEATED\"),\t\t\t\n",
    "bigquery.SchemaField(\"en_statistics\",\"STRING\", mode=\"NULLABLE\"),\t\t\t\t\n",
    "bigquery.SchemaField(\"en_ml_embed_text_status\", \"STRING\", mode=\"NULLABLE\"),\t\t\t\n",
    "bigquery.SchemaField(\"caption_en\", \"STRING\", mode=\"NULLABLE\"),\t\t\t\n",
    "bigquery.SchemaField(\"tr_text_embedding\", bigquery.enums.SqlTypeNames.FLOAT, mode=\"REPEATED\"),\t\t\t\n",
    "bigquery.SchemaField(\"tr_statistics\",\"STRING\", mode=\"NULLABLE\"),\t\t\t\n",
    "bigquery.SchemaField(\"tr_ml_embed_text_status\", \"STRING\", mode=\"NULLABLE\"),\t\t\t\n",
    "bigquery.SchemaField(\"caption_fr_translated_en\", \"STRING\", mode=\"NULLABLE\"),\t\n",
    "\n",
    "bigquery.SchemaField(\"multi_embeddings_image\", bigquery.enums.SqlTypeNames.FLOAT, mode=\"REPEATED\"),\t\t\t\n",
    "bigquery.SchemaField(\"multi_embeddings_text_en\", bigquery.enums.SqlTypeNames.FLOAT, mode=\"REPEATED\"),\t\t\t\n",
    "bigquery.SchemaField(\"multi_embeddings_text_fr\", bigquery.enums.SqlTypeNames.FLOAT, mode=\"REPEATED\"),\t\t\t\n",
    "bigquery.SchemaField(\"multi_embeddings_text_fr_tr\", bigquery.enums.SqlTypeNames.FLOAT, mode=\"REPEATED\"),\t\t\t\n",
    "\n",
    "\n",
    "    ],\n",
    "    # Optionally, set the write disposition. BigQuery appends loaded rows\n",
    "    # to an existing table by default, but with WRITE_TRUNCATE write\n",
    "    # disposition it replaces the table with the loaded data.\n",
    "    #write_disposition=\"WRITE_TRUNCATE\",\n",
    "    \n",
    "    )\n",
    "    if truncate:\n",
    "        print('truncate table: ' + table_id)\n",
    "        job_config.write_disposition=\"WRITE_TRUNCATE\"\n",
    "\n",
    "    job = client.load_table_from_dataframe(\n",
    "        df, table_id, job_config=job_config\n",
    "    )  # Make an API request.\n",
    "    job.result()  # Wait for the job to complete.\n",
    "\n",
    "\n",
    "BQ_DATASET_NAME = 'immo_us_enriched' \n",
    "BQ_TABLE_NAME = 'vqa_embeddings_multimodal3'\n",
    "project_table = PROJECT_ID + \".\" +BQ_DATASET_NAME +\".\" + BQ_TABLE_NAME\n",
    "\n",
    "#save_df_bq(df, project_table)"
   ]
  },
  {
   "cell_type": "code",
   "execution_count": 178,
   "metadata": {},
   "outputs": [
    {
     "name": "stdout",
     "output_type": "stream",
     "text": [
      "\n",
      "    select * from \n",
      "    `ml-demo-384110.immo_us_enriched.visual_captioning_tr_embeddings_deduplicate` \n",
      "      where concat(uri, caption_en, caption_fr, caption_fr_translated_en) not in (select concat(uri, caption_en, caption_fr, caption_fr_translated_en) from `ml-demo-384110.immo_us_enriched.vqa_embeddings_multimodal_deduplicate` ) limit 10 \n"
     ]
    }
   ],
   "source": [
    "from bq import save_bq\n",
    "\n",
    "\n",
    "\n",
    "BQ_DATASET_NAME = 'immo_us_enriched' \n",
    "BQ_TABLE_NAME = 'vqa_embeddings_multimodal_deduplicate'\n",
    "project_table = PROJECT_ID + \".\" +BQ_DATASET_NAME +\".\" + BQ_TABLE_NAME\n",
    "\n",
    "i = 0\n",
    "finish = False\n",
    "while (finish == False):\n",
    "    query = \"\"\"\n",
    "    select * from \n",
    "    `ml-demo-384110.immo_us_enriched.visual_captioning_tr_embeddings_deduplicate` \n",
    "    \"\"\"\n",
    "    if i == 100000:\n",
    "        query = query + \"\"\" limit 1 \"\"\"\n",
    "        print(query)\n",
    "    else:\n",
    "        query = query + f\"\"\"  where concat(uri, caption_en, caption_fr, caption_fr_translated_en) not in (select concat(uri, caption_en, caption_fr, caption_fr_translated_en) from `{project_table}` ) limit 10 \"\"\"    \n",
    "        print(query)\n",
    "        \n",
    "\n",
    "    query_job = client.query(query)\n",
    "    if query_job.result().total_rows > 0:\n",
    "        df = query_job.to_dataframe()\n",
    "        print( f\"Run {i} {len(df.uri)}\" ) \n",
    "        \n",
    "#        if len(df.uri) == 0:\n",
    "\n",
    "#            finish = True\n",
    " #       else:\n",
    "        df = add_vc_multimodalembedding(df)\n",
    "        print(\"save_bq\")\n",
    "\n",
    "        save_df_bq(df, table_id=project_table) #, truncate=(i == 0))                \n",
    "        \n",
    "        i = i + 1\n",
    "    else:\n",
    "        finish = True\n",
    "\n"
   ]
  },
  {
   "cell_type": "code",
   "execution_count": 179,
   "metadata": {},
   "outputs": [
    {
     "data": {
      "application/vnd.jupyter.widget-view+json": {
       "model_id": "a5768ec2c2cf4366b6fa66a938cdf892",
       "version_major": 2,
       "version_minor": 0
      },
      "text/plain": [
       "Query is running:   0%|          |"
      ]
     },
     "metadata": {},
     "output_type": "display_data"
    },
    {
     "data": {
      "text/html": [
       "<div>\n",
       "<style scoped>\n",
       "    .dataframe tbody tr th:only-of-type {\n",
       "        vertical-align: middle;\n",
       "    }\n",
       "\n",
       "    .dataframe tbody tr th {\n",
       "        vertical-align: top;\n",
       "    }\n",
       "\n",
       "    .dataframe thead th {\n",
       "        text-align: right;\n",
       "    }\n",
       "</style>\n",
       "<table border=\"1\" class=\"dataframe\">\n",
       "  <thead>\n",
       "    <tr style=\"text-align: right;\">\n",
       "      <th></th>\n",
       "    </tr>\n",
       "  </thead>\n",
       "  <tbody>\n",
       "  </tbody>\n",
       "</table>\n",
       "</div>"
      ],
      "text/plain": [
       "Empty DataFrame\n",
       "Columns: []\n",
       "Index: []"
      ]
     },
     "execution_count": 179,
     "metadata": {},
     "output_type": "execute_result"
    }
   ],
   "source": [
    "%%bigquery\n",
    "\n",
    "create or replace table   ml-demo-384110.immo_us_enriched.vqa_embeddings_multimodal_deduplicate2 as (\n",
    "\n",
    "SELECT k.*\n",
    "FROM (\n",
    "  SELECT concat(uri, caption_fr, caption_en, caption_fr_translated_en) id, ARRAY_AGG(x LIMIT 1)[OFFSET(0)] k \n",
    "  FROM `ml-demo-384110.immo_us_enriched.vqa_embeddings_multimodal_deduplicate` x \n",
    "  GROUP BY id\n",
    ")\n",
    ")\n"
   ]
  },
  {
   "cell_type": "code",
   "execution_count": 180,
   "metadata": {},
   "outputs": [
    {
     "data": {
      "application/vnd.jupyter.widget-view+json": {
       "model_id": "471b9850ef1843b78313a47e9c6f3d74",
       "version_major": 2,
       "version_minor": 0
      },
      "text/plain": [
       "Query is running:   0%|          |"
      ]
     },
     "metadata": {},
     "output_type": "display_data"
    },
    {
     "data": {
      "text/html": [
       "<div>\n",
       "<style scoped>\n",
       "    .dataframe tbody tr th:only-of-type {\n",
       "        vertical-align: middle;\n",
       "    }\n",
       "\n",
       "    .dataframe tbody tr th {\n",
       "        vertical-align: top;\n",
       "    }\n",
       "\n",
       "    .dataframe thead th {\n",
       "        text-align: right;\n",
       "    }\n",
       "</style>\n",
       "<table border=\"1\" class=\"dataframe\">\n",
       "  <thead>\n",
       "    <tr style=\"text-align: right;\">\n",
       "      <th></th>\n",
       "    </tr>\n",
       "  </thead>\n",
       "  <tbody>\n",
       "  </tbody>\n",
       "</table>\n",
       "</div>"
      ],
      "text/plain": [
       "Empty DataFrame\n",
       "Columns: []\n",
       "Index: []"
      ]
     },
     "execution_count": 180,
     "metadata": {},
     "output_type": "execute_result"
    }
   ],
   "source": [
    "%%bigquery\n",
    "\n",
    "create or replace table   ml-demo-384110.immo_us_enriched.vqa_embeddings_multimodal_distance3 as (\n",
    "\n",
    "\n",
    "SELECT uri,\n",
    "  #fr_text_embedding, en_text_embedding, \n",
    "   caption_en, caption_fr_translated_en, caption_fr, \n",
    "  ML.DISTANCE(    multi_embeddings_image,    multi_embeddings_text_en,    'COSINE'  ) AS distance_to_image_en,\n",
    "  ML.DISTANCE(    multi_embeddings_image,    multi_embeddings_text_fr ,    'COSINE'  ) AS distance_to_image_fr,\n",
    "  ML.DISTANCE(    multi_embeddings_text_en,    multi_embeddings_text_fr ,    'COSINE'  ) AS distance_to_en_fr,\n",
    "  ML.DISTANCE(    multi_embeddings_text_en,    multi_embeddings_text_fr_tr ,    'COSINE'  ) AS distance_to_en_tr\n",
    "from ml-demo-384110.immo_us_enriched.vqa_embeddings_multimodal_deduplicate2\n",
    "where ARRAY_LENGTH(multi_embeddings_image) = ARRAY_LENGTH(multi_embeddings_text_fr)\n",
    "and ARRAY_LENGTH(multi_embeddings_image) = ARRAY_LENGTH(multi_embeddings_text_en)\n",
    "\n",
    "#ORDER BY distance_to_image_en, distance_to_image_fr, distance_to_en_fr\n",
    "\n",
    "\n",
    "\n",
    ")\n",
    ";  "
   ]
  },
  {
   "cell_type": "code",
   "execution_count": 183,
   "metadata": {},
   "outputs": [
    {
     "data": {
      "application/vnd.jupyter.widget-view+json": {
       "model_id": "17809c1550c64692aaaccdadceb486fd",
       "version_major": 2,
       "version_minor": 0
      },
      "text/plain": [
       "Query is running:   0%|          |"
      ]
     },
     "metadata": {},
     "output_type": "display_data"
    },
    {
     "data": {
      "application/vnd.jupyter.widget-view+json": {
       "model_id": "f200ba0dea6f4a34998694c371cd8d7a",
       "version_major": 2,
       "version_minor": 0
      },
      "text/plain": [
       "Downloading:   0%|          |"
      ]
     },
     "metadata": {},
     "output_type": "display_data"
    }
   ],
   "source": [
    "%%bigquery df\n",
    "select     ARRAY_LENGTH(multi_embeddings_image) emb_len_image , \n",
    "  ARRAY_LENGTH(multi_embeddings_text_en)  emb_len_en,\n",
    "  ARRAY_LENGTH(multi_embeddings_text_fr)  emb_len_fr\n",
    " from ml-demo-384110.immo_us_enriched.vqa_embeddings_multimodal_deduplicate2 \n"
   ]
  },
  {
   "cell_type": "code",
   "execution_count": 184,
   "metadata": {},
   "outputs": [
    {
     "data": {
      "text/html": [
       "<div>\n",
       "<style scoped>\n",
       "    .dataframe tbody tr th:only-of-type {\n",
       "        vertical-align: middle;\n",
       "    }\n",
       "\n",
       "    .dataframe tbody tr th {\n",
       "        vertical-align: top;\n",
       "    }\n",
       "\n",
       "    .dataframe thead th {\n",
       "        text-align: right;\n",
       "    }\n",
       "</style>\n",
       "<table border=\"1\" class=\"dataframe\">\n",
       "  <thead>\n",
       "    <tr style=\"text-align: right;\">\n",
       "      <th></th>\n",
       "      <th>emb_len_image</th>\n",
       "      <th>emb_len_en</th>\n",
       "      <th>emb_len_fr</th>\n",
       "    </tr>\n",
       "  </thead>\n",
       "  <tbody>\n",
       "    <tr>\n",
       "      <th>count</th>\n",
       "      <td>624.0</td>\n",
       "      <td>624.0</td>\n",
       "      <td>624.0</td>\n",
       "    </tr>\n",
       "    <tr>\n",
       "      <th>mean</th>\n",
       "      <td>1408.0</td>\n",
       "      <td>1408.0</td>\n",
       "      <td>1408.0</td>\n",
       "    </tr>\n",
       "    <tr>\n",
       "      <th>std</th>\n",
       "      <td>0.0</td>\n",
       "      <td>0.0</td>\n",
       "      <td>0.0</td>\n",
       "    </tr>\n",
       "    <tr>\n",
       "      <th>min</th>\n",
       "      <td>1408.0</td>\n",
       "      <td>1408.0</td>\n",
       "      <td>1408.0</td>\n",
       "    </tr>\n",
       "    <tr>\n",
       "      <th>25%</th>\n",
       "      <td>1408.0</td>\n",
       "      <td>1408.0</td>\n",
       "      <td>1408.0</td>\n",
       "    </tr>\n",
       "    <tr>\n",
       "      <th>50%</th>\n",
       "      <td>1408.0</td>\n",
       "      <td>1408.0</td>\n",
       "      <td>1408.0</td>\n",
       "    </tr>\n",
       "    <tr>\n",
       "      <th>75%</th>\n",
       "      <td>1408.0</td>\n",
       "      <td>1408.0</td>\n",
       "      <td>1408.0</td>\n",
       "    </tr>\n",
       "    <tr>\n",
       "      <th>max</th>\n",
       "      <td>1408.0</td>\n",
       "      <td>1408.0</td>\n",
       "      <td>1408.0</td>\n",
       "    </tr>\n",
       "  </tbody>\n",
       "</table>\n",
       "</div>"
      ],
      "text/plain": [
       "       emb_len_image  emb_len_en  emb_len_fr\n",
       "count          624.0       624.0       624.0\n",
       "mean          1408.0      1408.0      1408.0\n",
       "std              0.0         0.0         0.0\n",
       "min           1408.0      1408.0      1408.0\n",
       "25%           1408.0      1408.0      1408.0\n",
       "50%           1408.0      1408.0      1408.0\n",
       "75%           1408.0      1408.0      1408.0\n",
       "max           1408.0      1408.0      1408.0"
      ]
     },
     "execution_count": 184,
     "metadata": {},
     "output_type": "execute_result"
    }
   ],
   "source": [
    "df.describe()"
   ]
  },
  {
   "cell_type": "code",
   "execution_count": 163,
   "metadata": {},
   "outputs": [
    {
     "data": {
      "application/vnd.jupyter.widget-view+json": {
       "model_id": "49d6b84930e14b3dad25bde933860b34",
       "version_major": 2,
       "version_minor": 0
      },
      "text/plain": [
       "Query is running:   0%|          |"
      ]
     },
     "metadata": {},
     "output_type": "display_data"
    },
    {
     "data": {
      "application/vnd.jupyter.widget-view+json": {
       "model_id": "90cc6ca986eb4754a0cc781caa433eb3",
       "version_major": 2,
       "version_minor": 0
      },
      "text/plain": [
       "Downloading: |          |"
      ]
     },
     "metadata": {},
     "output_type": "display_data"
    },
    {
     "data": {
      "text/html": [
       "<div>\n",
       "<style scoped>\n",
       "    .dataframe tbody tr th:only-of-type {\n",
       "        vertical-align: middle;\n",
       "    }\n",
       "\n",
       "    .dataframe tbody tr th {\n",
       "        vertical-align: top;\n",
       "    }\n",
       "\n",
       "    .dataframe thead th {\n",
       "        text-align: right;\n",
       "    }\n",
       "</style>\n",
       "<table border=\"1\" class=\"dataframe\">\n",
       "  <thead>\n",
       "    <tr style=\"text-align: right;\">\n",
       "      <th></th>\n",
       "      <th>uri</th>\n",
       "      <th>fr_text_embedding</th>\n",
       "      <th>fr_statistics</th>\n",
       "      <th>fr_ml_embed_text_status</th>\n",
       "      <th>caption_fr</th>\n",
       "      <th>en_text_embedding</th>\n",
       "      <th>en_statistics</th>\n",
       "      <th>en_ml_embed_text_status</th>\n",
       "      <th>caption_en</th>\n",
       "      <th>tr_text_embedding</th>\n",
       "      <th>tr_statistics</th>\n",
       "      <th>tr_ml_embed_text_status</th>\n",
       "      <th>caption_fr_translated_en</th>\n",
       "      <th>multi_embeddings_image</th>\n",
       "      <th>multi_embeddings_text_en</th>\n",
       "      <th>multi_embeddings_text_fr</th>\n",
       "      <th>multi_embeddings_text_fr_tr</th>\n",
       "    </tr>\n",
       "  </thead>\n",
       "  <tbody>\n",
       "  </tbody>\n",
       "</table>\n",
       "</div>"
      ],
      "text/plain": [
       "Empty DataFrame\n",
       "Columns: [uri, fr_text_embedding, fr_statistics, fr_ml_embed_text_status, caption_fr, en_text_embedding, en_statistics, en_ml_embed_text_status, caption_en, tr_text_embedding, tr_statistics, tr_ml_embed_text_status, caption_fr_translated_en, multi_embeddings_image, multi_embeddings_text_en, multi_embeddings_text_fr, multi_embeddings_text_fr_tr]\n",
       "Index: []"
      ]
     },
     "execution_count": 163,
     "metadata": {},
     "output_type": "execute_result"
    }
   ],
   "source": [
    "%%bigquery\n",
    "\n",
    "#delete\n",
    "\n",
    "select *\n",
    " from immo_us_enriched.vqa_embeddings_multimodal_deduplicate \n",
    " \n",
    " where \n",
    "    ARRAY_LENGTH(multi_embeddings_image) = 0 \n",
    "or  ARRAY_LENGTH(multi_embeddings_text_en) = 0 \n",
    "or  ARRAY_LENGTH(multi_embeddings_text_fr) = 0 "
   ]
  },
  {
   "cell_type": "markdown",
   "metadata": {},
   "source": []
  },
  {
   "cell_type": "code",
   "execution_count": 185,
   "metadata": {},
   "outputs": [
    {
     "data": {
      "application/vnd.jupyter.widget-view+json": {
       "model_id": "91fa51bd818f4eddbba114c68a94c879",
       "version_major": 2,
       "version_minor": 0
      },
      "text/plain": [
       "Query is running:   0%|          |"
      ]
     },
     "metadata": {},
     "output_type": "display_data"
    },
    {
     "data": {
      "application/vnd.jupyter.widget-view+json": {
       "model_id": "4b7ae780381543a8b628d94117ef774b",
       "version_major": 2,
       "version_minor": 0
      },
      "text/plain": [
       "Downloading:   0%|          |"
      ]
     },
     "metadata": {},
     "output_type": "display_data"
    }
   ],
   "source": [
    "%%bigquery df\n",
    "\n",
    "\n",
    "select * from   ml-demo-384110.immo_us_enriched.vqa_embeddings_multimodal_distance2"
   ]
  },
  {
   "cell_type": "code",
   "execution_count": 186,
   "metadata": {},
   "outputs": [
    {
     "data": {
      "text/html": [
       "<div>\n",
       "<style scoped>\n",
       "    .dataframe tbody tr th:only-of-type {\n",
       "        vertical-align: middle;\n",
       "    }\n",
       "\n",
       "    .dataframe tbody tr th {\n",
       "        vertical-align: top;\n",
       "    }\n",
       "\n",
       "    .dataframe thead th {\n",
       "        text-align: right;\n",
       "    }\n",
       "</style>\n",
       "<table border=\"1\" class=\"dataframe\">\n",
       "  <thead>\n",
       "    <tr style=\"text-align: right;\">\n",
       "      <th></th>\n",
       "      <th>distance_to_image_en</th>\n",
       "      <th>distance_to_image_fr</th>\n",
       "      <th>distance_to_en_fr</th>\n",
       "      <th>distance_to_en_tr</th>\n",
       "    </tr>\n",
       "  </thead>\n",
       "  <tbody>\n",
       "    <tr>\n",
       "      <th>count</th>\n",
       "      <td>611.000000</td>\n",
       "      <td>611.000000</td>\n",
       "      <td>611.000000</td>\n",
       "      <td>611.000000</td>\n",
       "    </tr>\n",
       "    <tr>\n",
       "      <th>mean</th>\n",
       "      <td>0.840589</td>\n",
       "      <td>0.844115</td>\n",
       "      <td>0.495309</td>\n",
       "      <td>0.387965</td>\n",
       "    </tr>\n",
       "    <tr>\n",
       "      <th>std</th>\n",
       "      <td>0.062280</td>\n",
       "      <td>0.039985</td>\n",
       "      <td>0.127839</td>\n",
       "      <td>0.172383</td>\n",
       "    </tr>\n",
       "    <tr>\n",
       "      <th>min</th>\n",
       "      <td>0.681263</td>\n",
       "      <td>0.713447</td>\n",
       "      <td>0.148175</td>\n",
       "      <td>0.000000</td>\n",
       "    </tr>\n",
       "    <tr>\n",
       "      <th>25%</th>\n",
       "      <td>0.795840</td>\n",
       "      <td>0.817786</td>\n",
       "      <td>0.414910</td>\n",
       "      <td>0.272291</td>\n",
       "    </tr>\n",
       "    <tr>\n",
       "      <th>50%</th>\n",
       "      <td>0.839233</td>\n",
       "      <td>0.843364</td>\n",
       "      <td>0.502646</td>\n",
       "      <td>0.398828</td>\n",
       "    </tr>\n",
       "    <tr>\n",
       "      <th>75%</th>\n",
       "      <td>0.888870</td>\n",
       "      <td>0.873144</td>\n",
       "      <td>0.583320</td>\n",
       "      <td>0.519815</td>\n",
       "    </tr>\n",
       "    <tr>\n",
       "      <th>max</th>\n",
       "      <td>0.998091</td>\n",
       "      <td>0.954698</td>\n",
       "      <td>0.818130</td>\n",
       "      <td>0.769610</td>\n",
       "    </tr>\n",
       "  </tbody>\n",
       "</table>\n",
       "</div>"
      ],
      "text/plain": [
       "       distance_to_image_en  distance_to_image_fr  distance_to_en_fr  \\\n",
       "count            611.000000            611.000000         611.000000   \n",
       "mean               0.840589              0.844115           0.495309   \n",
       "std                0.062280              0.039985           0.127839   \n",
       "min                0.681263              0.713447           0.148175   \n",
       "25%                0.795840              0.817786           0.414910   \n",
       "50%                0.839233              0.843364           0.502646   \n",
       "75%                0.888870              0.873144           0.583320   \n",
       "max                0.998091              0.954698           0.818130   \n",
       "\n",
       "       distance_to_en_tr  \n",
       "count         611.000000  \n",
       "mean            0.387965  \n",
       "std             0.172383  \n",
       "min             0.000000  \n",
       "25%             0.272291  \n",
       "50%             0.398828  \n",
       "75%             0.519815  \n",
       "max             0.769610  "
      ]
     },
     "execution_count": 186,
     "metadata": {},
     "output_type": "execute_result"
    }
   ],
   "source": [
    "df.describe()"
   ]
  },
  {
   "cell_type": "code",
   "execution_count": 187,
   "metadata": {},
   "outputs": [
    {
     "data": {
      "image/png": "[encoded data removed]",
      "text/plain": [
       "<Figure size 640x480 with 1 Axes>"
      ]
     },
     "metadata": {},
     "output_type": "display_data"
    }
   ],
   "source": [
    "import matplotlib.pyplot as plt\n",
    "\n",
    "df.boxplot(  rot=90, fontsize=10)\n",
    "plt.show()\n"
   ]
  },
  {
   "cell_type": "code",
   "execution_count": null,
   "metadata": {},
   "outputs": [],
   "source": []
  },
  {
   "cell_type": "code",
   "execution_count": 73,
   "metadata": {},
   "outputs": [],
   "source": []
  },
  {
   "cell_type": "markdown",
   "metadata": {},
   "source": [
    "#### Centroid"
   ]
  },
  {
   "cell_type": "code",
   "execution_count": 74,
   "metadata": {},
   "outputs": [
    {
     "data": {
      "application/vnd.jupyter.widget-view+json": {
       "model_id": "fdfa974aa5944fc9af783c2b4818860c",
       "version_major": 2,
       "version_minor": 0
      },
      "text/plain": [
       "Query is running:   0%|          |"
      ]
     },
     "metadata": {},
     "output_type": "display_data"
    },
    {
     "data": {
      "text/html": [
       "<div>\n",
       "<style scoped>\n",
       "    .dataframe tbody tr th:only-of-type {\n",
       "        vertical-align: middle;\n",
       "    }\n",
       "\n",
       "    .dataframe tbody tr th {\n",
       "        vertical-align: top;\n",
       "    }\n",
       "\n",
       "    .dataframe thead th {\n",
       "        text-align: right;\n",
       "    }\n",
       "</style>\n",
       "<table border=\"1\" class=\"dataframe\">\n",
       "  <thead>\n",
       "    <tr style=\"text-align: right;\">\n",
       "      <th></th>\n",
       "    </tr>\n",
       "  </thead>\n",
       "  <tbody>\n",
       "  </tbody>\n",
       "</table>\n",
       "</div>"
      ],
      "text/plain": [
       "Empty DataFrame\n",
       "Columns: []\n",
       "Index: []"
      ]
     },
     "execution_count": 74,
     "metadata": {},
     "output_type": "execute_result"
    }
   ],
   "source": [
    "%%bigquery\n",
    "#select * from    ml-demo-384110.immo_us_enriched.vc_tr_distance where distance_to_fr_tr_en =0\n",
    "\n",
    "\n",
    "\n",
    "CREATE OR REPLACE MODEL `ml-demo-384110.immo_us_enriched.vqa_embeddings_multimodal_cluster`\n",
    "OPTIONS (\n",
    "  model_type = 'KMEANS',\n",
    "  KMEANS_INIT_METHOD = 'KMEANS++',\n",
    "  num_clusters = 10) AS (\n",
    "    SELECT\n",
    "      multi_embeddings_image #, fr_text_embedding\n",
    "    \n",
    "from `ml-demo-384110.immo_us_enriched.vqa_embeddings_multimodal_deduplicate`\n",
    ");"
   ]
  },
  {
   "cell_type": "code",
   "execution_count": null,
   "metadata": {},
   "outputs": [],
   "source": [
    "select *\n",
    " from immo_us_enriched.vqa_embeddings_multimodal_deduplicate \n",
    " \n",
    " where \n",
    "    ARRAY_LENGTH(multi_embeddings_image) = 0 \n",
    "or  ARRAY_LENGTH(multi_embeddings_text_en) = 0 \n",
    "or  ARRAY_LENGTH(multi_embeddings_text_fr) = 0 "
   ]
  },
  {
   "cell_type": "code",
   "execution_count": null,
   "metadata": {},
   "outputs": [],
   "source": []
  },
  {
   "cell_type": "code",
   "execution_count": null,
   "metadata": {},
   "outputs": [],
   "source": []
  },
  {
   "cell_type": "code",
   "execution_count": null,
   "metadata": {},
   "outputs": [],
   "source": []
  },
  {
   "cell_type": "code",
   "execution_count": null,
   "metadata": {},
   "outputs": [],
   "source": []
  },
  {
   "cell_type": "code",
   "execution_count": null,
   "metadata": {},
   "outputs": [],
   "source": [
    "import matplotlib.pyplot as plt\n",
    "\n",
    "df.boxplot(  rot=90, fontsize=10)\n",
    "plt.show()"
   ]
  },
  {
   "cell_type": "code",
   "execution_count": 9,
   "metadata": {},
   "outputs": [],
   "source": [
    "from bq import save_bq\n",
    "\n",
    "\n",
    "\n",
    "BQ_DATASET_NAME = 'immo_us_enriched' \n",
    "BQ_TABLE_NAME = 'vqa_embeddings_multimodal'\n",
    "project_table = PROJECT_ID + \".\" +BQ_DATASET_NAME +\".\" + BQ_TABLE_NAME\n",
    "\n",
    "\n",
    "#df_vqa = add_images_caption_to_df(df)\n",
    "save_bq(df, table_id=project_table, project_id=PROJECT_ID)"
   ]
  },
  {
   "cell_type": "code",
   "execution_count": null,
   "metadata": {},
   "outputs": [],
   "source": [
    "bucket_name = \"ml-demo-384110-bucket\"\n",
    "\n",
    "df[f'multi_embeddings_image'] = df.uri.map(\n",
    "    lambda uri_name:\n",
    "        visual_captioning_multimodalembedding(\n",
    "            read_bytes_from_gcs(\n",
    "                bucket,\n",
    "                uri_name.replace(\n",
    "                    f\"gs://{bucket_name}/\", \"\")\n",
    "            )\n",
    "        )\n",
    ")\n"
   ]
  },
  {
   "cell_type": "code",
   "execution_count": null,
   "metadata": {},
   "outputs": [],
   "source": [
    "\n",
    "\n",
    "df[f'multi_embeddings_text_en'] = df.caption_en.map(\n",
    "    lambda text:\n",
    "        visual_captioning_multimodalembedding(text=text)\n",
    ")\n",
    "\n",
    "df[f'multi_embeddings_text_fr'] = df.caption_fr.map(\n",
    "    lambda text:\n",
    "        visual_captioning_multimodalembedding(text=text)\n",
    ")\n",
    "\n",
    "df[f'multi_embeddings_text_fr_tr'] = df.caption_fr_translated_en.map(\n",
    "    lambda text:\n",
    "        visual_captioning_multimodalembedding(text=text)\n",
    "\n",
    ")\n"
   ]
  },
  {
   "cell_type": "code",
   "execution_count": 10,
   "metadata": {},
   "outputs": [
    {
     "name": "stdout",
     "output_type": "stream",
     "text": [
      "save_bq\n"
     ]
    },
    {
     "name": "stderr",
     "output_type": "stream",
     "text": [
      "100%|██████████| 1/1 [00:00<00:00, 7145.32it/s]\n"
     ]
    }
   ],
   "source": [
    "from bq import save_bq\n",
    "\n",
    "\n",
    "BQ_DATASET_NAME = 'immo_us_enriched' \n",
    "BQ_TABLE_NAME = 'vc_embeddings_multimodal'\n",
    "project_table = PROJECT_ID + \".\" +BQ_DATASET_NAME +\".\" + BQ_TABLE_NAME\n",
    "\n",
    "\n",
    "save_bq(df, table_id=project_table, project_id=PROJECT_ID)\n",
    "\n"
   ]
  },
  {
   "cell_type": "code",
   "execution_count": 61,
   "metadata": {},
   "outputs": [
    {
     "data": {
      "application/vnd.jupyter.widget-view+json": {
       "model_id": "602801192de24137a27eb5d34dc848af",
       "version_major": 2,
       "version_minor": 0
      },
      "text/plain": [
       "Query is running:   0%|          |"
      ]
     },
     "metadata": {},
     "output_type": "display_data"
    },
    {
     "data": {
      "application/vnd.jupyter.widget-view+json": {
       "model_id": "66765aadf9464e0c885d5753b4f0f8a1",
       "version_major": 2,
       "version_minor": 0
      },
      "text/plain": [
       "Downloading:   0%|          |"
      ]
     },
     "metadata": {},
     "output_type": "display_data"
    }
   ],
   "source": [
    "%%bigquery df_arr\n",
    "\n",
    "\n",
    "SELECT\n",
    "  #fr_text_embedding, en_text_embedding, \n",
    "   caption_en, caption_fr_translated_en, caption_fr, ARRAY_LENGTH(multi_embeddings_image) arr_img, ARRAY_LENGTH(multi_embeddings_text_fr) arr_fr, ARRAY_LENGTH(multi_embeddings_text_en) arr_en\n",
    "  #ML.DISTANCE(    multi_embeddings_image,    multi_embeddings_text_en,    'COSINE'  ) AS distance_to_image_en,\n",
    "  #ML.DISTANCE(    multi_embeddings_image,    multi_embeddings_text_fr ,    'COSINE'  ) AS distance_to_image_fr,\n",
    "  #ML.DISTANCE(    multi_embeddings_text_en,    multi_embeddings_text_fr ,    'COSINE'  ) AS distance_to_en_fr\n",
    "from ml-demo-384110.immo_us_enriched.vqa_embeddings_multimodal\n",
    "#where ARRAY_LENGTH(multi_embeddings_image) = ARRAY_LENGTH(multi_embeddings_text_fr)\n",
    "#and ARRAY_LENGTH(multi_embeddings_image) = ARRAY_LENGTH(multi_embeddings_text_en)\n",
    "#where ARRAY_LENGTH(multi_embeddings_image) != 1408 \n",
    "\n",
    "#ORDER BY distance_to_image_en, distance_to_image_fr, distance_to_en_fr\n",
    "\n"
   ]
  },
  {
   "cell_type": "code",
   "execution_count": 62,
   "metadata": {},
   "outputs": [
    {
     "data": {
      "text/html": [
       "<div>\n",
       "<style scoped>\n",
       "    .dataframe tbody tr th:only-of-type {\n",
       "        vertical-align: middle;\n",
       "    }\n",
       "\n",
       "    .dataframe tbody tr th {\n",
       "        vertical-align: top;\n",
       "    }\n",
       "\n",
       "    .dataframe thead th {\n",
       "        text-align: right;\n",
       "    }\n",
       "</style>\n",
       "<table border=\"1\" class=\"dataframe\">\n",
       "  <thead>\n",
       "    <tr style=\"text-align: right;\">\n",
       "      <th></th>\n",
       "      <th>arr_img</th>\n",
       "      <th>arr_fr</th>\n",
       "      <th>arr_en</th>\n",
       "    </tr>\n",
       "  </thead>\n",
       "  <tbody>\n",
       "    <tr>\n",
       "      <th>count</th>\n",
       "      <td>645.0</td>\n",
       "      <td>645.0</td>\n",
       "      <td>645.0</td>\n",
       "    </tr>\n",
       "    <tr>\n",
       "      <th>mean</th>\n",
       "      <td>1403.634109</td>\n",
       "      <td>1408.0</td>\n",
       "      <td>1408.0</td>\n",
       "    </tr>\n",
       "    <tr>\n",
       "      <th>std</th>\n",
       "      <td>78.343027</td>\n",
       "      <td>0.0</td>\n",
       "      <td>0.0</td>\n",
       "    </tr>\n",
       "    <tr>\n",
       "      <th>min</th>\n",
       "      <td>0.0</td>\n",
       "      <td>1408.0</td>\n",
       "      <td>1408.0</td>\n",
       "    </tr>\n",
       "    <tr>\n",
       "      <th>25%</th>\n",
       "      <td>1408.0</td>\n",
       "      <td>1408.0</td>\n",
       "      <td>1408.0</td>\n",
       "    </tr>\n",
       "    <tr>\n",
       "      <th>50%</th>\n",
       "      <td>1408.0</td>\n",
       "      <td>1408.0</td>\n",
       "      <td>1408.0</td>\n",
       "    </tr>\n",
       "    <tr>\n",
       "      <th>75%</th>\n",
       "      <td>1408.0</td>\n",
       "      <td>1408.0</td>\n",
       "      <td>1408.0</td>\n",
       "    </tr>\n",
       "    <tr>\n",
       "      <th>max</th>\n",
       "      <td>1408.0</td>\n",
       "      <td>1408.0</td>\n",
       "      <td>1408.0</td>\n",
       "    </tr>\n",
       "  </tbody>\n",
       "</table>\n",
       "</div>"
      ],
      "text/plain": [
       "           arr_img  arr_fr  arr_en\n",
       "count        645.0   645.0   645.0\n",
       "mean   1403.634109  1408.0  1408.0\n",
       "std      78.343027     0.0     0.0\n",
       "min            0.0  1408.0  1408.0\n",
       "25%         1408.0  1408.0  1408.0\n",
       "50%         1408.0  1408.0  1408.0\n",
       "75%         1408.0  1408.0  1408.0\n",
       "max         1408.0  1408.0  1408.0"
      ]
     },
     "execution_count": 62,
     "metadata": {},
     "output_type": "execute_result"
    }
   ],
   "source": [
    "df_arr.describe()"
   ]
  },
  {
   "cell_type": "code",
   "execution_count": null,
   "metadata": {},
   "outputs": [],
   "source": []
  },
  {
   "cell_type": "code",
   "execution_count": null,
   "metadata": {},
   "outputs": [],
   "source": [
    "t = \"ne maison avec le numéro 50 est à vendre\"\n",
    "visual_captioning_multimodalembedding(text=t)\n",
    "\n",
    "#df.caption_fr.map(            lambda text:                visual_captioning_multimodalembedding(text=text)        )"
   ]
  },
  {
   "cell_type": "code",
   "execution_count": 14,
   "metadata": {},
   "outputs": [],
   "source": [
    "df.to_csv(\"em.csv\", index=False)"
   ]
  },
  {
   "cell_type": "code",
   "execution_count": null,
   "metadata": {},
   "outputs": [],
   "source": [
    "import pandas as pd\n",
    "\n",
    "df = pd.read_csv(\"em.csv\")\n",
    "df\n",
    "#.to_csv(\"em.csv\", index=False)"
   ]
  },
  {
   "cell_type": "markdown",
   "metadata": {},
   "source": [
    "## textembedding-gecko-multilingual@latest\n"
   ]
  },
  {
   "cell_type": "code",
   "execution_count": 4,
   "metadata": {},
   "outputs": [],
   "source": [
    "\n",
    "import vertexai\n",
    "from google.cloud import bigquery\n",
    "from tools import *\n",
    "\n",
    "\n",
    "PROJECT_ID = \"ml-demo-384110\"  # @param {type:\"string\"}\n",
    "vertexai.init(project=PROJECT_ID, location=\"us-central1\")\n",
    "client = bigquery.Client(project=PROJECT_ID)\n",
    "\n",
    "%load_ext google.cloud.bigquery"
   ]
  },
  {
   "cell_type": "code",
   "execution_count": null,
   "metadata": {},
   "outputs": [],
   "source": [
    "%pip install google-cloud-aiplatform[pipelines]==1.31.0 google-auth==2.17.3"
   ]
  },
  {
   "cell_type": "code",
   "execution_count": 44,
   "metadata": {},
   "outputs": [
    {
     "data": {
      "application/vnd.jupyter.widget-view+json": {
       "model_id": "5e4ee9984b2b44d7908b8ca3a9f67bb3",
       "version_major": 2,
       "version_minor": 0
      },
      "text/plain": [
       "Query is running:   0%|          |"
      ]
     },
     "metadata": {},
     "output_type": "display_data"
    },
    {
     "data": {
      "application/vnd.jupyter.widget-view+json": {
       "model_id": "7784c3517a6746f6b38c5e8f3fc63b61",
       "version_major": 2,
       "version_minor": 0
      },
      "text/plain": [
       "Downloading:   0%|          |"
      ]
     },
     "metadata": {},
     "output_type": "display_data"
    }
   ],
   "source": [
    "%%bigquery df\n",
    "\n",
    "\n",
    "SELECT\n",
    "  #fr_text_embedding, en_text_embedding, \n",
    "  uri,\n",
    "   caption_en, caption_fr_translated_en, caption_fr\n",
    "  #ML.DISTANCE(    multi_embeddings_image,    multi_embeddings_text_en,    'COSINE'  ) AS distance_to_image_en,\n",
    "  #ML.DISTANCE(    multi_embeddings_image,    multi_embeddings_text_fr ,    'COSINE'  ) AS distance_to_image_fr,\n",
    "  #ML.DISTANCE(    multi_embeddings_text_en,    multi_embeddings_text_fr ,    'COSINE'  ) AS distance_to_en_fr\n",
    "from ml-demo-384110.immo_us_enriched.vqa_embeddings_multimodal_distance2\n",
    "#where ARRAY_LENGTH(multi_embeddings_image) = ARRAY_LENGTH(multi_embeddings_text_fr)\n",
    "#and ARRAY_LENGTH(multi_embeddings_image) = ARRAY_LENGTH(multi_embeddings_text_en)\n",
    "#where ARRAY_LENGTH(multi_embeddings_image) != 1408 \n",
    "\n",
    "#ORDER BY distance_to_image_en, distance_to_image_fr, distance_to_en_fr\n"
   ]
  },
  {
   "cell_type": "code",
   "execution_count": 49,
   "metadata": {},
   "outputs": [
    {
     "name": "stdout",
     "output_type": "stream",
     "text": [
      "en\n",
      "fr\n",
      "tr\n"
     ]
    },
    {
     "data": {
      "text/html": [
       "<div>\n",
       "<style scoped>\n",
       "    .dataframe tbody tr th:only-of-type {\n",
       "        vertical-align: middle;\n",
       "    }\n",
       "\n",
       "    .dataframe tbody tr th {\n",
       "        vertical-align: top;\n",
       "    }\n",
       "\n",
       "    .dataframe thead th {\n",
       "        text-align: right;\n",
       "    }\n",
       "</style>\n",
       "<table border=\"1\" class=\"dataframe\">\n",
       "  <thead>\n",
       "    <tr style=\"text-align: right;\">\n",
       "      <th></th>\n",
       "      <th>uri</th>\n",
       "      <th>caption_en</th>\n",
       "      <th>caption_fr_translated_en</th>\n",
       "      <th>caption_fr</th>\n",
       "      <th>multilingual_embeddings_text_en</th>\n",
       "      <th>multilingual_embeddings_text_fr</th>\n",
       "      <th>multilingual_embeddings_text_fr_tr</th>\n",
       "    </tr>\n",
       "  </thead>\n",
       "  <tbody>\n",
       "    <tr>\n",
       "      <th>count</th>\n",
       "      <td>611</td>\n",
       "      <td>611</td>\n",
       "      <td>611</td>\n",
       "      <td>611</td>\n",
       "      <td>611</td>\n",
       "      <td>611</td>\n",
       "      <td>611</td>\n",
       "    </tr>\n",
       "    <tr>\n",
       "      <th>unique</th>\n",
       "      <td>575</td>\n",
       "      <td>557</td>\n",
       "      <td>540</td>\n",
       "      <td>544</td>\n",
       "      <td>557</td>\n",
       "      <td>544</td>\n",
       "      <td>540</td>\n",
       "    </tr>\n",
       "    <tr>\n",
       "      <th>top</th>\n",
       "      <td>gs://ml-demo-384110-bucket/dataset/immo/images...</td>\n",
       "      <td>the word hosman that is on a picture</td>\n",
       "      <td>a kitchen with white cabinets and a siemens oven</td>\n",
       "      <td>une cuisine avec des armoires blanches et un f...</td>\n",
       "      <td>[-0.01636134646832943, -0.02084939368069172, 0...</td>\n",
       "      <td>[-0.01975165493786335, -0.01723782904446125, 0...</td>\n",
       "      <td>[-0.044276997447013855, -0.01569574885070324, ...</td>\n",
       "    </tr>\n",
       "    <tr>\n",
       "      <th>freq</th>\n",
       "      <td>8</td>\n",
       "      <td>6</td>\n",
       "      <td>4</td>\n",
       "      <td>4</td>\n",
       "      <td>6</td>\n",
       "      <td>4</td>\n",
       "      <td>4</td>\n",
       "    </tr>\n",
       "  </tbody>\n",
       "</table>\n",
       "</div>"
      ],
      "text/plain": [
       "                                                      uri  \\\n",
       "count                                                 611   \n",
       "unique                                                575   \n",
       "top     gs://ml-demo-384110-bucket/dataset/immo/images...   \n",
       "freq                                                    8   \n",
       "\n",
       "                                  caption_en  \\\n",
       "count                                    611   \n",
       "unique                                   557   \n",
       "top     the word hosman that is on a picture   \n",
       "freq                                       6   \n",
       "\n",
       "                                caption_fr_translated_en  \\\n",
       "count                                                611   \n",
       "unique                                               540   \n",
       "top     a kitchen with white cabinets and a siemens oven   \n",
       "freq                                                   4   \n",
       "\n",
       "                                               caption_fr  \\\n",
       "count                                                 611   \n",
       "unique                                                544   \n",
       "top     une cuisine avec des armoires blanches et un f...   \n",
       "freq                                                    4   \n",
       "\n",
       "                          multilingual_embeddings_text_en  \\\n",
       "count                                                 611   \n",
       "unique                                                557   \n",
       "top     [-0.01636134646832943, -0.02084939368069172, 0...   \n",
       "freq                                                    6   \n",
       "\n",
       "                          multilingual_embeddings_text_fr  \\\n",
       "count                                                 611   \n",
       "unique                                                544   \n",
       "top     [-0.01975165493786335, -0.01723782904446125, 0...   \n",
       "freq                                                    4   \n",
       "\n",
       "                       multilingual_embeddings_text_fr_tr  \n",
       "count                                                 611  \n",
       "unique                                                540  \n",
       "top     [-0.044276997447013855, -0.01569574885070324, ...  \n",
       "freq                                                    4  "
      ]
     },
     "execution_count": 49,
     "metadata": {},
     "output_type": "execute_result"
    }
   ],
   "source": [
    "\n",
    "from vertexai.language_models import TextEmbeddingModel\n",
    "\n",
    "\n",
    "from grpc import RpcError\n",
    "from ratelimit import limits, sleep_and_retry\n",
    "\n",
    "from tools import *\n",
    "import time\n",
    "# client can be reused.\n",
    "\n",
    "model_multilingual = TextEmbeddingModel.from_pretrained(\"textembedding-gecko-multilingual@latest\")\n",
    "\n",
    "visual_captioning_multilingual_max_retry = 3\n",
    "\n",
    "#@sleep_and_retry\n",
    "#@limits(calls=1000, period=60, raise_on_limit=False)\n",
    "def visual_captioning_multilingual(text ):\n",
    "  global model_multilingual\n",
    "  retry = 0\n",
    "  while(retry < visual_captioning_multilingual_max_retry):\n",
    "    retry = retry+1\n",
    "    try:\n",
    "      start = time.time()\n",
    "\n",
    "      embeddings = model_multilingual.get_embeddings([text])\n",
    "      \n",
    "      end = time.time()\n",
    "      \n",
    "      #print('Time taken: ', end - start)\n",
    "      if len(embeddings) == 0:\n",
    "         print(\"ERROR, no embeddings returned\")         \n",
    "      if len(embeddings) == 1:\n",
    "        return embeddings[0].values    \n",
    "      if len(embeddings) > 1:\n",
    "         print(\"WARNING, more than one embeddings returned\")         \n",
    "         return embeddings[0].values   \n",
    "         \n",
    "    \n",
    "    except RpcError  as rpc_e:        \n",
    "        print('RpcError Failed get_embedding: '+ str(rpc_e))\n",
    "        model_multilingual = TextEmbeddingModel.from_pretrained(\"textembedding-gecko-multilingual@latest\")\n",
    "\n",
    "        print(f\"retry: {retry} / {visual_captioning_multilingual_max_retry}\")\n",
    "    except Exception as e: \n",
    "        print('Failed to get_embedding: '+ str(e))        \n",
    "        retry = retry+visual_captioning_multilingual_max_retry\n",
    "    \n",
    "    print(f\"retry [{retry}]\")\n",
    "    \n",
    "\n",
    "def add_vc_multilingual(df, bucket_name = \"ml-demo-384110-bucket\"):\n",
    "    #print(f'{name} : {prompt} ')\n",
    "    #try:\n",
    "\n",
    "        \n",
    "        print(\"en\")\n",
    "\n",
    "        df[f'multilingual_embeddings_text_en'] = df.caption_en.map(            lambda text:                visual_captioning_multilingual(text=text)        )\n",
    "\n",
    "        print(\"fr\")\n",
    "        df[f'multilingual_embeddings_text_fr'] = df.caption_fr.map(            lambda text:                visual_captioning_multilingual(text=text)        )\n",
    "\n",
    "        print(\"tr\")\n",
    "        df[f'multilingual_embeddings_text_fr_tr'] = df.caption_fr_translated_en.map(            lambda text:                visual_captioning_multilingual(text=text)        )\n",
    "\n",
    "\n",
    "    #except:\n",
    "    #    print(\"An exception occurred\")\n",
    "        return df\n",
    "\n",
    "\n",
    "df = add_vc_multilingual(df)\n",
    "df.describe()"
   ]
  },
  {
   "cell_type": "code",
   "execution_count": 50,
   "metadata": {},
   "outputs": [
    {
     "data": {
      "text/html": [
       "<div>\n",
       "<style scoped>\n",
       "    .dataframe tbody tr th:only-of-type {\n",
       "        vertical-align: middle;\n",
       "    }\n",
       "\n",
       "    .dataframe tbody tr th {\n",
       "        vertical-align: top;\n",
       "    }\n",
       "\n",
       "    .dataframe thead th {\n",
       "        text-align: right;\n",
       "    }\n",
       "</style>\n",
       "<table border=\"1\" class=\"dataframe\">\n",
       "  <thead>\n",
       "    <tr style=\"text-align: right;\">\n",
       "      <th></th>\n",
       "      <th>uri</th>\n",
       "      <th>caption_en</th>\n",
       "      <th>caption_fr_translated_en</th>\n",
       "      <th>caption_fr</th>\n",
       "      <th>multilingual_embeddings_text_en</th>\n",
       "      <th>multilingual_embeddings_text_fr</th>\n",
       "      <th>multilingual_embeddings_text_fr_tr</th>\n",
       "    </tr>\n",
       "  </thead>\n",
       "  <tbody>\n",
       "  </tbody>\n",
       "</table>\n",
       "</div>"
      ],
      "text/plain": [
       "Empty DataFrame\n",
       "Columns: [uri, caption_en, caption_fr_translated_en, caption_fr, multilingual_embeddings_text_en, multilingual_embeddings_text_fr, multilingual_embeddings_text_fr_tr]\n",
       "Index: []"
      ]
     },
     "execution_count": 50,
     "metadata": {},
     "output_type": "execute_result"
    }
   ],
   "source": [
    "df[df['multilingual_embeddings_text_en'] == None] "
   ]
  },
  {
   "cell_type": "code",
   "execution_count": 51,
   "metadata": {},
   "outputs": [
    {
     "data": {
      "text/html": [
       "<div>\n",
       "<style scoped>\n",
       "    .dataframe tbody tr th:only-of-type {\n",
       "        vertical-align: middle;\n",
       "    }\n",
       "\n",
       "    .dataframe tbody tr th {\n",
       "        vertical-align: top;\n",
       "    }\n",
       "\n",
       "    .dataframe thead th {\n",
       "        text-align: right;\n",
       "    }\n",
       "</style>\n",
       "<table border=\"1\" class=\"dataframe\">\n",
       "  <thead>\n",
       "    <tr style=\"text-align: right;\">\n",
       "      <th></th>\n",
       "      <th>uri</th>\n",
       "      <th>caption_en</th>\n",
       "      <th>caption_fr_translated_en</th>\n",
       "      <th>caption_fr</th>\n",
       "      <th>multilingual_embeddings_text_en</th>\n",
       "      <th>multilingual_embeddings_text_fr</th>\n",
       "      <th>multilingual_embeddings_text_fr_tr</th>\n",
       "    </tr>\n",
       "  </thead>\n",
       "  <tbody>\n",
       "  </tbody>\n",
       "</table>\n",
       "</div>"
      ],
      "text/plain": [
       "Empty DataFrame\n",
       "Columns: [uri, caption_en, caption_fr_translated_en, caption_fr, multilingual_embeddings_text_en, multilingual_embeddings_text_fr, multilingual_embeddings_text_fr_tr]\n",
       "Index: []"
      ]
     },
     "execution_count": 51,
     "metadata": {},
     "output_type": "execute_result"
    }
   ],
   "source": [
    "df[df['multilingual_embeddings_text_fr'] == None] "
   ]
  },
  {
   "cell_type": "code",
   "execution_count": 52,
   "metadata": {},
   "outputs": [
    {
     "data": {
      "text/html": [
       "<div>\n",
       "<style scoped>\n",
       "    .dataframe tbody tr th:only-of-type {\n",
       "        vertical-align: middle;\n",
       "    }\n",
       "\n",
       "    .dataframe tbody tr th {\n",
       "        vertical-align: top;\n",
       "    }\n",
       "\n",
       "    .dataframe thead th {\n",
       "        text-align: right;\n",
       "    }\n",
       "</style>\n",
       "<table border=\"1\" class=\"dataframe\">\n",
       "  <thead>\n",
       "    <tr style=\"text-align: right;\">\n",
       "      <th></th>\n",
       "      <th>uri</th>\n",
       "      <th>caption_en</th>\n",
       "      <th>caption_fr_translated_en</th>\n",
       "      <th>caption_fr</th>\n",
       "      <th>multilingual_embeddings_text_en</th>\n",
       "      <th>multilingual_embeddings_text_fr</th>\n",
       "      <th>multilingual_embeddings_text_fr_tr</th>\n",
       "    </tr>\n",
       "  </thead>\n",
       "  <tbody>\n",
       "  </tbody>\n",
       "</table>\n",
       "</div>"
      ],
      "text/plain": [
       "Empty DataFrame\n",
       "Columns: [uri, caption_en, caption_fr_translated_en, caption_fr, multilingual_embeddings_text_en, multilingual_embeddings_text_fr, multilingual_embeddings_text_fr_tr]\n",
       "Index: []"
      ]
     },
     "execution_count": 52,
     "metadata": {},
     "output_type": "execute_result"
    }
   ],
   "source": [
    "df[df['multilingual_embeddings_text_fr_tr'] == None] "
   ]
  },
  {
   "cell_type": "markdown",
   "metadata": {},
   "source": []
  },
  {
   "cell_type": "markdown",
   "metadata": {},
   "source": [
    "### Save data in BQ"
   ]
  },
  {
   "cell_type": "code",
   "execution_count": 53,
   "metadata": {},
   "outputs": [
    {
     "name": "stdout",
     "output_type": "stream",
     "text": [
      "truncate table: ml-demo-384110.immo_us_enriched.vqa_embeddings_multilangual\n"
     ]
    }
   ],
   "source": [
    "BQ_DATASET_NAME = 'immo_us_enriched' \n",
    "BQ_TABLE_NAME = 'vqa_embeddings_multilangual'\n",
    "project_table = PROJECT_ID + \".\" +BQ_DATASET_NAME +\".\" + BQ_TABLE_NAME\n",
    "\n",
    "def save_df_bq_multilangual(df, table_id, truncate = False):\n",
    "    job_config = bigquery.LoadJobConfig(\n",
    "    # Specify a (partial) schema. All columns are always written to the\n",
    "    # table. The schema is used to assist in data type definitions.\n",
    "    schema=[\n",
    "\n",
    "bigquery.SchemaField(\"uri\", \"STRING\")\t,\n",
    "bigquery.SchemaField(\"caption_en\", \"STRING\"),\t\t\n",
    "bigquery.SchemaField(\"caption_fr\", \"STRING\"),\t\t\n",
    "bigquery.SchemaField(\"caption_fr_translated_en\", \"STRING\"),\t\n",
    "\n",
    "bigquery.SchemaField(\"multilingual_embeddings_text_en\", bigquery.enums.SqlTypeNames.FLOAT, mode=\"REPEATED\"),\t\t\t\n",
    "bigquery.SchemaField(\"multilingual_embeddings_text_fr\", bigquery.enums.SqlTypeNames.FLOAT, mode=\"REPEATED\"),\t\t\t\n",
    "bigquery.SchemaField(\"multilingual_embeddings_text_fr_tr\", bigquery.enums.SqlTypeNames.FLOAT, mode=\"REPEATED\"),\t\t\t\n",
    "\n",
    "\n",
    "    ],\n",
    "    # Optionally, set the write disposition. BigQuery appends loaded rows\n",
    "    # to an existing table by default, but with WRITE_TRUNCATE write\n",
    "    # disposition it replaces the table with the loaded data.\n",
    "    #write_disposition=\"WRITE_TRUNCATE\",\n",
    "    \n",
    "    )\n",
    "    if truncate:\n",
    "        print('truncate table: ' + table_id)\n",
    "        job_config.write_disposition=\"WRITE_TRUNCATE\"\n",
    "\n",
    "    job = client.load_table_from_dataframe(\n",
    "        df, table_id, job_config=job_config\n",
    "    )  # Make an API request.\n",
    "    job.result()  # Wait for the job to complete.\n",
    "\n",
    "save_df_bq_multilangual(df, project_table, True)"
   ]
  },
  {
   "cell_type": "code",
   "execution_count": 64,
   "metadata": {},
   "outputs": [
    {
     "data": {
      "application/vnd.jupyter.widget-view+json": {
       "model_id": "b90baba4d5c441f289a35a2c9f5de457",
       "version_major": 2,
       "version_minor": 0
      },
      "text/plain": [
       "Query is running:   0%|          |"
      ]
     },
     "metadata": {},
     "output_type": "display_data"
    },
    {
     "data": {
      "text/html": [
       "<div>\n",
       "<style scoped>\n",
       "    .dataframe tbody tr th:only-of-type {\n",
       "        vertical-align: middle;\n",
       "    }\n",
       "\n",
       "    .dataframe tbody tr th {\n",
       "        vertical-align: top;\n",
       "    }\n",
       "\n",
       "    .dataframe thead th {\n",
       "        text-align: right;\n",
       "    }\n",
       "</style>\n",
       "<table border=\"1\" class=\"dataframe\">\n",
       "  <thead>\n",
       "    <tr style=\"text-align: right;\">\n",
       "      <th></th>\n",
       "    </tr>\n",
       "  </thead>\n",
       "  <tbody>\n",
       "  </tbody>\n",
       "</table>\n",
       "</div>"
      ],
      "text/plain": [
       "Empty DataFrame\n",
       "Columns: []\n",
       "Index: []"
      ]
     },
     "execution_count": 64,
     "metadata": {},
     "output_type": "execute_result"
    }
   ],
   "source": [
    "%%bigquery \n",
    "\n",
    "\n",
    "create or replace table   ml-demo-384110.immo_us_enriched.vqa_embeddings_multilangual_distance as (\n",
    "  \n",
    "\t\t\n",
    "  \n",
    "SELECT\n",
    "  #fr_text_embedding, en_text_embedding, \n",
    "   caption_en, caption_fr_translated_en, caption_fr, uri,\n",
    "  ML.DISTANCE(\n",
    "    multilingual_embeddings_text_en,\n",
    "    multilingual_embeddings_text_fr,\n",
    "    'COSINE'\n",
    "  ) AS distance_to_en_fr,\n",
    "  ML.DISTANCE(\n",
    "    multilingual_embeddings_text_en,\n",
    "    multilingual_embeddings_text_fr_tr ,\n",
    "    'COSINE'\n",
    "  ) AS distance_to_fr_tr_en,\n",
    "  ML.DISTANCE(\n",
    "    multilingual_embeddings_text_fr,\n",
    "    multilingual_embeddings_text_fr_tr ,\n",
    "    'COSINE'\n",
    "  ) AS distance_to_fr_tr\n",
    "from ml-demo-384110.immo_us_enriched.vqa_embeddings_multilangual\n",
    "\n",
    "ORDER BY distance_to_en_fr, distance_to_fr_tr_en\n",
    ")\n",
    ";  \n"
   ]
  },
  {
   "cell_type": "code",
   "execution_count": 70,
   "metadata": {},
   "outputs": [
    {
     "data": {
      "application/vnd.jupyter.widget-view+json": {
       "model_id": "6047d878ac84464b9441d1eeb5645b59",
       "version_major": 2,
       "version_minor": 0
      },
      "text/plain": [
       "Query is running:   0%|          |"
      ]
     },
     "metadata": {},
     "output_type": "display_data"
    },
    {
     "data": {
      "application/vnd.jupyter.widget-view+json": {
       "model_id": "cc963e834e7a48fa8ae6f49da73f7e9e",
       "version_major": 2,
       "version_minor": 0
      },
      "text/plain": [
       "Downloading:   0%|          |"
      ]
     },
     "metadata": {},
     "output_type": "display_data"
    }
   ],
   "source": [
    "%%bigquery df\n",
    "select * from ml-demo-384110.immo_us_enriched.vqa_embeddings_multilangual_distance\n"
   ]
  },
  {
   "cell_type": "markdown",
   "metadata": {},
   "source": [
    "### Analyse results"
   ]
  },
  {
   "cell_type": "code",
   "execution_count": 71,
   "metadata": {},
   "outputs": [
    {
     "data": {
      "text/html": [
       "<div>\n",
       "<style scoped>\n",
       "    .dataframe tbody tr th:only-of-type {\n",
       "        vertical-align: middle;\n",
       "    }\n",
       "\n",
       "    .dataframe tbody tr th {\n",
       "        vertical-align: top;\n",
       "    }\n",
       "\n",
       "    .dataframe thead th {\n",
       "        text-align: right;\n",
       "    }\n",
       "</style>\n",
       "<table border=\"1\" class=\"dataframe\">\n",
       "  <thead>\n",
       "    <tr style=\"text-align: right;\">\n",
       "      <th></th>\n",
       "      <th>distance_to_en_fr</th>\n",
       "      <th>distance_to_fr_tr_en</th>\n",
       "      <th>distance_to_fr_tr</th>\n",
       "    </tr>\n",
       "  </thead>\n",
       "  <tbody>\n",
       "    <tr>\n",
       "      <th>count</th>\n",
       "      <td>611.000000</td>\n",
       "      <td>6.110000e+02</td>\n",
       "      <td>611.000000</td>\n",
       "    </tr>\n",
       "    <tr>\n",
       "      <th>mean</th>\n",
       "      <td>0.186962</td>\n",
       "      <td>1.234686e-01</td>\n",
       "      <td>0.116112</td>\n",
       "    </tr>\n",
       "    <tr>\n",
       "      <th>std</th>\n",
       "      <td>0.065755</td>\n",
       "      <td>7.805807e-02</td>\n",
       "      <td>0.039811</td>\n",
       "    </tr>\n",
       "    <tr>\n",
       "      <th>min</th>\n",
       "      <td>0.030071</td>\n",
       "      <td>-2.220446e-16</td>\n",
       "      <td>0.030906</td>\n",
       "    </tr>\n",
       "    <tr>\n",
       "      <th>25%</th>\n",
       "      <td>0.137848</td>\n",
       "      <td>6.225101e-02</td>\n",
       "      <td>0.083707</td>\n",
       "    </tr>\n",
       "    <tr>\n",
       "      <th>50%</th>\n",
       "      <td>0.175767</td>\n",
       "      <td>1.128082e-01</td>\n",
       "      <td>0.118265</td>\n",
       "    </tr>\n",
       "    <tr>\n",
       "      <th>75%</th>\n",
       "      <td>0.235339</td>\n",
       "      <td>1.803134e-01</td>\n",
       "      <td>0.141462</td>\n",
       "    </tr>\n",
       "    <tr>\n",
       "      <th>max</th>\n",
       "      <td>0.440202</td>\n",
       "      <td>4.075310e-01</td>\n",
       "      <td>0.240445</td>\n",
       "    </tr>\n",
       "  </tbody>\n",
       "</table>\n",
       "</div>"
      ],
      "text/plain": [
       "       distance_to_en_fr  distance_to_fr_tr_en  distance_to_fr_tr\n",
       "count         611.000000          6.110000e+02         611.000000\n",
       "mean            0.186962          1.234686e-01           0.116112\n",
       "std             0.065755          7.805807e-02           0.039811\n",
       "min             0.030071         -2.220446e-16           0.030906\n",
       "25%             0.137848          6.225101e-02           0.083707\n",
       "50%             0.175767          1.128082e-01           0.118265\n",
       "75%             0.235339          1.803134e-01           0.141462\n",
       "max             0.440202          4.075310e-01           0.240445"
      ]
     },
     "execution_count": 71,
     "metadata": {},
     "output_type": "execute_result"
    }
   ],
   "source": [
    "df.describe()\n"
   ]
  },
  {
   "cell_type": "code",
   "execution_count": null,
   "metadata": {},
   "outputs": [],
   "source": []
  },
  {
   "cell_type": "code",
   "execution_count": 72,
   "metadata": {},
   "outputs": [
    {
     "data": {
      "image/png": "[encoded data removed]",
      "text/plain": [
       "<Figure size 640x480 with 1 Axes>"
      ]
     },
     "metadata": {},
     "output_type": "display_data"
    }
   ],
   "source": [
    "import matplotlib.pyplot as plt\n",
    "\n",
    "df.boxplot(  rot=90, fontsize=10)\n",
    "plt.show()"
   ]
  },
  {
   "cell_type": "code",
   "execution_count": 58,
   "metadata": {},
   "outputs": [
    {
     "data": {
      "text/html": [
       "<div>\n",
       "<style scoped>\n",
       "    .dataframe tbody tr th:only-of-type {\n",
       "        vertical-align: middle;\n",
       "    }\n",
       "\n",
       "    .dataframe tbody tr th {\n",
       "        vertical-align: top;\n",
       "    }\n",
       "\n",
       "    .dataframe thead th {\n",
       "        text-align: right;\n",
       "    }\n",
       "</style>\n",
       "<table border=\"1\" class=\"dataframe\">\n",
       "  <thead>\n",
       "    <tr style=\"text-align: right;\">\n",
       "      <th></th>\n",
       "      <th>multilingual_embeddings_text_en</th>\n",
       "      <th>multilingual_embeddings_text_fr</th>\n",
       "      <th>multilingual_embeddings_text_fr_tr</th>\n",
       "    </tr>\n",
       "  </thead>\n",
       "  <tbody>\n",
       "    <tr>\n",
       "      <th>count</th>\n",
       "      <td>611</td>\n",
       "      <td>611</td>\n",
       "      <td>611</td>\n",
       "    </tr>\n",
       "    <tr>\n",
       "      <th>unique</th>\n",
       "      <td>611</td>\n",
       "      <td>611</td>\n",
       "      <td>611</td>\n",
       "    </tr>\n",
       "    <tr>\n",
       "      <th>top</th>\n",
       "      <td>[0.03327054902911186, -0.045789483934640884, 0...</td>\n",
       "      <td>[0.029539287090301514, -0.05211855098605156, 0...</td>\n",
       "      <td>[0.016384905204176903, -0.04228445887565613, 0...</td>\n",
       "    </tr>\n",
       "    <tr>\n",
       "      <th>freq</th>\n",
       "      <td>1</td>\n",
       "      <td>1</td>\n",
       "      <td>1</td>\n",
       "    </tr>\n",
       "  </tbody>\n",
       "</table>\n",
       "</div>"
      ],
      "text/plain": [
       "                          multilingual_embeddings_text_en  \\\n",
       "count                                                 611   \n",
       "unique                                                611   \n",
       "top     [0.03327054902911186, -0.045789483934640884, 0...   \n",
       "freq                                                    1   \n",
       "\n",
       "                          multilingual_embeddings_text_fr  \\\n",
       "count                                                 611   \n",
       "unique                                                611   \n",
       "top     [0.029539287090301514, -0.05211855098605156, 0...   \n",
       "freq                                                    1   \n",
       "\n",
       "                       multilingual_embeddings_text_fr_tr  \n",
       "count                                                 611  \n",
       "unique                                                611  \n",
       "top     [0.016384905204176903, -0.04228445887565613, 0...  \n",
       "freq                                                    1  "
      ]
     },
     "execution_count": 58,
     "metadata": {},
     "output_type": "execute_result"
    }
   ],
   "source": [
    "df.describe()\n"
   ]
  },
  {
   "cell_type": "code",
   "execution_count": 21,
   "metadata": {},
   "outputs": [
    {
     "data": {
      "text/html": [
       "<div>\n",
       "<style scoped>\n",
       "    .dataframe tbody tr th:only-of-type {\n",
       "        vertical-align: middle;\n",
       "    }\n",
       "\n",
       "    .dataframe tbody tr th {\n",
       "        vertical-align: top;\n",
       "    }\n",
       "\n",
       "    .dataframe thead th {\n",
       "        text-align: right;\n",
       "    }\n",
       "</style>\n",
       "<table border=\"1\" class=\"dataframe\">\n",
       "  <thead>\n",
       "    <tr style=\"text-align: right;\">\n",
       "      <th></th>\n",
       "      <th>caption_en</th>\n",
       "      <th>caption_fr_translated_en</th>\n",
       "      <th>caption_fr</th>\n",
       "      <th>multilingual_embeddings_text_en</th>\n",
       "      <th>multilingual_embeddings_text_fr</th>\n",
       "      <th>multilingual_embeddings_text_fr_tr</th>\n",
       "    </tr>\n",
       "  </thead>\n",
       "  <tbody>\n",
       "    <tr>\n",
       "      <th>count</th>\n",
       "      <td>611</td>\n",
       "      <td>611</td>\n",
       "      <td>611</td>\n",
       "      <td>117</td>\n",
       "      <td>120</td>\n",
       "      <td>0</td>\n",
       "    </tr>\n",
       "    <tr>\n",
       "      <th>unique</th>\n",
       "      <td>557</td>\n",
       "      <td>540</td>\n",
       "      <td>544</td>\n",
       "      <td>115</td>\n",
       "      <td>100</td>\n",
       "      <td>0</td>\n",
       "    </tr>\n",
       "    <tr>\n",
       "      <th>top</th>\n",
       "      <td>the word hosman that is on a picture</td>\n",
       "      <td>a kitchen with white cabinets and a siemens oven</td>\n",
       "      <td>une cuisine avec des armoires blanches et un f...</td>\n",
       "      <td>[0.004478777293115854, -0.018535349518060684, ...</td>\n",
       "      <td>[0.029824208468198776, -0.024249466136097908, ...</td>\n",
       "      <td>NaN</td>\n",
       "    </tr>\n",
       "    <tr>\n",
       "      <th>freq</th>\n",
       "      <td>6</td>\n",
       "      <td>4</td>\n",
       "      <td>4</td>\n",
       "      <td>2</td>\n",
       "      <td>4</td>\n",
       "      <td>NaN</td>\n",
       "    </tr>\n",
       "  </tbody>\n",
       "</table>\n",
       "</div>"
      ],
      "text/plain": [
       "                                  caption_en  \\\n",
       "count                                    611   \n",
       "unique                                   557   \n",
       "top     the word hosman that is on a picture   \n",
       "freq                                       6   \n",
       "\n",
       "                                caption_fr_translated_en  \\\n",
       "count                                                611   \n",
       "unique                                               540   \n",
       "top     a kitchen with white cabinets and a siemens oven   \n",
       "freq                                                   4   \n",
       "\n",
       "                                               caption_fr  \\\n",
       "count                                                 611   \n",
       "unique                                                544   \n",
       "top     une cuisine avec des armoires blanches et un f...   \n",
       "freq                                                    4   \n",
       "\n",
       "                          multilingual_embeddings_text_en  \\\n",
       "count                                                 117   \n",
       "unique                                                115   \n",
       "top     [0.004478777293115854, -0.018535349518060684, ...   \n",
       "freq                                                    2   \n",
       "\n",
       "                          multilingual_embeddings_text_fr  \\\n",
       "count                                                 120   \n",
       "unique                                                100   \n",
       "top     [0.029824208468198776, -0.024249466136097908, ...   \n",
       "freq                                                    4   \n",
       "\n",
       "       multilingual_embeddings_text_fr_tr  \n",
       "count                                   0  \n",
       "unique                                  0  \n",
       "top                                   NaN  \n",
       "freq                                  NaN  "
      ]
     },
     "execution_count": 21,
     "metadata": {},
     "output_type": "execute_result"
    }
   ],
   "source": [
    "df.describe()"
   ]
  },
  {
   "cell_type": "code",
   "execution_count": 17,
   "metadata": {},
   "outputs": [
    {
     "data": {
      "text/html": [
       "<div>\n",
       "<style scoped>\n",
       "    .dataframe tbody tr th:only-of-type {\n",
       "        vertical-align: middle;\n",
       "    }\n",
       "\n",
       "    .dataframe tbody tr th {\n",
       "        vertical-align: top;\n",
       "    }\n",
       "\n",
       "    .dataframe thead th {\n",
       "        text-align: right;\n",
       "    }\n",
       "</style>\n",
       "<table border=\"1\" class=\"dataframe\">\n",
       "  <thead>\n",
       "    <tr style=\"text-align: right;\">\n",
       "      <th></th>\n",
       "      <th>caption_en</th>\n",
       "      <th>caption_fr_translated_en</th>\n",
       "      <th>caption_fr</th>\n",
       "      <th>multilingual_embeddings_text_en</th>\n",
       "      <th>multilingual_embeddings_text_fr</th>\n",
       "      <th>multilingual_embeddings_text_fr_tr</th>\n",
       "    </tr>\n",
       "  </thead>\n",
       "  <tbody>\n",
       "    <tr>\n",
       "      <th>count</th>\n",
       "      <td>611</td>\n",
       "      <td>611</td>\n",
       "      <td>611</td>\n",
       "      <td>117</td>\n",
       "      <td>0</td>\n",
       "      <td>0</td>\n",
       "    </tr>\n",
       "    <tr>\n",
       "      <th>unique</th>\n",
       "      <td>557</td>\n",
       "      <td>540</td>\n",
       "      <td>544</td>\n",
       "      <td>115</td>\n",
       "      <td>0</td>\n",
       "      <td>0</td>\n",
       "    </tr>\n",
       "    <tr>\n",
       "      <th>top</th>\n",
       "      <td>the word hosman that is on a picture</td>\n",
       "      <td>a kitchen with white cabinets and a siemens oven</td>\n",
       "      <td>une cuisine avec des armoires blanches et un f...</td>\n",
       "      <td>[0.004478777293115854, -0.018535349518060684, ...</td>\n",
       "      <td>NaN</td>\n",
       "      <td>NaN</td>\n",
       "    </tr>\n",
       "    <tr>\n",
       "      <th>freq</th>\n",
       "      <td>6</td>\n",
       "      <td>4</td>\n",
       "      <td>4</td>\n",
       "      <td>2</td>\n",
       "      <td>NaN</td>\n",
       "      <td>NaN</td>\n",
       "    </tr>\n",
       "  </tbody>\n",
       "</table>\n",
       "</div>"
      ],
      "text/plain": [
       "                                  caption_en  \\\n",
       "count                                    611   \n",
       "unique                                   557   \n",
       "top     the word hosman that is on a picture   \n",
       "freq                                       6   \n",
       "\n",
       "                                caption_fr_translated_en  \\\n",
       "count                                                611   \n",
       "unique                                               540   \n",
       "top     a kitchen with white cabinets and a siemens oven   \n",
       "freq                                                   4   \n",
       "\n",
       "                                               caption_fr  \\\n",
       "count                                                 611   \n",
       "unique                                                544   \n",
       "top     une cuisine avec des armoires blanches et un f...   \n",
       "freq                                                    4   \n",
       "\n",
       "                          multilingual_embeddings_text_en  \\\n",
       "count                                                 117   \n",
       "unique                                                115   \n",
       "top     [0.004478777293115854, -0.018535349518060684, ...   \n",
       "freq                                                    2   \n",
       "\n",
       "       multilingual_embeddings_text_fr multilingual_embeddings_text_fr_tr  \n",
       "count                                0                                  0  \n",
       "unique                               0                                  0  \n",
       "top                                NaN                                NaN  \n",
       "freq                               NaN                                NaN  "
      ]
     },
     "execution_count": 17,
     "metadata": {},
     "output_type": "execute_result"
    }
   ],
   "source": [
    "df.describe()"
   ]
  },
  {
   "cell_type": "code",
   "execution_count": 18,
   "metadata": {},
   "outputs": [
    {
     "data": {
      "text/html": [
       "<div>\n",
       "<style scoped>\n",
       "    .dataframe tbody tr th:only-of-type {\n",
       "        vertical-align: middle;\n",
       "    }\n",
       "\n",
       "    .dataframe tbody tr th {\n",
       "        vertical-align: top;\n",
       "    }\n",
       "\n",
       "    .dataframe thead th {\n",
       "        text-align: right;\n",
       "    }\n",
       "</style>\n",
       "<table border=\"1\" class=\"dataframe\">\n",
       "  <thead>\n",
       "    <tr style=\"text-align: right;\">\n",
       "      <th></th>\n",
       "      <th>caption_en</th>\n",
       "      <th>caption_fr_translated_en</th>\n",
       "      <th>caption_fr</th>\n",
       "      <th>multilingual_embeddings_text_en</th>\n",
       "      <th>multilingual_embeddings_text_fr</th>\n",
       "      <th>multilingual_embeddings_text_fr_tr</th>\n",
       "    </tr>\n",
       "  </thead>\n",
       "  <tbody>\n",
       "    <tr>\n",
       "      <th>0</th>\n",
       "      <td>a floor plan of a house with the word maison o...</td>\n",
       "      <td>a floor plan of the main house</td>\n",
       "      <td>un plan d' étage de la maison principale</td>\n",
       "      <td>[0.03327054902911186, -0.045789483934640884, 0...</td>\n",
       "      <td>None</td>\n",
       "      <td>None</td>\n",
       "    </tr>\n",
       "    <tr>\n",
       "      <th>1</th>\n",
       "      <td>a house with a basketball hoop in front of it</td>\n",
       "      <td>a big house with a tree outside</td>\n",
       "      <td>une grande maison avec un arbre à l' extérieur</td>\n",
       "      <td>[0.018193695694208145, -0.012516985647380352, ...</td>\n",
       "      <td>None</td>\n",
       "      <td>None</td>\n",
       "    </tr>\n",
       "    <tr>\n",
       "      <th>2</th>\n",
       "      <td>a bathroom with a sink and a mirror and the wo...</td>\n",
       "      <td>a picture of a bathroom by hosman</td>\n",
       "      <td>une photo d' une salle de bain par hosman</td>\n",
       "      <td>[-0.008245068602263927, -0.03270513936877251, ...</td>\n",
       "      <td>None</td>\n",
       "      <td>None</td>\n",
       "    </tr>\n",
       "    <tr>\n",
       "      <th>3</th>\n",
       "      <td>a pool table in a room with the word immo on t...</td>\n",
       "      <td>a pool table sits inside an attic</td>\n",
       "      <td>une table de billard est assise à l' intérieur...</td>\n",
       "      <td>[0.013310061767697334, -0.01480595301836729, 0...</td>\n",
       "      <td>None</td>\n",
       "      <td>None</td>\n",
       "    </tr>\n",
       "    <tr>\n",
       "      <th>4</th>\n",
       "      <td>an attic with a pool table and a staircase</td>\n",
       "      <td>a pool table sits inside an attic</td>\n",
       "      <td>une table de billard est assise à l' intérieur...</td>\n",
       "      <td>[-0.0013521496439352632, -0.021865107119083405...</td>\n",
       "      <td>None</td>\n",
       "      <td>None</td>\n",
       "    </tr>\n",
       "  </tbody>\n",
       "</table>\n",
       "</div>"
      ],
      "text/plain": [
       "                                          caption_en  \\\n",
       "0  a floor plan of a house with the word maison o...   \n",
       "1      a house with a basketball hoop in front of it   \n",
       "2  a bathroom with a sink and a mirror and the wo...   \n",
       "3  a pool table in a room with the word immo on t...   \n",
       "4         an attic with a pool table and a staircase   \n",
       "\n",
       "            caption_fr_translated_en  \\\n",
       "0     a floor plan of the main house   \n",
       "1    a big house with a tree outside   \n",
       "2  a picture of a bathroom by hosman   \n",
       "3  a pool table sits inside an attic   \n",
       "4  a pool table sits inside an attic   \n",
       "\n",
       "                                          caption_fr  \\\n",
       "0           un plan d' étage de la maison principale   \n",
       "1     une grande maison avec un arbre à l' extérieur   \n",
       "2          une photo d' une salle de bain par hosman   \n",
       "3  une table de billard est assise à l' intérieur...   \n",
       "4  une table de billard est assise à l' intérieur...   \n",
       "\n",
       "                     multilingual_embeddings_text_en  \\\n",
       "0  [0.03327054902911186, -0.045789483934640884, 0...   \n",
       "1  [0.018193695694208145, -0.012516985647380352, ...   \n",
       "2  [-0.008245068602263927, -0.03270513936877251, ...   \n",
       "3  [0.013310061767697334, -0.01480595301836729, 0...   \n",
       "4  [-0.0013521496439352632, -0.021865107119083405...   \n",
       "\n",
       "  multilingual_embeddings_text_fr multilingual_embeddings_text_fr_tr  \n",
       "0                            None                               None  \n",
       "1                            None                               None  \n",
       "2                            None                               None  \n",
       "3                            None                               None  \n",
       "4                            None                               None  "
      ]
     },
     "execution_count": 18,
     "metadata": {},
     "output_type": "execute_result"
    }
   ],
   "source": [
    "df.head()"
   ]
  },
  {
   "cell_type": "markdown",
   "metadata": {},
   "source": [
    "## Other embeddings models\n",
    " - https://cloud.google.com/bigquery/docs/generate-embedding-with-tensorflow-models#bert_2"
   ]
  },
  {
   "cell_type": "code",
   "execution_count": null,
   "metadata": {},
   "outputs": [],
   "source": [
    "%pip install bigquery-ml-utils"
   ]
  },
  {
   "cell_type": "markdown",
   "metadata": {},
   "source": [
    "%pip install bigquery-ml-utils"
   ]
  },
  {
   "cell_type": "code",
   "execution_count": null,
   "metadata": {},
   "outputs": [],
   "source": [
    "from bigquery_ml_utils import model_generator\n",
    "\n",
    "# Establish an instance of TextEmbeddingModelGenerator.\n",
    "text_embedding_model_generator = model_generator.TextEmbeddingModelGenerator()\n",
    "\n",
    "# Generate a BERT model.\n",
    "OUTPUT_MODEL_PATH = \"./embeddings/bert/\"\n",
    "text_embedding_model_generator.generate_text_embedding_model('bert', OUTPUT_MODEL_PATH)"
   ]
  },
  {
   "cell_type": "code",
   "execution_count": null,
   "metadata": {},
   "outputs": [],
   "source": [
    "!gsutil cp -r ./embeddings/bert/ gs://BUCKET_PATH/bert_model"
   ]
  },
  {
   "cell_type": "code",
   "execution_count": null,
   "metadata": {},
   "outputs": [],
   "source": [
    "%%bigquery\n",
    "\n",
    "CREATE OR REPLACE MODEL tf_models_tutorial.bert_model\n",
    "INPUT(embedding_input STRING)\n",
    "OUTPUT(embedding ARRAY)\n",
    "REMOTE WITH CONNECTION `PROJECT_ID.CONNECTION_LOCATION.CONNECTION_NAME`\n",
    "OPTIONS (\n",
    "  ENDPOINT = \"https://us-central1-aiplatform.googleapis.com/v1/projects/PROJECT_ID/locations/ENDPOINT_LOCATION/endpoints/ENDPOINT_ID\");"
   ]
  }
 ],
 "metadata": {
  "kernelspec": {
   "display_name": "Python 3",
   "language": "python",
   "name": "python3"
  },
  "language_info": {
   "codemirror_mode": {
    "name": "ipython",
    "version": 3
   },
   "file_extension": ".py",
   "mimetype": "text/x-python",
   "name": "python",
   "nbconvert_exporter": "python",
   "pygments_lexer": "ipython3",
   "version": "3.10.9"
  },
  "orig_nbformat": 4
 },
 "nbformat": 4,
 "nbformat_minor": 2
}
