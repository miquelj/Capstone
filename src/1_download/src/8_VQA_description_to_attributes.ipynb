{
 "cells": [
  {
   "cell_type": "markdown",
   "metadata": {},
   "source": [
    "# Génération des attributs à partir des descriptions\n",
    "- model text-bison few-shot prompting\n",
    "\n",
    "## Setup Project"
   ]
  },
  {
   "cell_type": "code",
   "execution_count": 2,
   "metadata": {},
   "outputs": [
    {
     "name": "stdout",
     "output_type": "stream",
     "text": [
      "Note: you may need to restart the kernel to use updated packages.\n"
     ]
    }
   ],
   "source": [
    "\n",
    "\n",
    "%pip install google-cloud-aiplatform>=1.31.0 "
   ]
  },
  {
   "cell_type": "code",
   "execution_count": 1,
   "metadata": {},
   "outputs": [],
   "source": [
    "\n",
    "import vertexai\n",
    "from google.cloud import bigquery\n",
    "from tools import *\n",
    "from bq import save_bq\n",
    "\n",
    "\n",
    "PROJECT_ID = \"ml-demo-384110\"  # @param {type:\"string\"}\n",
    "vertexai.init(project=PROJECT_ID, location=\"us-central1\")\n",
    "client = bigquery.Client(project=PROJECT_ID)\n",
    "bucket = \"ml-demo-384110-bucket\"\n",
    "\n",
    "%load_ext google.cloud.bigquery"
   ]
  },
  {
   "cell_type": "code",
   "execution_count": null,
   "metadata": {},
   "outputs": [],
   "source": [
    "%%bigquery\n",
    "\n",
    "create or replace table `ml-demo-384110.immo_us_enriched.vc_embeddings_multilangual` as \n",
    "(\n",
    "select\n",
    "ml_results.ml_generate_text_llm_result as attributes ,\n",
    "bool(ml_generate_text_rai_result['blocked']) AS blocked,\n",
    "ml_generate_text_rai_result['categories'] AS blocked_categories,\n",
    "ml_generate_text_status,\n",
    "uri,\n",
    "caption_en, prompt\n",
    "#Id\n",
    "FROM ML.GENERATE_TEXT(\n",
    "MODEL `immo_us_enriched.bqml-llm_model`,\n",
    "(\n",
    "SELECT uri, caption_en,\n",
    "CONCAT(\n",
    "'You are a realestate agent, you know how to extract ATTRIBUTES of real estate property from DESCRIPTION. ',\n",
    "#'If the photo description is not clear return \"N/A\" ',\n",
    "'You use only information provided in the DESCRIPTION to extract ATTRIBUTES. ', \n",
    "#'Use these examples as reference: ',\n",
    "\n",
    "# exemple 1\n",
    "'.\\n DESCRIPTION: Warm and inviting bedroom in a cozy home with wood floors, comfortable furniture and lots of natural light.',\n",
    "'.\\n ATTRIBUTES: Furniture, Property, Window, Wood, Picture frame, Comfort, Fixture, Interior design, Lighting, Building',\n",
    "\n",
    "\n",
    "# exemple 2\n",
    "'.\\n DESCRIPTION: A residential real estate property with a porch, a garden with beautiful plants and a car park spot in front.',\n",
    "'.\\n ATTRIBUTES: Wheel, Plant, Tire, Car, Sky, Vehicle, Building, Motor vehicle, Window, Residential area',\n",
    "\n",
    "\n",
    "# exemple 3\n",
    "'.\\n DESCRIPTION: Floor plan of the first floor with the detail of the size of bedrooms, bathroom,',\n",
    "'.\\n ATTRIBUTES: Technical drawing, Slope, Floor plan, bedroom, bathroom, first floor.',\n",
    "\n",
    "# Question\n",
    "\".\\n DESCRIPTION: \", caption_en, \n",
    "'.\\n ATTRIBUTES: '\n",
    "\n",
    "\n",
    ") AS prompt\n",
    "FROM `immo_us_enriched.vqa_embeddings_multimodal_distance2` \n",
    "),\n",
    "STRUCT(0.1 AS temperature,\n",
    "1000 AS max_output_tokens,\n",
    "1.0 AS top_p,\n",
    "10 AS top_k,\n",
    "TRUE AS flatten_json_output)\n",
    ") as ml_results\n",
    ")\n"
   ]
  },
  {
   "cell_type": "code",
   "execution_count": 21,
   "metadata": {},
   "outputs": [
    {
     "data": {
      "application/vnd.jupyter.widget-view+json": {
       "model_id": "5a34274053da4713a7db380a3fe473de",
       "version_major": 2,
       "version_minor": 0
      },
      "text/plain": [
       "Query is running:   0%|          |"
      ]
     },
     "metadata": {},
     "output_type": "display_data"
    },
    {
     "data": {
      "text/html": [
       "<div>\n",
       "<style scoped>\n",
       "    .dataframe tbody tr th:only-of-type {\n",
       "        vertical-align: middle;\n",
       "    }\n",
       "\n",
       "    .dataframe tbody tr th {\n",
       "        vertical-align: top;\n",
       "    }\n",
       "\n",
       "    .dataframe thead th {\n",
       "        text-align: right;\n",
       "    }\n",
       "</style>\n",
       "<table border=\"1\" class=\"dataframe\">\n",
       "  <thead>\n",
       "    <tr style=\"text-align: right;\">\n",
       "      <th></th>\n",
       "    </tr>\n",
       "  </thead>\n",
       "  <tbody>\n",
       "  </tbody>\n",
       "</table>\n",
       "</div>"
      ],
      "text/plain": [
       "Empty DataFrame\n",
       "Columns: []\n",
       "Index: []"
      ]
     },
     "execution_count": 21,
     "metadata": {},
     "output_type": "execute_result"
    }
   ],
   "source": [
    "%%bigquery\n",
    "\n",
    "MERGE `ml-demo-384110.immo_us_enriched.vc_embeddings_multilangual` T\n",
    "USING (\n",
    "  select\n",
    "ml_results.ml_generate_text_llm_result as attributes ,\n",
    "bool(ml_generate_text_rai_result['blocked']) AS blocked,\n",
    "ml_generate_text_rai_result['categories'] AS blocked_categories,\n",
    "ml_generate_text_status,\n",
    "uri,\n",
    "caption_en, prompt\n",
    "#Id\n",
    "FROM ML.GENERATE_TEXT(\n",
    "MODEL `immo_us_enriched.bqml-llm_model`,\n",
    "(\n",
    "SELECT uri, caption_en,\n",
    "CONCAT(\n",
    "'You are a realestate agent, you know how to extract ATTRIBUTES of real estate property from DESCRIPTION. ',\n",
    "#'If the photo description is not clear return \"N/A\" ',\n",
    "'You use only information provided in the DESCRIPTION to extract ATTRIBUTES. ', \n",
    "#'Use these examples as reference: ',\n",
    "\n",
    "\n",
    "# exemple 1\n",
    "'.\\n DESCRIPTION: Warm and inviting bedroom in a cozy home with wood floors, comfortable furniture and lots of natural light.',\n",
    "'.\\n ATTRIBUTES: Furniture, Property, Window, Wood, Picture frame, Comfort, Fixture, Interior design, Lighting, Building',\n",
    "\n",
    "\n",
    "# exemple 2\n",
    "'.\\n DESCRIPTION: A residential real estate property with a porch, a garden with beautiful plants and a car park spot in front.',\n",
    "'.\\n ATTRIBUTES: Wheel, Plant, Tire, Car, Sky, Vehicle, Building, Motor vehicle, Window, Residential area',\n",
    "\n",
    "\n",
    "# exemple 3\n",
    "'.\\n DESCRIPTION: Floor plan of the first floor with the detail of the size of bedrooms, bathroom,',\n",
    "'.\\n ATTRIBUTES: Technical drawing, Slope, Floor plan, bedroom, bathroom, first floor.',\n",
    "\n",
    "\n",
    "# exemple 4\n",
    "\n",
    "\n",
    "# Question\n",
    "\".\\n DESCRIPTION: \", caption_en, \n",
    "'.\\n ATTRIBUTES: '\n",
    "\n",
    "\n",
    ") AS prompt\n",
    "  FROM `ml-demo-384110.immo_us_enriched.vc_embeddings_multilangual` WHERE ml_generate_text_status <> '' or blocked = True\n",
    "),\n",
    "STRUCT(0.1 AS temperature,\n",
    "1000 AS max_output_tokens,\n",
    "1.0 AS top_p,\n",
    "10 AS top_k,\n",
    "TRUE AS flatten_json_output)\n",
    ") as ml_results\n",
    " \n",
    "  \n",
    ") S\n",
    "ON T.prompt = S.prompt\n",
    "WHEN MATCHED AND T.ml_generate_text_status <> '' THEN\n",
    "  UPDATE SET T.attributes = S.attributes,\n",
    "  T.ml_generate_text_status = S.ml_generate_text_status,\n",
    "  T.blocked = S.blocked,\n",
    "  T.blocked_categories = S.blocked_categories\n",
    "WHEN MATCHED THEN\n",
    "  DELETE\n",
    ";\n",
    "\n",
    "\n",
    "\n"
   ]
  },
  {
   "cell_type": "markdown",
   "metadata": {},
   "source": [
    "## Analyse results"
   ]
  },
  {
   "cell_type": "markdown",
   "metadata": {},
   "source": []
  },
  {
   "cell_type": "code",
   "execution_count": 22,
   "metadata": {},
   "outputs": [
    {
     "data": {
      "application/vnd.jupyter.widget-view+json": {
       "model_id": "4094b98041ea44468d064eb4ca7cd272",
       "version_major": 2,
       "version_minor": 0
      },
      "text/plain": [
       "Query is running:   0%|          |"
      ]
     },
     "metadata": {},
     "output_type": "display_data"
    },
    {
     "data": {
      "application/vnd.jupyter.widget-view+json": {
       "model_id": "0a6a6edf607a4153b791a64dfd7cd572",
       "version_major": 2,
       "version_minor": 0
      },
      "text/plain": [
       "Downloading:   0%|          |"
      ]
     },
     "metadata": {},
     "output_type": "display_data"
    }
   ],
   "source": [
    "%%bigquery df\n",
    "\n",
    "select * from `ml-demo-384110.immo_us_enriched.vc_embeddings_multilangual` "
   ]
  },
  {
   "cell_type": "code",
   "execution_count": 23,
   "metadata": {},
   "outputs": [
    {
     "data": {
      "text/html": [
       "<div>\n",
       "<style scoped>\n",
       "    .dataframe tbody tr th:only-of-type {\n",
       "        vertical-align: middle;\n",
       "    }\n",
       "\n",
       "    .dataframe tbody tr th {\n",
       "        vertical-align: top;\n",
       "    }\n",
       "\n",
       "    .dataframe thead th {\n",
       "        text-align: right;\n",
       "    }\n",
       "</style>\n",
       "<table border=\"1\" class=\"dataframe\">\n",
       "  <thead>\n",
       "    <tr style=\"text-align: right;\">\n",
       "      <th></th>\n",
       "      <th>attributes</th>\n",
       "      <th>blocked</th>\n",
       "      <th>blocked_categories</th>\n",
       "      <th>ml_generate_text_status</th>\n",
       "      <th>uri</th>\n",
       "      <th>caption_en</th>\n",
       "      <th>prompt</th>\n",
       "    </tr>\n",
       "  </thead>\n",
       "  <tbody>\n",
       "    <tr>\n",
       "      <th>count</th>\n",
       "      <td>610</td>\n",
       "      <td>609</td>\n",
       "      <td>609</td>\n",
       "      <td>610</td>\n",
       "      <td>610</td>\n",
       "      <td>610</td>\n",
       "      <td>610</td>\n",
       "    </tr>\n",
       "    <tr>\n",
       "      <th>unique</th>\n",
       "      <td>570</td>\n",
       "      <td>1</td>\n",
       "      <td>6</td>\n",
       "      <td>1</td>\n",
       "      <td>574</td>\n",
       "      <td>556</td>\n",
       "      <td>556</td>\n",
       "    </tr>\n",
       "    <tr>\n",
       "      <th>top</th>\n",
       "      <td>Sign, Word, Picture, Hosman..</td>\n",
       "      <td>False</td>\n",
       "      <td>[\"Legal\"]</td>\n",
       "      <td></td>\n",
       "      <td>gs://ml-demo-384110-bucket/dataset/immo/images/_210591_383642462_photos_3.jpg</td>\n",
       "      <td>the word hosman that is on a picture</td>\n",
       "      <td>You are a realestate agent, you know how to extract ATTRIBUTES of real estate property from DESCRIPTION. You use only information provided in the DESCRIPTION to extract ATTRIBUTES. .\\n DESCRIPTION: Warm and inviting bedroom in a cozy home with wood floors, comfortable furniture and lots of natural light..\\n ATTRIBUTES: Furniture, Property, Window, Wood, Picture frame, Comfort, Fixture, Interior design, Lighting, Building.\\n DESCRIPTION: A residential real estate property with a porch, a garden with beautiful plants and a car park spot in front..\\n ATTRIBUTES: Wheel, Plant, Tire, Car, Sky, Vehicle, Building, Motor vehicle, Window, Residential area.\\n DESCRIPTION: Floor plan of the first floor with the detail of the size of bedrooms, bathroom,.\\n ATTRIBUTES: Technical drawing, Slope, Floor plan, bedroom, bathroom, first floor..\\n DESCRIPTION: the word hosman that is on a picture.\\n ATTRIBUTES:</td>\n",
       "    </tr>\n",
       "    <tr>\n",
       "      <th>freq</th>\n",
       "      <td>6</td>\n",
       "      <td>609</td>\n",
       "      <td>496</td>\n",
       "      <td>610</td>\n",
       "      <td>8</td>\n",
       "      <td>6</td>\n",
       "      <td>6</td>\n",
       "    </tr>\n",
       "  </tbody>\n",
       "</table>\n",
       "</div>"
      ],
      "text/plain": [
       "                            attributes blocked blocked_categories  \\\n",
       "count                              610     609                609   \n",
       "unique                             570       1                  6   \n",
       "top      Sign, Word, Picture, Hosman..   False          [\"Legal\"]   \n",
       "freq                                 6     609                496   \n",
       "\n",
       "       ml_generate_text_status  \\\n",
       "count                      610   \n",
       "unique                       1   \n",
       "top                              \n",
       "freq                       610   \n",
       "\n",
       "                                                                                  uri  \\\n",
       "count                                                                             610   \n",
       "unique                                                                            574   \n",
       "top     gs://ml-demo-384110-bucket/dataset/immo/images/_210591_383642462_photos_3.jpg   \n",
       "freq                                                                                8   \n",
       "\n",
       "                                  caption_en  \\\n",
       "count                                    610   \n",
       "unique                                   556   \n",
       "top     the word hosman that is on a picture   \n",
       "freq                                       6   \n",
       "\n",
       "                                                                                                                                                                                                                                                                                                                                                                                                                                                                                                                                                                                                                                                                                                                                                                                                                                                                                                                                           prompt  \n",
       "count                                                                                                                                                                                                                                                                                                                                                                                                                                                                                                                                                                                                                                                                                                                                                                                                                                                                                                                                         610  \n",
       "unique                                                                                                                                                                                                                                                                                                                                                                                                                                                                                                                                                                                                                                                                                                                                                                                                                                                                                                                                        556  \n",
       "top     You are a realestate agent, you know how to extract ATTRIBUTES of real estate property from DESCRIPTION. You use only information provided in the DESCRIPTION to extract ATTRIBUTES. .\\n DESCRIPTION: Warm and inviting bedroom in a cozy home with wood floors, comfortable furniture and lots of natural light..\\n ATTRIBUTES: Furniture, Property, Window, Wood, Picture frame, Comfort, Fixture, Interior design, Lighting, Building.\\n DESCRIPTION: A residential real estate property with a porch, a garden with beautiful plants and a car park spot in front..\\n ATTRIBUTES: Wheel, Plant, Tire, Car, Sky, Vehicle, Building, Motor vehicle, Window, Residential area.\\n DESCRIPTION: Floor plan of the first floor with the detail of the size of bedrooms, bathroom,.\\n ATTRIBUTES: Technical drawing, Slope, Floor plan, bedroom, bathroom, first floor..\\n DESCRIPTION: the word hosman that is on a picture.\\n ATTRIBUTES:   \n",
       "freq                                                                                                                                                                                                                                                                                                                                                                                                                                                                                                                                                                                                                                                                                                                                                                                                                                                                                                                                            6  "
      ]
     },
     "execution_count": 23,
     "metadata": {},
     "output_type": "execute_result"
    }
   ],
   "source": [
    "df.describe()\n"
   ]
  },
  {
   "cell_type": "code",
   "execution_count": null,
   "metadata": {},
   "outputs": [],
   "source": []
  },
  {
   "cell_type": "code",
   "execution_count": null,
   "metadata": {},
   "outputs": [],
   "source": []
  },
  {
   "cell_type": "code",
   "execution_count": 7,
   "metadata": {},
   "outputs": [
    {
     "data": {
      "text/html": [
       "<div>\n",
       "<style scoped>\n",
       "    .dataframe tbody tr th:only-of-type {\n",
       "        vertical-align: middle;\n",
       "    }\n",
       "\n",
       "    .dataframe tbody tr th {\n",
       "        vertical-align: top;\n",
       "    }\n",
       "\n",
       "    .dataframe thead th {\n",
       "        text-align: right;\n",
       "    }\n",
       "</style>\n",
       "<table border=\"1\" class=\"dataframe\">\n",
       "  <thead>\n",
       "    <tr style=\"text-align: right;\">\n",
       "      <th></th>\n",
       "      <th>attributes</th>\n",
       "      <th>blocked</th>\n",
       "      <th>blocked_categories</th>\n",
       "      <th>ml_generate_text_status</th>\n",
       "      <th>uri</th>\n",
       "      <th>caption_en</th>\n",
       "      <th>prompt</th>\n",
       "    </tr>\n",
       "  </thead>\n",
       "  <tbody>\n",
       "    <tr>\n",
       "      <th>count</th>\n",
       "      <td>610</td>\n",
       "      <td>610</td>\n",
       "      <td>609</td>\n",
       "      <td>611</td>\n",
       "      <td>611</td>\n",
       "      <td>611</td>\n",
       "      <td>611</td>\n",
       "    </tr>\n",
       "    <tr>\n",
       "      <th>unique</th>\n",
       "      <td>570</td>\n",
       "      <td>2</td>\n",
       "      <td>6</td>\n",
       "      <td>2</td>\n",
       "      <td>575</td>\n",
       "      <td>557</td>\n",
       "      <td>557</td>\n",
       "    </tr>\n",
       "    <tr>\n",
       "      <th>top</th>\n",
       "      <td>Sign, Word, Picture, Hosman..</td>\n",
       "      <td>False</td>\n",
       "      <td>[\"Legal\"]</td>\n",
       "      <td></td>\n",
       "      <td>gs://ml-demo-384110-bucket/dataset/immo/images...</td>\n",
       "      <td>the word hosman that is on a picture</td>\n",
       "      <td>You are a realestate agent, you know how to ex...</td>\n",
       "    </tr>\n",
       "    <tr>\n",
       "      <th>freq</th>\n",
       "      <td>6</td>\n",
       "      <td>609</td>\n",
       "      <td>496</td>\n",
       "      <td>610</td>\n",
       "      <td>8</td>\n",
       "      <td>6</td>\n",
       "      <td>6</td>\n",
       "    </tr>\n",
       "  </tbody>\n",
       "</table>\n",
       "</div>"
      ],
      "text/plain": [
       "                            attributes blocked blocked_categories  \\\n",
       "count                              610     610                609   \n",
       "unique                             570       2                  6   \n",
       "top      Sign, Word, Picture, Hosman..   False          [\"Legal\"]   \n",
       "freq                                 6     609                496   \n",
       "\n",
       "       ml_generate_text_status  \\\n",
       "count                      611   \n",
       "unique                       2   \n",
       "top                              \n",
       "freq                       610   \n",
       "\n",
       "                                                      uri  \\\n",
       "count                                                 611   \n",
       "unique                                                575   \n",
       "top     gs://ml-demo-384110-bucket/dataset/immo/images...   \n",
       "freq                                                    8   \n",
       "\n",
       "                                  caption_en  \\\n",
       "count                                    611   \n",
       "unique                                   557   \n",
       "top     the word hosman that is on a picture   \n",
       "freq                                       6   \n",
       "\n",
       "                                                   prompt  \n",
       "count                                                 611  \n",
       "unique                                                557  \n",
       "top     You are a realestate agent, you know how to ex...  \n",
       "freq                                                    6  "
      ]
     },
     "execution_count": 7,
     "metadata": {},
     "output_type": "execute_result"
    }
   ],
   "source": [
    "df.describe()"
   ]
  },
  {
   "cell_type": "code",
   "execution_count": 10,
   "metadata": {},
   "outputs": [
    {
     "data": {
      "application/vnd.jupyter.widget-view+json": {
       "model_id": "7f49fe700aa3461f803b1ed2c481ee29",
       "version_major": 2,
       "version_minor": 0
      },
      "text/plain": [
       "Query is running:   0%|          |"
      ]
     },
     "metadata": {},
     "output_type": "display_data"
    },
    {
     "data": {
      "application/vnd.jupyter.widget-view+json": {
       "model_id": "a2aac92f1db649a6bd9005124f996909",
       "version_major": 2,
       "version_minor": 0
      },
      "text/plain": [
       "Downloading:   0%|          |"
      ]
     },
     "metadata": {},
     "output_type": "display_data"
    },
    {
     "data": {
      "text/html": [
       "<div>\n",
       "<style scoped>\n",
       "    .dataframe tbody tr th:only-of-type {\n",
       "        vertical-align: middle;\n",
       "    }\n",
       "\n",
       "    .dataframe tbody tr th {\n",
       "        vertical-align: top;\n",
       "    }\n",
       "\n",
       "    .dataframe thead th {\n",
       "        text-align: right;\n",
       "    }\n",
       "</style>\n",
       "<table border=\"1\" class=\"dataframe\">\n",
       "  <thead>\n",
       "    <tr style=\"text-align: right;\">\n",
       "      <th></th>\n",
       "      <th>attributes</th>\n",
       "      <th>blocked</th>\n",
       "      <th>blocked_categories</th>\n",
       "      <th>ml_generate_text_status</th>\n",
       "      <th>uri</th>\n",
       "      <th>caption_en</th>\n",
       "      <th>prompt</th>\n",
       "    </tr>\n",
       "  </thead>\n",
       "  <tbody>\n",
       "    <tr>\n",
       "      <th>0</th>\n",
       "      <td>None</td>\n",
       "      <td>&lt;NA&gt;</td>\n",
       "      <td>None</td>\n",
       "      <td>RESOURCE_EXHAUSTED error occurred.</td>\n",
       "      <td>gs://ml-demo-384110-bucket/dataset/immo/images...</td>\n",
       "      <td>a bedroom with a large bed and a chair and the...</td>\n",
       "      <td>You are a realestate agent, you know how to ex...</td>\n",
       "    </tr>\n",
       "  </tbody>\n",
       "</table>\n",
       "</div>"
      ],
      "text/plain": [
       "  attributes  blocked blocked_categories             ml_generate_text_status  \\\n",
       "0       None     <NA>               None  RESOURCE_EXHAUSTED error occurred.   \n",
       "\n",
       "                                                 uri  \\\n",
       "0  gs://ml-demo-384110-bucket/dataset/immo/images...   \n",
       "\n",
       "                                          caption_en  \\\n",
       "0  a bedroom with a large bed and a chair and the...   \n",
       "\n",
       "                                              prompt  \n",
       "0  You are a realestate agent, you know how to ex...  "
      ]
     },
     "execution_count": 10,
     "metadata": {},
     "output_type": "execute_result"
    }
   ],
   "source": [
    "%%bigquery \n",
    "\n",
    "select * from `ml-demo-384110.immo_us_enriched.vc_embeddings_multilangual` where ml_generate_text_status = \"RESOURCE_EXHAUSTED error occurred.\"\n"
   ]
  },
  {
   "cell_type": "code",
   "execution_count": 9,
   "metadata": {},
   "outputs": [
    {
     "data": {
      "text/html": [
       "<div>\n",
       "<style scoped>\n",
       "    .dataframe tbody tr th:only-of-type {\n",
       "        vertical-align: middle;\n",
       "    }\n",
       "\n",
       "    .dataframe tbody tr th {\n",
       "        vertical-align: top;\n",
       "    }\n",
       "\n",
       "    .dataframe thead th {\n",
       "        text-align: right;\n",
       "    }\n",
       "</style>\n",
       "<table border=\"1\" class=\"dataframe\">\n",
       "  <thead>\n",
       "    <tr style=\"text-align: right;\">\n",
       "      <th></th>\n",
       "      <th>ml_generate_text_status</th>\n",
       "    </tr>\n",
       "  </thead>\n",
       "  <tbody>\n",
       "    <tr>\n",
       "      <th>0</th>\n",
       "      <td>RESOURCE_EXHAUSTED error occurred.</td>\n",
       "    </tr>\n",
       "    <tr>\n",
       "      <th>1</th>\n",
       "      <td></td>\n",
       "    </tr>\n",
       "  </tbody>\n",
       "</table>\n",
       "</div>"
      ],
      "text/plain": [
       "              ml_generate_text_status\n",
       "0  RESOURCE_EXHAUSTED error occurred.\n",
       "1                                    "
      ]
     },
     "execution_count": 9,
     "metadata": {},
     "output_type": "execute_result"
    }
   ],
   "source": [
    "df"
   ]
  },
  {
   "cell_type": "code",
   "execution_count": 24,
   "metadata": {},
   "outputs": [
    {
     "data": {
      "application/vnd.jupyter.widget-view+json": {
       "model_id": "a3d8b905fdf24a1bb44dc9cde285c8d7",
       "version_major": 2,
       "version_minor": 0
      },
      "text/plain": [
       "Query is running:   0%|          |"
      ]
     },
     "metadata": {},
     "output_type": "display_data"
    },
    {
     "data": {
      "application/vnd.jupyter.widget-view+json": {
       "model_id": "08e42ebe40ad4a2783d2b58a3ade924d",
       "version_major": 2,
       "version_minor": 0
      },
      "text/plain": [
       "Downloading:   0%|          |"
      ]
     },
     "metadata": {},
     "output_type": "display_data"
    }
   ],
   "source": [
    "%%bigquery df\n",
    "select * #distinct  string(blocked_categories[0])  \n",
    "FROM `ml-demo-384110.immo_us_enriched.vc_embeddings_multilangual`  where string(blocked_categories[0]) in( \"Illicit Drugs\" , \"Death, Harm & Tragedy\")"
   ]
  },
  {
   "cell_type": "code",
   "execution_count": 25,
   "metadata": {},
   "outputs": [
    {
     "data": {
      "text/html": [
       "<div>\n",
       "<style scoped>\n",
       "    .dataframe tbody tr th:only-of-type {\n",
       "        vertical-align: middle;\n",
       "    }\n",
       "\n",
       "    .dataframe tbody tr th {\n",
       "        vertical-align: top;\n",
       "    }\n",
       "\n",
       "    .dataframe thead th {\n",
       "        text-align: right;\n",
       "    }\n",
       "</style>\n",
       "<table border=\"1\" class=\"dataframe\">\n",
       "  <thead>\n",
       "    <tr style=\"text-align: right;\">\n",
       "      <th></th>\n",
       "      <th>attributes</th>\n",
       "      <th>blocked</th>\n",
       "      <th>blocked_categories</th>\n",
       "      <th>ml_generate_text_status</th>\n",
       "      <th>uri</th>\n",
       "      <th>caption_en</th>\n",
       "      <th>prompt</th>\n",
       "    </tr>\n",
       "  </thead>\n",
       "  <tbody>\n",
       "    <tr>\n",
       "      <th>0</th>\n",
       "      <td>Poster, Wall, Coca-cola, Room, Building, Interior design.</td>\n",
       "      <td>False</td>\n",
       "      <td>[\"Illicit Drugs\",\"Legal\"]</td>\n",
       "      <td></td>\n",
       "      <td>gs://ml-demo-384110-bucket/dataset/immo/images/_picture_82502_82501425_159351249364514a7cae6504.25917119_1920.webp-original.jpg</td>\n",
       "      <td>a living room with a coca cola poster on the wall</td>\n",
       "      <td>You are a realestate agent, you know how to extract ATTRIBUTES of real estate property from DESCRIPTION. You use only information provided in the DESCRIPTION to extract ATTRIBUTES. .\\n DESCRIPTION: Warm and inviting bedroom in a cozy home with wood floors, comfortable furniture and lots of natural light..\\n ATTRIBUTES: Furniture, Property, Window, Wood, Picture frame, Comfort, Fixture, Interior design, Lighting, Building.\\n DESCRIPTION: A residential real estate property with a porch, a garden with beautiful plants and a car park spot in front..\\n ATTRIBUTES: Wheel, Plant, Tire, Car, Sky, Vehicle, Building, Motor vehicle, Window, Residential area.\\n DESCRIPTION: Floor plan of the first floor with the detail of the size of bedrooms, bathroom,.\\n ATTRIBUTES: Technical drawing, Slope, Floor plan, bedroom, bathroom, first floor..\\n DESCRIPTION: a living room with a coca cola poster on the wall.\\n ATTRIBUTES:</td>\n",
       "    </tr>\n",
       "    <tr>\n",
       "      <th>1</th>\n",
       "      <td>Bed, Window, Building, Room, Furniture, Property.</td>\n",
       "      <td>False</td>\n",
       "      <td>[\"Death, Harm &amp; Tragedy\",\"Legal\",\"Toxic\"]</td>\n",
       "      <td></td>\n",
       "      <td>gs://ml-demo-384110-bucket/dataset/immo/images/_picture_82422_82421909_15606774836453ea21446895.81398648_1920.webp-original.jpg</td>\n",
       "      <td>a bedroom with a bed and a window that says morts immobilier</td>\n",
       "      <td>You are a realestate agent, you know how to extract ATTRIBUTES of real estate property from DESCRIPTION. You use only information provided in the DESCRIPTION to extract ATTRIBUTES. .\\n DESCRIPTION: Warm and inviting bedroom in a cozy home with wood floors, comfortable furniture and lots of natural light..\\n ATTRIBUTES: Furniture, Property, Window, Wood, Picture frame, Comfort, Fixture, Interior design, Lighting, Building.\\n DESCRIPTION: A residential real estate property with a porch, a garden with beautiful plants and a car park spot in front..\\n ATTRIBUTES: Wheel, Plant, Tire, Car, Sky, Vehicle, Building, Motor vehicle, Window, Residential area.\\n DESCRIPTION: Floor plan of the first floor with the detail of the size of bedrooms, bathroom,.\\n ATTRIBUTES: Technical drawing, Slope, Floor plan, bedroom, bathroom, first floor..\\n DESCRIPTION: a bedroom with a bed and a window that says morts immobilier.\\n ATTRIBUTES:</td>\n",
       "    </tr>\n",
       "  </tbody>\n",
       "</table>\n",
       "</div>"
      ],
      "text/plain": [
       "                                                   attributes  blocked  \\\n",
       "0   Poster, Wall, Coca-cola, Room, Building, Interior design.    False   \n",
       "1           Bed, Window, Building, Room, Furniture, Property.    False   \n",
       "\n",
       "                          blocked_categories ml_generate_text_status  \\\n",
       "0                  [\"Illicit Drugs\",\"Legal\"]                           \n",
       "1  [\"Death, Harm & Tragedy\",\"Legal\",\"Toxic\"]                           \n",
       "\n",
       "                                                                                                                               uri  \\\n",
       "0  gs://ml-demo-384110-bucket/dataset/immo/images/_picture_82502_82501425_159351249364514a7cae6504.25917119_1920.webp-original.jpg   \n",
       "1  gs://ml-demo-384110-bucket/dataset/immo/images/_picture_82422_82421909_15606774836453ea21446895.81398648_1920.webp-original.jpg   \n",
       "\n",
       "                                                     caption_en  \\\n",
       "0             a living room with a coca cola poster on the wall   \n",
       "1  a bedroom with a bed and a window that says morts immobilier   \n",
       "\n",
       "                                                                                                                                                                                                                                                                                                                                                                                                                                                                                                                                                                                                                                                                                                                                                                                                                                                                                                                                                              prompt  \n",
       "0             You are a realestate agent, you know how to extract ATTRIBUTES of real estate property from DESCRIPTION. You use only information provided in the DESCRIPTION to extract ATTRIBUTES. .\\n DESCRIPTION: Warm and inviting bedroom in a cozy home with wood floors, comfortable furniture and lots of natural light..\\n ATTRIBUTES: Furniture, Property, Window, Wood, Picture frame, Comfort, Fixture, Interior design, Lighting, Building.\\n DESCRIPTION: A residential real estate property with a porch, a garden with beautiful plants and a car park spot in front..\\n ATTRIBUTES: Wheel, Plant, Tire, Car, Sky, Vehicle, Building, Motor vehicle, Window, Residential area.\\n DESCRIPTION: Floor plan of the first floor with the detail of the size of bedrooms, bathroom,.\\n ATTRIBUTES: Technical drawing, Slope, Floor plan, bedroom, bathroom, first floor..\\n DESCRIPTION: a living room with a coca cola poster on the wall.\\n ATTRIBUTES:   \n",
       "1  You are a realestate agent, you know how to extract ATTRIBUTES of real estate property from DESCRIPTION. You use only information provided in the DESCRIPTION to extract ATTRIBUTES. .\\n DESCRIPTION: Warm and inviting bedroom in a cozy home with wood floors, comfortable furniture and lots of natural light..\\n ATTRIBUTES: Furniture, Property, Window, Wood, Picture frame, Comfort, Fixture, Interior design, Lighting, Building.\\n DESCRIPTION: A residential real estate property with a porch, a garden with beautiful plants and a car park spot in front..\\n ATTRIBUTES: Wheel, Plant, Tire, Car, Sky, Vehicle, Building, Motor vehicle, Window, Residential area.\\n DESCRIPTION: Floor plan of the first floor with the detail of the size of bedrooms, bathroom,.\\n ATTRIBUTES: Technical drawing, Slope, Floor plan, bedroom, bathroom, first floor..\\n DESCRIPTION: a bedroom with a bed and a window that says morts immobilier.\\n ATTRIBUTES:   "
      ]
     },
     "execution_count": 25,
     "metadata": {},
     "output_type": "execute_result"
    }
   ],
   "source": [
    "pd.set_option('display.max_colwidth', None)\n",
    "\n",
    "df"
   ]
  },
  {
   "cell_type": "code",
   "execution_count": 26,
   "metadata": {},
   "outputs": [
    {
     "data": {
      "text/html": [
       "<table border=\"1\" class=\"dataframe\">\n",
       "  <thead>\n",
       "    <tr style=\"text-align: right;\">\n",
       "      <th></th>\n",
       "      <th>image</th>\n",
       "      <th>caption_en</th>\n",
       "    </tr>\n",
       "  </thead>\n",
       "  <tbody>\n",
       "    <tr>\n",
       "      <th>0</th>\n",
       "      <td><img src=\"data:image/jpeg;base64,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\"></td>\n",
       "      <td>a living room with a coca cola poster on the wall</td>\n",
       "    </tr>\n",
       "    <tr>\n",
       "      <th>1</th>\n",
       "      <td><img src=\"data:image/jpeg;base64,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\"></td>\n",
       "      <td>a bedroom with a bed and a window that says morts immobilier</td>\n",
       "    </tr>\n",
       "  </tbody>\n",
       "</table>"
      ],
      "text/plain": [
       "<IPython.core.display.HTML object>"
      ]
     },
     "execution_count": 26,
     "metadata": {},
     "output_type": "execute_result"
    }
   ],
   "source": [
    "from tools import *\n",
    "\n",
    "df_face_thumbnail = add_images_thumbnail_to_df(df,size=600)\n",
    "# displaying PIL.Image objects embedded in dataframe\n",
    "HTML(df_face_thumbnail[[ 'image', 'caption_en'\n",
    "                         ]]\n",
    "\n",
    "                        .to_html(formatters={'image': image_formatter}, escape=False))"
   ]
  },
  {
   "cell_type": "code",
   "execution_count": null,
   "metadata": {},
   "outputs": [],
   "source": []
  },
  {
   "cell_type": "code",
   "execution_count": null,
   "metadata": {},
   "outputs": [],
   "source": []
  },
  {
   "cell_type": "markdown",
   "metadata": {},
   "source": [
    "## Compare attributes to vision attributes"
   ]
  },
  {
   "cell_type": "code",
   "execution_count": 4,
   "metadata": {},
   "outputs": [
    {
     "ename": "SyntaxError",
     "evalue": "invalid decimal literal (1282110310.py, line 3)",
     "output_type": "error",
     "traceback": [
      "\u001b[0;36m  Cell \u001b[0;32mIn[4], line 3\u001b[0;36m\u001b[0m\n\u001b[0;31m    create table  `ml-demo-384110.immo_us_enriched.vc_desc_to_attributes` as (\u001b[0m\n\u001b[0m                                 ^\u001b[0m\n\u001b[0;31mSyntaxError\u001b[0m\u001b[0;31m:\u001b[0m invalid decimal literal\n"
     ]
    }
   ],
   "source": [
    "%bigquery\n",
    "\n",
    "create table  `ml-demo-384110.immo_us_enriched.vc_desc_to_attributes` as (\n",
    "SELECT * from ML.GENERATE_TEXT_EMBEDDING(\n",
    "  MODEL `ml-demo-384110.immo_us_enriched.bqml-gecko`,\n",
    "  (\n",
    "    SELECT attributes as content, attributes, caption_en, uri  from  `ml-demo-384110.immo_us_enriched.vc_embeddings_multilangual` m #limit 3\n",
    "  ),\n",
    "  STRUCT(TRUE AS flatten_json_output)\n",
    ") attributes\n",
    ");\n",
    "\n"
   ]
  },
  {
   "cell_type": "code",
   "execution_count": 7,
   "metadata": {},
   "outputs": [
    {
     "ename": "SyntaxError",
     "evalue": "invalid decimal literal (237929984.py, line 4)",
     "output_type": "error",
     "traceback": [
      "\u001b[0;36m  Cell \u001b[0;32mIn[7], line 4\u001b[0;36m\u001b[0m\n\u001b[0;31m    create table  `ml-demo-384110.immo_us_enriched.vision_attributes` as (\u001b[0m\n\u001b[0m                                 ^\u001b[0m\n\u001b[0;31mSyntaxError\u001b[0m\u001b[0;31m:\u001b[0m invalid decimal literal\n"
     ]
    }
   ],
   "source": [
    "%bigquery\n",
    "\n",
    "\n",
    "create table  `ml-demo-384110.immo_us_enriched.vision_attributes` as (\n",
    "  select * from \n",
    "ML.GENERATE_TEXT_EMBEDDING(\n",
    "  MODEL `ml-demo-384110.immo_us_enriched.bqml-gecko`,\n",
    "  (\n",
    "    SELECT attributes as content, attributes,  uri  from  `immo_us_enriched.image_cloudvision_labels_1k_bench_3` m \n",
    "  ),\n",
    "STRUCT(TRUE AS flatten_json_output)\n",
    ") \n",
    "\n",
    ");\n",
    "\n",
    "\n",
    "\n",
    "\n"
   ]
  },
  {
   "cell_type": "code",
   "execution_count": 2,
   "metadata": {},
   "outputs": [
    {
     "data": {
      "application/vnd.jupyter.widget-view+json": {
       "model_id": "4a22d30e739842ac9f84fe8304bf8b05",
       "version_major": 2,
       "version_minor": 0
      },
      "text/plain": [
       "Query is running:   0%|          |"
      ]
     },
     "metadata": {},
     "output_type": "display_data"
    },
    {
     "data": {
      "application/vnd.jupyter.widget-view+json": {
       "model_id": "23fe113ec85e4a51932bb277c18f1aa4",
       "version_major": 2,
       "version_minor": 0
      },
      "text/plain": [
       "Downloading:   0%|          |"
      ]
     },
     "metadata": {},
     "output_type": "display_data"
    }
   ],
   "source": [
    "%%bigquery df --project $PROJECT_ID\n",
    "\n",
    "select distinct\n",
    "\n",
    "ML.DISTANCE(\n",
    "    vc.text_embedding ,\n",
    "    v.text_embedding,\n",
    "    'COSINE'\n",
    "  ) AS distance_to_vision_vqa, \n",
    "  v.attributes attributes_vision ,\n",
    "  vc.attributes  attributes_vc, caption_en description_vc,\n",
    "  v.uri\n",
    "\n",
    "\n",
    " from  `ml-demo-384110.immo_us_enriched.vision_attributes` v, \n",
    "`ml-demo-384110.immo_us_enriched.vc_desc_to_attributes` vc\n",
    "where v.uri = vc.uri\n",
    "order by distance_to_vision_vqa"
   ]
  },
  {
   "cell_type": "code",
   "execution_count": 3,
   "metadata": {},
   "outputs": [
    {
     "data": {
      "text/html": [
       "<div>\n",
       "<style scoped>\n",
       "    .dataframe tbody tr th:only-of-type {\n",
       "        vertical-align: middle;\n",
       "    }\n",
       "\n",
       "    .dataframe tbody tr th {\n",
       "        vertical-align: top;\n",
       "    }\n",
       "\n",
       "    .dataframe thead th {\n",
       "        text-align: right;\n",
       "    }\n",
       "</style>\n",
       "<table border=\"1\" class=\"dataframe\">\n",
       "  <thead>\n",
       "    <tr style=\"text-align: right;\">\n",
       "      <th></th>\n",
       "      <th>distance_to_vision_vqa</th>\n",
       "    </tr>\n",
       "  </thead>\n",
       "  <tbody>\n",
       "    <tr>\n",
       "      <th>count</th>\n",
       "      <td>599.000000</td>\n",
       "    </tr>\n",
       "    <tr>\n",
       "      <th>mean</th>\n",
       "      <td>0.199257</td>\n",
       "    </tr>\n",
       "    <tr>\n",
       "      <th>std</th>\n",
       "      <td>0.071898</td>\n",
       "    </tr>\n",
       "    <tr>\n",
       "      <th>min</th>\n",
       "      <td>0.055498</td>\n",
       "    </tr>\n",
       "    <tr>\n",
       "      <th>25%</th>\n",
       "      <td>0.141941</td>\n",
       "    </tr>\n",
       "    <tr>\n",
       "      <th>50%</th>\n",
       "      <td>0.197262</td>\n",
       "    </tr>\n",
       "    <tr>\n",
       "      <th>75%</th>\n",
       "      <td>0.247475</td>\n",
       "    </tr>\n",
       "    <tr>\n",
       "      <th>max</th>\n",
       "      <td>0.489100</td>\n",
       "    </tr>\n",
       "  </tbody>\n",
       "</table>\n",
       "</div>"
      ],
      "text/plain": [
       "       distance_to_vision_vqa\n",
       "count              599.000000\n",
       "mean                 0.199257\n",
       "std                  0.071898\n",
       "min                  0.055498\n",
       "25%                  0.141941\n",
       "50%                  0.197262\n",
       "75%                  0.247475\n",
       "max                  0.489100"
      ]
     },
     "execution_count": 3,
     "metadata": {},
     "output_type": "execute_result"
    }
   ],
   "source": [
    "df.describe()"
   ]
  },
  {
   "cell_type": "code",
   "execution_count": 4,
   "metadata": {},
   "outputs": [
    {
     "data": {
      "image/png": "[encoded data removed]",
      "text/plain": [
       "<Figure size 640x480 with 1 Axes>"
      ]
     },
     "metadata": {},
     "output_type": "display_data"
    }
   ],
   "source": [
    "import matplotlib.pyplot as plt\n",
    "\n",
    "df.boxplot( # rot=90, \n",
    "           fontsize=10)\n",
    "plt.show()"
   ]
  },
  {
   "cell_type": "code",
   "execution_count": 5,
   "metadata": {},
   "outputs": [
    {
     "name": "stderr",
     "output_type": "stream",
     "text": [
      "/Users/julienmiquel/dev/github-capstone-vae/Capstone/src/1_download/src/tools.py:75: SettingWithCopyWarning: \n",
      "A value is trying to be set on a copy of a slice from a DataFrame.\n",
      "Try using .loc[row_indexer,col_indexer] = value instead\n",
      "\n",
      "See the caveats in the documentation: https://pandas.pydata.org/pandas-docs/stable/user_guide/indexing.html#returning-a-view-versus-a-copy\n",
      "  df['object_name'] = df.uri.map(\n",
      "/Users/julienmiquel/dev/github-capstone-vae/Capstone/src/1_download/src/tools.py:77: SettingWithCopyWarning: \n",
      "A value is trying to be set on a copy of a slice from a DataFrame.\n",
      "Try using .loc[row_indexer,col_indexer] = value instead\n",
      "\n",
      "See the caveats in the documentation: https://pandas.pydata.org/pandas-docs/stable/user_guide/indexing.html#returning-a-view-versus-a-copy\n",
      "  df['image'] = df.object_name.map(lambda f: get_thumbnail(download_blob(bucket_name, f), size))\n"
     ]
    }
   ],
   "source": [
    "df_low = add_images_thumbnail_to_df(df[:4] )\n",
    "\n",
    "\n",
    "\n",
    "\n"
   ]
  },
  {
   "cell_type": "code",
   "execution_count": 6,
   "metadata": {},
   "outputs": [
    {
     "name": "stderr",
     "output_type": "stream",
     "text": [
      "/Users/julienmiquel/dev/github-capstone-vae/Capstone/src/1_download/src/tools.py:75: SettingWithCopyWarning: \n",
      "A value is trying to be set on a copy of a slice from a DataFrame.\n",
      "Try using .loc[row_indexer,col_indexer] = value instead\n",
      "\n",
      "See the caveats in the documentation: https://pandas.pydata.org/pandas-docs/stable/user_guide/indexing.html#returning-a-view-versus-a-copy\n",
      "  df['object_name'] = df.uri.map(\n",
      "/Users/julienmiquel/dev/github-capstone-vae/Capstone/src/1_download/src/tools.py:77: SettingWithCopyWarning: \n",
      "A value is trying to be set on a copy of a slice from a DataFrame.\n",
      "Try using .loc[row_indexer,col_indexer] = value instead\n",
      "\n",
      "See the caveats in the documentation: https://pandas.pydata.org/pandas-docs/stable/user_guide/indexing.html#returning-a-view-versus-a-copy\n",
      "  df['image'] = df.object_name.map(lambda f: get_thumbnail(download_blob(bucket_name, f), size))\n"
     ]
    }
   ],
   "source": [
    "df_h = add_images_thumbnail_to_df(df[595:610] )"
   ]
  },
  {
   "cell_type": "code",
   "execution_count": 9,
   "metadata": {},
   "outputs": [
    {
     "data": {
      "text/html": [
       "<table border=\"1\" class=\"dataframe\">\n",
       "  <thead>\n",
       "    <tr style=\"text-align: right;\">\n",
       "      <th></th>\n",
       "      <th>image</th>\n",
       "      <th>distance_to_vision_vqa</th>\n",
       "      <th>attributes_vision</th>\n",
       "      <th>attributes_vc</th>\n",
       "      <th>description_vc</th>\n",
       "    </tr>\n",
       "  </thead>\n",
       "  <tbody>\n",
       "    <tr>\n",
       "      <th>0</th>\n",
       "      <td><img src=\"data:image/jpeg;base64,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\"></td>\n",
       "      <td>0.055498</td>\n",
       "      <td>Couch, Property, Furniture, Table, Building, Television, Interior design, Picture frame, House, Living room</td>\n",
       "      <td>Couch, Television, Screen, Living room, Furniture, Fixture, Interior design, Building.</td>\n",
       "      <td>a living room with a couch and a flat screen tv</td>\n",
       "    </tr>\n",
       "    <tr>\n",
       "      <th>1</th>\n",
       "      <td><img src=\"data:image/jpeg;base64,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\"></td>\n",
       "      <td>0.058867</td>\n",
       "      <td>Table, Furniture, Building, Office chair, Desk, Wood, Architecture, Interior design, Chair, House</td>\n",
       "      <td>Table, Wood, Chair, Room, Furniture, Interior design, Building.</td>\n",
       "      <td>a living room with a large wooden table and black chairs</td>\n",
       "    </tr>\n",
       "    <tr>\n",
       "      <th>2</th>\n",
       "      <td><img src=\"data:image/jpeg;base64,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\"></td>\n",
       "      <td>0.066416</td>\n",
       "      <td>Mirror, Tap, Plumbing fixture, Sink, Building, Bathroom, Fixture, Wood, Interior design, Bathroom cabinet</td>\n",
       "      <td>Sink, Faucet, Mirror, Cabinetry, Plumbing fixture, Bathroom, Vanity, Water, Tap, Brand.</td>\n",
       "      <td>a bathroom with two sinks and a mirror with a watermark that says okhome.com</td>\n",
       "    </tr>\n",
       "    <tr>\n",
       "      <th>3</th>\n",
       "      <td><img src=\"data:image/jpeg;base64,/9j/4AAQSkZJRgABAQAAAQABAAD//gA7Q1JFQVRPUjogZ2QtanBlZyB2MS4wICh1c2luZyBJSkcgSlBFRyB2NjIpLCBxdWFsaXR5ID0gODUK/9sAQwAIBgYHBgUIBwcHCQkICgwUDQwLCwwZEhMPFB0aHx4dGhwcICQuJyAiLCMcHCg3KSwwMTQ0NB8nOT04MjwuMzQy/9sAQwEICQkMCwwYDQ0YMiEcITIyMjIyMjIyMjIyMjIyMjIyMjIyMjIyMjIyMjIyMjIyMjIyMjIyMjIyMjIyMjIyMjIy/8AAEQgAZACWAwEiAAIRAQMRAf/EAB8AAAEFAQEBAQEBAAAAAAAAAAABAgMEBQYHCAkKC//EALUQAAIBAwMCBAMFBQQEAAABfQECAwAEEQUSITFBBhNRYQcicRQygZGhCCNCscEVUtHwJDNicoIJChYXGBkaJSYnKCkqNDU2Nzg5OkNERUZHSElKU1RVVldYWVpjZGVmZ2hpanN0dXZ3eHl6g4SFhoeIiYqSk5SVlpeYmZqio6Slpqeoqaqys7S1tre4ubrCw8TFxsfIycrS09TV1tfY2drh4uPk5ebn6Onq8fLz9PX29/j5+v/EAB8BAAMBAQEBAQEBAQEAAAAAAAABAgMEBQYHCAkKC//EALURAAIBAgQEAwQHBQQEAAECdwABAgMRBAUhMQYSQVEHYXETIjKBCBRCkaGxwQkjM1LwFWJy0QoWJDThJfEXGBkaJicoKSo1Njc4OTpDREVGR0hJSlNUVVZXWFlaY2RlZmdoaWpzdHV2d3h5eoKDhIWGh4iJipKTlJWWl5iZmqKjpKWmp6ipqrKztLW2t7i5usLDxMXGx8jJytLT1NXW19jZ2uLj5OXm5+jp6vLz9PX29/j5+v/aAAwDAQACEQMRAD8A6PHNOK0/HNKRWNjoG7ahYf6XH/1zb+a1Zx0qFh/pkX/XN/5rQA8LwaTbzUoFIV5FADdvFW7TK7iPWodvFWraPcrgqSDwcdqTAvxkN0qygqnHGA4ZSQcetX4WDYBxk1UX3M5LsSomanjj5pUXHWpd0aDLMBWyMmOEY4JHIpki1DLqtvHkK24+ijNZ0+pzS8Rx7R6sabaBJlqZ1QHJrKur5EyNwqGXzpSd7k+w4qs1uAM4rNyLUSvcXsj52A4rOmEr5y35VZuryxtQfOuYk9t3P5VjXPifTYgfL82Y/wCymB+ZrJs0SL9tA43bXwTzkjNFRaVqS3kLTtH5SZ2gE5oqLrqVZmlP54A8kITnkMccVEJ50H7yIZ/2TVn+07Nvv/L9RinrPZydJAPxrS6YWZWS8jOA+UJ4w1SHm9h/65v/ADWpntreZSp2OpGCCAc0jWri4idcbVRlOD64x/KmhDgOtBHNVmtJ0JKXUufRwD/SpYRPuxKEPHDL3/CgCcDitHTo90U34fyqkBxWtpKZjn+o/kapLUmT0JPswJVsfMB1qRQVIyvfkirqQ5A+lTraE84quQz5jntRmuopIxFJhH4OOabHbySjdIzN/vGtXVtIW5tn/ePC6jIdKwtIslmMRkLNvIPznOKmzvZlXVrmgII16ug9gc/yqG6ljt4mfypH2jPTaP1rqo9KtYxjYT9TVTXLaBNMIWNR8w6CtElsRdnFzXd5MCIESM49OR+J4rCvrS6mcfaNR3LnlRlv5YFdVJGCoXZk4HQZrMuosN93HPfisWrmyZlP4Q0+eNfPedu5CvsB/KrSaHptsP3dlDkd2Xcf1rZA/dL9BUEo4NJqw7lG3RftcihV2hFwMcdTRSwKxu5CrY+UfzNFQMtNpcUmSyckYNRDRIl+4pFdCkCqOM9fWn+UPSq9mtxc7OcOkuBw7CgabdKPkmb8a6Erzjjp3pYAHGRjHtT5Vewcz3MOziuy7xkguh5yfyq+1tcBMmJG/GtRIk3HCjOeeKl2cD0q1DTcly1KCWVqSFe6iR8cqDyKv2cMVtvVGdw3VsDH6VVl0iKd3dl+8ck1JBodqjq2185yMMRQm77BJK25tW+wjjOfQgipPtcEVyYXmhVsA7S+G/KuYvLKeAyPZz3Kvuzt3Ej9ayNSvtQsrFrieT96ThGZMn8fah1LboSp32Z394Uks5SpB47fSuV0nC+QM9GGfbpWRY+J74Wkke6NsoxyU+lW9JuvnXzGGOv05oU02rA6cknc9BrK8QH/AIlwHq4/lU/9sWJ6TH/vg1m63fwXFpGsLMxDgkbSOOlarcyZhuyMMbuQMHB9qy7pI944HWpJpJI1Yxna3qBWJczTvnM8gPc7q53UR1qmzpDIiqFZsHHTFQzYxkdMVx8zXGCGnmK/9dDWZqPmNEiGViqnIGT1/rWbqov2TOxgkIvZRgEbR1+v/wBeisTQYtkTYJzjk596Kz52PkR6ILuMyCLDByMgFetWMU4opzxmnY4rrin1OV2I/KV8ZGafHCkfCKAPYUjYA3Efd5FMt7sTYGxgT+nNPRPUWpZUUkgkBGzGO+aXIAy3bmneYjQ7921SP4uKvyJJkJ2D6VKpYEZrK/tO3K/LdJgf7WKrya1aI3ErSMD0QE0hlTVorKGG7u7xnEheXylLPg4PBwOMV5tb3Ut2bwSTyncAXlkJKgZ/zgV6gL+6u22RW5RW5LSvj9BSm3nnU78RxqchQikn3yc0nGLGpNHFabFe3UBig0udE2lUmlUpxxksTxzj8KvW0VypKZtyQcECdeK27zULWwshJcTrDOY12iRt7sTgdPrWXA5KNGWG0N0IqJU4rYuNWTLaRX3QQBh/syKf60Ol4mQbeTp6g/1qKMCQCOSBFXPXqf61KtpbgYK7s+px/KlyormZlXM1+p2GynOT1VciqFz55X5rWYH12GuguLSFYXZGlQjHKyMO/wBaWeyADm2u7rcPuq0wwfxIOKl0rjVVo4+a52AmRHAH95SBWVe3Mb4wa717OcyCP7XcsGIGWgV1/MHpWdc+EISP9Zakkn/lmy/yNQ6LKVddjO0KZPLbkdP60UsumS6VKI1WHDgkFXJ6fUUVnyNaGnOnqenkdeaFG0YyT7mmtIqEAnBPamLcI2QpBx1wa7E1c47Mm7VGqxRZPQnmoXuGBI4x2x1qrLI7ggEg+1JyW5STLk14mNoGTWfdXErKDgvzjbmq8PnCWQSD5Afkbuamycj0rNyckUopMqwxwSMzToCd4A9avi2ton81hgDjuMD2HeqVscTf9tBV8jJ3N26e1aR2IkTIYjyx+gHHFNlkijgbe45z34FQM+G/Cs2/uMjbnjvVOVkJRuc1rWnJfa5DM25I4Y4S8x4UAHOB6kj0ragktvmIc7ic4JwM49a5bV9VmkzDBJvlUYMgGFj+g9feqdjPe2yDOSPYkE/0rJzuy1Cx3jSqHXYcru4/KpvN6VysGtNkCQY2nPzLj9RxWnHqcUgB5+qncP0o5h2NWeTMDj6fzp5lrNN1E8ZCyKfbNS+bxTuFi20gx2qvJKMdf1qBpuOtV5JuKTY0ilqcv72LLE8N1P0oqpqT5lj+jf0orJlo9KuIlnYFwCF6eoPrUQQRj5See5p6lm6jH1pWwK15Ve5ldrQibAHJ5qHzAxOKfJvJ+Q44xn0qCOEQLt3Mx9Sc0m3fQpWsPGTnI4HSondlkVVj3A9TnpUhPI4pGzg4Aoa0Ar2x/f8A/AxV124rOgYef/wMU/UdQgsIGkmcAAZxmtE7IhrUW6uUhUu7AACuQv8AUJtQdo7Y7YR95z3+lLdS3OsN5kuUtey/3h/hVq1sTGAQOB0Ru1Yyk3saJWM2DTVGDIu30z/jVw2xUADBJ6A1p4QD5vlOPunv/jT47TA3/cY9hyAPSosO5mfZI1XlSp9aqtp6vIXQfd4BXjnvyPwrclUxIWZc4Haolt1CDB+buVOOe9FguYU8dzDGxWQsACcSDcPz61AL25txykij1ifI/I1uXUTfZ5OjcY9Khmto2JBGD70+ZoDMXXTkKZI2P92QbDUn9rx/8tEdPcfMKhvtPG0MQCARnI7dP61lz6Y0efKMkR/2Dx+VHMgsXry+t5ZIysyEYPfHpRXM3UF4GAJEgHp8p/SinoK57/2phJoorYyImYggetVbqVo0G3GSaKKzk9GWhoLNATuIJXqKXb5UIUEkADknJoop+Yzl/Dk802lrqUsrvcXDOzFj8o2uygKOgGBS2sY1TUJXuyz+WxCrnj60UUdUBpmCOGQMi4AkCbe3I649atSRKFyBzRRVSWhKKzKrzhGAKhd2PfOKni+WZI8kqwzz2oorNFMfOimSFccFiT+AyKheJGOcYPqOtFFDBFCck7kPIDKM9/vCpJFHzUUVDKRn3MSmJwMj5T0+lU0PnQh3AyR2+lFFSykZ9zBGX5UGiiipA//Z\"></td>\n",
       "      <td>0.067000</td>\n",
       "      <td>Cabinetry, Countertop, Furniture, Building, Kitchen, Sink, Kitchen appliance, Kitchen stove, Drawer, Flooring</td>\n",
       "      <td>Appliance, Countertop, Kitchen, Cabinetry, Sink, Faucet, Building.</td>\n",
       "      <td>a kitchen with progressimmo written on the counter</td>\n",
       "    </tr>\n",
       "  </tbody>\n",
       "</table>"
      ],
      "text/plain": [
       "<IPython.core.display.HTML object>"
      ]
     },
     "execution_count": 9,
     "metadata": {},
     "output_type": "execute_result"
    }
   ],
   "source": [
    "html = df_low[[ 'image', 'distance_to_vision_vqa', 'attributes_vision', 'attributes_vc', 'description_vc' ]].to_html(formatters={'image': image_formatter}, escape=False)\n",
    "\n",
    "write_html(html)\n",
    "HTML(html    )"
   ]
  },
  {
   "cell_type": "code",
   "execution_count": 8,
   "metadata": {},
   "outputs": [],
   "source": [
    "\n",
    "html = df_low[[ 'image', 'distance_to_vision_vqa', 'attributes_vision', 'attributes_vc', 'description_vc' ]].to_html(formatters={'image': image_formatter}, escape=False)\n",
    "\n",
    "def write_html(html , filename= \"output.html\"):\n",
    "    # Creating an HTML file\n",
    "    with open(filename,\"w\") as f:\n",
    "\n",
    "        # Adding input data to the HTML file\n",
    "        f.write(\"<html>\\n<head>\\n<title> \\nOutput Data in an HTML file \\\n",
    "                </title>\\n</head> <body> \" + html  + \" </body></html>\")\n",
    "\n"
   ]
  },
  {
   "cell_type": "code",
   "execution_count": null,
   "metadata": {},
   "outputs": [],
   "source": [
    "\n"
   ]
  },
  {
   "cell_type": "code",
   "execution_count": 39,
   "metadata": {},
   "outputs": [
    {
     "data": {
      "text/html": [
       "<table border=\"1\" class=\"dataframe\">\n",
       "  <thead>\n",
       "    <tr style=\"text-align: right;\">\n",
       "      <th></th>\n",
       "      <th>image</th>\n",
       "      <th>distance_to_vision_vqa</th>\n",
       "      <th>attributes_vision</th>\n",
       "      <th>attributes_vc</th>\n",
       "      <th>description_vc</th>\n",
       "    </tr>\n",
       "  </thead>\n",
       "  <tbody>\n",
       "    <tr>\n",
       "      <th>595</th>\n",
       "      <td><img src=\"data:image/jpeg;base64,/9j/4AAQSkZJRgABAQAAAQABAAD//gA7Q1JFQVRPUjogZ2QtanBlZyB2MS4wICh1c2luZyBJSkcgSlBFRyB2NjIpLCBxdWFsaXR5ID0gNzUK/9sAQwAIBgYHBgUIBwcHCQkICgwUDQwLCwwZEhMPFB0aHx4dGhwcICQuJyAiLCMcHCg3KSwwMTQ0NB8nOT04MjwuMzQy/9sAQwEICQkMCwwYDQ0YMiEcITIyMjIyMjIyMjIyMjIyMjIyMjIyMjIyMjIyMjIyMjIyMjIyMjIyMjIyMjIyMjIyMjIy/8AAEQgAZACWAwEiAAIRAQMRAf/EAB8AAAEFAQEBAQEBAAAAAAAAAAABAgMEBQYHCAkKC//EALUQAAIBAwMCBAMFBQQEAAABfQECAwAEEQUSITFBBhNRYQcicRQygZGhCCNCscEVUtHwJDNicoIJChYXGBkaJSYnKCkqNDU2Nzg5OkNERUZHSElKU1RVVldYWVpjZGVmZ2hpanN0dXZ3eHl6g4SFhoeIiYqSk5SVlpeYmZqio6Slpqeoqaqys7S1tre4ubrCw8TFxsfIycrS09TV1tfY2drh4uPk5ebn6Onq8fLz9PX29/j5+v/EAB8BAAMBAQEBAQEBAQEAAAAAAAABAgMEBQYHCAkKC//EALURAAIBAgQEAwQHBQQEAAECdwABAgMRBAUhMQYSQVEHYXETIjKBCBRCkaGxwQkjM1LwFWJy0QoWJDThJfEXGBkaJicoKSo1Njc4OTpDREVGR0hJSlNUVVZXWFlaY2RlZmdoaWpzdHV2d3h5eoKDhIWGh4iJipKTlJWWl5iZmqKjpKWmp6ipqrKztLW2t7i5usLDxMXGx8jJytLT1NXW19jZ2uLj5OXm5+jp6vLz9PX29/j5+v/aAAwDAQACEQMRAD8A8hooor6AAooooAKKKKACiiigAooooAKKKKACiiigAoopMjOMjPpmgBaKKKACiiigAooooAKKKKACiiigDRstFvL/AEnUdStxGbfTgjXGXwwDttXA781ndTgcn0rq/DmsW2neDvFdq14Le+vIbdbRQSGdlk3NggcYH0rd8Q+INBvJPER0+6hW+voLIwXgUoCyY85d2MqSQDn+LHX1y52na39aAebjkZHIxnij19uTXq48XeD/AO27qU2SPBJqEUoljHkOpWJVabBG2RS24+WR745xTNE8T6DYyeDIm1OMWtk96t+HjPMbs3lh1A+bIxxzj2pe0l/KB5WeOvH1o6Zz26+1ekabrujNbeFDeapbpd2Nxe+fLLD52yNs+UpypBGeh525zirFn4i0CHVdHuWv7dfK8PzWdy5DMfP5CAnb83bDU3UfYDy/ocHrRXTeJtSstR8P+GBFcpPqFtZNDenkuG35UMSOcD61zNaRd0BNZwrcXtvA8nlpLKiM/wDdBYAn8M19KDSdBsL+Lwmnhyxks3VVJeEs7qQdzlsdcjrn8uK+Za7K3+KfjC10gabFqv7pU2LK0SmVV9A55/Hr71x4uhVqqPs5Wsy4SUb3VzB8S6dBpHijVNOtZDJb2t1JFGxOSVB4yfUdPwrLpWYsxZiWYnJJOSTSV2LYgKKKKYBRRRQAUUVueEryysdd82/mWG3e1uITIyFwrPGyqSACepFJuyuBh0YJ7V2k1x4Ui8HTWkJs5NRWz8tH+ySec9wJeZBIeAhToCMjnpVyz1fwYsloLmxt1S3+xOJIbd1kdxGwn3kfeAfYcd8HGaz9o+zA4KSKSGRopY3jkU4ZHUqQfcHpTK9HfVvA811fSz29u7OVMrm3kfzx5RB8knHluZMEkgD+VYGiah4b+2f6XpcNoVtJFSW4eS6iM5C7WdODjhuncj0pqbtsBy/NHNeuWth4X1O11K+07TbP7BGbgySyWjADFupj2MT+6w+7hvvEjGaxbzV/BCQrJY6daPIllN5KS2zn95sTy1kGAGbeGO7J+uDipVW+iTA895o5rvb+/wDBb2l59jgtELy73ja0kLuCkeFgbIEWG8zOfUdRVPxLfeFZtX099HtbdbZGczbIXRShPyKykDLAdSM/U1cZ3aVgOQ2PsD7W2E4DY4z6ZptdI9/pCRTKiRSANK8SNEdm4xqF46feB9Pwqe0k0W9v/KS0tgFYuoETAFfJYtnnnDgYH5VvyeZNzlMHGcHFFdUmo6EFWF1jMZkR3CQsIy4iYbgvXbuI4/SsHVJLWTUZXskVIDjaFBAzjkgHoM5qGrDuU6KKKQwooooAKKKKACiinIjSSLGilnY4VR1JoAbXX+E/C+k63oupXl/qEsMtu21UiZB5a+WW8xg33lyAuAR9c4Fc5/ZOo7tv2G5ztDY8s9CcA+4yRT/7B1RlDHTp8bS4ynOAQDx16kfnUS1WjsB0mr6RokXiKxhsraRbK50uOdf9JVhJKY8nB7HcCMH+L24rOg0Swll8pZZ2kWGGR1EiD7+MkE9l71lW2j3t1eizW3MczIZMSjZ8o6scjpWkfBup7FYvZbWzg+eOcfhWkJKKSeomhZdFsY1kRbiXeEaTO9dpCy7MY9cc1YHhq1NxKoeZkVoh8sqAqGLZLZ9MZxUSeB9XkxsaxOVLD/SR0HBPTpUkfg/WzayW6TWHkuVkZftKjJGdp5HuatVI9hfMbF4espIYm+0uyuYx5yugRtz7SAOowPWo49F06aya4S5lA80oNzL8uHC4Puck5/nTj4H1UcmTTvr9rSobjwhqdtbS3DfZHWJC7iO4Vm2jqcewpe0j2C3mWBpGmBbgoZpCI51jVpVB3xsBuGPUHOPY1T1vSrTTY4Gtrh5S5IySCGGBhhjoDnp+tUP7LvyUH2C5y/3B5LfNxnjjnjmlGlahnA0+6zz/AMsW7de1JzTHYqUVbbS9QQEvY3KgdS0TADoPT3FVWVkdkYEMpKkHsR1qbjEooooAKKKKACiiigApyO0bq6MVdSCrA4II71oaFoOoeJNWi03TIPNuHBbk4VFHVmPYCuh8U/DHxB4T04ahdfZrm0BCyS2zlvKJ4G4EA4zxnpUOcU+VvUDmRrGpibzhqFyJMY3eYc44/wAB+VJ/a2o+aJft9z5gzhvMORk5P681ToqrIDQTXNSW6S5a7kllRCgM3z/KeqnPUe1Xv+Ew1cgAtakDOAbVOM8ntWDR2osgOg/4TTWQAN9rwpX/AI9U6HqOnSmnxjq7HJNoTtC5+ypnAGAOlRJa6Cb62RtQuhbNBumcQ/MkuPugdxnvVYRaV9ghc3kwuzOVlj8v5Vi/vA+vtXOsRF/Zf3Pz/wAvxXdFche/4TDVwQQbQEDGRap0/KoZ/E2pTwSwsbZFlUo5jt0ViCMEZA7jimyW2hiXURHf3DRxqDZkxcyn/a9KyaunUjU1Sa23Vt1f/h+z0E1YuPq+pSMrPf3LFRgFpScDGP5VKuvauq7V1K6HTkSnIwCOvphjWdRWtkIutq+pNE8TahcmNwFZTKcMAcgEfWqbMWYsxJYnJJ7mkop2AKKKKACiiigAooooA7r4U+KdP8LeKJpNTby7W7t/IM+M+UdwYE45wcYP4V6H8QvHPh6PwXqGl2GqQ6ld6gnlqsLbxGCRlmPQYxwOua8CorkqYOlUrRrS+KOw7tKwUUUV1iJrW5a1lMixxSEqVxKm4DPce/vVw6zJuDCzsA+4sWFuMnOePpz+g9KzaKVkBoPqzPAYvsGnrkAb1tgGGPfNSnX7gwGH7LYbSpTItlzg+9ZVFHKgL8+qtOqj7HYx7XDgxQBeR2PqD3HsKSPUVQfPp9lKeeXjOepPYj1/SqNFFkKyvcluJhPLvEMUIxjZEuFqKiimMKKKKACiiigAooooAKKKKACiiigAooooAKKKKACiiigAooooAKKKKACiiigAooooAKKKKAP/2Q==\"></td>\n",
       "      <td>0.377142</td>\n",
       "      <td>Font, Electric blue</td>\n",
       "      <td>Poster, Advertisement, Transparency, Simplicity..</td>\n",
       "      <td>a poster for hosman la neo-agence simple et transparente</td>\n",
       "    </tr>\n",
       "    <tr>\n",
       "      <th>596</th>\n",
       "      <td><img src=\"data:image/jpeg;base64,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\"></td>\n",
       "      <td>0.377631</td>\n",
       "      <td>Building, Table, Wood, House, Interior design, Hall, Flooring, Fixture, Floor, Wall</td>\n",
       "      <td>Game, Table, Number, 11.</td>\n",
       "      <td>a game table with the number 11 on it</td>\n",
       "    </tr>\n",
       "    <tr>\n",
       "      <th>597</th>\n",
       "      <td><img src=\"data:image/jpeg;base64,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\"></td>\n",
       "      <td>0.382367</td>\n",
       "      <td>Wood, Building, Comfort, Living room, Flooring, House, Floor, Hardwood, Condominium, Laminate flooring</td>\n",
       "      <td>Sign, Room, Mirror.</td>\n",
       "      <td>a room with a large mirror and a sign that says dumarais</td>\n",
       "    </tr>\n",
       "    <tr>\n",
       "      <th>598</th>\n",
       "      <td><img src=\"data:image/jpeg;base64,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\"></td>\n",
       "      <td>0.489100</td>\n",
       "      <td>Font</td>\n",
       "      <td>Advertisement, Satisfaction, 99%.</td>\n",
       "      <td>an ad for abriculteurs shows a satisfaction rate of 99%</td>\n",
       "    </tr>\n",
       "  </tbody>\n",
       "</table>"
      ],
      "text/plain": [
       "<IPython.core.display.HTML object>"
      ]
     },
     "execution_count": 39,
     "metadata": {},
     "output_type": "execute_result"
    }
   ],
   "source": [
    "html = df_h[[ 'image', 'distance_to_vision_vqa', 'attributes_vision', 'attributes_vc', 'description_vc' ]].to_html(formatters={'image': image_formatter}, escape=False)\n",
    "HTML(html)"
   ]
  },
  {
   "cell_type": "code",
   "execution_count": 40,
   "metadata": {},
   "outputs": [],
   "source": [
    "write_html(html)"
   ]
  },
  {
   "cell_type": "code",
   "execution_count": null,
   "metadata": {},
   "outputs": [],
   "source": []
  }
 ],
 "metadata": {
  "kernelspec": {
   "display_name": "base",
   "language": "python",
   "name": "python3"
  },
  "language_info": {
   "codemirror_mode": {
    "name": "ipython",
    "version": 3
   },
   "file_extension": ".py",
   "mimetype": "text/x-python",
   "name": "python",
   "nbconvert_exporter": "python",
   "pygments_lexer": "ipython3",
   "version": "3.10.9"
  },
  "orig_nbformat": 4
 },
 "nbformat": 4,
 "nbformat_minor": 2
}
